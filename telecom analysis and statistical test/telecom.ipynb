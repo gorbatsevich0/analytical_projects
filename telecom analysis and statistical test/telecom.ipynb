{
 "cells": [
  {
   "cell_type": "markdown",
   "metadata": {},
   "source": [
    "## Задача проекта\n",
    "Проанализировать поведение клиентов и сделать вывод — какой тариф лучше."
   ]
  },
  {
   "cell_type": "markdown",
   "metadata": {},
   "source": [
    "## Описание тарифов\n",
    "* **Тариф «Смарт»**\n",
    "    * Ежемесячная плата: 550 рублей\n",
    "    * Включено 500 минут разговора, 50 сообщений и 15 Гб интернет-трафика\n",
    "    * Стоимость услуг сверх тарифного пакета:\n",
    "        * минута разговора: 3 рубля\n",
    "        * сообщение: 3 рубля\n",
    "        * 1 Гб интернет-трафика: 200 рублей\n",
    "        \n",
    "        \n",
    "* **Тариф «Ультра»**\n",
    "    * Ежемесячная плата: 1950 рублей\n",
    "    * Включено 3000 минут разговора, 1000 сообщений и 30 Гб интернет-трафика\n",
    "    * Стоимость услуг сверх тарифного пакета:\n",
    "        * минута разговора: 1 рубль\n",
    "        * сообщение: 1 рубль\n",
    "        * 1 Гб интернет-трафика: 150 рублей\n",
    "        \n",
    "**Примечание**\n",
    "«Мегалайн» всегда округляет секунды до минут, а мегабайты — до гигабайт. Каждый звонок округляется отдельно: даже если он длился всего 1 секунду, будет засчитан как 1 минута.\n",
    "Для веб-трафика отдельные сессии не считаются. Вместо этого общая сумма за месяц округляется в бо́льшую сторону. Если абонент использует 1025 мегабайт в этом месяце, с него возьмут плату за 2 гигабайта."
   ]
  },
  {
   "cell_type": "markdown",
   "metadata": {},
   "source": [
    "## Описание данных\n",
    "\n",
    "**Таблица users (информация о пользователях):**\n",
    "\n",
    "* user_id — уникальный идентификатор пользователя\n",
    "* first_name — имя пользователя\n",
    "* last_name — фамилия пользователя\n",
    "* age — возраст пользователя (годы)\n",
    "* reg_date — дата подключения тарифа (день, месяц, год)\n",
    "* churn_date — дата прекращения пользования тарифом (если значение пропущено, то тариф ещё действовал на момент выгрузки данных)\n",
    "* city — город проживания пользователя\n",
    "* tariff — название тарифного плана\n",
    "\n",
    "**Таблица calls (информация о звонках):**\n",
    "\n",
    "* id — уникальный номер звонка\n",
    "* call_date — дата звонка\n",
    "* duration — длительность звонка в минутах\n",
    "* user_id — идентификатор пользователя, сделавшего звонок\n",
    "\n",
    "**Таблица messages (информация о сообщениях):**\n",
    "\n",
    "* id — уникальный номер сообщения\n",
    "* message_date — дата сообщения\n",
    "* user_id — идентификатор пользователя, отправившего сообщение\n",
    "\n",
    "**Таблица internet (информация об интернет-сессиях):**\n",
    "\n",
    "* id — уникальный номер сессии\n",
    "* mb_used — объём потраченного за сессию интернет-трафика (в мегабайтах)\n",
    "* session_date — дата интернет-сессии\n",
    "* user_id — идентификатор пользователя\n",
    "\n",
    "**Таблица tariffs (информация о тарифах):**\n",
    "* tariff_name — название тарифа\n",
    "* rub_monthly_fee — ежемесячная абонентская плата в рублях\n",
    "* minutes_included — количество минут разговора в месяц, включённых в абонентскую плату\n",
    "* messages_included — количество сообщений в месяц, включённых в абонентскую плату\n",
    "* mb_per_month_included — объём интернет-трафика, включённого в абонентскую плату (в мегабайтах)\n",
    "* rub_per_minute — стоимость минуты разговора сверх тарифного пакета (например, если в тарифе 100 минут разговора в месяц, то со 101 минуты будет взиматься плата)\n",
    "* rub_per_message — стоимость отправки сообщения сверх тарифного пакета\n",
    "* rub_per_gb — стоимость дополнительного гигабайта интернет-трафика сверх тарифного пакета (1 гигабайт = 1024 мегабайта)"
   ]
  },
  {
   "cell_type": "markdown",
   "metadata": {},
   "source": [
    "---"
   ]
  },
  {
   "cell_type": "markdown",
   "metadata": {},
   "source": [
    "## Изучение общей информации о данных"
   ]
  },
  {
   "cell_type": "code",
   "execution_count": 1,
   "metadata": {},
   "outputs": [],
   "source": [
    "import pandas as pd\n",
    "import matplotlib.pyplot as plt\n",
    "import numpy as np\n",
    "import math\n",
    "import seaborn as sns\n",
    "from scipy import stats as st"
   ]
  },
  {
   "cell_type": "code",
   "execution_count": 2,
   "metadata": {},
   "outputs": [],
   "source": [
    "#открытие файлов\n",
    "data_calls=pd.read_csv(\"C:\\\\Users\\\\Полина\\\\Downloads\\\\calls.csv\")\n",
    "data_internet=pd.read_csv(\"C:\\\\Users\\Полина\\\\Downloads\\\\internet.csv\",index_col=0)\n",
    "data_messages=pd.read_csv(\"C:\\\\Users\\\\Полина\\\\Downloads\\\\messages.csv\")\n",
    "data_tariffs=pd.read_csv(\"C:\\\\Users\\\\Полина\\\\Downloads\\\\tariffs.csv\")\n",
    "data_users=pd.read_csv(\"C:\\\\Users\\\\Полина\\\\Downloads\\\\users.csv\")"
   ]
  },
  {
   "cell_type": "code",
   "execution_count": 3,
   "metadata": {},
   "outputs": [
    {
     "name": "stdout",
     "output_type": "stream",
     "text": [
      "data_calls\n"
     ]
    },
    {
     "data": {
      "text/html": [
       "<div>\n",
       "<style scoped>\n",
       "    .dataframe tbody tr th:only-of-type {\n",
       "        vertical-align: middle;\n",
       "    }\n",
       "\n",
       "    .dataframe tbody tr th {\n",
       "        vertical-align: top;\n",
       "    }\n",
       "\n",
       "    .dataframe thead th {\n",
       "        text-align: right;\n",
       "    }\n",
       "</style>\n",
       "<table border=\"1\" class=\"dataframe\">\n",
       "  <thead>\n",
       "    <tr style=\"text-align: right;\">\n",
       "      <th></th>\n",
       "      <th>id</th>\n",
       "      <th>call_date</th>\n",
       "      <th>duration</th>\n",
       "      <th>user_id</th>\n",
       "    </tr>\n",
       "  </thead>\n",
       "  <tbody>\n",
       "    <tr>\n",
       "      <th>0</th>\n",
       "      <td>1000_0</td>\n",
       "      <td>2018-07-25</td>\n",
       "      <td>0.00</td>\n",
       "      <td>1000</td>\n",
       "    </tr>\n",
       "    <tr>\n",
       "      <th>1</th>\n",
       "      <td>1000_1</td>\n",
       "      <td>2018-08-17</td>\n",
       "      <td>0.00</td>\n",
       "      <td>1000</td>\n",
       "    </tr>\n",
       "    <tr>\n",
       "      <th>2</th>\n",
       "      <td>1000_2</td>\n",
       "      <td>2018-06-11</td>\n",
       "      <td>2.85</td>\n",
       "      <td>1000</td>\n",
       "    </tr>\n",
       "    <tr>\n",
       "      <th>3</th>\n",
       "      <td>1000_3</td>\n",
       "      <td>2018-09-21</td>\n",
       "      <td>13.80</td>\n",
       "      <td>1000</td>\n",
       "    </tr>\n",
       "    <tr>\n",
       "      <th>4</th>\n",
       "      <td>1000_4</td>\n",
       "      <td>2018-12-15</td>\n",
       "      <td>5.18</td>\n",
       "      <td>1000</td>\n",
       "    </tr>\n",
       "  </tbody>\n",
       "</table>\n",
       "</div>"
      ],
      "text/plain": [
       "       id   call_date  duration  user_id\n",
       "0  1000_0  2018-07-25      0.00     1000\n",
       "1  1000_1  2018-08-17      0.00     1000\n",
       "2  1000_2  2018-06-11      2.85     1000\n",
       "3  1000_3  2018-09-21     13.80     1000\n",
       "4  1000_4  2018-12-15      5.18     1000"
      ]
     },
     "metadata": {},
     "output_type": "display_data"
    },
    {
     "name": "stdout",
     "output_type": "stream",
     "text": [
      "data_internet\n"
     ]
    },
    {
     "data": {
      "text/html": [
       "<div>\n",
       "<style scoped>\n",
       "    .dataframe tbody tr th:only-of-type {\n",
       "        vertical-align: middle;\n",
       "    }\n",
       "\n",
       "    .dataframe tbody tr th {\n",
       "        vertical-align: top;\n",
       "    }\n",
       "\n",
       "    .dataframe thead th {\n",
       "        text-align: right;\n",
       "    }\n",
       "</style>\n",
       "<table border=\"1\" class=\"dataframe\">\n",
       "  <thead>\n",
       "    <tr style=\"text-align: right;\">\n",
       "      <th></th>\n",
       "      <th>id</th>\n",
       "      <th>mb_used</th>\n",
       "      <th>session_date</th>\n",
       "      <th>user_id</th>\n",
       "    </tr>\n",
       "  </thead>\n",
       "  <tbody>\n",
       "    <tr>\n",
       "      <th>0</th>\n",
       "      <td>1000_0</td>\n",
       "      <td>112.95</td>\n",
       "      <td>2018-11-25</td>\n",
       "      <td>1000</td>\n",
       "    </tr>\n",
       "    <tr>\n",
       "      <th>1</th>\n",
       "      <td>1000_1</td>\n",
       "      <td>1052.81</td>\n",
       "      <td>2018-09-07</td>\n",
       "      <td>1000</td>\n",
       "    </tr>\n",
       "    <tr>\n",
       "      <th>2</th>\n",
       "      <td>1000_2</td>\n",
       "      <td>1197.26</td>\n",
       "      <td>2018-06-25</td>\n",
       "      <td>1000</td>\n",
       "    </tr>\n",
       "    <tr>\n",
       "      <th>3</th>\n",
       "      <td>1000_3</td>\n",
       "      <td>550.27</td>\n",
       "      <td>2018-08-22</td>\n",
       "      <td>1000</td>\n",
       "    </tr>\n",
       "    <tr>\n",
       "      <th>4</th>\n",
       "      <td>1000_4</td>\n",
       "      <td>302.56</td>\n",
       "      <td>2018-09-24</td>\n",
       "      <td>1000</td>\n",
       "    </tr>\n",
       "  </tbody>\n",
       "</table>\n",
       "</div>"
      ],
      "text/plain": [
       "       id  mb_used session_date  user_id\n",
       "0  1000_0   112.95   2018-11-25     1000\n",
       "1  1000_1  1052.81   2018-09-07     1000\n",
       "2  1000_2  1197.26   2018-06-25     1000\n",
       "3  1000_3   550.27   2018-08-22     1000\n",
       "4  1000_4   302.56   2018-09-24     1000"
      ]
     },
     "metadata": {},
     "output_type": "display_data"
    },
    {
     "name": "stdout",
     "output_type": "stream",
     "text": [
      "data_messages\n"
     ]
    },
    {
     "data": {
      "text/html": [
       "<div>\n",
       "<style scoped>\n",
       "    .dataframe tbody tr th:only-of-type {\n",
       "        vertical-align: middle;\n",
       "    }\n",
       "\n",
       "    .dataframe tbody tr th {\n",
       "        vertical-align: top;\n",
       "    }\n",
       "\n",
       "    .dataframe thead th {\n",
       "        text-align: right;\n",
       "    }\n",
       "</style>\n",
       "<table border=\"1\" class=\"dataframe\">\n",
       "  <thead>\n",
       "    <tr style=\"text-align: right;\">\n",
       "      <th></th>\n",
       "      <th>id</th>\n",
       "      <th>message_date</th>\n",
       "      <th>user_id</th>\n",
       "    </tr>\n",
       "  </thead>\n",
       "  <tbody>\n",
       "    <tr>\n",
       "      <th>0</th>\n",
       "      <td>1000_0</td>\n",
       "      <td>2018-06-27</td>\n",
       "      <td>1000</td>\n",
       "    </tr>\n",
       "    <tr>\n",
       "      <th>1</th>\n",
       "      <td>1000_1</td>\n",
       "      <td>2018-10-08</td>\n",
       "      <td>1000</td>\n",
       "    </tr>\n",
       "    <tr>\n",
       "      <th>2</th>\n",
       "      <td>1000_2</td>\n",
       "      <td>2018-08-04</td>\n",
       "      <td>1000</td>\n",
       "    </tr>\n",
       "    <tr>\n",
       "      <th>3</th>\n",
       "      <td>1000_3</td>\n",
       "      <td>2018-06-16</td>\n",
       "      <td>1000</td>\n",
       "    </tr>\n",
       "    <tr>\n",
       "      <th>4</th>\n",
       "      <td>1000_4</td>\n",
       "      <td>2018-12-05</td>\n",
       "      <td>1000</td>\n",
       "    </tr>\n",
       "  </tbody>\n",
       "</table>\n",
       "</div>"
      ],
      "text/plain": [
       "       id message_date  user_id\n",
       "0  1000_0   2018-06-27     1000\n",
       "1  1000_1   2018-10-08     1000\n",
       "2  1000_2   2018-08-04     1000\n",
       "3  1000_3   2018-06-16     1000\n",
       "4  1000_4   2018-12-05     1000"
      ]
     },
     "metadata": {},
     "output_type": "display_data"
    },
    {
     "name": "stdout",
     "output_type": "stream",
     "text": [
      "data_tariffs\n"
     ]
    },
    {
     "data": {
      "text/html": [
       "<div>\n",
       "<style scoped>\n",
       "    .dataframe tbody tr th:only-of-type {\n",
       "        vertical-align: middle;\n",
       "    }\n",
       "\n",
       "    .dataframe tbody tr th {\n",
       "        vertical-align: top;\n",
       "    }\n",
       "\n",
       "    .dataframe thead th {\n",
       "        text-align: right;\n",
       "    }\n",
       "</style>\n",
       "<table border=\"1\" class=\"dataframe\">\n",
       "  <thead>\n",
       "    <tr style=\"text-align: right;\">\n",
       "      <th></th>\n",
       "      <th>messages_included</th>\n",
       "      <th>mb_per_month_included</th>\n",
       "      <th>minutes_included</th>\n",
       "      <th>rub_monthly_fee</th>\n",
       "      <th>rub_per_gb</th>\n",
       "      <th>rub_per_message</th>\n",
       "      <th>rub_per_minute</th>\n",
       "      <th>tariff_name</th>\n",
       "    </tr>\n",
       "  </thead>\n",
       "  <tbody>\n",
       "    <tr>\n",
       "      <th>0</th>\n",
       "      <td>50</td>\n",
       "      <td>15360</td>\n",
       "      <td>500</td>\n",
       "      <td>550</td>\n",
       "      <td>200</td>\n",
       "      <td>3</td>\n",
       "      <td>3</td>\n",
       "      <td>smart</td>\n",
       "    </tr>\n",
       "    <tr>\n",
       "      <th>1</th>\n",
       "      <td>1000</td>\n",
       "      <td>30720</td>\n",
       "      <td>3000</td>\n",
       "      <td>1950</td>\n",
       "      <td>150</td>\n",
       "      <td>1</td>\n",
       "      <td>1</td>\n",
       "      <td>ultra</td>\n",
       "    </tr>\n",
       "  </tbody>\n",
       "</table>\n",
       "</div>"
      ],
      "text/plain": [
       "   messages_included  mb_per_month_included  minutes_included  \\\n",
       "0                 50                  15360               500   \n",
       "1               1000                  30720              3000   \n",
       "\n",
       "   rub_monthly_fee  rub_per_gb  rub_per_message  rub_per_minute tariff_name  \n",
       "0              550         200                3               3       smart  \n",
       "1             1950         150                1               1       ultra  "
      ]
     },
     "metadata": {},
     "output_type": "display_data"
    },
    {
     "name": "stdout",
     "output_type": "stream",
     "text": [
      "data_users\n"
     ]
    },
    {
     "data": {
      "text/html": [
       "<div>\n",
       "<style scoped>\n",
       "    .dataframe tbody tr th:only-of-type {\n",
       "        vertical-align: middle;\n",
       "    }\n",
       "\n",
       "    .dataframe tbody tr th {\n",
       "        vertical-align: top;\n",
       "    }\n",
       "\n",
       "    .dataframe thead th {\n",
       "        text-align: right;\n",
       "    }\n",
       "</style>\n",
       "<table border=\"1\" class=\"dataframe\">\n",
       "  <thead>\n",
       "    <tr style=\"text-align: right;\">\n",
       "      <th></th>\n",
       "      <th>user_id</th>\n",
       "      <th>age</th>\n",
       "      <th>churn_date</th>\n",
       "      <th>city</th>\n",
       "      <th>first_name</th>\n",
       "      <th>last_name</th>\n",
       "      <th>reg_date</th>\n",
       "      <th>tariff</th>\n",
       "    </tr>\n",
       "  </thead>\n",
       "  <tbody>\n",
       "    <tr>\n",
       "      <th>0</th>\n",
       "      <td>1000</td>\n",
       "      <td>52</td>\n",
       "      <td>NaN</td>\n",
       "      <td>Краснодар</td>\n",
       "      <td>Рафаил</td>\n",
       "      <td>Верещагин</td>\n",
       "      <td>2018-05-25</td>\n",
       "      <td>ultra</td>\n",
       "    </tr>\n",
       "    <tr>\n",
       "      <th>1</th>\n",
       "      <td>1001</td>\n",
       "      <td>41</td>\n",
       "      <td>NaN</td>\n",
       "      <td>Москва</td>\n",
       "      <td>Иван</td>\n",
       "      <td>Ежов</td>\n",
       "      <td>2018-11-01</td>\n",
       "      <td>smart</td>\n",
       "    </tr>\n",
       "    <tr>\n",
       "      <th>2</th>\n",
       "      <td>1002</td>\n",
       "      <td>59</td>\n",
       "      <td>NaN</td>\n",
       "      <td>Стерлитамак</td>\n",
       "      <td>Евгений</td>\n",
       "      <td>Абрамович</td>\n",
       "      <td>2018-06-17</td>\n",
       "      <td>smart</td>\n",
       "    </tr>\n",
       "    <tr>\n",
       "      <th>3</th>\n",
       "      <td>1003</td>\n",
       "      <td>23</td>\n",
       "      <td>NaN</td>\n",
       "      <td>Москва</td>\n",
       "      <td>Белла</td>\n",
       "      <td>Белякова</td>\n",
       "      <td>2018-08-17</td>\n",
       "      <td>ultra</td>\n",
       "    </tr>\n",
       "    <tr>\n",
       "      <th>4</th>\n",
       "      <td>1004</td>\n",
       "      <td>68</td>\n",
       "      <td>NaN</td>\n",
       "      <td>Новокузнецк</td>\n",
       "      <td>Татьяна</td>\n",
       "      <td>Авдеенко</td>\n",
       "      <td>2018-05-14</td>\n",
       "      <td>ultra</td>\n",
       "    </tr>\n",
       "  </tbody>\n",
       "</table>\n",
       "</div>"
      ],
      "text/plain": [
       "   user_id  age churn_date         city first_name  last_name    reg_date  \\\n",
       "0     1000   52        NaN    Краснодар     Рафаил  Верещагин  2018-05-25   \n",
       "1     1001   41        NaN       Москва       Иван       Ежов  2018-11-01   \n",
       "2     1002   59        NaN  Стерлитамак    Евгений  Абрамович  2018-06-17   \n",
       "3     1003   23        NaN       Москва      Белла   Белякова  2018-08-17   \n",
       "4     1004   68        NaN  Новокузнецк    Татьяна   Авдеенко  2018-05-14   \n",
       "\n",
       "  tariff  \n",
       "0  ultra  \n",
       "1  smart  \n",
       "2  smart  \n",
       "3  ultra  \n",
       "4  ultra  "
      ]
     },
     "metadata": {},
     "output_type": "display_data"
    }
   ],
   "source": [
    "#первые строки данных таблиц\n",
    "print('data_calls')\n",
    "display(data_calls.head())\n",
    "print('data_internet')\n",
    "display(data_internet.head())\n",
    "print('data_messages')\n",
    "display(data_messages.head())\n",
    "print('data_tariffs')\n",
    "display(data_tariffs.head())\n",
    "print('data_users')\n",
    "display(data_users.head())"
   ]
  },
  {
   "cell_type": "code",
   "execution_count": 4,
   "metadata": {
    "scrolled": true
   },
   "outputs": [
    {
     "name": "stdout",
     "output_type": "stream",
     "text": [
      "<class 'pandas.core.frame.DataFrame'>\n",
      "RangeIndex: 202607 entries, 0 to 202606\n",
      "Data columns (total 4 columns):\n",
      " #   Column     Non-Null Count   Dtype  \n",
      "---  ------     --------------   -----  \n",
      " 0   id         202607 non-null  object \n",
      " 1   call_date  202607 non-null  object \n",
      " 2   duration   202607 non-null  float64\n",
      " 3   user_id    202607 non-null  int64  \n",
      "dtypes: float64(1), int64(1), object(2)\n",
      "memory usage: 6.2+ MB\n",
      "None\n",
      "\n",
      "<class 'pandas.core.frame.DataFrame'>\n",
      "Int64Index: 149396 entries, 0 to 149395\n",
      "Data columns (total 4 columns):\n",
      " #   Column        Non-Null Count   Dtype  \n",
      "---  ------        --------------   -----  \n",
      " 0   id            149396 non-null  object \n",
      " 1   mb_used       149396 non-null  float64\n",
      " 2   session_date  149396 non-null  object \n",
      " 3   user_id       149396 non-null  int64  \n",
      "dtypes: float64(1), int64(1), object(2)\n",
      "memory usage: 5.7+ MB\n",
      "None\n",
      "\n",
      "<class 'pandas.core.frame.DataFrame'>\n",
      "RangeIndex: 123036 entries, 0 to 123035\n",
      "Data columns (total 3 columns):\n",
      " #   Column        Non-Null Count   Dtype \n",
      "---  ------        --------------   ----- \n",
      " 0   id            123036 non-null  object\n",
      " 1   message_date  123036 non-null  object\n",
      " 2   user_id       123036 non-null  int64 \n",
      "dtypes: int64(1), object(2)\n",
      "memory usage: 2.8+ MB\n",
      "None\n",
      "\n",
      "<class 'pandas.core.frame.DataFrame'>\n",
      "RangeIndex: 2 entries, 0 to 1\n",
      "Data columns (total 8 columns):\n",
      " #   Column                 Non-Null Count  Dtype \n",
      "---  ------                 --------------  ----- \n",
      " 0   messages_included      2 non-null      int64 \n",
      " 1   mb_per_month_included  2 non-null      int64 \n",
      " 2   minutes_included       2 non-null      int64 \n",
      " 3   rub_monthly_fee        2 non-null      int64 \n",
      " 4   rub_per_gb             2 non-null      int64 \n",
      " 5   rub_per_message        2 non-null      int64 \n",
      " 6   rub_per_minute         2 non-null      int64 \n",
      " 7   tariff_name            2 non-null      object\n",
      "dtypes: int64(7), object(1)\n",
      "memory usage: 256.0+ bytes\n",
      "None\n",
      "\n",
      "<class 'pandas.core.frame.DataFrame'>\n",
      "RangeIndex: 500 entries, 0 to 499\n",
      "Data columns (total 8 columns):\n",
      " #   Column      Non-Null Count  Dtype \n",
      "---  ------      --------------  ----- \n",
      " 0   user_id     500 non-null    int64 \n",
      " 1   age         500 non-null    int64 \n",
      " 2   churn_date  38 non-null     object\n",
      " 3   city        500 non-null    object\n",
      " 4   first_name  500 non-null    object\n",
      " 5   last_name   500 non-null    object\n",
      " 6   reg_date    500 non-null    object\n",
      " 7   tariff      500 non-null    object\n",
      "dtypes: int64(2), object(6)\n",
      "memory usage: 31.4+ KB\n",
      "None\n"
     ]
    }
   ],
   "source": [
    "#общая информация о таблицах\n",
    "print(data_calls.info())\n",
    "print()\n",
    "print(data_internet.info())\n",
    "print()\n",
    "print(data_messages.info())\n",
    "print()\n",
    "print(data_tariffs.info())\n",
    "print()\n",
    "print(data_users.info())"
   ]
  },
  {
   "cell_type": "markdown",
   "metadata": {},
   "source": [
    "* в данных обнаружены пропуски, а также столбцы с датой в каждом случае имеют тип данных object - тип данных нужно изменить на релевантный (datetime)"
   ]
  },
  {
   "cell_type": "code",
   "execution_count": 5,
   "metadata": {
    "scrolled": true
   },
   "outputs": [
    {
     "name": "stdout",
     "output_type": "stream",
     "text": [
      "data_calls\n"
     ]
    },
    {
     "data": {
      "text/html": [
       "<div>\n",
       "<style scoped>\n",
       "    .dataframe tbody tr th:only-of-type {\n",
       "        vertical-align: middle;\n",
       "    }\n",
       "\n",
       "    .dataframe tbody tr th {\n",
       "        vertical-align: top;\n",
       "    }\n",
       "\n",
       "    .dataframe thead th {\n",
       "        text-align: right;\n",
       "    }\n",
       "</style>\n",
       "<table border=\"1\" class=\"dataframe\">\n",
       "  <thead>\n",
       "    <tr style=\"text-align: right;\">\n",
       "      <th></th>\n",
       "      <th>duration</th>\n",
       "      <th>user_id</th>\n",
       "    </tr>\n",
       "  </thead>\n",
       "  <tbody>\n",
       "    <tr>\n",
       "      <th>count</th>\n",
       "      <td>202607.000000</td>\n",
       "      <td>202607.000000</td>\n",
       "    </tr>\n",
       "    <tr>\n",
       "      <th>mean</th>\n",
       "      <td>6.755887</td>\n",
       "      <td>1253.940619</td>\n",
       "    </tr>\n",
       "    <tr>\n",
       "      <th>std</th>\n",
       "      <td>5.843365</td>\n",
       "      <td>144.722751</td>\n",
       "    </tr>\n",
       "    <tr>\n",
       "      <th>min</th>\n",
       "      <td>0.000000</td>\n",
       "      <td>1000.000000</td>\n",
       "    </tr>\n",
       "    <tr>\n",
       "      <th>25%</th>\n",
       "      <td>1.300000</td>\n",
       "      <td>1126.000000</td>\n",
       "    </tr>\n",
       "    <tr>\n",
       "      <th>50%</th>\n",
       "      <td>6.000000</td>\n",
       "      <td>1260.000000</td>\n",
       "    </tr>\n",
       "    <tr>\n",
       "      <th>75%</th>\n",
       "      <td>10.700000</td>\n",
       "      <td>1379.000000</td>\n",
       "    </tr>\n",
       "    <tr>\n",
       "      <th>max</th>\n",
       "      <td>38.000000</td>\n",
       "      <td>1499.000000</td>\n",
       "    </tr>\n",
       "  </tbody>\n",
       "</table>\n",
       "</div>"
      ],
      "text/plain": [
       "            duration        user_id\n",
       "count  202607.000000  202607.000000\n",
       "mean        6.755887    1253.940619\n",
       "std         5.843365     144.722751\n",
       "min         0.000000    1000.000000\n",
       "25%         1.300000    1126.000000\n",
       "50%         6.000000    1260.000000\n",
       "75%        10.700000    1379.000000\n",
       "max        38.000000    1499.000000"
      ]
     },
     "metadata": {},
     "output_type": "display_data"
    },
    {
     "name": "stdout",
     "output_type": "stream",
     "text": [
      "data_internet\n"
     ]
    },
    {
     "data": {
      "text/html": [
       "<div>\n",
       "<style scoped>\n",
       "    .dataframe tbody tr th:only-of-type {\n",
       "        vertical-align: middle;\n",
       "    }\n",
       "\n",
       "    .dataframe tbody tr th {\n",
       "        vertical-align: top;\n",
       "    }\n",
       "\n",
       "    .dataframe thead th {\n",
       "        text-align: right;\n",
       "    }\n",
       "</style>\n",
       "<table border=\"1\" class=\"dataframe\">\n",
       "  <thead>\n",
       "    <tr style=\"text-align: right;\">\n",
       "      <th></th>\n",
       "      <th>mb_used</th>\n",
       "      <th>user_id</th>\n",
       "    </tr>\n",
       "  </thead>\n",
       "  <tbody>\n",
       "    <tr>\n",
       "      <th>count</th>\n",
       "      <td>149396.000000</td>\n",
       "      <td>149396.000000</td>\n",
       "    </tr>\n",
       "    <tr>\n",
       "      <th>mean</th>\n",
       "      <td>370.192426</td>\n",
       "      <td>1252.099842</td>\n",
       "    </tr>\n",
       "    <tr>\n",
       "      <th>std</th>\n",
       "      <td>278.300951</td>\n",
       "      <td>144.050823</td>\n",
       "    </tr>\n",
       "    <tr>\n",
       "      <th>min</th>\n",
       "      <td>0.000000</td>\n",
       "      <td>1000.000000</td>\n",
       "    </tr>\n",
       "    <tr>\n",
       "      <th>25%</th>\n",
       "      <td>138.187500</td>\n",
       "      <td>1130.000000</td>\n",
       "    </tr>\n",
       "    <tr>\n",
       "      <th>50%</th>\n",
       "      <td>348.015000</td>\n",
       "      <td>1251.000000</td>\n",
       "    </tr>\n",
       "    <tr>\n",
       "      <th>75%</th>\n",
       "      <td>559.552500</td>\n",
       "      <td>1380.000000</td>\n",
       "    </tr>\n",
       "    <tr>\n",
       "      <th>max</th>\n",
       "      <td>1724.830000</td>\n",
       "      <td>1499.000000</td>\n",
       "    </tr>\n",
       "  </tbody>\n",
       "</table>\n",
       "</div>"
      ],
      "text/plain": [
       "             mb_used        user_id\n",
       "count  149396.000000  149396.000000\n",
       "mean      370.192426    1252.099842\n",
       "std       278.300951     144.050823\n",
       "min         0.000000    1000.000000\n",
       "25%       138.187500    1130.000000\n",
       "50%       348.015000    1251.000000\n",
       "75%       559.552500    1380.000000\n",
       "max      1724.830000    1499.000000"
      ]
     },
     "metadata": {},
     "output_type": "display_data"
    },
    {
     "name": "stdout",
     "output_type": "stream",
     "text": [
      "data_messages\n"
     ]
    },
    {
     "data": {
      "text/html": [
       "<div>\n",
       "<style scoped>\n",
       "    .dataframe tbody tr th:only-of-type {\n",
       "        vertical-align: middle;\n",
       "    }\n",
       "\n",
       "    .dataframe tbody tr th {\n",
       "        vertical-align: top;\n",
       "    }\n",
       "\n",
       "    .dataframe thead th {\n",
       "        text-align: right;\n",
       "    }\n",
       "</style>\n",
       "<table border=\"1\" class=\"dataframe\">\n",
       "  <thead>\n",
       "    <tr style=\"text-align: right;\">\n",
       "      <th></th>\n",
       "      <th>user_id</th>\n",
       "    </tr>\n",
       "  </thead>\n",
       "  <tbody>\n",
       "    <tr>\n",
       "      <th>count</th>\n",
       "      <td>123036.000000</td>\n",
       "    </tr>\n",
       "    <tr>\n",
       "      <th>mean</th>\n",
       "      <td>1256.989410</td>\n",
       "    </tr>\n",
       "    <tr>\n",
       "      <th>std</th>\n",
       "      <td>143.523967</td>\n",
       "    </tr>\n",
       "    <tr>\n",
       "      <th>min</th>\n",
       "      <td>1000.000000</td>\n",
       "    </tr>\n",
       "    <tr>\n",
       "      <th>25%</th>\n",
       "      <td>1134.000000</td>\n",
       "    </tr>\n",
       "    <tr>\n",
       "      <th>50%</th>\n",
       "      <td>1271.000000</td>\n",
       "    </tr>\n",
       "    <tr>\n",
       "      <th>75%</th>\n",
       "      <td>1381.000000</td>\n",
       "    </tr>\n",
       "    <tr>\n",
       "      <th>max</th>\n",
       "      <td>1499.000000</td>\n",
       "    </tr>\n",
       "  </tbody>\n",
       "</table>\n",
       "</div>"
      ],
      "text/plain": [
       "             user_id\n",
       "count  123036.000000\n",
       "mean     1256.989410\n",
       "std       143.523967\n",
       "min      1000.000000\n",
       "25%      1134.000000\n",
       "50%      1271.000000\n",
       "75%      1381.000000\n",
       "max      1499.000000"
      ]
     },
     "metadata": {},
     "output_type": "display_data"
    },
    {
     "name": "stdout",
     "output_type": "stream",
     "text": [
      "data_tariffs\n"
     ]
    },
    {
     "data": {
      "text/html": [
       "<div>\n",
       "<style scoped>\n",
       "    .dataframe tbody tr th:only-of-type {\n",
       "        vertical-align: middle;\n",
       "    }\n",
       "\n",
       "    .dataframe tbody tr th {\n",
       "        vertical-align: top;\n",
       "    }\n",
       "\n",
       "    .dataframe thead th {\n",
       "        text-align: right;\n",
       "    }\n",
       "</style>\n",
       "<table border=\"1\" class=\"dataframe\">\n",
       "  <thead>\n",
       "    <tr style=\"text-align: right;\">\n",
       "      <th></th>\n",
       "      <th>messages_included</th>\n",
       "      <th>mb_per_month_included</th>\n",
       "      <th>minutes_included</th>\n",
       "      <th>rub_monthly_fee</th>\n",
       "      <th>rub_per_gb</th>\n",
       "      <th>rub_per_message</th>\n",
       "      <th>rub_per_minute</th>\n",
       "    </tr>\n",
       "  </thead>\n",
       "  <tbody>\n",
       "    <tr>\n",
       "      <th>count</th>\n",
       "      <td>2.000000</td>\n",
       "      <td>2.000000</td>\n",
       "      <td>2.000000</td>\n",
       "      <td>2.000000</td>\n",
       "      <td>2.000000</td>\n",
       "      <td>2.000000</td>\n",
       "      <td>2.000000</td>\n",
       "    </tr>\n",
       "    <tr>\n",
       "      <th>mean</th>\n",
       "      <td>525.000000</td>\n",
       "      <td>23040.000000</td>\n",
       "      <td>1750.000000</td>\n",
       "      <td>1250.000000</td>\n",
       "      <td>175.000000</td>\n",
       "      <td>2.000000</td>\n",
       "      <td>2.000000</td>\n",
       "    </tr>\n",
       "    <tr>\n",
       "      <th>std</th>\n",
       "      <td>671.751442</td>\n",
       "      <td>10861.160159</td>\n",
       "      <td>1767.766953</td>\n",
       "      <td>989.949494</td>\n",
       "      <td>35.355339</td>\n",
       "      <td>1.414214</td>\n",
       "      <td>1.414214</td>\n",
       "    </tr>\n",
       "    <tr>\n",
       "      <th>min</th>\n",
       "      <td>50.000000</td>\n",
       "      <td>15360.000000</td>\n",
       "      <td>500.000000</td>\n",
       "      <td>550.000000</td>\n",
       "      <td>150.000000</td>\n",
       "      <td>1.000000</td>\n",
       "      <td>1.000000</td>\n",
       "    </tr>\n",
       "    <tr>\n",
       "      <th>25%</th>\n",
       "      <td>287.500000</td>\n",
       "      <td>19200.000000</td>\n",
       "      <td>1125.000000</td>\n",
       "      <td>900.000000</td>\n",
       "      <td>162.500000</td>\n",
       "      <td>1.500000</td>\n",
       "      <td>1.500000</td>\n",
       "    </tr>\n",
       "    <tr>\n",
       "      <th>50%</th>\n",
       "      <td>525.000000</td>\n",
       "      <td>23040.000000</td>\n",
       "      <td>1750.000000</td>\n",
       "      <td>1250.000000</td>\n",
       "      <td>175.000000</td>\n",
       "      <td>2.000000</td>\n",
       "      <td>2.000000</td>\n",
       "    </tr>\n",
       "    <tr>\n",
       "      <th>75%</th>\n",
       "      <td>762.500000</td>\n",
       "      <td>26880.000000</td>\n",
       "      <td>2375.000000</td>\n",
       "      <td>1600.000000</td>\n",
       "      <td>187.500000</td>\n",
       "      <td>2.500000</td>\n",
       "      <td>2.500000</td>\n",
       "    </tr>\n",
       "    <tr>\n",
       "      <th>max</th>\n",
       "      <td>1000.000000</td>\n",
       "      <td>30720.000000</td>\n",
       "      <td>3000.000000</td>\n",
       "      <td>1950.000000</td>\n",
       "      <td>200.000000</td>\n",
       "      <td>3.000000</td>\n",
       "      <td>3.000000</td>\n",
       "    </tr>\n",
       "  </tbody>\n",
       "</table>\n",
       "</div>"
      ],
      "text/plain": [
       "       messages_included  mb_per_month_included  minutes_included  \\\n",
       "count           2.000000               2.000000          2.000000   \n",
       "mean          525.000000           23040.000000       1750.000000   \n",
       "std           671.751442           10861.160159       1767.766953   \n",
       "min            50.000000           15360.000000        500.000000   \n",
       "25%           287.500000           19200.000000       1125.000000   \n",
       "50%           525.000000           23040.000000       1750.000000   \n",
       "75%           762.500000           26880.000000       2375.000000   \n",
       "max          1000.000000           30720.000000       3000.000000   \n",
       "\n",
       "       rub_monthly_fee  rub_per_gb  rub_per_message  rub_per_minute  \n",
       "count         2.000000    2.000000         2.000000        2.000000  \n",
       "mean       1250.000000  175.000000         2.000000        2.000000  \n",
       "std         989.949494   35.355339         1.414214        1.414214  \n",
       "min         550.000000  150.000000         1.000000        1.000000  \n",
       "25%         900.000000  162.500000         1.500000        1.500000  \n",
       "50%        1250.000000  175.000000         2.000000        2.000000  \n",
       "75%        1600.000000  187.500000         2.500000        2.500000  \n",
       "max        1950.000000  200.000000         3.000000        3.000000  "
      ]
     },
     "metadata": {},
     "output_type": "display_data"
    },
    {
     "name": "stdout",
     "output_type": "stream",
     "text": [
      "data_users\n"
     ]
    },
    {
     "data": {
      "text/html": [
       "<div>\n",
       "<style scoped>\n",
       "    .dataframe tbody tr th:only-of-type {\n",
       "        vertical-align: middle;\n",
       "    }\n",
       "\n",
       "    .dataframe tbody tr th {\n",
       "        vertical-align: top;\n",
       "    }\n",
       "\n",
       "    .dataframe thead th {\n",
       "        text-align: right;\n",
       "    }\n",
       "</style>\n",
       "<table border=\"1\" class=\"dataframe\">\n",
       "  <thead>\n",
       "    <tr style=\"text-align: right;\">\n",
       "      <th></th>\n",
       "      <th>user_id</th>\n",
       "      <th>age</th>\n",
       "    </tr>\n",
       "  </thead>\n",
       "  <tbody>\n",
       "    <tr>\n",
       "      <th>count</th>\n",
       "      <td>500.000000</td>\n",
       "      <td>500.00000</td>\n",
       "    </tr>\n",
       "    <tr>\n",
       "      <th>mean</th>\n",
       "      <td>1249.500000</td>\n",
       "      <td>46.58800</td>\n",
       "    </tr>\n",
       "    <tr>\n",
       "      <th>std</th>\n",
       "      <td>144.481833</td>\n",
       "      <td>16.66763</td>\n",
       "    </tr>\n",
       "    <tr>\n",
       "      <th>min</th>\n",
       "      <td>1000.000000</td>\n",
       "      <td>18.00000</td>\n",
       "    </tr>\n",
       "    <tr>\n",
       "      <th>25%</th>\n",
       "      <td>1124.750000</td>\n",
       "      <td>32.00000</td>\n",
       "    </tr>\n",
       "    <tr>\n",
       "      <th>50%</th>\n",
       "      <td>1249.500000</td>\n",
       "      <td>46.00000</td>\n",
       "    </tr>\n",
       "    <tr>\n",
       "      <th>75%</th>\n",
       "      <td>1374.250000</td>\n",
       "      <td>62.00000</td>\n",
       "    </tr>\n",
       "    <tr>\n",
       "      <th>max</th>\n",
       "      <td>1499.000000</td>\n",
       "      <td>75.00000</td>\n",
       "    </tr>\n",
       "  </tbody>\n",
       "</table>\n",
       "</div>"
      ],
      "text/plain": [
       "           user_id        age\n",
       "count   500.000000  500.00000\n",
       "mean   1249.500000   46.58800\n",
       "std     144.481833   16.66763\n",
       "min    1000.000000   18.00000\n",
       "25%    1124.750000   32.00000\n",
       "50%    1249.500000   46.00000\n",
       "75%    1374.250000   62.00000\n",
       "max    1499.000000   75.00000"
      ]
     },
     "metadata": {},
     "output_type": "display_data"
    }
   ],
   "source": [
    "#общая информация о значениях в таблицах\n",
    "print('data_calls')\n",
    "display(data_calls.describe())\n",
    "print('data_internet')\n",
    "display(data_internet.describe())\n",
    "print('data_messages')\n",
    "display(data_messages.describe())\n",
    "print('data_tariffs')\n",
    "display(data_tariffs.describe())\n",
    "print('data_users')\n",
    "display(data_users.describe())"
   ]
  },
  {
   "cell_type": "code",
   "execution_count": 6,
   "metadata": {
    "scrolled": true
   },
   "outputs": [
    {
     "name": "stdout",
     "output_type": "stream",
     "text": [
      "0\n",
      "0\n",
      "0\n",
      "0\n",
      "0\n"
     ]
    }
   ],
   "source": [
    "#проверка на дубликаты\n",
    "print(data_calls.duplicated().sum())\n",
    "print(data_internet.duplicated().sum())\n",
    "print(data_messages.duplicated().sum())\n",
    "print(data_tariffs.duplicated().sum())\n",
    "print(data_users.duplicated().sum())"
   ]
  },
  {
   "cell_type": "markdown",
   "metadata": {},
   "source": [
    "### Вывод после изучения общей информации о данных \n",
    "* В данных пропуски были обнаружены только в столбце churn_date, так как тариф ещё действовал на момент выгрузки данных.\n",
    "* Столбцы call_date, message_date,session_date,churn_date, reg_date имеют тип object, значения стоит привести в формат даты и времени.\n",
    "* Дубликатов обнаружено не было.\n",
    "* Все данные имеют приемлемые значения, выбросов при первичной обработке обнаружено не было\n",
    "* Из условия сказано, что данная телеком компания огругляет значения интернет сессий и телефонных звонков, для последующих расчетов данные стоит округлить в большую сторону"
   ]
  },
  {
   "cell_type": "markdown",
   "metadata": {},
   "source": [
    "---"
   ]
  },
  {
   "cell_type": "markdown",
   "metadata": {},
   "source": [
    "## Предобработка данных"
   ]
  },
  {
   "cell_type": "code",
   "execution_count": 7,
   "metadata": {},
   "outputs": [],
   "source": [
    "#приведение данных к нужным типам (дата)\n",
    "data_calls['call_date']=pd.to_datetime(data_calls['call_date'],format='%Y.%m.%d')\n",
    "data_internet['session_date']=pd.to_datetime(data_internet['session_date'], format='%Y.%m.%d')\n",
    "data_messages['message_date']=pd.to_datetime(data_messages['message_date'], format='%Y.%m.%d')\n",
    "data_users['churn_date']=pd.to_datetime(data_users['churn_date'], format='%Y.%m.%d')\n",
    "data_users['reg_date']=pd.to_datetime(data_users['reg_date'], format='%Y.%m.%d')"
   ]
  },
  {
   "cell_type": "markdown",
   "metadata": {},
   "source": [
    "* Округление длительности звонков производится до суммирования. Это согласуется с тем, как оператор фиксирует выручку"
   ]
  },
  {
   "cell_type": "code",
   "execution_count": 8,
   "metadata": {},
   "outputs": [],
   "source": [
    "#округление значений длительности звонков в большую сторону\n",
    "data_calls['duration']=data_calls['duration'].apply(np.ceil)"
   ]
  },
  {
   "cell_type": "markdown",
   "metadata": {},
   "source": [
    "### Вывод о предобработке данных\n",
    "* Все столбцы со значениями даты были приведены к нужному типу.\n",
    "* Округлены значения длительности звонков в большую сторону.\n",
    "*  Нулевые значения длительности звонков(данный звонок означает, что абонент не поднял трубку) остаются для дальнейшего исследования, так как при начислении оплаты тариф начинает действовать с первой секунды, то есть, когда абонент поднял трубку, а в нашем случае стоимость данных звонков с нулевой длительностью будет составлять 0 рублей."
   ]
  },
  {
   "cell_type": "markdown",
   "metadata": {},
   "source": [
    "## Расчёты и добавление результатов в таблицу"
   ]
  },
  {
   "cell_type": "markdown",
   "metadata": {},
   "source": [
    "Для дальнейшего исследования нужно рассчитать помесячные показатели : \n",
    "\n",
    "   * количество сделанных звонков каждым пользователем за месяц\n",
    "   * количество израсходованных минут разговора по месяцам\n",
    "   * количество отправленных сообщений по месяцам\n",
    "   * объем израсходованного интернет-трафика по месяцам"
   ]
  },
  {
   "cell_type": "code",
   "execution_count": 9,
   "metadata": {},
   "outputs": [],
   "source": [
    "#добавление столбцов со значением месяца для расчета значений по месяцам(кол-во звонков, сообщений и т.д)\n",
    "data_calls['month']=pd.DatetimeIndex(data_calls['call_date']).month\n",
    "data_messages['month']=pd.DatetimeIndex(data_messages['message_date']).month\n",
    "data_internet['month']=pd.DatetimeIndex(data_internet['session_date']).month"
   ]
  },
  {
   "cell_type": "code",
   "execution_count": 10,
   "metadata": {},
   "outputs": [],
   "source": [
    "#количество сделанных звонков каждым пользователем в месяц\n",
    "data1=data_calls.pivot_table(index=['month','user_id'],aggfunc='count',values='duration')\n",
    "#переименовываем значение столбца\n",
    "data1.columns=['calls_count_month']"
   ]
  },
  {
   "cell_type": "code",
   "execution_count": 11,
   "metadata": {},
   "outputs": [],
   "source": [
    "#количество израсходованных минут разговора по месяцам\n",
    "data2=data_calls.pivot_table(index=['month','user_id'],aggfunc='sum',values='duration')\n",
    "#переименовываем значение столбца\n",
    "data2.columns=['count_min_month']"
   ]
  },
  {
   "cell_type": "code",
   "execution_count": 12,
   "metadata": {},
   "outputs": [],
   "source": [
    "#количество отправленных сообщений по месяцам\n",
    "data3=data_messages.pivot_table(index=['month','user_id'],aggfunc='count',values='id')\n",
    "#переименовываем значение столбца\n",
    "data3.columns=['message_count_month']"
   ]
  },
  {
   "cell_type": "code",
   "execution_count": 13,
   "metadata": {},
   "outputs": [],
   "source": [
    "#объем израсходованного интернет-трафика по месяцам;\n",
    "data4=data_internet.pivot_table(index=['month','user_id'],aggfunc='sum',values='mb_used')\n",
    "#переименовываем значение столбца\n",
    "data4.columns=['gb_count_month']"
   ]
  },
  {
   "cell_type": "markdown",
   "metadata": {},
   "source": [
    "* Для дальнейших выводов значения интернет сессий нужно перевести в гб, а затем окргулить в большую сторону."
   ]
  },
  {
   "cell_type": "code",
   "execution_count": 14,
   "metadata": {},
   "outputs": [],
   "source": [
    "#переводим значения столбца из мб в гб\n",
    "data4['gb_count_month']=(data4['gb_count_month']/1024)\n",
    "#окгругляем значение интернет сессий в большую сторону\n",
    "data4['gb_count_month']=(data4['gb_count_month'].apply(np.ceil))"
   ]
  },
  {
   "cell_type": "markdown",
   "metadata": {},
   "source": [
    "* для удобства объединим все полученные значения в одну таблицу"
   ]
  },
  {
   "cell_type": "code",
   "execution_count": 15,
   "metadata": {},
   "outputs": [
    {
     "name": "stdout",
     "output_type": "stream",
     "text": [
      "<class 'pandas.core.frame.DataFrame'>\n",
      "Int64Index: 3174 entries, 0 to 3173\n",
      "Data columns (total 13 columns):\n",
      " #   Column               Non-Null Count  Dtype         \n",
      "---  ------               --------------  -----         \n",
      " 0   month                3174 non-null   int64         \n",
      " 1   user_id              3174 non-null   int64         \n",
      " 2   calls_count_month    3174 non-null   int64         \n",
      " 3   count_min_month      3174 non-null   float64       \n",
      " 4   message_count_month  2678 non-null   float64       \n",
      " 5   gb_count_month       3163 non-null   float64       \n",
      " 6   age                  3174 non-null   int64         \n",
      " 7   churn_date           187 non-null    datetime64[ns]\n",
      " 8   city                 3174 non-null   object        \n",
      " 9   first_name           3174 non-null   object        \n",
      " 10  last_name            3174 non-null   object        \n",
      " 11  reg_date             3174 non-null   datetime64[ns]\n",
      " 12  tariff               3174 non-null   object        \n",
      "dtypes: datetime64[ns](2), float64(3), int64(4), object(4)\n",
      "memory usage: 347.2+ KB\n"
     ]
    }
   ],
   "source": [
    "#объединяем таблицы с вычисленными значениями в одну таблицу\n",
    "data=data1.join(data2)\n",
    "data=data.join(data3)\n",
    "data=data.join(data4).reset_index()\n",
    "#общая таблица со всеми данными(расчеты по месяцам и личная информация о клиентах)\n",
    "data=pd.merge(data,data_users)\n",
    "data.info()"
   ]
  },
  {
   "cell_type": "markdown",
   "metadata": {},
   "source": [
    "### Вывод о проделанных расчетах\n",
    "* Были добавлены столбцы со значением месяца для дальнейших расчетов.\n",
    "* Расчитаны значения по месяцам: количество звонков, количество сообщений, длительность звонков, длительность интернет сессий. Полученные данные были объеденены в одну таблицу с личной информацией о клиенте.\n",
    "* При изучении полученной таблицы были обнаружены пропуски в столбце message_count_month (пользователи не отправляли сообщения в месяце) и в столбце gb_count_month (не пользовались интернетом за месяц), пропуски нужно заменить нулями."
   ]
  },
  {
   "cell_type": "code",
   "execution_count": 16,
   "metadata": {
    "scrolled": false
   },
   "outputs": [],
   "source": [
    "#заполняем пропуски нулями, когда пользователи не отправляли сообщения за месяц\n",
    "data['message_count_month'] = data['message_count_month'].fillna(0)\n",
    "#заполняем пропуски нулями, когда пользователи не пользовались интернетом за месяц\n",
    "data['gb_count_month'] = data['gb_count_month'].fillna(0)"
   ]
  },
  {
   "cell_type": "markdown",
   "metadata": {},
   "source": [
    "**Рассчитаем помесячную выручку с каждого пользователя**"
   ]
  },
  {
   "cell_type": "code",
   "execution_count": 17,
   "metadata": {
    "scrolled": true
   },
   "outputs": [],
   "source": [
    "#функция для расчета помесячную выручки с каждого пользователя\n",
    "def price(row):\n",
    "    if row['tariff']=='smart':\n",
    "        if row['count_min_month']>500:\n",
    "            price1=(row['count_min_month']-500)*3\n",
    "        else:\n",
    "            price1=0\n",
    "        if row['message_count_month']>50:\n",
    "            price2=(row['message_count_month']-50)*3\n",
    "        else:\n",
    "            price2=0\n",
    "        if row['gb_count_month']>15:\n",
    "            price3=(row['gb_count_month']-15)*200\n",
    "        else:\n",
    "            price3=0\n",
    "        price=price1+price2+price3+550\n",
    "        \n",
    "    if row['tariff']=='ultra':\n",
    "        if row['count_min_month']>3000:\n",
    "            price1=(row['count_min_month']-3000)*1\n",
    "        else:\n",
    "            price1=0\n",
    "        if row['message_count_month']>1000:\n",
    "            price2=(row['message_count_month']-1000)*1\n",
    "        else:\n",
    "            price2=0\n",
    "        if row['gb_count_month']>30:\n",
    "            price3=(row['gb_count_month']-30)*150\n",
    "        else:\n",
    "            price3=0\n",
    "        price=price1+price2+price3+1950\n",
    "    return price"
   ]
  },
  {
   "cell_type": "code",
   "execution_count": 18,
   "metadata": {},
   "outputs": [],
   "source": [
    "#помесячная выручка с каждого пользователя\n",
    "data['revenue']=data.apply(price,axis=1)"
   ]
  },
  {
   "cell_type": "markdown",
   "metadata": {},
   "source": [
    "* Получена финальная таблица. Стоит убрать из нее излишнюю информацию в виде имени или фамилии клиента. Такая информация никак не поможет в анализе, поэтому хранить ее повторно не стоит. Информация о тарифах уже есть в таблице tariffs. Дублировать ее не стоит. Также выручку стоит сделать целочисленным показателем."
   ]
  },
  {
   "cell_type": "code",
   "execution_count": 19,
   "metadata": {},
   "outputs": [],
   "source": [
    "#удаление лишних столбцов из общей таблицы (не применяются в дальнейшей исследовании: имя, фамилия,возраст)\n",
    "data = data.drop(['age','first_name','last_name'], axis=1)"
   ]
  },
  {
   "cell_type": "code",
   "execution_count": 20,
   "metadata": {},
   "outputs": [],
   "source": [
    "#приведение столбца revenue(выручка) к целочисленному типу\n",
    "data['revenue']=data['revenue'].astype('int')"
   ]
  },
  {
   "cell_type": "markdown",
   "metadata": {},
   "source": [
    "---"
   ]
  },
  {
   "cell_type": "markdown",
   "metadata": {},
   "source": [
    "##  Анализ данных"
   ]
  },
  {
   "cell_type": "code",
   "execution_count": 21,
   "metadata": {
    "scrolled": false
   },
   "outputs": [
    {
     "name": "stdout",
     "output_type": "stream",
     "text": [
      "Среднее количество минут по месяцам\n"
     ]
    },
    {
     "data": {
      "text/html": [
       "<div>\n",
       "<style scoped>\n",
       "    .dataframe tbody tr th:only-of-type {\n",
       "        vertical-align: middle;\n",
       "    }\n",
       "\n",
       "    .dataframe tbody tr th {\n",
       "        vertical-align: top;\n",
       "    }\n",
       "\n",
       "    .dataframe thead th {\n",
       "        text-align: right;\n",
       "    }\n",
       "</style>\n",
       "<table border=\"1\" class=\"dataframe\">\n",
       "  <thead>\n",
       "    <tr style=\"text-align: right;\">\n",
       "      <th>month</th>\n",
       "      <th>1</th>\n",
       "      <th>2</th>\n",
       "      <th>3</th>\n",
       "      <th>4</th>\n",
       "      <th>5</th>\n",
       "      <th>6</th>\n",
       "      <th>7</th>\n",
       "      <th>8</th>\n",
       "      <th>9</th>\n",
       "      <th>10</th>\n",
       "      <th>11</th>\n",
       "      <th>12</th>\n",
       "    </tr>\n",
       "    <tr>\n",
       "      <th>tariff</th>\n",
       "      <th></th>\n",
       "      <th></th>\n",
       "      <th></th>\n",
       "      <th></th>\n",
       "      <th></th>\n",
       "      <th></th>\n",
       "      <th></th>\n",
       "      <th></th>\n",
       "      <th></th>\n",
       "      <th></th>\n",
       "      <th></th>\n",
       "      <th></th>\n",
       "    </tr>\n",
       "  </thead>\n",
       "  <tbody>\n",
       "    <tr>\n",
       "      <th>smart</th>\n",
       "      <td>203.852941</td>\n",
       "      <td>298.689655</td>\n",
       "      <td>390.051948</td>\n",
       "      <td>367.133929</td>\n",
       "      <td>387.361702</td>\n",
       "      <td>398.067485</td>\n",
       "      <td>408.353234</td>\n",
       "      <td>423.269231</td>\n",
       "      <td>430.266409</td>\n",
       "      <td>427.590444</td>\n",
       "      <td>436.647619</td>\n",
       "      <td>479.985119</td>\n",
       "    </tr>\n",
       "    <tr>\n",
       "      <th>ultra</th>\n",
       "      <td>428.111111</td>\n",
       "      <td>297.125000</td>\n",
       "      <td>489.648649</td>\n",
       "      <td>475.301887</td>\n",
       "      <td>534.250000</td>\n",
       "      <td>497.469136</td>\n",
       "      <td>564.397727</td>\n",
       "      <td>530.611650</td>\n",
       "      <td>558.882883</td>\n",
       "      <td>581.728814</td>\n",
       "      <td>562.364341</td>\n",
       "      <td>614.925373</td>\n",
       "    </tr>\n",
       "  </tbody>\n",
       "</table>\n",
       "</div>"
      ],
      "text/plain": [
       "month           1           2           3           4           5   \\\n",
       "tariff                                                               \n",
       "smart   203.852941  298.689655  390.051948  367.133929  387.361702   \n",
       "ultra   428.111111  297.125000  489.648649  475.301887  534.250000   \n",
       "\n",
       "month           6           7           8           9           10  \\\n",
       "tariff                                                               \n",
       "smart   398.067485  408.353234  423.269231  430.266409  427.590444   \n",
       "ultra   497.469136  564.397727  530.611650  558.882883  581.728814   \n",
       "\n",
       "month           11          12  \n",
       "tariff                          \n",
       "smart   436.647619  479.985119  \n",
       "ultra   562.364341  614.925373  "
      ]
     },
     "metadata": {},
     "output_type": "display_data"
    }
   ],
   "source": [
    "print('Среднее количество минут по месяцам')\n",
    "display(data.pivot_table(index='tariff',columns='month')['count_min_month'])"
   ]
  },
  {
   "cell_type": "markdown",
   "metadata": {},
   "source": [
    "* Среднее количество минут разговора в тарифе \"ULTRA\" и \"SMART\" растет каждый месяц и достигает пика в декабре. Среднее количество минут каждый месяц больше на тарифе \"Ultra\",исключением является февраль(306(смарт) и 304(ультра) минуты)."
   ]
  },
  {
   "cell_type": "code",
   "execution_count": 22,
   "metadata": {
    "scrolled": true
   },
   "outputs": [
    {
     "name": "stdout",
     "output_type": "stream",
     "text": [
      "Среднее количество сообщений по месяцам\n"
     ]
    },
    {
     "data": {
      "text/html": [
       "<div>\n",
       "<style scoped>\n",
       "    .dataframe tbody tr th:only-of-type {\n",
       "        vertical-align: middle;\n",
       "    }\n",
       "\n",
       "    .dataframe tbody tr th {\n",
       "        vertical-align: top;\n",
       "    }\n",
       "\n",
       "    .dataframe thead th {\n",
       "        text-align: right;\n",
       "    }\n",
       "</style>\n",
       "<table border=\"1\" class=\"dataframe\">\n",
       "  <thead>\n",
       "    <tr style=\"text-align: right;\">\n",
       "      <th>month</th>\n",
       "      <th>1</th>\n",
       "      <th>2</th>\n",
       "      <th>3</th>\n",
       "      <th>4</th>\n",
       "      <th>5</th>\n",
       "      <th>6</th>\n",
       "      <th>7</th>\n",
       "      <th>8</th>\n",
       "      <th>9</th>\n",
       "      <th>10</th>\n",
       "      <th>11</th>\n",
       "      <th>12</th>\n",
       "    </tr>\n",
       "    <tr>\n",
       "      <th>tariff</th>\n",
       "      <th></th>\n",
       "      <th></th>\n",
       "      <th></th>\n",
       "      <th></th>\n",
       "      <th></th>\n",
       "      <th></th>\n",
       "      <th></th>\n",
       "      <th></th>\n",
       "      <th></th>\n",
       "      <th></th>\n",
       "      <th></th>\n",
       "      <th></th>\n",
       "    </tr>\n",
       "  </thead>\n",
       "  <tbody>\n",
       "    <tr>\n",
       "      <th>smart</th>\n",
       "      <td>18.235294</td>\n",
       "      <td>24.086207</td>\n",
       "      <td>31.857143</td>\n",
       "      <td>30.741071</td>\n",
       "      <td>33.773050</td>\n",
       "      <td>33.312883</td>\n",
       "      <td>33.751244</td>\n",
       "      <td>33.709402</td>\n",
       "      <td>33.644788</td>\n",
       "      <td>33.808874</td>\n",
       "      <td>34.120635</td>\n",
       "      <td>35.997024</td>\n",
       "    </tr>\n",
       "    <tr>\n",
       "      <th>ultra</th>\n",
       "      <td>33.777778</td>\n",
       "      <td>21.958333</td>\n",
       "      <td>32.297297</td>\n",
       "      <td>32.584906</td>\n",
       "      <td>37.859375</td>\n",
       "      <td>40.049383</td>\n",
       "      <td>48.477273</td>\n",
       "      <td>47.864078</td>\n",
       "      <td>51.810811</td>\n",
       "      <td>58.466102</td>\n",
       "      <td>56.000000</td>\n",
       "      <td>60.753731</td>\n",
       "    </tr>\n",
       "  </tbody>\n",
       "</table>\n",
       "</div>"
      ],
      "text/plain": [
       "month          1          2          3          4          5          6   \\\n",
       "tariff                                                                     \n",
       "smart   18.235294  24.086207  31.857143  30.741071  33.773050  33.312883   \n",
       "ultra   33.777778  21.958333  32.297297  32.584906  37.859375  40.049383   \n",
       "\n",
       "month          7          8          9          10         11         12  \n",
       "tariff                                                                    \n",
       "smart   33.751244  33.709402  33.644788  33.808874  34.120635  35.997024  \n",
       "ultra   48.477273  47.864078  51.810811  58.466102  56.000000  60.753731  "
      ]
     },
     "metadata": {},
     "output_type": "display_data"
    }
   ],
   "source": [
    "print('Среднее количество сообщений по месяцам')\n",
    "display(data.pivot_table(index='tariff',columns='month')['message_count_month'])"
   ]
  },
  {
   "cell_type": "markdown",
   "metadata": {},
   "source": [
    "* Среднее количество сообщений в тарифе \"ULTRA\" и \"SMART\" растет каждый месяц и достигает пика в декабре. Среднее количество отправленных сообщений каждый месяц больше на тарифе \"Ultra\",исключением является февраль(24(смарт) и 21(ультра) сообщение)."
   ]
  },
  {
   "cell_type": "code",
   "execution_count": 23,
   "metadata": {
    "scrolled": false
   },
   "outputs": [
    {
     "name": "stdout",
     "output_type": "stream",
     "text": [
      "Среднее количество гб по месяцам\n"
     ]
    },
    {
     "data": {
      "text/html": [
       "<div>\n",
       "<style scoped>\n",
       "    .dataframe tbody tr th:only-of-type {\n",
       "        vertical-align: middle;\n",
       "    }\n",
       "\n",
       "    .dataframe tbody tr th {\n",
       "        vertical-align: top;\n",
       "    }\n",
       "\n",
       "    .dataframe thead th {\n",
       "        text-align: right;\n",
       "    }\n",
       "</style>\n",
       "<table border=\"1\" class=\"dataframe\">\n",
       "  <thead>\n",
       "    <tr style=\"text-align: right;\">\n",
       "      <th>month</th>\n",
       "      <th>1</th>\n",
       "      <th>2</th>\n",
       "      <th>3</th>\n",
       "      <th>4</th>\n",
       "      <th>5</th>\n",
       "      <th>6</th>\n",
       "      <th>7</th>\n",
       "      <th>8</th>\n",
       "      <th>9</th>\n",
       "      <th>10</th>\n",
       "      <th>11</th>\n",
       "      <th>12</th>\n",
       "    </tr>\n",
       "    <tr>\n",
       "      <th>tariff</th>\n",
       "      <th></th>\n",
       "      <th></th>\n",
       "      <th></th>\n",
       "      <th></th>\n",
       "      <th></th>\n",
       "      <th></th>\n",
       "      <th></th>\n",
       "      <th></th>\n",
       "      <th></th>\n",
       "      <th></th>\n",
       "      <th></th>\n",
       "      <th></th>\n",
       "    </tr>\n",
       "  </thead>\n",
       "  <tbody>\n",
       "    <tr>\n",
       "      <th>smart</th>\n",
       "      <td>8.735294</td>\n",
       "      <td>11.844828</td>\n",
       "      <td>15.233766</td>\n",
       "      <td>13.625000</td>\n",
       "      <td>15.907801</td>\n",
       "      <td>15.969325</td>\n",
       "      <td>15.875622</td>\n",
       "      <td>16.760684</td>\n",
       "      <td>16.389961</td>\n",
       "      <td>16.870307</td>\n",
       "      <td>16.996825</td>\n",
       "      <td>18.205357</td>\n",
       "    </tr>\n",
       "    <tr>\n",
       "      <th>ultra</th>\n",
       "      <td>13.222222</td>\n",
       "      <td>12.000000</td>\n",
       "      <td>17.648649</td>\n",
       "      <td>17.528302</td>\n",
       "      <td>19.671875</td>\n",
       "      <td>18.925926</td>\n",
       "      <td>20.443182</td>\n",
       "      <td>19.611650</td>\n",
       "      <td>19.135135</td>\n",
       "      <td>20.093220</td>\n",
       "      <td>19.666667</td>\n",
       "      <td>21.649254</td>\n",
       "    </tr>\n",
       "  </tbody>\n",
       "</table>\n",
       "</div>"
      ],
      "text/plain": [
       "month          1          2          3          4          5          6   \\\n",
       "tariff                                                                     \n",
       "smart    8.735294  11.844828  15.233766  13.625000  15.907801  15.969325   \n",
       "ultra   13.222222  12.000000  17.648649  17.528302  19.671875  18.925926   \n",
       "\n",
       "month          7          8          9          10         11         12  \n",
       "tariff                                                                    \n",
       "smart   15.875622  16.760684  16.389961  16.870307  16.996825  18.205357  \n",
       "ultra   20.443182  19.611650  19.135135  20.093220  19.666667  21.649254  "
      ]
     },
     "execution_count": 23,
     "metadata": {},
     "output_type": "execute_result"
    }
   ],
   "source": [
    "print('Среднее количество гб по месяцам')\n",
    "data.pivot_table(index='tariff',columns='month')['gb_count_month']"
   ]
  },
  {
   "cell_type": "markdown",
   "metadata": {},
   "source": [
    "* Среднее количество гб использованного интернета в тарифе \"ULTRA\" и \"SMART\" растет каждый месяц и достигает пика в декабре. Среднее количество гб каждый месяц больше на тарифе \"Ultra\"."
   ]
  },
  {
   "cell_type": "markdown",
   "metadata": {},
   "source": [
    "**Статистический анализ данных**"
   ]
  },
  {
   "cell_type": "code",
   "execution_count": 24,
   "metadata": {},
   "outputs": [],
   "source": [
    "#столбцы со значениями таблиц(они не понадобятся при статистическом анализе)\n",
    "dates=['churn_date','reg_date','month']"
   ]
  },
  {
   "cell_type": "code",
   "execution_count": 25,
   "metadata": {},
   "outputs": [],
   "source": [
    "#таблица только со значением тарифа ultra\n",
    "data_ultra=data.drop(dates,axis=1).query('tariff==\"ultra\"')\n",
    "\n",
    "#дисперсия\n",
    "var_ultra='',np.var(data_ultra, ddof=1)\n",
    "#стандартное отклонение\n",
    "std_ultra=data_ultra.std()\n",
    "#среднее\n",
    "mean_ultra=data_ultra.mean()"
   ]
  },
  {
   "cell_type": "code",
   "execution_count": 26,
   "metadata": {},
   "outputs": [],
   "source": [
    "#таблица только со значением тарифа smart\n",
    "data_smart=data.drop(dates,axis=1).query('tariff==\"smart\"')\n",
    "#дисперсия\n",
    "var_smart='',np.var(data_smart, ddof=1)\n",
    "#стандартное отклонение\n",
    "std_smart=data_smart.std()\n",
    "#среднее\n",
    "mean_smart=data_smart.mean()"
   ]
  },
  {
   "cell_type": "code",
   "execution_count": 41,
   "metadata": {
    "scrolled": true
   },
   "outputs": [
    {
     "data": {
      "text/html": [
       "<div>\n",
       "<style scoped>\n",
       "    .dataframe tbody tr th:only-of-type {\n",
       "        vertical-align: middle;\n",
       "    }\n",
       "\n",
       "    .dataframe tbody tr th {\n",
       "        vertical-align: top;\n",
       "    }\n",
       "\n",
       "    .dataframe thead th {\n",
       "        text-align: right;\n",
       "    }\n",
       "</style>\n",
       "<table border=\"1\" class=\"dataframe\">\n",
       "  <thead>\n",
       "    <tr style=\"text-align: right;\">\n",
       "      <th></th>\n",
       "      <th>mean_smart</th>\n",
       "      <th>mean_ultra</th>\n",
       "      <th>std_smart</th>\n",
       "      <th>std_ultra</th>\n",
       "    </tr>\n",
       "  </thead>\n",
       "  <tbody>\n",
       "    <tr>\n",
       "      <th>user_id</th>\n",
       "      <td>1245.904184</td>\n",
       "      <td>1264.766562</td>\n",
       "      <td>145.837842</td>\n",
       "      <td>140.413405</td>\n",
       "    </tr>\n",
       "    <tr>\n",
       "      <th>calls_count_month</th>\n",
       "      <td>58.621233</td>\n",
       "      <td>76.016824</td>\n",
       "      <td>25.796101</td>\n",
       "      <td>42.403348</td>\n",
       "    </tr>\n",
       "    <tr>\n",
       "      <th>count_min_month</th>\n",
       "      <td>419.062978</td>\n",
       "      <td>545.451104</td>\n",
       "      <td>189.325618</td>\n",
       "      <td>306.925754</td>\n",
       "    </tr>\n",
       "    <tr>\n",
       "      <th>message_count_month</th>\n",
       "      <td>33.396311</td>\n",
       "      <td>49.033649</td>\n",
       "      <td>28.259437</td>\n",
       "      <td>46.890656</td>\n",
       "    </tr>\n",
       "    <tr>\n",
       "      <th>gb_count_month</th>\n",
       "      <td>16.329735</td>\n",
       "      <td>19.487907</td>\n",
       "      <td>5.752599</td>\n",
       "      <td>9.890432</td>\n",
       "    </tr>\n",
       "    <tr>\n",
       "      <th>revenue</th>\n",
       "      <td>1290.891138</td>\n",
       "      <td>2070.977918</td>\n",
       "      <td>819.119853</td>\n",
       "      <td>379.423372</td>\n",
       "    </tr>\n",
       "  </tbody>\n",
       "</table>\n",
       "</div>"
      ],
      "text/plain": [
       "                      mean_smart   mean_ultra   std_smart   std_ultra\n",
       "user_id              1245.904184  1264.766562  145.837842  140.413405\n",
       "calls_count_month      58.621233    76.016824   25.796101   42.403348\n",
       "count_min_month       419.062978   545.451104  189.325618  306.925754\n",
       "message_count_month    33.396311    49.033649   28.259437   46.890656\n",
       "gb_count_month         16.329735    19.487907    5.752599    9.890432\n",
       "revenue              1290.891138  2070.977918  819.119853  379.423372"
      ]
     },
     "execution_count": 41,
     "metadata": {},
     "output_type": "execute_result"
    }
   ],
   "source": [
    "#единая таблица со всеми значениями для упарощения стравнения тарифов\n",
    "analysis = pd.DataFrame({'mean_smart':mean_smart,'mean_ultra':mean_ultra,\n",
    "                   'std_smart':std_smart,'std_ultra':std_ultra})\n",
    "analysis"
   ]
  },
  {
   "cell_type": "markdown",
   "metadata": {},
   "source": [
    "**Из данной таблицы можно сделать вывод**\n",
    "* Среднее значение звонков по месяцам у тарифа ультра больше, а также больше среднее отклонение, что свидетельсвует о большем разнообразии количества звонков - тарифом пользуется люди, которые звонят как много, так и мало.\n",
    "* Аналогичная ситуация присуща для всех остальных параметров: суммарной длительности звонков, количеству сообщений, колиечеству потраченных мегабайт.\n",
    "* Средняя выручка больше у тарифа ультра.\n",
    "* Стандартное отклонение для показателя - выручка у тарифа смарт в 4 раза больше, чем у тарифа ультра. Это может быть обосновано тем, что существуют пользователи, которые пользуются тарифом смарт и не превышают включенные услуги, а существуют те, кто превышает - а значит, доплачивают, и доплачивают больше, чем такой же пользователь тарифа ультра, так как стоимость услуг сверх пакета больше.\n",
    "* Вышесказанное подтверждает  то, что ежемесячная стоимость подписки смарт - 550 рублей, а средняя выручка на одного пользователя составляет 1290 рублей.\n",
    "* Ежемесячная стоисомть тарифа ультра - 1950 рублей, а средняя выручка -2070 рублей, это означает, что для большинства пользователей услуги сверх тарифного плана не актуальны."
   ]
  },
  {
   "cell_type": "code",
   "execution_count": 28,
   "metadata": {
    "scrolled": true
   },
   "outputs": [
    {
     "data": {
      "image/png": "[encoded data removed]",
      "text/plain": [
       "<Figure size 432x288 with 1 Axes>"
      ]
     },
     "metadata": {
      "needs_background": "light"
     },
     "output_type": "display_data"
    }
   ],
   "source": [
    "fig = plt.figure()\n",
    "ax = fig.add_subplot(111)\n",
    "_ = ax.hist(data_ultra['message_count_month'].values)\n",
    "_ = ax.hist(data_smart['message_count_month'].values, color='red', alpha=.3)\n",
    "_ = ax.legend(['ultra', 'smart'])\n",
    "_ = ax.set_title('Количество сообщений в месяц')"
   ]
  },
  {
   "cell_type": "code",
   "execution_count": 29,
   "metadata": {},
   "outputs": [
    {
     "data": {
      "text/plain": [
       "<AxesSubplot:>"
      ]
     },
     "execution_count": 29,
     "metadata": {},
     "output_type": "execute_result"
    },
    {
     "data": {
      "image/png": "[encoded data removed]",
      "text/plain": [
       "<Figure size 432x288 with 1 Axes>"
      ]
     },
     "metadata": {
      "needs_background": "light"
     },
     "output_type": "display_data"
    }
   ],
   "source": [
    "data_smart.boxplot(column ='message_count_month')"
   ]
  },
  {
   "cell_type": "code",
   "execution_count": 30,
   "metadata": {},
   "outputs": [
    {
     "data": {
      "text/plain": [
       "<AxesSubplot:>"
      ]
     },
     "execution_count": 30,
     "metadata": {},
     "output_type": "execute_result"
    },
    {
     "data": {
      "image/png": "[encoded data removed]",
      "text/plain": [
       "<Figure size 432x288 with 1 Axes>"
      ]
     },
     "metadata": {
      "needs_background": "light"
     },
     "output_type": "display_data"
    }
   ],
   "source": [
    "data_ultra.boxplot(column ='message_count_month')"
   ]
  },
  {
   "cell_type": "markdown",
   "metadata": {},
   "source": [
    "### Вывод исходя из графиков для показателя \"количество сообщений в месяц\"\n",
    "* Расчитаны средние, дисперсии, стандартные отклонения для всех значений по двум тарифам.\n",
    "* Была построена гистограмма по количеству сообщений за месяц для двух тарифов, из графика видно, что дисперсия у тарифа \"ultra\" больше, то есть количество сообщений разнится больше, чем у более дешевого тарифа \"smart\". Также из диаграмм размаха видно, что у тарифа \"smart\" выбросов больше, и большая часть значений сосредоточена в меньшем количестве сообщений, чем у тарифа \"ultra\"."
   ]
  },
  {
   "cell_type": "code",
   "execution_count": 42,
   "metadata": {},
   "outputs": [
    {
     "data": {
      "image/png": "[encoded data removed]",
      "text/plain": [
       "<Figure size 432x288 with 1 Axes>"
      ]
     },
     "metadata": {
      "needs_background": "light"
     },
     "output_type": "display_data"
    }
   ],
   "source": [
    "fig = plt.figure()\n",
    "ax = fig.add_subplot(111)\n",
    "_ = ax.hist(data_ultra['count_min_month'].values)\n",
    "_ = ax.hist(data_smart['count_min_month'].values, color='red', alpha=.3)\n",
    "_ = ax.legend(['ultra', 'smart'])\n",
    "_ = ax.set_title('Количество минут разгвора в месяц')"
   ]
  },
  {
   "cell_type": "code",
   "execution_count": 43,
   "metadata": {},
   "outputs": [
    {
     "data": {
      "text/plain": [
       "<AxesSubplot:>"
      ]
     },
     "execution_count": 43,
     "metadata": {},
     "output_type": "execute_result"
    },
    {
     "data": {
      "image/png": "[encoded data removed]",
      "text/plain": [
       "<Figure size 432x288 with 1 Axes>"
      ]
     },
     "metadata": {
      "needs_background": "light"
     },
     "output_type": "display_data"
    }
   ],
   "source": [
    "data_smart.boxplot(column ='count_min_month')"
   ]
  },
  {
   "cell_type": "code",
   "execution_count": 44,
   "metadata": {},
   "outputs": [
    {
     "data": {
      "text/plain": [
       "<AxesSubplot:>"
      ]
     },
     "execution_count": 44,
     "metadata": {},
     "output_type": "execute_result"
    },
    {
     "data": {
      "image/png": "[encoded data removed]",
      "text/plain": [
       "<Figure size 432x288 with 1 Axes>"
      ]
     },
     "metadata": {
      "needs_background": "light"
     },
     "output_type": "display_data"
    }
   ],
   "source": [
    "data_ultra.boxplot(column ='count_min_month')"
   ]
  },
  {
   "cell_type": "code",
   "execution_count": 45,
   "metadata": {},
   "outputs": [
    {
     "data": {
      "image/png": "[encoded data removed]",
      "text/plain": [
       "<Figure size 432x288 with 1 Axes>"
      ]
     },
     "metadata": {
      "needs_background": "light"
     },
     "output_type": "display_data"
    }
   ],
   "source": [
    "fig = plt.figure()\n",
    "ax = fig.add_subplot(111)\n",
    "_ = ax.hist(data_ultra['gb_count_month'].values)\n",
    "_ = ax.hist(data_smart['gb_count_month'].values, color='red', alpha=.3)\n",
    "_ = ax.legend(['ultra', 'smart'])\n",
    "_ = ax.set_title('Количество потраченных гигабайт в месяц')"
   ]
  },
  {
   "cell_type": "code",
   "execution_count": 46,
   "metadata": {},
   "outputs": [
    {
     "data": {
      "text/plain": [
       "<AxesSubplot:>"
      ]
     },
     "execution_count": 46,
     "metadata": {},
     "output_type": "execute_result"
    },
    {
     "data": {
      "image/png": "[encoded data removed]",
      "text/plain": [
       "<Figure size 432x288 with 1 Axes>"
      ]
     },
     "metadata": {
      "needs_background": "light"
     },
     "output_type": "display_data"
    }
   ],
   "source": [
    "data_smart.boxplot(column ='gb_count_month')"
   ]
  },
  {
   "cell_type": "code",
   "execution_count": 47,
   "metadata": {},
   "outputs": [
    {
     "data": {
      "text/plain": [
       "<AxesSubplot:>"
      ]
     },
     "execution_count": 47,
     "metadata": {},
     "output_type": "execute_result"
    },
    {
     "data": {
      "image/png": "[encoded data removed]",
      "text/plain": [
       "<Figure size 432x288 with 1 Axes>"
      ]
     },
     "metadata": {
      "needs_background": "light"
     },
     "output_type": "display_data"
    }
   ],
   "source": [
    "data_ultra.boxplot(column ='gb_count_month')"
   ]
  },
  {
   "cell_type": "markdown",
   "metadata": {},
   "source": [
    "### Вывод исходя из графиков  для показателей \"количество потраченных гигабайт в месяц\" и \"количество минут разгвора в месяц\"\n",
    " * Были построены гистограммы \"количество потраченных гигабайт в месяц\",\"количество минут разгвора в месяц\"  для двух тарифов, из графика видно, что дисперсия у тарифа \"ultra\" больше.\n",
    " * Также из диаграмм размаха видно, что у тарифа \"smart\" выбросов больше.\n",
    " *Вывод: пользователи тарифа \"ultra\" совершают более разнообразные действия, чем пользователи другого тарифа, а также их средние значения выше(то есть больше отправляют сообщений, дольше говорят и больше тратят гб интернета в месяц). \n"
   ]
  },
  {
   "cell_type": "markdown",
   "metadata": {},
   "source": [
    "---"
   ]
  },
  {
   "cell_type": "markdown",
   "metadata": {},
   "source": [
    "## Проверка гипотез"
   ]
  },
  {
   "cell_type": "markdown",
   "metadata": {},
   "source": [
    "**Первая гипотеза:**\n",
    "\n",
    "* нулевая гипотеза: средняя выручка тарифов «Ультра» и «Смарт» равна\n",
    "* альтерантивная гипотеза: средняя выручка тарифов «Ультра» и «Смарт» не равна между собой\n",
    "\n",
    "Чтобы проверить гипотезу о равенстве среднего двух генеральных совокупностей по взятым из них выборкам, применим метод scipy.stats.ttest_ind ().\n",
    "Критический уровень статистической значимости возьмем равным 0.05(alpha = 0.05)\n"
   ]
  },
  {
   "cell_type": "code",
   "execution_count": 48,
   "metadata": {},
   "outputs": [
    {
     "name": "stdout",
     "output_type": "stream",
     "text": [
      "p-значение: 2.1830308249112924e-155\n",
      "Отвергаем нулевую гипотезу\n"
     ]
    }
   ],
   "source": [
    "#нулевая гипотеза: средняя выручка тарифов равна\n",
    "#альтернативная: гипотеза средняя выручка не равна\n",
    "\n",
    "alpha = 0.05\n",
    "\n",
    "results1= st.ttest_ind(data_ultra['revenue'],data_smart['revenue'])\n",
    "\n",
    "print('p-значение:',results1.pvalue)\n",
    "\n",
    "if (results1.pvalue<alpha):\n",
    "    print(\"Отвергаем нулевую гипотезу\")\n",
    "else:\n",
    "    print(\"Не получилось отвергнуть нулевую гипотезу\")"
   ]
  },
  {
   "cell_type": "code",
   "execution_count": 49,
   "metadata": {},
   "outputs": [
    {
     "data": {
      "text/plain": [
       "(2070.9779179810726, 1290.8911381016644)"
      ]
     },
     "execution_count": 49,
     "metadata": {},
     "output_type": "execute_result"
    }
   ],
   "source": [
    "#проверка для большей наглядности(средние значения по столбцам)\n",
    "data_ultra['revenue'].mean(),data_smart['revenue'].mean()"
   ]
  },
  {
   "cell_type": "markdown",
   "metadata": {},
   "source": [
    "### Вывод о первой гипотезе\n",
    "Средняя выручка тарифов «Ультра» и «Смарт» не равна между собой, то есть средняя выручка пользователей тарифов «Ультра» и «Смарт» различаются."
   ]
  },
  {
   "cell_type": "markdown",
   "metadata": {},
   "source": [
    "---"
   ]
  },
  {
   "cell_type": "markdown",
   "metadata": {},
   "source": [
    "**Вторая гипотеза:**\n",
    "\n",
    "* нулевая гипотеза: средняя выручка пользователей из Москвы равна выручке пользователей из других регионов\n",
    "* альтерантивная гипотеза: средняя выручка пользователей из Москвы не равна выручке пользователей из других регионов\n",
    "\n",
    "Чтобы проверить гипотезу о равенстве среднего двух генеральных совокупностей по взятым из них выборкам, применим метод scipy.stats.ttest_ind ().\n",
    "Критический уровень статистической значимости возьмем равным 0.05(alpha = 0.05)"
   ]
  },
  {
   "cell_type": "code",
   "execution_count": 50,
   "metadata": {},
   "outputs": [
    {
     "name": "stdout",
     "output_type": "stream",
     "text": [
      "p-значение:  0.4619932225305272\n",
      "Не получилось отвергнуть нулевую гипотезу\n"
     ]
    }
   ],
   "source": [
    "#нулевая гипотеза: средняя выручка пользователей из Москвы равна выручке пользователей из других регионов.\n",
    "#альтеранативная: не равна\n",
    "\n",
    "#данные пользователей из Москвы\n",
    "data_moscow=data.query('city==\"Москва\"')\n",
    "\n",
    "#данные пользователей из других городов(все кроме Москвы)\n",
    "data_not_moscow=data.query('city!=\"Москва\"')\n",
    "\n",
    "alpha=0.05\n",
    "\n",
    "results2=st.ttest_ind(data_not_moscow['revenue'],data_moscow['revenue'])\n",
    "\n",
    "print('p-значение: ', results2.pvalue)\n",
    "\n",
    "if results2.pvalue<alpha:\n",
    "    print(\"Отвергаем нулевую гипотезу\")\n",
    "else:\n",
    "    print(\"Не получилось отвергнуть нулевую гипотезу\")"
   ]
  },
  {
   "cell_type": "code",
   "execution_count": 51,
   "metadata": {},
   "outputs": [
    {
     "data": {
      "text/plain": [
       "(1519.5237909516381, 1546.0524590163934)"
      ]
     },
     "execution_count": 51,
     "metadata": {},
     "output_type": "execute_result"
    }
   ],
   "source": [
    "#проверка для большей наглядности(средние значения по столбцам)\n",
    "data_not_moscow['revenue'].mean(),data_moscow['revenue'].mean()"
   ]
  },
  {
   "cell_type": "markdown",
   "metadata": {},
   "source": [
    "### Вывод о второй гипотезе\n",
    "Средняя выручка пользователей из Москвы равна выручке пользователей из других регионов, то есть средняя выручка пользователи из Москвы не отличается от выручки пользователей из других регионов."
   ]
  },
  {
   "cell_type": "markdown",
   "metadata": {},
   "source": [
    "## Общий вывод\n"
   ]
  },
  {
   "cell_type": "markdown",
   "metadata": {},
   "source": [
    "* Была изучена общая информация о предоставленных данных. \n",
    "\n",
    "* Данные были обработаны: все значения были приведены к релевантному типу данных, а также изменены исходя из задачи проекта (округление).\n",
    "\n",
    "* Для статистического анализа данных были проведены следующие расчеты:  количество сделанных звонков и израсходованных минут разговора по месяцам;количество отправленных сообщений по месяцам;объем израсходованного интернет-трафика по месяцам;помесячную выручку с каждого пользователя.\n",
    "\n",
    "* Осуществлен статистический анализ данных, используя дисперсию, стандартное отклонение и средние значения для всех количественных показателей.\n",
    "\n",
    "* Были выдвинуты и проверены две гипотезы: средняя выручка пользователей тарифов «Ультра» и «Смарт» различаются; средняя выручка пользователей из Москвы отличается от выручки пользователей из других регионов, из которых следуют следующие выводы:Средняя выручка пользователей из Москвы равна выручке пользователей из других регионов, то есть средняя выручка пользователи из Москвы не отличается от выручки пользователей из других регионов;Средняя выручка тарифов «Ультра» и «Смарт» не равна между собой, то есть средняя выручка пользователей тарифов «Ультра» и «Смарт» различаются. \n",
    "    \n",
    "**В результате исследования было выявлено, что тариф \"ultra\" является более выгодным.**"
   ]
  },
  {
   "cell_type": "markdown",
   "metadata": {},
   "source": [
    "## Вывод из цели\n",
    "* У тарифа \"ultra\" средняя выручка выше, чему у тарифа \"smart\". Все средние показатели за месяц (среднее кол-во минут в месяц, реднее количество потраченных гб в месяц, среднее колиечество отправленыых в месяц сообщений) больше, а также действия более разнообразны, чем у пользователей тарифа \"smart\".\n",
    "* Отсюда можно сделать вывод, что тариф \"ultra\" более выгодный для «Мегалайн». Поэтому затраты на маркетинг для тарифа \"smart\" следует увеличить, а также пересмотреть политику тарифа \"smart\"(например: увеличение включенных в тариф услуг(т.к большинство пользователей пользуется услугами сверх тарифа) - и из этого следует увеличение стоимости самого тарифа и как итог увеличение выручки компании."
   ]
  }
 ],
 "metadata": {
  "ExecuteTimeLog": [
   {
    "duration": 824,
    "start_time": "2021-09-07T13:50:57.727Z"
   },
   {
    "duration": 380,
    "start_time": "2021-09-07T13:53:41.252Z"
   },
   {
    "duration": 271,
    "start_time": "2021-09-07T13:53:47.502Z"
   },
   {
    "duration": 2029,
    "start_time": "2021-09-07T13:55:18.823Z"
   },
   {
    "duration": 1728,
    "start_time": "2021-09-07T13:55:58.969Z"
   },
   {
    "duration": 224,
    "start_time": "2021-09-07T13:56:31.527Z"
   },
   {
    "duration": 25,
    "start_time": "2021-09-07T13:56:40.415Z"
   },
   {
    "duration": 90,
    "start_time": "2021-09-07T13:59:22.784Z"
   },
   {
    "duration": 5,
    "start_time": "2021-09-07T13:59:56.018Z"
   },
   {
    "duration": 371,
    "start_time": "2021-09-07T14:05:17.699Z"
   },
   {
    "duration": 770,
    "start_time": "2021-09-07T14:07:06.227Z"
   },
   {
    "duration": 502,
    "start_time": "2021-09-07T14:07:16.900Z"
   },
   {
    "duration": 541,
    "start_time": "2021-09-07T14:07:37.469Z"
   },
   {
    "duration": 11,
    "start_time": "2021-09-07T14:08:28.511Z"
   },
   {
    "duration": 12,
    "start_time": "2021-09-07T14:08:36.331Z"
   },
   {
    "duration": 47,
    "start_time": "2021-09-07T14:09:33.631Z"
   },
   {
    "duration": 320,
    "start_time": "2021-09-07T16:15:24.518Z"
   },
   {
    "duration": 258,
    "start_time": "2021-09-07T16:15:45.202Z"
   },
   {
    "duration": 29,
    "start_time": "2021-09-07T16:16:37.296Z"
   },
   {
    "duration": 45,
    "start_time": "2021-09-07T16:17:13.960Z"
   },
   {
    "duration": 55,
    "start_time": "2021-09-07T16:36:42.992Z"
   },
   {
    "duration": 66,
    "start_time": "2021-09-07T16:37:49.719Z"
   },
   {
    "duration": 325,
    "start_time": "2021-09-08T15:22:36.321Z"
   },
   {
    "duration": 538,
    "start_time": "2021-09-08T15:22:49.528Z"
   },
   {
    "duration": 380,
    "start_time": "2021-09-08T15:22:50.068Z"
   },
   {
    "duration": 36,
    "start_time": "2021-09-08T15:22:50.449Z"
   },
   {
    "duration": 49,
    "start_time": "2021-09-08T15:22:50.486Z"
   },
   {
    "duration": 304,
    "start_time": "2021-09-08T15:22:50.537Z"
   },
   {
    "duration": -179,
    "start_time": "2021-09-08T15:22:51.022Z"
   },
   {
    "duration": 33,
    "start_time": "2021-09-08T15:23:03.669Z"
   },
   {
    "duration": 8,
    "start_time": "2021-09-08T15:23:23.188Z"
   },
   {
    "duration": 15,
    "start_time": "2021-09-08T15:23:51.477Z"
   },
   {
    "duration": 7743,
    "start_time": "2021-09-08T15:25:55.395Z"
   },
   {
    "duration": 6395,
    "start_time": "2021-09-08T15:26:42.358Z"
   },
   {
    "duration": -256,
    "start_time": "2021-09-08T15:26:49.010Z"
   },
   {
    "duration": 17,
    "start_time": "2021-09-08T15:29:10.416Z"
   },
   {
    "duration": 27,
    "start_time": "2021-09-08T15:29:16.370Z"
   },
   {
    "duration": 34,
    "start_time": "2021-09-08T15:29:57.753Z"
   },
   {
    "duration": 598,
    "start_time": "2021-09-08T15:30:57.766Z"
   },
   {
    "duration": 324,
    "start_time": "2021-09-08T15:31:49.764Z"
   },
   {
    "duration": 81,
    "start_time": "2021-09-08T15:32:04.190Z"
   },
   {
    "duration": 50,
    "start_time": "2021-09-08T15:32:07.864Z"
   },
   {
    "duration": 37,
    "start_time": "2021-09-08T15:32:27.286Z"
   },
   {
    "duration": 54,
    "start_time": "2021-09-08T15:33:24.070Z"
   },
   {
    "duration": 113,
    "start_time": "2021-09-08T15:33:33.347Z"
   },
   {
    "duration": 36,
    "start_time": "2021-09-08T15:36:55.483Z"
   },
   {
    "duration": 35,
    "start_time": "2021-09-08T15:37:09.825Z"
   },
   {
    "duration": 280,
    "start_time": "2021-09-08T15:41:04.868Z"
   },
   {
    "duration": 252,
    "start_time": "2021-09-08T15:41:12.012Z"
   },
   {
    "duration": 354,
    "start_time": "2021-09-08T15:41:15.696Z"
   },
   {
    "duration": 270,
    "start_time": "2021-09-08T15:42:34.504Z"
   },
   {
    "duration": 193,
    "start_time": "2021-09-08T15:43:12.867Z"
   },
   {
    "duration": 29,
    "start_time": "2021-09-08T15:44:11.505Z"
   },
   {
    "duration": 18,
    "start_time": "2021-09-08T15:48:43.925Z"
   },
   {
    "duration": 3,
    "start_time": "2021-09-08T15:54:26.733Z"
   },
   {
    "duration": 262,
    "start_time": "2021-09-08T15:59:01.387Z"
   },
   {
    "duration": 319,
    "start_time": "2021-09-08T16:00:30.732Z"
   },
   {
    "duration": 290,
    "start_time": "2021-09-08T16:26:35.567Z"
   },
   {
    "duration": 252,
    "start_time": "2021-09-08T16:26:57.268Z"
   },
   {
    "duration": 329,
    "start_time": "2021-09-08T16:27:07.663Z"
   },
   {
    "duration": 305,
    "start_time": "2021-09-08T16:27:15.168Z"
   },
   {
    "duration": 254,
    "start_time": "2021-09-08T16:27:23.762Z"
   },
   {
    "duration": 78,
    "start_time": "2021-09-08T16:31:46.197Z"
   },
   {
    "duration": -330,
    "start_time": "2021-09-08T16:32:02.567Z"
   },
   {
    "duration": -346,
    "start_time": "2021-09-08T16:32:12.433Z"
   },
   {
    "duration": 1202,
    "start_time": "2021-09-08T16:32:15.657Z"
   },
   {
    "duration": 447,
    "start_time": "2021-09-08T16:32:16.862Z"
   },
   {
    "duration": 35,
    "start_time": "2021-09-08T16:32:17.312Z"
   },
   {
    "duration": 64,
    "start_time": "2021-09-08T16:32:17.349Z"
   },
   {
    "duration": 102,
    "start_time": "2021-09-08T16:32:17.415Z"
   },
   {
    "duration": 238,
    "start_time": "2021-09-08T16:32:17.519Z"
   },
   {
    "duration": 74,
    "start_time": "2021-09-08T16:32:17.759Z"
   },
   {
    "duration": 6591,
    "start_time": "2021-09-08T16:32:17.835Z"
   },
   {
    "duration": 286,
    "start_time": "2021-09-08T16:34:35.253Z"
   },
   {
    "duration": 16,
    "start_time": "2021-09-08T16:34:46.857Z"
   },
   {
    "duration": 9,
    "start_time": "2021-09-08T16:35:04.803Z"
   },
   {
    "duration": 14,
    "start_time": "2021-09-08T16:36:02.203Z"
   },
   {
    "duration": 11,
    "start_time": "2021-09-08T16:36:47.248Z"
   },
   {
    "duration": 24,
    "start_time": "2021-09-08T16:36:52.576Z"
   },
   {
    "duration": 25,
    "start_time": "2021-09-08T16:37:30.088Z"
   },
   {
    "duration": 345,
    "start_time": "2021-09-08T16:37:35.306Z"
   },
   {
    "duration": 272,
    "start_time": "2021-09-08T16:44:44.352Z"
   },
   {
    "duration": 257,
    "start_time": "2021-09-08T16:44:50.615Z"
   },
   {
    "duration": 608,
    "start_time": "2021-09-08T16:45:11.007Z"
   },
   {
    "duration": 263,
    "start_time": "2021-09-08T16:45:50.387Z"
   },
   {
    "duration": 248,
    "start_time": "2021-09-08T16:45:58.296Z"
   },
   {
    "duration": 1149,
    "start_time": "2021-09-08T16:46:23.803Z"
   },
   {
    "duration": 419,
    "start_time": "2021-09-08T16:46:24.954Z"
   },
   {
    "duration": 32,
    "start_time": "2021-09-08T16:46:25.376Z"
   },
   {
    "duration": 50,
    "start_time": "2021-09-08T16:46:25.410Z"
   },
   {
    "duration": 101,
    "start_time": "2021-09-08T16:46:25.462Z"
   },
   {
    "duration": 232,
    "start_time": "2021-09-08T16:46:25.564Z"
   },
   {
    "duration": 75,
    "start_time": "2021-09-08T16:46:25.798Z"
   },
   {
    "duration": 41,
    "start_time": "2021-09-08T16:46:25.875Z"
   },
   {
    "duration": 325,
    "start_time": "2021-09-08T16:47:22.093Z"
   },
   {
    "duration": 12,
    "start_time": "2021-09-08T16:47:30.156Z"
   },
   {
    "duration": 12,
    "start_time": "2021-09-08T16:47:40.577Z"
   },
   {
    "duration": 11,
    "start_time": "2021-09-08T16:47:52.655Z"
   },
   {
    "duration": 12,
    "start_time": "2021-09-08T16:47:56.128Z"
   },
   {
    "duration": 32,
    "start_time": "2021-09-08T16:48:01.097Z"
   },
   {
    "duration": 13,
    "start_time": "2021-09-08T16:48:07.746Z"
   },
   {
    "duration": 12,
    "start_time": "2021-09-08T16:48:19.662Z"
   },
   {
    "duration": 12,
    "start_time": "2021-09-08T16:49:08.768Z"
   },
   {
    "duration": 1165,
    "start_time": "2021-09-08T16:49:13.907Z"
   },
   {
    "duration": 437,
    "start_time": "2021-09-08T16:49:15.074Z"
   },
   {
    "duration": 31,
    "start_time": "2021-09-08T16:49:15.514Z"
   },
   {
    "duration": 56,
    "start_time": "2021-09-08T16:49:15.547Z"
   },
   {
    "duration": 95,
    "start_time": "2021-09-08T16:49:15.605Z"
   },
   {
    "duration": 241,
    "start_time": "2021-09-08T16:49:15.702Z"
   },
   {
    "duration": 77,
    "start_time": "2021-09-08T16:49:15.945Z"
   },
   {
    "duration": 14,
    "start_time": "2021-09-08T16:49:16.025Z"
   },
   {
    "duration": 3,
    "start_time": "2021-09-08T16:49:26.843Z"
   },
   {
    "duration": 13,
    "start_time": "2021-09-08T16:49:58.682Z"
   },
   {
    "duration": 1169,
    "start_time": "2021-09-08T16:50:06.887Z"
   },
   {
    "duration": 411,
    "start_time": "2021-09-08T16:50:08.058Z"
   },
   {
    "duration": 31,
    "start_time": "2021-09-08T16:50:08.471Z"
   },
   {
    "duration": 53,
    "start_time": "2021-09-08T16:50:08.503Z"
   },
   {
    "duration": 95,
    "start_time": "2021-09-08T16:50:08.558Z"
   },
   {
    "duration": 239,
    "start_time": "2021-09-08T16:50:08.655Z"
   },
   {
    "duration": 75,
    "start_time": "2021-09-08T16:50:08.895Z"
   },
   {
    "duration": 27,
    "start_time": "2021-09-08T16:50:08.973Z"
   },
   {
    "duration": 2,
    "start_time": "2021-09-08T16:50:09.002Z"
   },
   {
    "duration": 13,
    "start_time": "2021-09-08T16:50:13.216Z"
   },
   {
    "duration": 13,
    "start_time": "2021-09-08T16:50:15.741Z"
   },
   {
    "duration": 25,
    "start_time": "2021-09-08T16:50:21.736Z"
   },
   {
    "duration": 19,
    "start_time": "2021-09-08T16:50:27.056Z"
   },
   {
    "duration": 5,
    "start_time": "2021-09-08T16:50:51.536Z"
   },
   {
    "duration": 338,
    "start_time": "2021-09-08T16:50:54.628Z"
   },
   {
    "duration": 292,
    "start_time": "2021-09-08T16:51:03.981Z"
   },
   {
    "duration": 15,
    "start_time": "2021-09-08T16:51:59.296Z"
   },
   {
    "duration": 1045,
    "start_time": "2021-09-08T16:52:35.541Z"
   },
   {
    "duration": 27,
    "start_time": "2021-09-08T16:52:53.534Z"
   },
   {
    "duration": 12,
    "start_time": "2021-09-08T16:53:57.796Z"
   },
   {
    "duration": 26,
    "start_time": "2021-09-08T16:55:05.817Z"
   },
   {
    "duration": 263,
    "start_time": "2021-09-08T16:59:30.986Z"
   },
   {
    "duration": 55,
    "start_time": "2021-09-08T17:01:35.474Z"
   },
   {
    "duration": 273,
    "start_time": "2021-09-08T17:01:51.087Z"
   },
   {
    "duration": 46,
    "start_time": "2021-09-08T17:02:31.036Z"
   },
   {
    "duration": 272,
    "start_time": "2021-09-08T17:03:14.281Z"
   },
   {
    "duration": 42,
    "start_time": "2021-09-08T17:03:29.298Z"
   },
   {
    "duration": 47,
    "start_time": "2021-09-08T17:04:01.871Z"
   },
   {
    "duration": 47,
    "start_time": "2021-09-08T17:04:17.683Z"
   },
   {
    "duration": 332,
    "start_time": "2021-09-08T17:05:05.592Z"
   },
   {
    "duration": 44,
    "start_time": "2021-09-08T17:05:13.412Z"
   },
   {
    "duration": 51,
    "start_time": "2021-09-08T17:05:40.322Z"
   },
   {
    "duration": 274,
    "start_time": "2021-09-08T17:08:15.451Z"
   },
   {
    "duration": 63,
    "start_time": "2021-09-08T17:12:11.922Z"
   },
   {
    "duration": 52,
    "start_time": "2021-09-08T17:13:03.634Z"
   },
   {
    "duration": 545,
    "start_time": "2021-09-08T17:13:29.158Z"
   },
   {
    "duration": 293,
    "start_time": "2021-09-08T17:13:37.150Z"
   },
   {
    "duration": 288,
    "start_time": "2021-09-08T17:13:45.380Z"
   },
   {
    "duration": 50,
    "start_time": "2021-09-08T17:14:12.316Z"
   },
   {
    "duration": 52,
    "start_time": "2021-09-08T17:16:15.939Z"
   },
   {
    "duration": 286,
    "start_time": "2021-09-08T17:16:40.837Z"
   },
   {
    "duration": 300,
    "start_time": "2021-09-08T17:16:56.705Z"
   },
   {
    "duration": 289,
    "start_time": "2021-09-08T17:18:36.192Z"
   },
   {
    "duration": 51,
    "start_time": "2021-09-08T17:18:50.092Z"
   },
   {
    "duration": 52,
    "start_time": "2021-09-08T17:20:00.072Z"
   },
   {
    "duration": 354,
    "start_time": "2021-09-08T17:20:07.582Z"
   },
   {
    "duration": 42,
    "start_time": "2021-09-08T17:20:40.632Z"
   },
   {
    "duration": 250,
    "start_time": "2021-09-08T17:24:40.875Z"
   },
   {
    "duration": 265,
    "start_time": "2021-09-08T17:24:58.615Z"
   },
   {
    "duration": 46,
    "start_time": "2021-09-08T17:25:10.289Z"
   },
   {
    "duration": 288,
    "start_time": "2021-09-08T17:25:24.235Z"
   },
   {
    "duration": 340,
    "start_time": "2021-09-08T17:25:38.957Z"
   },
   {
    "duration": 284,
    "start_time": "2021-09-08T17:26:09.115Z"
   },
   {
    "duration": 60,
    "start_time": "2021-09-08T17:26:16.041Z"
   },
   {
    "duration": 41,
    "start_time": "2021-09-08T17:26:29.911Z"
   },
   {
    "duration": 40,
    "start_time": "2021-09-08T17:26:50.432Z"
   },
   {
    "duration": 2,
    "start_time": "2021-09-08T17:33:01.199Z"
   },
   {
    "duration": 255,
    "start_time": "2021-09-08T17:33:59.094Z"
   },
   {
    "duration": 3,
    "start_time": "2021-09-08T17:35:10.949Z"
   },
   {
    "duration": 268,
    "start_time": "2021-09-08T17:35:21.521Z"
   },
   {
    "duration": 264,
    "start_time": "2021-09-08T17:35:30.085Z"
   },
   {
    "duration": 43,
    "start_time": "2021-09-08T17:39:07.063Z"
   },
   {
    "duration": 6,
    "start_time": "2021-09-08T17:41:11.183Z"
   },
   {
    "duration": 11,
    "start_time": "2021-09-08T17:41:20.283Z"
   },
   {
    "duration": 12,
    "start_time": "2021-09-08T17:41:36.033Z"
   },
   {
    "duration": 5,
    "start_time": "2021-09-08T17:41:46.542Z"
   },
   {
    "duration": 1137,
    "start_time": "2021-09-08T17:45:29.421Z"
   },
   {
    "duration": 29,
    "start_time": "2021-09-08T17:46:13.992Z"
   },
   {
    "duration": 20,
    "start_time": "2021-09-08T17:46:49.730Z"
   },
   {
    "duration": 36,
    "start_time": "2021-09-08T17:46:59.229Z"
   },
   {
    "duration": 47,
    "start_time": "2021-09-08T17:47:40.735Z"
   },
   {
    "duration": 63,
    "start_time": "2021-09-08T17:47:54.460Z"
   },
   {
    "duration": 55,
    "start_time": "2021-09-08T17:48:01.756Z"
   },
   {
    "duration": 13,
    "start_time": "2021-09-08T17:52:13.723Z"
   },
   {
    "duration": -251,
    "start_time": "2021-09-08T17:56:27.080Z"
   },
   {
    "duration": 1157,
    "start_time": "2021-09-08T17:56:41.660Z"
   },
   {
    "duration": 402,
    "start_time": "2021-09-08T17:56:42.819Z"
   },
   {
    "duration": 31,
    "start_time": "2021-09-08T17:56:43.223Z"
   },
   {
    "duration": 50,
    "start_time": "2021-09-08T17:56:43.256Z"
   },
   {
    "duration": 92,
    "start_time": "2021-09-08T17:56:43.308Z"
   },
   {
    "duration": 235,
    "start_time": "2021-09-08T17:56:43.401Z"
   },
   {
    "duration": 78,
    "start_time": "2021-09-08T17:56:43.638Z"
   },
   {
    "duration": 4,
    "start_time": "2021-09-08T17:56:43.718Z"
   },
   {
    "duration": 20,
    "start_time": "2021-09-08T17:56:43.724Z"
   },
   {
    "duration": 66,
    "start_time": "2021-09-08T17:56:43.746Z"
   },
   {
    "duration": 29,
    "start_time": "2021-09-08T17:56:43.814Z"
   },
   {
    "duration": 51,
    "start_time": "2021-09-08T17:56:43.844Z"
   },
   {
    "duration": 6683,
    "start_time": "2021-09-08T17:56:43.897Z"
   },
   {
    "duration": 45,
    "start_time": "2021-09-08T17:57:20.901Z"
   },
   {
    "duration": 41,
    "start_time": "2021-09-08T17:57:32.749Z"
   },
   {
    "duration": 39,
    "start_time": "2021-09-08T17:57:41.330Z"
   },
   {
    "duration": 44,
    "start_time": "2021-09-08T17:57:55.000Z"
   },
   {
    "duration": 295,
    "start_time": "2021-09-08T17:58:04.200Z"
   },
   {
    "duration": 44,
    "start_time": "2021-09-08T17:58:14.911Z"
   },
   {
    "duration": 31,
    "start_time": "2021-09-08T17:58:43.101Z"
   },
   {
    "duration": 36,
    "start_time": "2021-09-08T17:58:54.701Z"
   },
   {
    "duration": 299,
    "start_time": "2021-09-08T18:02:57.790Z"
   },
   {
    "duration": 304,
    "start_time": "2021-09-08T18:03:04.299Z"
   },
   {
    "duration": 63,
    "start_time": "2021-09-08T18:03:13.166Z"
   },
   {
    "duration": 6,
    "start_time": "2021-09-08T18:04:07.539Z"
   },
   {
    "duration": 17,
    "start_time": "2021-09-08T18:04:11.313Z"
   },
   {
    "duration": 288,
    "start_time": "2021-09-08T18:04:29.946Z"
   },
   {
    "duration": 5,
    "start_time": "2021-09-08T18:04:38.292Z"
   },
   {
    "duration": 8,
    "start_time": "2021-09-08T18:04:57.658Z"
   },
   {
    "duration": 24,
    "start_time": "2021-09-08T18:05:13.381Z"
   },
   {
    "duration": 32,
    "start_time": "2021-09-08T18:05:42.543Z"
   },
   {
    "duration": 19,
    "start_time": "2021-09-08T18:05:44.742Z"
   },
   {
    "duration": 33,
    "start_time": "2021-09-08T18:05:49.801Z"
   },
   {
    "duration": 37,
    "start_time": "2021-09-08T18:05:51.173Z"
   },
   {
    "duration": 22,
    "start_time": "2021-09-08T18:05:52.212Z"
   },
   {
    "duration": 21,
    "start_time": "2021-09-08T18:05:53.902Z"
   },
   {
    "duration": 27,
    "start_time": "2021-09-08T18:06:20.113Z"
   },
   {
    "duration": 28,
    "start_time": "2021-09-08T18:06:43.521Z"
   },
   {
    "duration": 20,
    "start_time": "2021-09-08T18:06:48.412Z"
   },
   {
    "duration": 19,
    "start_time": "2021-09-08T18:08:31.582Z"
   },
   {
    "duration": 21,
    "start_time": "2021-09-08T18:08:49.502Z"
   },
   {
    "duration": 55,
    "start_time": "2021-09-08T18:08:56.312Z"
   },
   {
    "duration": 62,
    "start_time": "2021-09-08T18:09:33.871Z"
   },
   {
    "duration": 1138,
    "start_time": "2021-09-08T18:09:51.129Z"
   },
   {
    "duration": 414,
    "start_time": "2021-09-08T18:09:52.269Z"
   },
   {
    "duration": 30,
    "start_time": "2021-09-08T18:09:52.686Z"
   },
   {
    "duration": 51,
    "start_time": "2021-09-08T18:09:52.718Z"
   },
   {
    "duration": 87,
    "start_time": "2021-09-08T18:09:52.791Z"
   },
   {
    "duration": 237,
    "start_time": "2021-09-08T18:09:52.880Z"
   },
   {
    "duration": 75,
    "start_time": "2021-09-08T18:09:53.119Z"
   },
   {
    "duration": 4,
    "start_time": "2021-09-08T18:09:53.196Z"
   },
   {
    "duration": 11,
    "start_time": "2021-09-08T18:09:53.202Z"
   },
   {
    "duration": 85,
    "start_time": "2021-09-08T18:09:53.214Z"
   },
   {
    "duration": 27,
    "start_time": "2021-09-08T18:09:53.301Z"
   },
   {
    "duration": 41,
    "start_time": "2021-09-08T18:09:53.329Z"
   },
   {
    "duration": 56,
    "start_time": "2021-09-08T18:09:53.372Z"
   },
   {
    "duration": 2,
    "start_time": "2021-09-08T18:09:53.430Z"
   },
   {
    "duration": 27,
    "start_time": "2021-09-08T18:09:53.434Z"
   },
   {
    "duration": 61,
    "start_time": "2021-09-08T18:10:12.629Z"
   },
   {
    "duration": 1453,
    "start_time": "2021-09-08T20:26:58.496Z"
   },
   {
    "duration": 509,
    "start_time": "2021-09-08T20:26:59.952Z"
   },
   {
    "duration": 52,
    "start_time": "2021-09-08T20:27:00.464Z"
   },
   {
    "duration": 95,
    "start_time": "2021-09-08T20:27:00.520Z"
   },
   {
    "duration": 137,
    "start_time": "2021-09-08T20:27:00.617Z"
   },
   {
    "duration": 304,
    "start_time": "2021-09-08T20:27:00.756Z"
   },
   {
    "duration": 99,
    "start_time": "2021-09-08T20:27:01.062Z"
   },
   {
    "duration": 5,
    "start_time": "2021-09-08T20:27:01.165Z"
   },
   {
    "duration": 20,
    "start_time": "2021-09-08T20:27:01.172Z"
   },
   {
    "duration": 101,
    "start_time": "2021-09-08T20:27:01.196Z"
   },
   {
    "duration": 34,
    "start_time": "2021-09-08T20:27:01.299Z"
   },
   {
    "duration": 69,
    "start_time": "2021-09-08T20:27:01.335Z"
   },
   {
    "duration": 46,
    "start_time": "2021-09-08T20:27:01.407Z"
   },
   {
    "duration": 3,
    "start_time": "2021-09-08T20:27:01.456Z"
   },
   {
    "duration": 467,
    "start_time": "2021-09-08T20:27:01.461Z"
   },
   {
    "duration": 321,
    "start_time": "2021-09-08T20:27:29.389Z"
   },
   {
    "duration": 262,
    "start_time": "2021-09-08T20:27:35.249Z"
   },
   {
    "duration": 280,
    "start_time": "2021-09-08T20:28:24.626Z"
   },
   {
    "duration": 303,
    "start_time": "2021-09-08T20:28:27.300Z"
   },
   {
    "duration": 301,
    "start_time": "2021-09-08T20:28:56.184Z"
   },
   {
    "duration": 299,
    "start_time": "2021-09-08T20:29:21.817Z"
   },
   {
    "duration": 302,
    "start_time": "2021-09-08T20:29:27.716Z"
   },
   {
    "duration": 303,
    "start_time": "2021-09-08T20:30:00.472Z"
   },
   {
    "duration": 654,
    "start_time": "2021-09-08T20:31:15.649Z"
   },
   {
    "duration": 358,
    "start_time": "2021-09-08T20:37:50.957Z"
   },
   {
    "duration": 77,
    "start_time": "2021-09-08T20:38:04.976Z"
   },
   {
    "duration": 327,
    "start_time": "2021-09-08T20:38:12.093Z"
   },
   {
    "duration": 1188,
    "start_time": "2021-09-08T20:39:44.896Z"
   },
   {
    "duration": 459,
    "start_time": "2021-09-08T20:39:58.366Z"
   },
   {
    "duration": 19,
    "start_time": "2021-09-08T20:40:37.413Z"
   },
   {
    "duration": 67,
    "start_time": "2021-09-08T20:40:46.555Z"
   },
   {
    "duration": 45,
    "start_time": "2021-09-08T20:41:26.884Z"
   },
   {
    "duration": 41,
    "start_time": "2021-09-08T20:42:01.125Z"
   },
   {
    "duration": 42,
    "start_time": "2021-09-08T20:42:14.714Z"
   },
   {
    "duration": 48,
    "start_time": "2021-09-08T20:42:45.763Z"
   },
   {
    "duration": 287,
    "start_time": "2021-09-08T20:42:53.133Z"
   },
   {
    "duration": 46,
    "start_time": "2021-09-08T20:44:21.219Z"
   },
   {
    "duration": 51,
    "start_time": "2021-09-08T20:44:36.452Z"
   },
   {
    "duration": 50,
    "start_time": "2021-09-08T20:46:59.986Z"
   },
   {
    "duration": 286,
    "start_time": "2021-09-08T20:47:10.330Z"
   },
   {
    "duration": 21,
    "start_time": "2021-09-08T20:47:18.123Z"
   },
   {
    "duration": 390,
    "start_time": "2021-09-08T20:47:26.309Z"
   },
   {
    "duration": 21,
    "start_time": "2021-09-08T20:47:32.910Z"
   },
   {
    "duration": 20,
    "start_time": "2021-09-08T20:48:43.993Z"
   },
   {
    "duration": 34,
    "start_time": "2021-09-08T20:48:56.903Z"
   },
   {
    "duration": 470,
    "start_time": "2021-09-09T14:26:17.526Z"
   },
   {
    "duration": 1593,
    "start_time": "2021-09-09T14:26:29.901Z"
   },
   {
    "duration": 521,
    "start_time": "2021-09-09T14:26:31.497Z"
   },
   {
    "duration": 49,
    "start_time": "2021-09-09T14:26:32.021Z"
   },
   {
    "duration": 92,
    "start_time": "2021-09-09T14:26:32.073Z"
   },
   {
    "duration": 143,
    "start_time": "2021-09-09T14:26:32.168Z"
   },
   {
    "duration": 294,
    "start_time": "2021-09-09T14:26:32.317Z"
   },
   {
    "duration": 100,
    "start_time": "2021-09-09T14:26:32.617Z"
   },
   {
    "duration": 5,
    "start_time": "2021-09-09T14:26:32.720Z"
   },
   {
    "duration": 23,
    "start_time": "2021-09-09T14:26:32.728Z"
   },
   {
    "duration": 88,
    "start_time": "2021-09-09T14:26:32.754Z"
   },
   {
    "duration": 34,
    "start_time": "2021-09-09T14:26:32.845Z"
   },
   {
    "duration": 67,
    "start_time": "2021-09-09T14:26:32.882Z"
   },
   {
    "duration": 52,
    "start_time": "2021-09-09T14:26:32.952Z"
   },
   {
    "duration": 11,
    "start_time": "2021-09-09T14:26:33.006Z"
   },
   {
    "duration": 584,
    "start_time": "2021-09-09T14:26:33.019Z"
   },
   {
    "duration": 560,
    "start_time": "2021-09-09T14:26:33.046Z"
   },
   {
    "duration": 431,
    "start_time": "2021-09-09T14:31:33.480Z"
   },
   {
    "duration": 19,
    "start_time": "2021-09-09T14:31:46.400Z"
   },
   {
    "duration": 35,
    "start_time": "2021-09-09T14:31:49.841Z"
   },
   {
    "duration": 25,
    "start_time": "2021-09-09T14:32:00.087Z"
   },
   {
    "duration": 32,
    "start_time": "2021-09-09T14:32:07.591Z"
   },
   {
    "duration": 34,
    "start_time": "2021-09-09T14:32:17.416Z"
   },
   {
    "duration": 461,
    "start_time": "2021-09-09T14:33:03.844Z"
   },
   {
    "duration": 28,
    "start_time": "2021-09-09T14:33:10.286Z"
   },
   {
    "duration": 32,
    "start_time": "2021-09-09T14:33:13.422Z"
   },
   {
    "duration": 48,
    "start_time": "2021-09-09T14:53:51.465Z"
   },
   {
    "duration": 57,
    "start_time": "2021-09-09T14:54:56.550Z"
   },
   {
    "duration": 55,
    "start_time": "2021-09-09T14:55:19.585Z"
   },
   {
    "duration": 54,
    "start_time": "2021-09-09T14:55:46.945Z"
   },
   {
    "duration": 31,
    "start_time": "2021-09-09T14:57:57.401Z"
   },
   {
    "duration": 32,
    "start_time": "2021-09-09T14:58:16.624Z"
   },
   {
    "duration": 41,
    "start_time": "2021-09-09T14:58:24.424Z"
   },
   {
    "duration": 33,
    "start_time": "2021-09-09T14:58:37.434Z"
   },
   {
    "duration": 32,
    "start_time": "2021-09-09T15:03:34.439Z"
   },
   {
    "duration": 40,
    "start_time": "2021-09-09T15:06:32.858Z"
   },
   {
    "duration": 815,
    "start_time": "2021-09-09T15:08:35.576Z"
   },
   {
    "duration": 11,
    "start_time": "2021-09-09T15:08:49.591Z"
   },
   {
    "duration": 43,
    "start_time": "2021-09-09T15:09:28.385Z"
   },
   {
    "duration": 10,
    "start_time": "2021-09-09T15:09:32.226Z"
   },
   {
    "duration": 43,
    "start_time": "2021-09-09T15:09:45.897Z"
   },
   {
    "duration": 108,
    "start_time": "2021-09-09T15:10:08.313Z"
   },
   {
    "duration": 109,
    "start_time": "2021-09-09T15:10:20.069Z"
   },
   {
    "duration": 13,
    "start_time": "2021-09-09T15:10:29.096Z"
   },
   {
    "duration": 77,
    "start_time": "2021-09-09T15:11:24.526Z"
   },
   {
    "duration": 814,
    "start_time": "2021-09-09T15:11:49.077Z"
   },
   {
    "duration": 47,
    "start_time": "2021-09-09T15:11:53.618Z"
   },
   {
    "duration": 3,
    "start_time": "2021-09-09T15:11:54.484Z"
   },
   {
    "duration": 93,
    "start_time": "2021-09-09T15:11:55.039Z"
   },
   {
    "duration": 19,
    "start_time": "2021-09-09T15:11:55.712Z"
   },
   {
    "duration": 2186,
    "start_time": "2021-09-09T15:12:08.339Z"
   },
   {
    "duration": 846,
    "start_time": "2021-09-09T15:12:10.529Z"
   },
   {
    "duration": 73,
    "start_time": "2021-09-09T15:12:11.381Z"
   },
   {
    "duration": 104,
    "start_time": "2021-09-09T15:12:11.457Z"
   },
   {
    "duration": 157,
    "start_time": "2021-09-09T15:12:11.564Z"
   },
   {
    "duration": 344,
    "start_time": "2021-09-09T15:12:11.724Z"
   },
   {
    "duration": 109,
    "start_time": "2021-09-09T15:12:12.071Z"
   },
   {
    "duration": 5,
    "start_time": "2021-09-09T15:12:12.184Z"
   },
   {
    "duration": 24,
    "start_time": "2021-09-09T15:12:12.192Z"
   },
   {
    "duration": 101,
    "start_time": "2021-09-09T15:12:12.219Z"
   },
   {
    "duration": 36,
    "start_time": "2021-09-09T15:12:12.323Z"
   },
   {
    "duration": 848,
    "start_time": "2021-09-09T15:12:12.361Z"
   },
   {
    "duration": 54,
    "start_time": "2021-09-09T15:12:13.216Z"
   },
   {
    "duration": 4,
    "start_time": "2021-09-09T15:12:13.273Z"
   },
   {
    "duration": 96,
    "start_time": "2021-09-09T15:12:13.279Z"
   },
   {
    "duration": 13,
    "start_time": "2021-09-09T15:12:13.377Z"
   },
   {
    "duration": 39,
    "start_time": "2021-09-09T15:12:29.363Z"
   },
   {
    "duration": 608,
    "start_time": "2021-09-09T15:13:31.248Z"
   },
   {
    "duration": 77,
    "start_time": "2021-09-09T15:13:45.321Z"
   },
   {
    "duration": 28,
    "start_time": "2021-09-09T15:13:46.548Z"
   },
   {
    "duration": 71,
    "start_time": "2021-09-09T15:13:47.152Z"
   },
   {
    "duration": 61,
    "start_time": "2021-09-09T15:14:00.842Z"
   },
   {
    "duration": 55,
    "start_time": "2021-09-09T15:14:24.494Z"
   },
   {
    "duration": 61,
    "start_time": "2021-09-09T15:14:37.680Z"
   },
   {
    "duration": 55,
    "start_time": "2021-09-09T15:14:44.989Z"
   },
   {
    "duration": 10,
    "start_time": "2021-09-09T15:14:48.908Z"
   },
   {
    "duration": 1907,
    "start_time": "2021-09-09T15:14:56.872Z"
   },
   {
    "duration": 524,
    "start_time": "2021-09-09T15:14:58.782Z"
   },
   {
    "duration": 49,
    "start_time": "2021-09-09T15:14:59.309Z"
   },
   {
    "duration": 100,
    "start_time": "2021-09-09T15:14:59.361Z"
   },
   {
    "duration": 139,
    "start_time": "2021-09-09T15:14:59.463Z"
   },
   {
    "duration": 326,
    "start_time": "2021-09-09T15:14:59.604Z"
   },
   {
    "duration": 109,
    "start_time": "2021-09-09T15:14:59.932Z"
   },
   {
    "duration": 6,
    "start_time": "2021-09-09T15:15:00.045Z"
   },
   {
    "duration": 33,
    "start_time": "2021-09-09T15:15:00.055Z"
   },
   {
    "duration": 124,
    "start_time": "2021-09-09T15:15:00.092Z"
   },
   {
    "duration": 53,
    "start_time": "2021-09-09T15:15:00.219Z"
   },
   {
    "duration": 113,
    "start_time": "2021-09-09T15:15:00.275Z"
   },
   {
    "duration": 90,
    "start_time": "2021-09-09T15:15:00.391Z"
   },
   {
    "duration": 4,
    "start_time": "2021-09-09T15:15:00.484Z"
   },
   {
    "duration": 107,
    "start_time": "2021-09-09T15:15:00.491Z"
   },
   {
    "duration": 23,
    "start_time": "2021-09-09T15:15:00.601Z"
   },
   {
    "duration": 54,
    "start_time": "2021-09-09T15:15:00.626Z"
   },
   {
    "duration": 300,
    "start_time": "2021-09-09T16:32:37.615Z"
   },
   {
    "duration": 1148,
    "start_time": "2021-09-09T16:32:45.784Z"
   },
   {
    "duration": 387,
    "start_time": "2021-09-09T16:32:46.934Z"
   },
   {
    "duration": 30,
    "start_time": "2021-09-09T16:32:47.323Z"
   },
   {
    "duration": 50,
    "start_time": "2021-09-09T16:32:47.355Z"
   },
   {
    "duration": 92,
    "start_time": "2021-09-09T16:32:47.406Z"
   },
   {
    "duration": 219,
    "start_time": "2021-09-09T16:32:47.500Z"
   },
   {
    "duration": 74,
    "start_time": "2021-09-09T16:32:47.721Z"
   },
   {
    "duration": 5,
    "start_time": "2021-09-09T16:32:47.797Z"
   },
   {
    "duration": 7,
    "start_time": "2021-09-09T16:32:47.803Z"
   },
   {
    "duration": 78,
    "start_time": "2021-09-09T16:32:47.812Z"
   },
   {
    "duration": 26,
    "start_time": "2021-09-09T16:32:47.892Z"
   },
   {
    "duration": 45,
    "start_time": "2021-09-09T16:32:47.920Z"
   },
   {
    "duration": 52,
    "start_time": "2021-09-09T16:32:47.966Z"
   },
   {
    "duration": 2,
    "start_time": "2021-09-09T16:32:48.020Z"
   },
   {
    "duration": 34,
    "start_time": "2021-09-09T16:32:48.024Z"
   },
   {
    "duration": 7,
    "start_time": "2021-09-09T16:32:48.060Z"
   },
   {
    "duration": 19,
    "start_time": "2021-09-09T16:32:48.084Z"
   },
   {
    "duration": 26,
    "start_time": "2021-09-09T16:32:52.707Z"
   },
   {
    "duration": 44,
    "start_time": "2021-09-09T16:33:07.589Z"
   },
   {
    "duration": 26,
    "start_time": "2021-09-09T16:33:22.881Z"
   },
   {
    "duration": 27,
    "start_time": "2021-09-09T16:33:30.519Z"
   },
   {
    "duration": 8,
    "start_time": "2021-09-09T16:33:31.374Z"
   },
   {
    "duration": 25,
    "start_time": "2021-09-09T16:33:39.042Z"
   },
   {
    "duration": 37,
    "start_time": "2021-09-09T16:33:51.849Z"
   },
   {
    "duration": 1125,
    "start_time": "2021-09-09T17:19:25.709Z"
   },
   {
    "duration": 399,
    "start_time": "2021-09-09T17:19:26.836Z"
   },
   {
    "duration": 31,
    "start_time": "2021-09-09T17:19:27.240Z"
   },
   {
    "duration": 51,
    "start_time": "2021-09-09T17:19:27.273Z"
   },
   {
    "duration": 98,
    "start_time": "2021-09-09T17:19:27.325Z"
   },
   {
    "duration": 221,
    "start_time": "2021-09-09T17:19:27.424Z"
   },
   {
    "duration": 67,
    "start_time": "2021-09-09T17:19:27.647Z"
   },
   {
    "duration": 4,
    "start_time": "2021-09-09T17:19:27.716Z"
   },
   {
    "duration": 9,
    "start_time": "2021-09-09T17:19:27.722Z"
   },
   {
    "duration": 76,
    "start_time": "2021-09-09T17:19:27.732Z"
   },
   {
    "duration": 25,
    "start_time": "2021-09-09T17:19:27.810Z"
   },
   {
    "duration": 65,
    "start_time": "2021-09-09T17:19:27.837Z"
   },
   {
    "duration": 37,
    "start_time": "2021-09-09T17:19:27.903Z"
   },
   {
    "duration": 2,
    "start_time": "2021-09-09T17:19:27.942Z"
   },
   {
    "duration": 58,
    "start_time": "2021-09-09T17:19:27.946Z"
   },
   {
    "duration": 7,
    "start_time": "2021-09-09T17:19:28.006Z"
   },
   {
    "duration": 22,
    "start_time": "2021-09-09T17:19:28.014Z"
   },
   {
    "duration": 38,
    "start_time": "2021-09-09T17:21:41.470Z"
   },
   {
    "duration": 47,
    "start_time": "2021-09-09T17:21:49.442Z"
   },
   {
    "duration": 348,
    "start_time": "2021-09-09T17:24:29.653Z"
   },
   {
    "duration": 312,
    "start_time": "2021-09-09T17:24:44.180Z"
   },
   {
    "duration": 1039,
    "start_time": "2021-09-09T17:25:28.538Z"
   },
   {
    "duration": 415,
    "start_time": "2021-09-09T17:25:30.447Z"
   },
   {
    "duration": 30,
    "start_time": "2021-09-09T17:25:30.864Z"
   },
   {
    "duration": 50,
    "start_time": "2021-09-09T17:25:30.896Z"
   },
   {
    "duration": 107,
    "start_time": "2021-09-09T17:25:30.948Z"
   },
   {
    "duration": 215,
    "start_time": "2021-09-09T17:25:31.057Z"
   },
   {
    "duration": 76,
    "start_time": "2021-09-09T17:25:31.273Z"
   },
   {
    "duration": 4,
    "start_time": "2021-09-09T17:25:31.351Z"
   },
   {
    "duration": 28,
    "start_time": "2021-09-09T17:25:31.357Z"
   },
   {
    "duration": 78,
    "start_time": "2021-09-09T17:25:31.388Z"
   },
   {
    "duration": 24,
    "start_time": "2021-09-09T17:25:31.468Z"
   },
   {
    "duration": 25,
    "start_time": "2021-09-09T17:25:31.494Z"
   },
   {
    "duration": 363,
    "start_time": "2021-09-09T17:25:31.521Z"
   },
   {
    "duration": 1049,
    "start_time": "2021-09-09T17:25:30.837Z"
   },
   {
    "duration": 1043,
    "start_time": "2021-09-09T17:25:30.844Z"
   },
   {
    "duration": 1038,
    "start_time": "2021-09-09T17:25:30.850Z"
   },
   {
    "duration": 1031,
    "start_time": "2021-09-09T17:25:30.858Z"
   },
   {
    "duration": 1024,
    "start_time": "2021-09-09T17:25:30.865Z"
   },
   {
    "duration": 1020,
    "start_time": "2021-09-09T17:25:30.870Z"
   },
   {
    "duration": 3,
    "start_time": "2021-09-09T17:46:24.064Z"
   },
   {
    "duration": 406,
    "start_time": "2021-09-09T17:46:24.197Z"
   },
   {
    "duration": 29,
    "start_time": "2021-09-09T17:46:24.604Z"
   },
   {
    "duration": 54,
    "start_time": "2021-09-09T17:46:24.638Z"
   },
   {
    "duration": 84,
    "start_time": "2021-09-09T17:46:24.869Z"
   },
   {
    "duration": 166,
    "start_time": "2021-09-09T17:46:25.094Z"
   },
   {
    "duration": 68,
    "start_time": "2021-09-09T17:46:25.835Z"
   },
   {
    "duration": 5,
    "start_time": "2021-09-09T17:46:26.084Z"
   },
   {
    "duration": 5,
    "start_time": "2021-09-09T17:46:26.339Z"
   },
   {
    "duration": 59,
    "start_time": "2021-09-09T17:46:27.458Z"
   },
   {
    "duration": 27,
    "start_time": "2021-09-09T17:46:27.818Z"
   },
   {
    "duration": 318,
    "start_time": "2021-09-09T17:46:28.226Z"
   },
   {
    "duration": 14,
    "start_time": "2021-09-09T17:48:18.462Z"
   },
   {
    "duration": 12,
    "start_time": "2021-09-09T17:48:36.221Z"
   },
   {
    "duration": 287,
    "start_time": "2021-09-09T17:48:40.230Z"
   },
   {
    "duration": 277,
    "start_time": "2021-09-09T17:49:01.515Z"
   },
   {
    "duration": 277,
    "start_time": "2021-09-09T17:49:18.211Z"
   },
   {
    "duration": 391,
    "start_time": "2021-09-09T17:49:30.316Z"
   },
   {
    "duration": 276,
    "start_time": "2021-09-09T17:49:36.043Z"
   },
   {
    "duration": 301,
    "start_time": "2021-09-09T17:49:43.918Z"
   },
   {
    "duration": 261,
    "start_time": "2021-09-09T17:49:50.107Z"
   },
   {
    "duration": 286,
    "start_time": "2021-09-09T17:50:14.910Z"
   },
   {
    "duration": 267,
    "start_time": "2021-09-09T17:50:25.995Z"
   },
   {
    "duration": 280,
    "start_time": "2021-09-09T17:50:30.060Z"
   },
   {
    "duration": 299,
    "start_time": "2021-09-09T17:52:05.744Z"
   },
   {
    "duration": 45,
    "start_time": "2021-09-09T17:52:16.346Z"
   },
   {
    "duration": 50,
    "start_time": "2021-09-09T17:52:19.431Z"
   },
   {
    "duration": 59,
    "start_time": "2021-09-09T17:52:48.112Z"
   },
   {
    "duration": 2,
    "start_time": "2021-09-09T17:52:54.704Z"
   },
   {
    "duration": 3,
    "start_time": "2021-09-09T17:52:58.909Z"
   },
   {
    "duration": 51,
    "start_time": "2021-09-09T17:53:07.589Z"
   },
   {
    "duration": 45,
    "start_time": "2021-09-09T17:53:12.651Z"
   },
   {
    "duration": 37,
    "start_time": "2021-09-09T17:53:53.644Z"
   },
   {
    "duration": 43,
    "start_time": "2021-09-09T17:54:19.255Z"
   },
   {
    "duration": 40,
    "start_time": "2021-09-09T17:54:50.994Z"
   },
   {
    "duration": 8,
    "start_time": "2021-09-09T17:54:58.921Z"
   },
   {
    "duration": 1102,
    "start_time": "2021-09-09T17:55:11.740Z"
   },
   {
    "duration": 404,
    "start_time": "2021-09-09T17:55:12.844Z"
   },
   {
    "duration": 31,
    "start_time": "2021-09-09T17:55:13.250Z"
   },
   {
    "duration": 50,
    "start_time": "2021-09-09T17:55:13.283Z"
   },
   {
    "duration": 100,
    "start_time": "2021-09-09T17:55:13.335Z"
   },
   {
    "duration": 215,
    "start_time": "2021-09-09T17:55:13.437Z"
   },
   {
    "duration": 74,
    "start_time": "2021-09-09T17:55:13.654Z"
   },
   {
    "duration": 4,
    "start_time": "2021-09-09T17:55:13.731Z"
   },
   {
    "duration": 11,
    "start_time": "2021-09-09T17:55:13.737Z"
   },
   {
    "duration": 75,
    "start_time": "2021-09-09T17:55:13.749Z"
   },
   {
    "duration": 24,
    "start_time": "2021-09-09T17:55:13.826Z"
   },
   {
    "duration": 12,
    "start_time": "2021-09-09T17:55:13.852Z"
   },
   {
    "duration": 63,
    "start_time": "2021-09-09T17:55:13.865Z"
   },
   {
    "duration": 45,
    "start_time": "2021-09-09T17:55:13.929Z"
   },
   {
    "duration": 10,
    "start_time": "2021-09-09T17:55:13.975Z"
   },
   {
    "duration": 62,
    "start_time": "2021-09-09T17:55:13.987Z"
   },
   {
    "duration": 5,
    "start_time": "2021-09-09T17:55:14.051Z"
   },
   {
    "duration": 30,
    "start_time": "2021-09-09T17:55:14.058Z"
   },
   {
    "duration": 10,
    "start_time": "2021-09-09T17:55:50.990Z"
   },
   {
    "duration": 11,
    "start_time": "2021-09-09T17:56:12.025Z"
   },
   {
    "duration": 25,
    "start_time": "2021-09-09T17:56:19.765Z"
   },
   {
    "duration": 23,
    "start_time": "2021-09-09T17:56:47.834Z"
   },
   {
    "duration": 8,
    "start_time": "2021-09-09T18:08:53.914Z"
   },
   {
    "duration": 82,
    "start_time": "2021-09-09T18:10:29.334Z"
   },
   {
    "duration": 1198,
    "start_time": "2021-09-09T18:10:57.521Z"
   },
   {
    "duration": 85,
    "start_time": "2021-09-09T19:56:39.136Z"
   },
   {
    "duration": 298,
    "start_time": "2021-09-09T20:30:46.202Z"
   },
   {
    "duration": 1105,
    "start_time": "2021-09-09T20:31:07.398Z"
   },
   {
    "duration": 412,
    "start_time": "2021-09-09T20:31:08.504Z"
   },
   {
    "duration": 31,
    "start_time": "2021-09-09T20:31:08.918Z"
   },
   {
    "duration": 47,
    "start_time": "2021-09-09T20:31:08.951Z"
   },
   {
    "duration": 89,
    "start_time": "2021-09-09T20:31:09.000Z"
   },
   {
    "duration": 213,
    "start_time": "2021-09-09T20:31:09.091Z"
   },
   {
    "duration": 63,
    "start_time": "2021-09-09T20:31:09.306Z"
   },
   {
    "duration": 13,
    "start_time": "2021-09-09T20:31:09.372Z"
   },
   {
    "duration": 10,
    "start_time": "2021-09-09T20:31:09.387Z"
   },
   {
    "duration": 61,
    "start_time": "2021-09-09T20:31:09.399Z"
   },
   {
    "duration": 38,
    "start_time": "2021-09-09T20:31:09.462Z"
   },
   {
    "duration": 11,
    "start_time": "2021-09-09T20:31:09.502Z"
   },
   {
    "duration": 43,
    "start_time": "2021-09-09T20:31:09.515Z"
   },
   {
    "duration": 63,
    "start_time": "2021-09-09T20:31:09.559Z"
   },
   {
    "duration": 2,
    "start_time": "2021-09-09T20:31:09.624Z"
   },
   {
    "duration": 59,
    "start_time": "2021-09-09T20:31:09.627Z"
   },
   {
    "duration": 4,
    "start_time": "2021-09-09T20:31:09.687Z"
   },
   {
    "duration": 5,
    "start_time": "2021-09-09T20:31:09.693Z"
   },
   {
    "duration": 4,
    "start_time": "2021-09-09T20:31:19.468Z"
   },
   {
    "duration": 4,
    "start_time": "2021-09-09T20:31:22.389Z"
   },
   {
    "duration": 4,
    "start_time": "2021-09-09T20:33:29.587Z"
   },
   {
    "duration": 1100,
    "start_time": "2021-09-09T20:33:40.390Z"
   },
   {
    "duration": 402,
    "start_time": "2021-09-09T20:33:41.492Z"
   },
   {
    "duration": 28,
    "start_time": "2021-09-09T20:33:41.896Z"
   },
   {
    "duration": 59,
    "start_time": "2021-09-09T20:33:41.926Z"
   },
   {
    "duration": 83,
    "start_time": "2021-09-09T20:33:41.986Z"
   },
   {
    "duration": 202,
    "start_time": "2021-09-09T20:33:42.084Z"
   },
   {
    "duration": 66,
    "start_time": "2021-09-09T20:33:42.288Z"
   },
   {
    "duration": 4,
    "start_time": "2021-09-09T20:33:42.355Z"
   },
   {
    "duration": 22,
    "start_time": "2021-09-09T20:33:42.362Z"
   },
   {
    "duration": 60,
    "start_time": "2021-09-09T20:33:42.386Z"
   },
   {
    "duration": 37,
    "start_time": "2021-09-09T20:33:42.448Z"
   },
   {
    "duration": 11,
    "start_time": "2021-09-09T20:33:42.487Z"
   },
   {
    "duration": 43,
    "start_time": "2021-09-09T20:33:42.500Z"
   },
   {
    "duration": 63,
    "start_time": "2021-09-09T20:33:42.544Z"
   },
   {
    "duration": 2,
    "start_time": "2021-09-09T20:33:42.609Z"
   },
   {
    "duration": 43,
    "start_time": "2021-09-09T20:33:42.613Z"
   },
   {
    "duration": 4,
    "start_time": "2021-09-09T20:33:42.658Z"
   },
   {
    "duration": 23,
    "start_time": "2021-09-09T20:33:42.663Z"
   },
   {
    "duration": 4281,
    "start_time": "2021-09-09T20:34:02.354Z"
   },
   {
    "duration": 4329,
    "start_time": "2021-09-09T20:34:07.447Z"
   },
   {
    "duration": 4,
    "start_time": "2021-09-09T20:34:23.813Z"
   },
   {
    "duration": 7,
    "start_time": "2021-09-09T20:34:56.324Z"
   },
   {
    "duration": 3791,
    "start_time": "2021-09-09T21:13:26.684Z"
   },
   {
    "duration": 507,
    "start_time": "2021-09-09T21:14:29.161Z"
   },
   {
    "duration": 515,
    "start_time": "2021-09-09T21:15:05.800Z"
   },
   {
    "duration": 1913,
    "start_time": "2021-09-09T21:20:16.678Z"
   },
   {
    "duration": 272,
    "start_time": "2021-09-09T21:26:11.207Z"
   },
   {
    "duration": 274,
    "start_time": "2021-09-09T21:26:20.369Z"
   },
   {
    "duration": 278,
    "start_time": "2021-09-09T21:26:27.251Z"
   },
   {
    "duration": 448,
    "start_time": "2021-09-09T21:31:07.756Z"
   },
   {
    "duration": 259,
    "start_time": "2021-09-09T21:32:05.733Z"
   },
   {
    "duration": 469,
    "start_time": "2021-09-09T21:39:47.907Z"
   },
   {
    "duration": 449,
    "start_time": "2021-09-09T21:40:18.147Z"
   },
   {
    "duration": 459,
    "start_time": "2021-09-09T21:40:46.287Z"
   },
   {
    "duration": 102,
    "start_time": "2021-09-09T21:41:24.116Z"
   },
   {
    "duration": 21,
    "start_time": "2021-09-09T21:41:34.166Z"
   },
   {
    "duration": 596,
    "start_time": "2021-09-09T21:42:41.927Z"
   },
   {
    "duration": 456,
    "start_time": "2021-09-09T21:46:52.705Z"
   },
   {
    "duration": 573,
    "start_time": "2021-09-09T21:47:02.065Z"
   },
   {
    "duration": 453,
    "start_time": "2021-09-09T21:47:54.868Z"
   },
   {
    "duration": 89,
    "start_time": "2021-09-09T21:52:15.025Z"
   },
   {
    "duration": 476,
    "start_time": "2021-09-09T21:55:00.725Z"
   },
   {
    "duration": 102,
    "start_time": "2021-09-09T22:00:55.830Z"
   },
   {
    "duration": 991,
    "start_time": "2021-09-09T22:01:10.336Z"
   },
   {
    "duration": 421,
    "start_time": "2021-09-09T22:01:11.329Z"
   },
   {
    "duration": 31,
    "start_time": "2021-09-09T22:01:11.752Z"
   },
   {
    "duration": 47,
    "start_time": "2021-09-09T22:01:11.785Z"
   },
   {
    "duration": 96,
    "start_time": "2021-09-09T22:01:11.833Z"
   },
   {
    "duration": 213,
    "start_time": "2021-09-09T22:01:11.931Z"
   },
   {
    "duration": 72,
    "start_time": "2021-09-09T22:01:12.145Z"
   },
   {
    "duration": 4,
    "start_time": "2021-09-09T22:01:12.220Z"
   },
   {
    "duration": 6,
    "start_time": "2021-09-09T22:01:12.226Z"
   },
   {
    "duration": 73,
    "start_time": "2021-09-09T22:01:12.234Z"
   },
   {
    "duration": 27,
    "start_time": "2021-09-09T22:01:12.309Z"
   },
   {
    "duration": 12,
    "start_time": "2021-09-09T22:01:12.337Z"
   },
   {
    "duration": 69,
    "start_time": "2021-09-09T22:01:12.351Z"
   },
   {
    "duration": 45,
    "start_time": "2021-09-09T22:01:12.422Z"
   },
   {
    "duration": 2,
    "start_time": "2021-09-09T22:01:12.469Z"
   },
   {
    "duration": 42,
    "start_time": "2021-09-09T22:01:12.484Z"
   },
   {
    "duration": 7,
    "start_time": "2021-09-09T22:01:12.528Z"
   },
   {
    "duration": 85,
    "start_time": "2021-09-09T22:01:12.537Z"
   },
   {
    "duration": 1123,
    "start_time": "2021-09-09T22:01:11.501Z"
   },
   {
    "duration": 115,
    "start_time": "2021-09-09T22:02:44.199Z"
   },
   {
    "duration": 23,
    "start_time": "2021-09-09T22:02:50.386Z"
   },
   {
    "duration": 8,
    "start_time": "2021-09-09T22:03:12.888Z"
   },
   {
    "duration": 99,
    "start_time": "2021-09-09T22:03:38.294Z"
   },
   {
    "duration": 22,
    "start_time": "2021-09-09T22:03:39.490Z"
   },
   {
    "duration": 8,
    "start_time": "2021-09-09T22:03:41.566Z"
   },
   {
    "duration": 99,
    "start_time": "2021-09-09T22:04:53.039Z"
   },
   {
    "duration": 20,
    "start_time": "2021-09-09T22:04:53.456Z"
   },
   {
    "duration": 9,
    "start_time": "2021-09-09T22:04:54.033Z"
   },
   {
    "duration": 1128,
    "start_time": "2021-09-09T22:05:12.287Z"
   },
   {
    "duration": 405,
    "start_time": "2021-09-09T22:05:13.417Z"
   },
   {
    "duration": 31,
    "start_time": "2021-09-09T22:05:13.824Z"
   },
   {
    "duration": 48,
    "start_time": "2021-09-09T22:05:13.857Z"
   },
   {
    "duration": 84,
    "start_time": "2021-09-09T22:05:13.907Z"
   },
   {
    "duration": 207,
    "start_time": "2021-09-09T22:05:13.993Z"
   },
   {
    "duration": 65,
    "start_time": "2021-09-09T22:05:14.202Z"
   },
   {
    "duration": 16,
    "start_time": "2021-09-09T22:05:14.269Z"
   },
   {
    "duration": 5,
    "start_time": "2021-09-09T22:05:14.287Z"
   },
   {
    "duration": 63,
    "start_time": "2021-09-09T22:05:14.294Z"
   },
   {
    "duration": 41,
    "start_time": "2021-09-09T22:05:14.359Z"
   },
   {
    "duration": 11,
    "start_time": "2021-09-09T22:05:14.402Z"
   },
   {
    "duration": 42,
    "start_time": "2021-09-09T22:05:14.414Z"
   },
   {
    "duration": 64,
    "start_time": "2021-09-09T22:05:14.457Z"
   },
   {
    "duration": 2,
    "start_time": "2021-09-09T22:05:14.523Z"
   },
   {
    "duration": 60,
    "start_time": "2021-09-09T22:05:14.526Z"
   },
   {
    "duration": 7,
    "start_time": "2021-09-09T22:05:14.587Z"
   },
   {
    "duration": 112,
    "start_time": "2021-09-09T22:05:14.595Z"
   },
   {
    "duration": 21,
    "start_time": "2021-09-09T22:05:14.709Z"
   },
   {
    "duration": 6,
    "start_time": "2021-09-09T22:05:14.732Z"
   },
   {
    "duration": 99,
    "start_time": "2021-09-09T22:05:27.460Z"
   },
   {
    "duration": 22,
    "start_time": "2021-09-09T22:05:28.102Z"
   },
   {
    "duration": 7,
    "start_time": "2021-09-09T22:05:28.720Z"
   },
   {
    "duration": 99,
    "start_time": "2021-09-09T22:05:55.687Z"
   },
   {
    "duration": 22,
    "start_time": "2021-09-09T22:05:56.502Z"
   },
   {
    "duration": 8,
    "start_time": "2021-09-09T22:05:57.181Z"
   },
   {
    "duration": 1067,
    "start_time": "2021-09-09T22:06:04.747Z"
   },
   {
    "duration": 405,
    "start_time": "2021-09-09T22:06:05.815Z"
   },
   {
    "duration": 31,
    "start_time": "2021-09-09T22:06:06.222Z"
   },
   {
    "duration": 48,
    "start_time": "2021-09-09T22:06:06.255Z"
   },
   {
    "duration": 90,
    "start_time": "2021-09-09T22:06:06.304Z"
   },
   {
    "duration": 202,
    "start_time": "2021-09-09T22:06:06.396Z"
   },
   {
    "duration": 63,
    "start_time": "2021-09-09T22:06:06.599Z"
   },
   {
    "duration": 4,
    "start_time": "2021-09-09T22:06:06.664Z"
   },
   {
    "duration": 5,
    "start_time": "2021-09-09T22:06:06.685Z"
   },
   {
    "duration": 63,
    "start_time": "2021-09-09T22:06:06.691Z"
   },
   {
    "duration": 37,
    "start_time": "2021-09-09T22:06:06.755Z"
   },
   {
    "duration": 11,
    "start_time": "2021-09-09T22:06:06.793Z"
   },
   {
    "duration": 42,
    "start_time": "2021-09-09T22:06:06.805Z"
   },
   {
    "duration": 62,
    "start_time": "2021-09-09T22:06:06.849Z"
   },
   {
    "duration": 2,
    "start_time": "2021-09-09T22:06:06.913Z"
   },
   {
    "duration": 43,
    "start_time": "2021-09-09T22:06:06.917Z"
   },
   {
    "duration": 7,
    "start_time": "2021-09-09T22:06:06.961Z"
   },
   {
    "duration": 109,
    "start_time": "2021-09-09T22:06:06.985Z"
   },
   {
    "duration": 22,
    "start_time": "2021-09-09T22:06:07.096Z"
   },
   {
    "duration": 7,
    "start_time": "2021-09-09T22:06:07.119Z"
   },
   {
    "duration": 5,
    "start_time": "2021-09-09T22:07:04.532Z"
   },
   {
    "duration": 5,
    "start_time": "2021-09-09T22:07:13.320Z"
   },
   {
    "duration": 7,
    "start_time": "2021-09-09T22:08:28.784Z"
   },
   {
    "duration": 1067,
    "start_time": "2021-09-09T22:08:37.460Z"
   },
   {
    "duration": 388,
    "start_time": "2021-09-09T22:08:38.529Z"
   },
   {
    "duration": 28,
    "start_time": "2021-09-09T22:08:38.919Z"
   },
   {
    "duration": 45,
    "start_time": "2021-09-09T22:08:38.949Z"
   },
   {
    "duration": 88,
    "start_time": "2021-09-09T22:08:38.996Z"
   },
   {
    "duration": 208,
    "start_time": "2021-09-09T22:08:39.086Z"
   },
   {
    "duration": 62,
    "start_time": "2021-09-09T22:08:39.295Z"
   },
   {
    "duration": 4,
    "start_time": "2021-09-09T22:08:39.360Z"
   },
   {
    "duration": 22,
    "start_time": "2021-09-09T22:08:39.365Z"
   },
   {
    "duration": 59,
    "start_time": "2021-09-09T22:08:39.388Z"
   },
   {
    "duration": 37,
    "start_time": "2021-09-09T22:08:39.449Z"
   },
   {
    "duration": 11,
    "start_time": "2021-09-09T22:08:39.488Z"
   },
   {
    "duration": 43,
    "start_time": "2021-09-09T22:08:39.500Z"
   },
   {
    "duration": 63,
    "start_time": "2021-09-09T22:08:39.545Z"
   },
   {
    "duration": 2,
    "start_time": "2021-09-09T22:08:39.610Z"
   },
   {
    "duration": 44,
    "start_time": "2021-09-09T22:08:39.614Z"
   },
   {
    "duration": 6,
    "start_time": "2021-09-09T22:08:39.659Z"
   },
   {
    "duration": 118,
    "start_time": "2021-09-09T22:08:39.667Z"
   },
   {
    "duration": 7,
    "start_time": "2021-09-09T22:08:39.787Z"
   },
   {
    "duration": 336,
    "start_time": "2021-09-09T22:08:57.643Z"
   },
   {
    "duration": 22,
    "start_time": "2021-09-09T22:09:00.864Z"
   },
   {
    "duration": 1459,
    "start_time": "2021-09-10T09:40:45.242Z"
   },
   {
    "duration": 416,
    "start_time": "2021-09-10T09:40:46.703Z"
   },
   {
    "duration": 33,
    "start_time": "2021-09-10T09:40:47.121Z"
   },
   {
    "duration": 55,
    "start_time": "2021-09-10T09:40:47.156Z"
   },
   {
    "duration": 108,
    "start_time": "2021-09-10T09:40:47.212Z"
   },
   {
    "duration": 234,
    "start_time": "2021-09-10T09:40:47.322Z"
   },
   {
    "duration": 69,
    "start_time": "2021-09-10T09:40:47.558Z"
   },
   {
    "duration": 14,
    "start_time": "2021-09-10T09:40:47.629Z"
   },
   {
    "duration": 10,
    "start_time": "2021-09-10T09:40:47.646Z"
   },
   {
    "duration": 64,
    "start_time": "2021-09-10T09:40:47.658Z"
   },
   {
    "duration": 38,
    "start_time": "2021-09-10T09:40:47.724Z"
   },
   {
    "duration": 11,
    "start_time": "2021-09-10T09:40:47.764Z"
   },
   {
    "duration": 65,
    "start_time": "2021-09-10T09:40:47.777Z"
   },
   {
    "duration": 48,
    "start_time": "2021-09-10T09:40:47.844Z"
   },
   {
    "duration": 3,
    "start_time": "2021-09-10T09:40:47.894Z"
   },
   {
    "duration": 71,
    "start_time": "2021-09-10T09:40:47.900Z"
   },
   {
    "duration": 8,
    "start_time": "2021-09-10T09:40:47.973Z"
   },
   {
    "duration": 128,
    "start_time": "2021-09-10T09:40:47.982Z"
   },
   {
    "duration": 32,
    "start_time": "2021-09-10T09:40:48.112Z"
   },
   {
    "duration": 7,
    "start_time": "2021-09-10T09:40:48.146Z"
   },
   {
    "duration": 1347,
    "start_time": "2021-09-10T09:41:08.018Z"
   },
   {
    "duration": 412,
    "start_time": "2021-09-10T09:41:09.367Z"
   },
   {
    "duration": 34,
    "start_time": "2021-09-10T09:41:09.781Z"
   },
   {
    "duration": 53,
    "start_time": "2021-09-10T09:41:09.817Z"
   },
   {
    "duration": 95,
    "start_time": "2021-09-10T09:41:09.872Z"
   },
   {
    "duration": 226,
    "start_time": "2021-09-10T09:41:09.969Z"
   },
   {
    "duration": 77,
    "start_time": "2021-09-10T09:41:10.197Z"
   },
   {
    "duration": 4,
    "start_time": "2021-09-10T09:41:10.277Z"
   },
   {
    "duration": 19,
    "start_time": "2021-09-10T09:41:10.283Z"
   },
   {
    "duration": 69,
    "start_time": "2021-09-10T09:41:10.305Z"
   },
   {
    "duration": 27,
    "start_time": "2021-09-10T09:41:10.376Z"
   },
   {
    "duration": 13,
    "start_time": "2021-09-10T09:41:10.405Z"
   },
   {
    "duration": 66,
    "start_time": "2021-09-10T09:41:10.420Z"
   },
   {
    "duration": 66,
    "start_time": "2021-09-10T09:41:10.488Z"
   },
   {
    "duration": 2,
    "start_time": "2021-09-10T09:41:10.556Z"
   },
   {
    "duration": 49,
    "start_time": "2021-09-10T09:41:10.560Z"
   },
   {
    "duration": 7,
    "start_time": "2021-09-10T09:41:10.611Z"
   },
   {
    "duration": 131,
    "start_time": "2021-09-10T09:41:10.620Z"
   },
   {
    "duration": 24,
    "start_time": "2021-09-10T09:41:10.753Z"
   },
   {
    "duration": 10,
    "start_time": "2021-09-10T09:41:10.779Z"
   },
   {
    "duration": 11239,
    "start_time": "2021-09-10T09:45:57.963Z"
   },
   {
    "duration": 110,
    "start_time": "2021-09-10T09:46:11.296Z"
   },
   {
    "duration": 6380,
    "start_time": "2021-09-10T09:46:13.613Z"
   },
   {
    "duration": 4,
    "start_time": "2021-09-10T09:46:26.559Z"
   },
   {
    "duration": 241,
    "start_time": "2021-09-10T09:47:09.473Z"
   },
   {
    "duration": 24,
    "start_time": "2021-09-10T09:47:27.785Z"
   },
   {
    "duration": 8,
    "start_time": "2021-09-10T09:51:31.154Z"
   },
   {
    "duration": 32,
    "start_time": "2021-09-10T09:51:42.190Z"
   },
   {
    "duration": 31,
    "start_time": "2021-09-10T09:53:00.714Z"
   },
   {
    "duration": 115,
    "start_time": "2021-09-10T09:56:51.465Z"
   },
   {
    "duration": 1257,
    "start_time": "2021-09-10T09:57:32.157Z"
   },
   {
    "duration": 428,
    "start_time": "2021-09-10T09:57:33.417Z"
   },
   {
    "duration": 35,
    "start_time": "2021-09-10T09:57:33.848Z"
   },
   {
    "duration": 99,
    "start_time": "2021-09-10T09:57:33.886Z"
   },
   {
    "duration": 115,
    "start_time": "2021-09-10T09:57:33.987Z"
   },
   {
    "duration": 224,
    "start_time": "2021-09-10T09:57:34.103Z"
   },
   {
    "duration": 82,
    "start_time": "2021-09-10T09:57:34.329Z"
   },
   {
    "duration": 4,
    "start_time": "2021-09-10T09:57:34.414Z"
   },
   {
    "duration": 21,
    "start_time": "2021-09-10T09:57:34.419Z"
   },
   {
    "duration": 87,
    "start_time": "2021-09-10T09:57:34.442Z"
   },
   {
    "duration": 27,
    "start_time": "2021-09-10T09:57:34.531Z"
   },
   {
    "duration": 12,
    "start_time": "2021-09-10T09:57:34.559Z"
   },
   {
    "duration": 47,
    "start_time": "2021-09-10T09:57:34.573Z"
   },
   {
    "duration": 63,
    "start_time": "2021-09-10T09:57:34.621Z"
   },
   {
    "duration": 3,
    "start_time": "2021-09-10T09:57:34.685Z"
   },
   {
    "duration": 62,
    "start_time": "2021-09-10T09:57:34.689Z"
   },
   {
    "duration": 8,
    "start_time": "2021-09-10T09:57:34.752Z"
   },
   {
    "duration": 130,
    "start_time": "2021-09-10T09:57:34.762Z"
   },
   {
    "duration": 258,
    "start_time": "2021-09-10T09:57:34.894Z"
   },
   {
    "duration": 30,
    "start_time": "2021-09-10T09:57:35.154Z"
   },
   {
    "duration": 30,
    "start_time": "2021-09-10T09:57:35.185Z"
   },
   {
    "duration": 118,
    "start_time": "2021-09-10T10:00:17.838Z"
   },
   {
    "duration": 242,
    "start_time": "2021-09-10T10:00:54.071Z"
   },
   {
    "duration": 31,
    "start_time": "2021-09-10T10:00:59.986Z"
   },
   {
    "duration": 24,
    "start_time": "2021-09-10T10:04:48.863Z"
   },
   {
    "duration": 188,
    "start_time": "2021-09-10T10:10:16.878Z"
   },
   {
    "duration": 189,
    "start_time": "2021-09-10T10:10:34.195Z"
   },
   {
    "duration": 120,
    "start_time": "2021-09-10T10:16:34.087Z"
   },
   {
    "duration": 2482,
    "start_time": "2021-09-10T10:16:40.002Z"
   },
   {
    "duration": 20,
    "start_time": "2021-09-10T10:18:38.660Z"
   },
   {
    "duration": 14,
    "start_time": "2021-09-10T10:18:49.555Z"
   },
   {
    "duration": 17,
    "start_time": "2021-09-10T10:18:54.103Z"
   },
   {
    "duration": 17,
    "start_time": "2021-09-10T10:19:03.133Z"
   },
   {
    "duration": 1740,
    "start_time": "2021-09-10T10:19:21.854Z"
   },
   {
    "duration": 835,
    "start_time": "2021-09-10T10:19:43.926Z"
   },
   {
    "duration": 25,
    "start_time": "2021-09-10T10:22:18.694Z"
   },
   {
    "duration": 22,
    "start_time": "2021-09-10T10:22:39.285Z"
   },
   {
    "duration": 23,
    "start_time": "2021-09-10T10:22:59.233Z"
   },
   {
    "duration": 364,
    "start_time": "2021-09-10T10:25:43.700Z"
   },
   {
    "duration": 404,
    "start_time": "2021-09-10T10:26:03.371Z"
   },
   {
    "duration": 352,
    "start_time": "2021-09-10T10:26:28.014Z"
   },
   {
    "duration": 67,
    "start_time": "2021-09-10T10:28:50.114Z"
   },
   {
    "duration": 32,
    "start_time": "2021-09-10T10:28:57.913Z"
   },
   {
    "duration": 43,
    "start_time": "2021-09-10T10:29:18.010Z"
   },
   {
    "duration": 42,
    "start_time": "2021-09-10T10:30:05.586Z"
   },
   {
    "duration": 43,
    "start_time": "2021-09-10T10:30:09.222Z"
   },
   {
    "duration": 42,
    "start_time": "2021-09-10T10:30:13.754Z"
   },
   {
    "duration": 49,
    "start_time": "2021-09-10T10:30:24.013Z"
   },
   {
    "duration": 49,
    "start_time": "2021-09-10T10:30:50.582Z"
   },
   {
    "duration": 1200,
    "start_time": "2021-09-10T10:31:08.150Z"
   },
   {
    "duration": 427,
    "start_time": "2021-09-10T10:31:09.352Z"
   },
   {
    "duration": 34,
    "start_time": "2021-09-10T10:31:09.781Z"
   },
   {
    "duration": 55,
    "start_time": "2021-09-10T10:31:09.817Z"
   },
   {
    "duration": 93,
    "start_time": "2021-09-10T10:31:09.874Z"
   },
   {
    "duration": 232,
    "start_time": "2021-09-10T10:31:09.968Z"
   },
   {
    "duration": 84,
    "start_time": "2021-09-10T10:31:10.202Z"
   },
   {
    "duration": 4,
    "start_time": "2021-09-10T10:31:10.289Z"
   },
   {
    "duration": 18,
    "start_time": "2021-09-10T10:31:10.295Z"
   },
   {
    "duration": 75,
    "start_time": "2021-09-10T10:31:10.315Z"
   },
   {
    "duration": 31,
    "start_time": "2021-09-10T10:31:10.391Z"
   },
   {
    "duration": 25,
    "start_time": "2021-09-10T10:31:10.424Z"
   },
   {
    "duration": 50,
    "start_time": "2021-09-10T10:31:10.451Z"
   },
   {
    "duration": 68,
    "start_time": "2021-09-10T10:31:10.503Z"
   },
   {
    "duration": 2,
    "start_time": "2021-09-10T10:31:10.573Z"
   },
   {
    "duration": 53,
    "start_time": "2021-09-10T10:31:10.576Z"
   },
   {
    "duration": 17,
    "start_time": "2021-09-10T10:31:10.630Z"
   },
   {
    "duration": 124,
    "start_time": "2021-09-10T10:31:10.649Z"
   },
   {
    "duration": 269,
    "start_time": "2021-09-10T10:31:10.775Z"
   },
   {
    "duration": 462,
    "start_time": "2021-09-10T10:31:11.046Z"
   },
   {
    "duration": -318,
    "start_time": "2021-09-10T10:31:11.828Z"
   },
   {
    "duration": -696,
    "start_time": "2021-09-10T10:32:20.235Z"
   },
   {
    "duration": 1281,
    "start_time": "2021-09-10T10:32:23.672Z"
   },
   {
    "duration": 435,
    "start_time": "2021-09-10T10:32:24.955Z"
   },
   {
    "duration": 32,
    "start_time": "2021-09-10T10:32:25.392Z"
   },
   {
    "duration": 55,
    "start_time": "2021-09-10T10:32:25.426Z"
   },
   {
    "duration": 100,
    "start_time": "2021-09-10T10:32:25.483Z"
   },
   {
    "duration": 251,
    "start_time": "2021-09-10T10:32:25.585Z"
   },
   {
    "duration": 73,
    "start_time": "2021-09-10T10:32:25.840Z"
   },
   {
    "duration": 4,
    "start_time": "2021-09-10T10:32:25.916Z"
   },
   {
    "duration": 26,
    "start_time": "2021-09-10T10:32:25.922Z"
   },
   {
    "duration": 74,
    "start_time": "2021-09-10T10:32:25.949Z"
   },
   {
    "duration": 42,
    "start_time": "2021-09-10T10:32:26.024Z"
   },
   {
    "duration": 12980,
    "start_time": "2021-09-10T10:32:26.067Z"
   },
   {
    "duration": -595,
    "start_time": "2021-09-10T10:32:39.644Z"
   },
   {
    "duration": -620,
    "start_time": "2021-09-10T10:32:39.671Z"
   },
   {
    "duration": -668,
    "start_time": "2021-09-10T10:32:39.721Z"
   },
   {
    "duration": -728,
    "start_time": "2021-09-10T10:32:39.782Z"
   },
   {
    "duration": -732,
    "start_time": "2021-09-10T10:32:39.788Z"
   },
   {
    "duration": -807,
    "start_time": "2021-09-10T10:32:39.864Z"
   },
   {
    "duration": -830,
    "start_time": "2021-09-10T10:32:39.889Z"
   },
   {
    "duration": -884,
    "start_time": "2021-09-10T10:32:39.944Z"
   },
   {
    "duration": -943,
    "start_time": "2021-09-10T10:32:40.005Z"
   },
   {
    "duration": 334,
    "start_time": "2021-09-10T10:38:57.326Z"
   },
   {
    "duration": 392,
    "start_time": "2021-09-10T10:38:59.423Z"
   },
   {
    "duration": 437,
    "start_time": "2021-09-10T10:39:01.683Z"
   },
   {
    "duration": 1215,
    "start_time": "2021-09-10T10:39:15.897Z"
   },
   {
    "duration": 436,
    "start_time": "2021-09-10T10:39:17.114Z"
   },
   {
    "duration": 40,
    "start_time": "2021-09-10T10:39:17.552Z"
   },
   {
    "duration": 69,
    "start_time": "2021-09-10T10:39:17.594Z"
   },
   {
    "duration": 99,
    "start_time": "2021-09-10T10:39:17.665Z"
   },
   {
    "duration": 239,
    "start_time": "2021-09-10T10:39:17.766Z"
   },
   {
    "duration": 79,
    "start_time": "2021-09-10T10:39:18.007Z"
   },
   {
    "duration": 5,
    "start_time": "2021-09-10T10:39:18.088Z"
   },
   {
    "duration": 12,
    "start_time": "2021-09-10T10:39:18.095Z"
   },
   {
    "duration": 87,
    "start_time": "2021-09-10T10:39:18.109Z"
   },
   {
    "duration": 31,
    "start_time": "2021-09-10T10:39:18.198Z"
   },
   {
    "duration": 58,
    "start_time": "2021-09-10T10:39:18.231Z"
   },
   {
    "duration": 67,
    "start_time": "2021-09-10T10:39:18.291Z"
   },
   {
    "duration": 2,
    "start_time": "2021-09-10T10:39:18.360Z"
   },
   {
    "duration": 61,
    "start_time": "2021-09-10T10:39:18.365Z"
   },
   {
    "duration": 15,
    "start_time": "2021-09-10T10:39:18.428Z"
   },
   {
    "duration": 121,
    "start_time": "2021-09-10T10:39:18.445Z"
   },
   {
    "duration": 265,
    "start_time": "2021-09-10T10:39:18.568Z"
   },
   {
    "duration": 35,
    "start_time": "2021-09-10T10:39:18.835Z"
   },
   {
    "duration": 515,
    "start_time": "2021-09-10T10:39:18.872Z"
   },
   {
    "duration": 33,
    "start_time": "2021-09-10T10:39:41.335Z"
   },
   {
    "duration": 120,
    "start_time": "2021-09-10T10:40:50.633Z"
   },
   {
    "duration": 241,
    "start_time": "2021-09-10T10:40:54.595Z"
   },
   {
    "duration": 32,
    "start_time": "2021-09-10T10:40:55.370Z"
   },
   {
    "duration": 5,
    "start_time": "2021-09-10T10:42:03.014Z"
   },
   {
    "duration": 69,
    "start_time": "2021-09-10T10:42:15.354Z"
   },
   {
    "duration": 56,
    "start_time": "2021-09-10T10:42:27.702Z"
   },
   {
    "duration": 54,
    "start_time": "2021-09-10T10:43:40.777Z"
   },
   {
    "duration": 23,
    "start_time": "2021-09-10T10:44:06.212Z"
   },
   {
    "duration": 24,
    "start_time": "2021-09-10T10:44:12.255Z"
   },
   {
    "duration": 29,
    "start_time": "2021-09-10T10:46:22.606Z"
   },
   {
    "duration": 6,
    "start_time": "2021-09-10T10:48:17.215Z"
   },
   {
    "duration": 150,
    "start_time": "2021-09-10T10:48:27.167Z"
   },
   {
    "duration": 6,
    "start_time": "2021-09-10T10:48:35.220Z"
   },
   {
    "duration": 6,
    "start_time": "2021-09-10T10:48:59.394Z"
   },
   {
    "duration": 7,
    "start_time": "2021-09-10T10:49:11.987Z"
   },
   {
    "duration": 7,
    "start_time": "2021-09-10T10:49:37.067Z"
   },
   {
    "duration": 6,
    "start_time": "2021-09-10T10:49:46.148Z"
   },
   {
    "duration": 272,
    "start_time": "2021-09-10T10:50:17.183Z"
   },
   {
    "duration": 18,
    "start_time": "2021-09-10T10:50:34.592Z"
   },
   {
    "duration": 8,
    "start_time": "2021-09-10T10:50:58.050Z"
   },
   {
    "duration": 92,
    "start_time": "2021-09-10T10:52:08.291Z"
   },
   {
    "duration": 75,
    "start_time": "2021-09-10T10:53:24.346Z"
   },
   {
    "duration": 107,
    "start_time": "2021-09-10T10:53:44.362Z"
   },
   {
    "duration": 102,
    "start_time": "2021-09-10T10:53:53.035Z"
   },
   {
    "duration": 1285,
    "start_time": "2021-09-10T10:54:02.229Z"
   },
   {
    "duration": 470,
    "start_time": "2021-09-10T10:54:03.516Z"
   },
   {
    "duration": 39,
    "start_time": "2021-09-10T10:54:03.988Z"
   },
   {
    "duration": 56,
    "start_time": "2021-09-10T10:54:04.029Z"
   },
   {
    "duration": 14,
    "start_time": "2021-09-10T10:54:04.087Z"
   },
   {
    "duration": 110,
    "start_time": "2021-09-10T10:54:04.103Z"
   },
   {
    "duration": 249,
    "start_time": "2021-09-10T10:54:04.215Z"
   },
   {
    "duration": 76,
    "start_time": "2021-09-10T10:54:04.467Z"
   },
   {
    "duration": 4,
    "start_time": "2021-09-10T10:54:04.545Z"
   },
   {
    "duration": 17,
    "start_time": "2021-09-10T10:54:04.551Z"
   },
   {
    "duration": 75,
    "start_time": "2021-09-10T10:54:04.570Z"
   },
   {
    "duration": 38,
    "start_time": "2021-09-10T10:54:04.647Z"
   },
   {
    "duration": 62,
    "start_time": "2021-09-10T10:54:04.687Z"
   },
   {
    "duration": 50,
    "start_time": "2021-09-10T10:54:04.751Z"
   },
   {
    "duration": 2,
    "start_time": "2021-09-10T10:54:04.804Z"
   },
   {
    "duration": 69,
    "start_time": "2021-09-10T10:54:04.808Z"
   },
   {
    "duration": 8,
    "start_time": "2021-09-10T10:54:04.878Z"
   },
   {
    "duration": 157,
    "start_time": "2021-09-10T10:54:04.888Z"
   },
   {
    "duration": -240,
    "start_time": "2021-09-10T10:54:05.287Z"
   },
   {
    "duration": -242,
    "start_time": "2021-09-10T10:54:05.290Z"
   },
   {
    "duration": -245,
    "start_time": "2021-09-10T10:54:05.293Z"
   },
   {
    "duration": 92,
    "start_time": "2021-09-10T10:54:17.527Z"
   },
   {
    "duration": 22,
    "start_time": "2021-09-10T10:54:36.752Z"
   },
   {
    "duration": 44,
    "start_time": "2021-09-10T10:54:45.208Z"
   },
   {
    "duration": 44,
    "start_time": "2021-09-10T10:54:51.283Z"
   },
   {
    "duration": 28,
    "start_time": "2021-09-10T10:55:10.224Z"
   },
   {
    "duration": 102,
    "start_time": "2021-09-10T10:55:20.497Z"
   },
   {
    "duration": 93,
    "start_time": "2021-09-10T10:55:23.347Z"
   },
   {
    "duration": 31,
    "start_time": "2021-09-10T10:55:24.408Z"
   },
   {
    "duration": 77,
    "start_time": "2021-09-10T10:55:38.936Z"
   },
   {
    "duration": 94,
    "start_time": "2021-09-10T10:55:48.638Z"
   },
   {
    "duration": 111,
    "start_time": "2021-09-10T10:56:46.237Z"
   },
   {
    "duration": 8,
    "start_time": "2021-09-10T10:57:11.659Z"
   },
   {
    "duration": 104,
    "start_time": "2021-09-10T10:57:54.209Z"
   },
   {
    "duration": 65,
    "start_time": "2021-09-10T10:57:57.339Z"
   },
   {
    "duration": 68,
    "start_time": "2021-09-10T10:58:02.272Z"
   },
   {
    "duration": 1219,
    "start_time": "2021-09-10T11:01:32.521Z"
   },
   {
    "duration": 528,
    "start_time": "2021-09-10T11:01:33.743Z"
   },
   {
    "duration": 36,
    "start_time": "2021-09-10T11:01:34.273Z"
   },
   {
    "duration": 459,
    "start_time": "2021-09-10T11:05:08.569Z"
   },
   {
    "duration": 102,
    "start_time": "2021-09-10T11:05:28.913Z"
   },
   {
    "duration": 38,
    "start_time": "2021-09-10T11:05:31.751Z"
   },
   {
    "duration": 28,
    "start_time": "2021-09-10T11:06:27.017Z"
   },
   {
    "duration": 68,
    "start_time": "2021-09-10T11:07:02.719Z"
   },
   {
    "duration": 323,
    "start_time": "2021-09-10T11:08:03.250Z"
   },
   {
    "duration": 69,
    "start_time": "2021-09-10T11:08:10.424Z"
   },
   {
    "duration": 446,
    "start_time": "2021-09-10T11:08:11.459Z"
   },
   {
    "duration": 3,
    "start_time": "2021-09-10T11:08:20.469Z"
   },
   {
    "duration": 441,
    "start_time": "2021-09-10T11:08:20.653Z"
   },
   {
    "duration": 30,
    "start_time": "2021-09-10T11:08:21.096Z"
   },
   {
    "duration": 55,
    "start_time": "2021-09-10T11:08:21.128Z"
   },
   {
    "duration": 91,
    "start_time": "2021-09-10T11:08:21.185Z"
   },
   {
    "duration": 197,
    "start_time": "2021-09-10T11:08:21.300Z"
   },
   {
    "duration": 71,
    "start_time": "2021-09-10T11:08:21.779Z"
   },
   {
    "duration": 5,
    "start_time": "2021-09-10T11:08:22.861Z"
   },
   {
    "duration": 12,
    "start_time": "2021-09-10T11:08:22.868Z"
   },
   {
    "duration": 64,
    "start_time": "2021-09-10T11:08:22.882Z"
   },
   {
    "duration": 28,
    "start_time": "2021-09-10T11:08:22.948Z"
   },
   {
    "duration": 47,
    "start_time": "2021-09-10T11:08:23.033Z"
   },
   {
    "duration": 43,
    "start_time": "2021-09-10T11:08:23.082Z"
   },
   {
    "duration": 4,
    "start_time": "2021-09-10T11:08:23.218Z"
   },
   {
    "duration": 30,
    "start_time": "2021-09-10T11:08:23.383Z"
   },
   {
    "duration": 8,
    "start_time": "2021-09-10T11:08:23.540Z"
   },
   {
    "duration": 65,
    "start_time": "2021-09-10T11:08:23.734Z"
   },
   {
    "duration": 94,
    "start_time": "2021-09-10T11:08:23.918Z"
   },
   {
    "duration": 30,
    "start_time": "2021-09-10T11:08:24.387Z"
   },
   {
    "duration": 294,
    "start_time": "2021-09-10T11:08:24.610Z"
   },
   {
    "duration": 35,
    "start_time": "2021-09-10T11:08:40.715Z"
   },
   {
    "duration": 35,
    "start_time": "2021-09-10T11:09:27.616Z"
   },
   {
    "duration": 33,
    "start_time": "2021-09-10T11:09:32.301Z"
   },
   {
    "duration": 23,
    "start_time": "2021-09-10T11:10:35.178Z"
   },
   {
    "duration": 9,
    "start_time": "2021-09-10T11:10:38.315Z"
   },
   {
    "duration": 68,
    "start_time": "2021-09-10T11:11:19.465Z"
   },
   {
    "duration": 8,
    "start_time": "2021-09-10T11:11:38.344Z"
   },
   {
    "duration": 67,
    "start_time": "2021-09-10T11:11:58.935Z"
   },
   {
    "duration": 56,
    "start_time": "2021-09-10T11:13:54.555Z"
   },
   {
    "duration": 38,
    "start_time": "2021-09-10T11:14:52.161Z"
   },
   {
    "duration": 8,
    "start_time": "2021-09-10T11:15:07.501Z"
   },
   {
    "duration": 8,
    "start_time": "2021-09-10T11:16:24.482Z"
   },
   {
    "duration": 97,
    "start_time": "2021-09-10T11:17:28.742Z"
   },
   {
    "duration": 23,
    "start_time": "2021-09-10T11:17:39.709Z"
   },
   {
    "duration": 1203,
    "start_time": "2021-09-10T11:17:45.940Z"
   },
   {
    "duration": 442,
    "start_time": "2021-09-10T11:17:47.145Z"
   },
   {
    "duration": 36,
    "start_time": "2021-09-10T11:17:47.590Z"
   },
   {
    "duration": 54,
    "start_time": "2021-09-10T11:17:47.629Z"
   },
   {
    "duration": 100,
    "start_time": "2021-09-10T11:17:47.685Z"
   },
   {
    "duration": 286,
    "start_time": "2021-09-10T11:17:47.786Z"
   },
   {
    "duration": 96,
    "start_time": "2021-09-10T11:17:48.073Z"
   },
   {
    "duration": 4,
    "start_time": "2021-09-10T11:17:48.172Z"
   },
   {
    "duration": 8,
    "start_time": "2021-09-10T11:17:48.178Z"
   },
   {
    "duration": 81,
    "start_time": "2021-09-10T11:17:48.188Z"
   },
   {
    "duration": 28,
    "start_time": "2021-09-10T11:17:48.271Z"
   },
   {
    "duration": 59,
    "start_time": "2021-09-10T11:17:48.301Z"
   },
   {
    "duration": 38,
    "start_time": "2021-09-10T11:17:48.362Z"
   },
   {
    "duration": 39,
    "start_time": "2021-09-10T11:17:48.402Z"
   },
   {
    "duration": 9,
    "start_time": "2021-09-10T11:17:48.443Z"
   },
   {
    "duration": 37,
    "start_time": "2021-09-10T11:17:48.453Z"
   },
   {
    "duration": 91,
    "start_time": "2021-09-10T11:17:48.492Z"
   },
   {
    "duration": -1366,
    "start_time": "2021-09-10T11:17:49.951Z"
   },
   {
    "duration": -1395,
    "start_time": "2021-09-10T11:17:49.981Z"
   },
   {
    "duration": 1136,
    "start_time": "2021-09-10T11:18:16.888Z"
   },
   {
    "duration": 423,
    "start_time": "2021-09-10T11:18:18.026Z"
   },
   {
    "duration": 32,
    "start_time": "2021-09-10T11:18:18.451Z"
   },
   {
    "duration": 69,
    "start_time": "2021-09-10T11:18:18.485Z"
   },
   {
    "duration": 98,
    "start_time": "2021-09-10T11:18:18.556Z"
   },
   {
    "duration": 241,
    "start_time": "2021-09-10T11:18:18.655Z"
   },
   {
    "duration": 83,
    "start_time": "2021-09-10T11:18:18.898Z"
   },
   {
    "duration": 6,
    "start_time": "2021-09-10T11:18:18.984Z"
   },
   {
    "duration": 17,
    "start_time": "2021-09-10T11:18:18.992Z"
   },
   {
    "duration": 78,
    "start_time": "2021-09-10T11:18:19.011Z"
   },
   {
    "duration": 28,
    "start_time": "2021-09-10T11:18:19.091Z"
   },
   {
    "duration": 66,
    "start_time": "2021-09-10T11:18:19.121Z"
   },
   {
    "duration": 54,
    "start_time": "2021-09-10T11:18:19.189Z"
   },
   {
    "duration": 27,
    "start_time": "2021-09-10T11:18:19.245Z"
   },
   {
    "duration": 8,
    "start_time": "2021-09-10T11:18:19.274Z"
   },
   {
    "duration": 57,
    "start_time": "2021-09-10T11:18:19.284Z"
   },
   {
    "duration": 91,
    "start_time": "2021-09-10T11:18:19.343Z"
   },
   {
    "duration": -2550,
    "start_time": "2021-09-10T11:18:21.986Z"
   },
   {
    "duration": -2603,
    "start_time": "2021-09-10T11:18:22.040Z"
   },
   {
    "duration": 57,
    "start_time": "2021-09-10T11:18:42.709Z"
   },
   {
    "duration": 102,
    "start_time": "2021-09-10T11:18:58.748Z"
   },
   {
    "duration": 1208,
    "start_time": "2021-09-10T11:20:00.124Z"
   },
   {
    "duration": 437,
    "start_time": "2021-09-10T11:20:01.334Z"
   },
   {
    "duration": 35,
    "start_time": "2021-09-10T11:20:01.773Z"
   },
   {
    "duration": 73,
    "start_time": "2021-09-10T11:20:01.810Z"
   },
   {
    "duration": 102,
    "start_time": "2021-09-10T11:20:01.885Z"
   },
   {
    "duration": 230,
    "start_time": "2021-09-10T11:20:01.989Z"
   },
   {
    "duration": 80,
    "start_time": "2021-09-10T11:20:02.221Z"
   },
   {
    "duration": 4,
    "start_time": "2021-09-10T11:20:02.304Z"
   },
   {
    "duration": 21,
    "start_time": "2021-09-10T11:20:02.310Z"
   },
   {
    "duration": 75,
    "start_time": "2021-09-10T11:20:02.333Z"
   },
   {
    "duration": 26,
    "start_time": "2021-09-10T11:20:02.409Z"
   },
   {
    "duration": 56,
    "start_time": "2021-09-10T11:20:02.437Z"
   },
   {
    "duration": 46,
    "start_time": "2021-09-10T11:20:02.495Z"
   },
   {
    "duration": 34,
    "start_time": "2021-09-10T11:20:02.543Z"
   },
   {
    "duration": 8,
    "start_time": "2021-09-10T11:20:02.579Z"
   },
   {
    "duration": 63,
    "start_time": "2021-09-10T11:20:02.589Z"
   },
   {
    "duration": 92,
    "start_time": "2021-09-10T11:20:02.654Z"
   },
   {
    "duration": -2460,
    "start_time": "2021-09-10T11:20:05.207Z"
   },
   {
    "duration": -2527,
    "start_time": "2021-09-10T11:20:05.275Z"
   },
   {
    "duration": 90,
    "start_time": "2021-09-10T11:20:41.972Z"
   },
   {
    "duration": 70,
    "start_time": "2021-09-10T11:20:51.732Z"
   },
   {
    "duration": 23,
    "start_time": "2021-09-10T11:20:55.571Z"
   },
   {
    "duration": 32,
    "start_time": "2021-09-10T11:21:22.303Z"
   },
   {
    "duration": 44,
    "start_time": "2021-09-10T11:24:05.234Z"
   },
   {
    "duration": 20,
    "start_time": "2021-09-10T11:24:06.351Z"
   },
   {
    "duration": 43,
    "start_time": "2021-09-10T11:24:06.557Z"
   },
   {
    "duration": 34,
    "start_time": "2021-09-10T11:24:07.151Z"
   },
   {
    "duration": 26,
    "start_time": "2021-09-10T11:24:07.565Z"
   },
   {
    "duration": 9,
    "start_time": "2021-09-10T11:24:08.047Z"
   },
   {
    "duration": 58,
    "start_time": "2021-09-10T11:24:08.646Z"
   },
   {
    "duration": 80,
    "start_time": "2021-09-10T11:24:09.106Z"
   },
   {
    "duration": 31,
    "start_time": "2021-09-10T11:24:09.905Z"
   },
   {
    "duration": 1199,
    "start_time": "2021-09-10T11:24:17.729Z"
   },
   {
    "duration": 440,
    "start_time": "2021-09-10T11:24:18.930Z"
   },
   {
    "duration": 32,
    "start_time": "2021-09-10T11:24:19.372Z"
   },
   {
    "duration": 55,
    "start_time": "2021-09-10T11:24:19.406Z"
   },
   {
    "duration": 102,
    "start_time": "2021-09-10T11:24:19.463Z"
   },
   {
    "duration": 230,
    "start_time": "2021-09-10T11:24:19.567Z"
   },
   {
    "duration": 79,
    "start_time": "2021-09-10T11:24:19.798Z"
   },
   {
    "duration": 4,
    "start_time": "2021-09-10T11:24:19.880Z"
   },
   {
    "duration": 20,
    "start_time": "2021-09-10T11:24:19.886Z"
   },
   {
    "duration": 53,
    "start_time": "2021-09-10T11:24:19.908Z"
   },
   {
    "duration": 27,
    "start_time": "2021-09-10T11:24:19.963Z"
   },
   {
    "duration": 65,
    "start_time": "2021-09-10T11:24:19.992Z"
   },
   {
    "duration": 41,
    "start_time": "2021-09-10T11:24:20.059Z"
   },
   {
    "duration": 39,
    "start_time": "2021-09-10T11:24:20.102Z"
   },
   {
    "duration": 9,
    "start_time": "2021-09-10T11:24:20.143Z"
   },
   {
    "duration": 64,
    "start_time": "2021-09-10T11:24:20.153Z"
   },
   {
    "duration": 83,
    "start_time": "2021-09-10T11:24:20.218Z"
   },
   {
    "duration": 44,
    "start_time": "2021-09-10T11:24:20.303Z"
   },
   {
    "duration": 394,
    "start_time": "2021-09-10T11:24:20.349Z"
   },
   {
    "duration": 22,
    "start_time": "2021-09-10T11:27:50.685Z"
   },
   {
    "duration": 6,
    "start_time": "2021-09-10T11:28:17.423Z"
   },
   {
    "duration": 82,
    "start_time": "2021-09-10T11:28:29.266Z"
   },
   {
    "duration": 5,
    "start_time": "2021-09-10T11:28:37.476Z"
   },
   {
    "duration": 5,
    "start_time": "2021-09-10T11:28:55.067Z"
   },
   {
    "duration": 5,
    "start_time": "2021-09-10T11:28:58.545Z"
   },
   {
    "duration": 5,
    "start_time": "2021-09-10T11:29:03.672Z"
   },
   {
    "duration": 5,
    "start_time": "2021-09-10T11:29:07.648Z"
   },
   {
    "duration": 16,
    "start_time": "2021-09-10T11:30:06.995Z"
   },
   {
    "duration": 54,
    "start_time": "2021-09-10T11:31:34.966Z"
   },
   {
    "duration": 41,
    "start_time": "2021-09-10T11:31:42.286Z"
   },
   {
    "duration": 21,
    "start_time": "2021-09-10T11:31:54.306Z"
   },
   {
    "duration": 329,
    "start_time": "2021-09-10T11:32:03.095Z"
   },
   {
    "duration": 39,
    "start_time": "2021-09-10T11:32:21.164Z"
   },
   {
    "duration": 22,
    "start_time": "2021-09-10T11:32:35.963Z"
   },
   {
    "duration": 26,
    "start_time": "2021-09-10T11:32:46.519Z"
   },
   {
    "duration": 295,
    "start_time": "2021-09-10T11:32:51.827Z"
   },
   {
    "duration": 32,
    "start_time": "2021-09-10T11:32:56.555Z"
   },
   {
    "duration": 314,
    "start_time": "2021-09-10T11:44:54.934Z"
   },
   {
    "duration": 330,
    "start_time": "2021-09-10T11:45:10.563Z"
   },
   {
    "duration": 481,
    "start_time": "2021-09-10T11:45:51.299Z"
   },
   {
    "duration": 477,
    "start_time": "2021-09-10T11:45:57.501Z"
   },
   {
    "duration": 191,
    "start_time": "2021-09-10T11:46:12.534Z"
   },
   {
    "duration": 225,
    "start_time": "2021-09-10T11:46:44.846Z"
   },
   {
    "duration": 173,
    "start_time": "2021-09-10T11:51:13.495Z"
   },
   {
    "duration": 23,
    "start_time": "2021-09-10T11:51:28.408Z"
   },
   {
    "duration": 204,
    "start_time": "2021-09-10T11:57:11.836Z"
   },
   {
    "duration": 193,
    "start_time": "2021-09-10T11:58:30.565Z"
   },
   {
    "duration": 248,
    "start_time": "2021-09-10T11:58:34.683Z"
   },
   {
    "duration": 948,
    "start_time": "2021-09-10T11:58:42.899Z"
   },
   {
    "duration": 213,
    "start_time": "2021-09-10T11:58:56.545Z"
   },
   {
    "duration": 182,
    "start_time": "2021-09-10T12:00:40.025Z"
   },
   {
    "duration": 180,
    "start_time": "2021-09-10T12:02:23.501Z"
   },
   {
    "duration": 175,
    "start_time": "2021-09-10T12:05:00.096Z"
   },
   {
    "duration": 1152,
    "start_time": "2021-09-10T12:07:28.495Z"
   },
   {
    "duration": 435,
    "start_time": "2021-09-10T12:07:29.649Z"
   },
   {
    "duration": 34,
    "start_time": "2021-09-10T12:07:30.086Z"
   },
   {
    "duration": 61,
    "start_time": "2021-09-10T12:07:30.122Z"
   },
   {
    "duration": 100,
    "start_time": "2021-09-10T12:07:30.186Z"
   },
   {
    "duration": 259,
    "start_time": "2021-09-10T12:07:30.288Z"
   },
   {
    "duration": 72,
    "start_time": "2021-09-10T12:07:30.549Z"
   },
   {
    "duration": 18,
    "start_time": "2021-09-10T12:07:30.624Z"
   },
   {
    "duration": 30,
    "start_time": "2021-09-10T12:07:30.644Z"
   },
   {
    "duration": 60,
    "start_time": "2021-09-10T12:07:30.676Z"
   },
   {
    "duration": 27,
    "start_time": "2021-09-10T12:07:30.738Z"
   },
   {
    "duration": 57,
    "start_time": "2021-09-10T12:07:30.767Z"
   },
   {
    "duration": 48,
    "start_time": "2021-09-10T12:07:30.826Z"
   },
   {
    "duration": 35,
    "start_time": "2021-09-10T12:07:30.876Z"
   },
   {
    "duration": 197,
    "start_time": "2021-09-10T12:07:30.913Z"
   },
   {
    "duration": 1162,
    "start_time": "2021-09-10T12:09:41.852Z"
   },
   {
    "duration": 438,
    "start_time": "2021-09-10T12:09:43.016Z"
   },
   {
    "duration": 35,
    "start_time": "2021-09-10T12:09:43.456Z"
   },
   {
    "duration": 66,
    "start_time": "2021-09-10T12:09:43.494Z"
   },
   {
    "duration": 105,
    "start_time": "2021-09-10T12:09:43.562Z"
   },
   {
    "duration": 230,
    "start_time": "2021-09-10T12:09:43.668Z"
   },
   {
    "duration": 79,
    "start_time": "2021-09-10T12:09:43.900Z"
   },
   {
    "duration": 7,
    "start_time": "2021-09-10T12:09:43.981Z"
   },
   {
    "duration": 11,
    "start_time": "2021-09-10T12:09:43.990Z"
   },
   {
    "duration": 64,
    "start_time": "2021-09-10T12:09:44.003Z"
   },
   {
    "duration": 28,
    "start_time": "2021-09-10T12:09:44.069Z"
   },
   {
    "duration": 60,
    "start_time": "2021-09-10T12:09:44.099Z"
   },
   {
    "duration": 40,
    "start_time": "2021-09-10T12:09:44.160Z"
   },
   {
    "duration": 51,
    "start_time": "2021-09-10T12:09:44.202Z"
   },
   {
    "duration": 179,
    "start_time": "2021-09-10T12:09:44.255Z"
   },
   {
    "duration": 6,
    "start_time": "2021-09-10T12:10:23.767Z"
   },
   {
    "duration": 43,
    "start_time": "2021-09-10T12:10:24.920Z"
   },
   {
    "duration": 21,
    "start_time": "2021-09-10T12:10:25.112Z"
   },
   {
    "duration": 45,
    "start_time": "2021-09-10T12:10:25.336Z"
   },
   {
    "duration": 35,
    "start_time": "2021-09-10T12:10:25.516Z"
   },
   {
    "duration": 35,
    "start_time": "2021-09-10T12:10:25.787Z"
   },
   {
    "duration": 165,
    "start_time": "2021-09-10T12:10:26.073Z"
   },
   {
    "duration": 5,
    "start_time": "2021-09-10T12:10:58.816Z"
   },
   {
    "duration": 45,
    "start_time": "2021-09-10T12:10:59.693Z"
   },
   {
    "duration": 20,
    "start_time": "2021-09-10T12:10:59.916Z"
   },
   {
    "duration": 46,
    "start_time": "2021-09-10T12:11:00.218Z"
   },
   {
    "duration": 34,
    "start_time": "2021-09-10T12:11:00.520Z"
   },
   {
    "duration": 34,
    "start_time": "2021-09-10T12:11:00.819Z"
   },
   {
    "duration": 164,
    "start_time": "2021-09-10T12:11:01.230Z"
   },
   {
    "duration": 180,
    "start_time": "2021-09-10T12:11:38.858Z"
   },
   {
    "duration": 163,
    "start_time": "2021-09-10T12:11:48.596Z"
   },
   {
    "duration": 353,
    "start_time": "2021-09-10T12:12:24.415Z"
   },
   {
    "duration": 6,
    "start_time": "2021-09-10T12:12:33.427Z"
   },
   {
    "duration": 1132,
    "start_time": "2021-09-10T12:12:39.084Z"
   },
   {
    "duration": 431,
    "start_time": "2021-09-10T12:12:40.218Z"
   },
   {
    "duration": 35,
    "start_time": "2021-09-10T12:12:40.651Z"
   },
   {
    "duration": 72,
    "start_time": "2021-09-10T12:12:40.688Z"
   },
   {
    "duration": 108,
    "start_time": "2021-09-10T12:12:40.763Z"
   },
   {
    "duration": 234,
    "start_time": "2021-09-10T12:12:40.873Z"
   },
   {
    "duration": 87,
    "start_time": "2021-09-10T12:12:41.109Z"
   },
   {
    "duration": 7,
    "start_time": "2021-09-10T12:12:41.199Z"
   },
   {
    "duration": 17,
    "start_time": "2021-09-10T12:12:41.208Z"
   },
   {
    "duration": 68,
    "start_time": "2021-09-10T12:12:41.227Z"
   },
   {
    "duration": 27,
    "start_time": "2021-09-10T12:12:41.297Z"
   },
   {
    "duration": 53,
    "start_time": "2021-09-10T12:12:41.326Z"
   },
   {
    "duration": 59,
    "start_time": "2021-09-10T12:12:41.382Z"
   },
   {
    "duration": 36,
    "start_time": "2021-09-10T12:12:41.443Z"
   },
   {
    "duration": 174,
    "start_time": "2021-09-10T12:12:41.481Z"
   },
   {
    "duration": 100,
    "start_time": "2021-09-10T12:14:21.267Z"
   },
   {
    "duration": 1193,
    "start_time": "2021-09-10T13:06:25.320Z"
   },
   {
    "duration": 417,
    "start_time": "2021-09-10T13:06:26.515Z"
   },
   {
    "duration": 33,
    "start_time": "2021-09-10T13:06:26.933Z"
   },
   {
    "duration": 79,
    "start_time": "2021-09-10T13:06:26.967Z"
   },
   {
    "duration": 99,
    "start_time": "2021-09-10T13:06:27.047Z"
   },
   {
    "duration": 235,
    "start_time": "2021-09-10T13:06:27.148Z"
   },
   {
    "duration": 84,
    "start_time": "2021-09-10T13:06:27.385Z"
   },
   {
    "duration": 6,
    "start_time": "2021-09-10T13:06:27.472Z"
   },
   {
    "duration": 71,
    "start_time": "2021-09-10T13:06:27.480Z"
   },
   {
    "duration": 26,
    "start_time": "2021-09-10T13:06:27.553Z"
   },
   {
    "duration": 61,
    "start_time": "2021-09-10T13:06:27.581Z"
   },
   {
    "duration": 387,
    "start_time": "2021-09-10T13:06:27.645Z"
   },
   {
    "duration": -273,
    "start_time": "2021-09-10T13:06:28.306Z"
   },
   {
    "duration": -278,
    "start_time": "2021-09-10T13:06:28.313Z"
   },
   {
    "duration": 39,
    "start_time": "2021-09-10T13:08:13.990Z"
   },
   {
    "duration": 315,
    "start_time": "2021-09-10T13:09:31.573Z"
   },
   {
    "duration": 41,
    "start_time": "2021-09-10T13:09:41.174Z"
   },
   {
    "duration": 44,
    "start_time": "2021-09-10T13:09:45.473Z"
   },
   {
    "duration": 35,
    "start_time": "2021-09-10T13:09:49.187Z"
   },
   {
    "duration": 171,
    "start_time": "2021-09-10T13:09:50.247Z"
   },
   {
    "duration": 1162,
    "start_time": "2021-09-10T13:11:50.356Z"
   },
   {
    "duration": 427,
    "start_time": "2021-09-10T13:11:51.520Z"
   },
   {
    "duration": 32,
    "start_time": "2021-09-10T13:11:51.949Z"
   },
   {
    "duration": 76,
    "start_time": "2021-09-10T13:11:51.983Z"
   },
   {
    "duration": 104,
    "start_time": "2021-09-10T13:11:52.061Z"
   },
   {
    "duration": 226,
    "start_time": "2021-09-10T13:11:52.167Z"
   },
   {
    "duration": 79,
    "start_time": "2021-09-10T13:11:52.394Z"
   },
   {
    "duration": 6,
    "start_time": "2021-09-10T13:11:52.475Z"
   },
   {
    "duration": 71,
    "start_time": "2021-09-10T13:11:52.483Z"
   },
   {
    "duration": 26,
    "start_time": "2021-09-10T13:11:52.556Z"
   },
   {
    "duration": 38,
    "start_time": "2021-09-10T13:11:52.584Z"
   },
   {
    "duration": 54,
    "start_time": "2021-09-10T13:11:52.640Z"
   },
   {
    "duration": 46,
    "start_time": "2021-09-10T13:11:52.696Z"
   },
   {
    "duration": 177,
    "start_time": "2021-09-10T13:11:52.744Z"
   },
   {
    "duration": 1147,
    "start_time": "2021-09-10T13:12:20.977Z"
   },
   {
    "duration": 433,
    "start_time": "2021-09-10T13:12:22.126Z"
   },
   {
    "duration": 35,
    "start_time": "2021-09-10T13:12:22.562Z"
   },
   {
    "duration": 61,
    "start_time": "2021-09-10T13:12:22.599Z"
   },
   {
    "duration": 103,
    "start_time": "2021-09-10T13:12:22.662Z"
   },
   {
    "duration": 231,
    "start_time": "2021-09-10T13:12:22.767Z"
   },
   {
    "duration": 79,
    "start_time": "2021-09-10T13:12:23.000Z"
   },
   {
    "duration": 6,
    "start_time": "2021-09-10T13:12:23.081Z"
   },
   {
    "duration": 71,
    "start_time": "2021-09-10T13:12:23.089Z"
   },
   {
    "duration": 28,
    "start_time": "2021-09-10T13:12:23.162Z"
   },
   {
    "duration": 51,
    "start_time": "2021-09-10T13:12:23.192Z"
   },
   {
    "duration": 57,
    "start_time": "2021-09-10T13:12:23.245Z"
   },
   {
    "duration": 47,
    "start_time": "2021-09-10T13:12:23.304Z"
   },
   {
    "duration": 177,
    "start_time": "2021-09-10T13:12:23.353Z"
   },
   {
    "duration": 19,
    "start_time": "2021-09-10T13:16:56.111Z"
   },
   {
    "duration": 13,
    "start_time": "2021-09-10T13:19:34.252Z"
   },
   {
    "duration": 35,
    "start_time": "2021-09-10T13:20:37.354Z"
   },
   {
    "duration": 10008,
    "start_time": "2021-09-10T13:21:01.038Z"
   },
   {
    "duration": 380,
    "start_time": "2021-09-10T13:21:41.461Z"
   },
   {
    "duration": 1549,
    "start_time": "2021-09-10T13:23:27.716Z"
   },
   {
    "duration": 33,
    "start_time": "2021-09-10T13:24:41.876Z"
   },
   {
    "duration": 301,
    "start_time": "2021-09-10T13:25:03.547Z"
   },
   {
    "duration": 35,
    "start_time": "2021-09-10T13:26:10.739Z"
   },
   {
    "duration": 24,
    "start_time": "2021-09-10T13:29:21.878Z"
   },
   {
    "duration": 1298,
    "start_time": "2021-09-10T13:29:33.345Z"
   },
   {
    "duration": 25,
    "start_time": "2021-09-10T13:29:44.013Z"
   },
   {
    "duration": 277,
    "start_time": "2021-09-10T13:30:31.430Z"
   },
   {
    "duration": 1888,
    "start_time": "2021-09-10T13:30:38.147Z"
   },
   {
    "duration": 1736,
    "start_time": "2021-09-10T13:31:39.347Z"
   },
   {
    "duration": 2105,
    "start_time": "2021-09-10T13:31:47.118Z"
   },
   {
    "duration": 22,
    "start_time": "2021-09-10T13:32:15.482Z"
   },
   {
    "duration": 24,
    "start_time": "2021-09-10T13:32:46.545Z"
   },
   {
    "duration": 46,
    "start_time": "2021-09-10T13:33:52.681Z"
   },
   {
    "duration": 58,
    "start_time": "2021-09-10T13:34:10.555Z"
   },
   {
    "duration": 67,
    "start_time": "2021-09-10T13:34:20.490Z"
   },
   {
    "duration": 64,
    "start_time": "2021-09-10T13:34:58.397Z"
   },
   {
    "duration": 80,
    "start_time": "2021-09-10T13:35:19.639Z"
   },
   {
    "duration": 1190,
    "start_time": "2021-09-10T13:39:44.444Z"
   },
   {
    "duration": 431,
    "start_time": "2021-09-10T13:39:45.637Z"
   },
   {
    "duration": 38,
    "start_time": "2021-09-10T13:39:46.070Z"
   },
   {
    "duration": 56,
    "start_time": "2021-09-10T13:39:46.110Z"
   },
   {
    "duration": 105,
    "start_time": "2021-09-10T13:39:46.169Z"
   },
   {
    "duration": 229,
    "start_time": "2021-09-10T13:39:46.276Z"
   },
   {
    "duration": 84,
    "start_time": "2021-09-10T13:39:46.507Z"
   },
   {
    "duration": 7,
    "start_time": "2021-09-10T13:39:46.593Z"
   },
   {
    "duration": 59,
    "start_time": "2021-09-10T13:39:46.602Z"
   },
   {
    "duration": 27,
    "start_time": "2021-09-10T13:39:46.663Z"
   },
   {
    "duration": 52,
    "start_time": "2021-09-10T13:39:46.691Z"
   },
   {
    "duration": 56,
    "start_time": "2021-09-10T13:39:46.745Z"
   },
   {
    "duration": 49,
    "start_time": "2021-09-10T13:39:46.803Z"
   },
   {
    "duration": 178,
    "start_time": "2021-09-10T13:39:46.854Z"
   },
   {
    "duration": 72,
    "start_time": "2021-09-10T13:39:47.034Z"
   },
   {
    "duration": 501,
    "start_time": "2021-09-10T13:41:19.644Z"
   },
   {
    "duration": 25,
    "start_time": "2021-09-10T13:41:39.751Z"
   },
   {
    "duration": 41,
    "start_time": "2021-09-10T13:42:09.510Z"
   },
   {
    "duration": 63,
    "start_time": "2021-09-10T13:44:04.054Z"
   },
   {
    "duration": 26,
    "start_time": "2021-09-10T13:44:32.624Z"
   },
   {
    "duration": 43,
    "start_time": "2021-09-10T13:46:28.378Z"
   },
   {
    "duration": 174,
    "start_time": "2021-09-10T13:47:21.319Z"
   },
   {
    "duration": 171,
    "start_time": "2021-09-10T13:47:29.375Z"
   },
   {
    "duration": 1161,
    "start_time": "2021-09-10T13:48:42.205Z"
   },
   {
    "duration": 321,
    "start_time": "2021-09-10T13:50:35.872Z"
   },
   {
    "duration": 233,
    "start_time": "2021-09-10T13:51:13.873Z"
   },
   {
    "duration": 241,
    "start_time": "2021-09-10T13:51:29.302Z"
   },
   {
    "duration": 249,
    "start_time": "2021-09-10T13:52:11.346Z"
   },
   {
    "duration": 276,
    "start_time": "2021-09-10T13:52:24.760Z"
   },
   {
    "duration": 244,
    "start_time": "2021-09-10T13:52:40.658Z"
   },
   {
    "duration": 253,
    "start_time": "2021-09-10T13:52:43.723Z"
   },
   {
    "duration": 256,
    "start_time": "2021-09-10T13:53:12.989Z"
   },
   {
    "duration": 247,
    "start_time": "2021-09-10T13:53:26.515Z"
   },
   {
    "duration": 386,
    "start_time": "2021-09-10T13:53:33.892Z"
   },
   {
    "duration": 281,
    "start_time": "2021-09-10T13:53:41.122Z"
   },
   {
    "duration": 192,
    "start_time": "2021-09-10T13:54:02.016Z"
   },
   {
    "duration": 659,
    "start_time": "2021-09-10T13:56:08.158Z"
   },
   {
    "duration": 397,
    "start_time": "2021-09-10T13:56:10.354Z"
   },
   {
    "duration": 272,
    "start_time": "2021-09-10T13:56:17.406Z"
   },
   {
    "duration": 203,
    "start_time": "2021-09-10T13:56:35.045Z"
   },
   {
    "duration": 215,
    "start_time": "2021-09-10T13:56:42.592Z"
   },
   {
    "duration": 97,
    "start_time": "2021-09-10T16:55:43.763Z"
   },
   {
    "duration": 176,
    "start_time": "2021-09-10T16:56:10.418Z"
   },
   {
    "duration": 330,
    "start_time": "2021-09-10T16:56:16.663Z"
   },
   {
    "duration": 1485,
    "start_time": "2021-09-10T16:56:57.522Z"
   },
   {
    "duration": 506,
    "start_time": "2021-09-10T16:56:59.010Z"
   },
   {
    "duration": 53,
    "start_time": "2021-09-10T16:56:59.519Z"
   },
   {
    "duration": 117,
    "start_time": "2021-09-10T16:56:59.576Z"
   },
   {
    "duration": 191,
    "start_time": "2021-09-10T16:56:59.696Z"
   },
   {
    "duration": 318,
    "start_time": "2021-09-10T16:56:59.890Z"
   },
   {
    "duration": 112,
    "start_time": "2021-09-10T16:57:00.210Z"
   },
   {
    "duration": 9,
    "start_time": "2021-09-10T16:57:00.325Z"
   },
   {
    "duration": 77,
    "start_time": "2021-09-10T16:57:00.337Z"
   },
   {
    "duration": 47,
    "start_time": "2021-09-10T16:57:00.416Z"
   },
   {
    "duration": 52,
    "start_time": "2021-09-10T16:57:00.465Z"
   },
   {
    "duration": 87,
    "start_time": "2021-09-10T16:57:00.519Z"
   },
   {
    "duration": 58,
    "start_time": "2021-09-10T16:57:00.608Z"
   },
   {
    "duration": 268,
    "start_time": "2021-09-10T16:57:00.668Z"
   },
   {
    "duration": 131,
    "start_time": "2021-09-10T16:57:00.939Z"
   },
   {
    "duration": 25,
    "start_time": "2021-09-10T16:57:01.073Z"
   },
   {
    "duration": 114,
    "start_time": "2021-09-10T16:57:01.101Z"
   },
   {
    "duration": -168,
    "start_time": "2021-09-10T16:57:01.386Z"
   },
   {
    "duration": -170,
    "start_time": "2021-09-10T16:57:01.389Z"
   },
   {
    "duration": 40,
    "start_time": "2021-09-10T16:57:13.060Z"
   },
   {
    "duration": 26,
    "start_time": "2021-09-10T16:57:17.023Z"
   },
   {
    "duration": 1476,
    "start_time": "2021-09-10T16:57:26.777Z"
   },
   {
    "duration": 523,
    "start_time": "2021-09-10T16:57:28.256Z"
   },
   {
    "duration": 54,
    "start_time": "2021-09-10T16:57:28.782Z"
   },
   {
    "duration": 90,
    "start_time": "2021-09-10T16:57:28.839Z"
   },
   {
    "duration": 152,
    "start_time": "2021-09-10T16:57:28.932Z"
   },
   {
    "duration": 407,
    "start_time": "2021-09-10T16:57:29.087Z"
   },
   {
    "duration": 133,
    "start_time": "2021-09-10T16:57:29.497Z"
   },
   {
    "duration": 21,
    "start_time": "2021-09-10T16:57:29.633Z"
   },
   {
    "duration": 75,
    "start_time": "2021-09-10T16:57:29.658Z"
   },
   {
    "duration": 49,
    "start_time": "2021-09-10T16:57:29.736Z"
   },
   {
    "duration": 79,
    "start_time": "2021-09-10T16:57:29.787Z"
   },
   {
    "duration": 94,
    "start_time": "2021-09-10T16:57:29.873Z"
   },
   {
    "duration": 52,
    "start_time": "2021-09-10T16:57:29.969Z"
   },
   {
    "duration": 360,
    "start_time": "2021-09-10T16:57:30.024Z"
   },
   {
    "duration": 139,
    "start_time": "2021-09-10T16:57:30.388Z"
   },
   {
    "duration": 60,
    "start_time": "2021-09-10T16:57:30.530Z"
   },
   {
    "duration": 89,
    "start_time": "2021-09-10T16:57:30.595Z"
   },
   {
    "duration": 489,
    "start_time": "2021-09-10T16:57:30.687Z"
   },
   {
    "duration": 452,
    "start_time": "2021-09-10T16:57:31.178Z"
   },
   {
    "duration": 1564,
    "start_time": "2021-09-10T16:58:54.665Z"
   },
   {
    "duration": 524,
    "start_time": "2021-09-10T16:58:56.231Z"
   },
   {
    "duration": 51,
    "start_time": "2021-09-10T16:58:56.758Z"
   },
   {
    "duration": 101,
    "start_time": "2021-09-10T16:58:56.813Z"
   },
   {
    "duration": 142,
    "start_time": "2021-09-10T16:58:56.916Z"
   },
   {
    "duration": 301,
    "start_time": "2021-09-10T16:58:57.060Z"
   },
   {
    "duration": 108,
    "start_time": "2021-09-10T16:58:57.364Z"
   },
   {
    "duration": 8,
    "start_time": "2021-09-10T16:58:57.475Z"
   },
   {
    "duration": 86,
    "start_time": "2021-09-10T16:58:57.485Z"
   },
   {
    "duration": 35,
    "start_time": "2021-09-10T16:58:57.574Z"
   },
   {
    "duration": 63,
    "start_time": "2021-09-10T16:58:57.611Z"
   },
   {
    "duration": 78,
    "start_time": "2021-09-10T16:58:57.677Z"
   },
   {
    "duration": 47,
    "start_time": "2021-09-10T16:58:57.758Z"
   },
   {
    "duration": 268,
    "start_time": "2021-09-10T16:58:57.808Z"
   },
   {
    "duration": 132,
    "start_time": "2021-09-10T16:58:58.079Z"
   },
   {
    "duration": 47,
    "start_time": "2021-09-10T16:58:58.214Z"
   },
   {
    "duration": 41,
    "start_time": "2021-09-10T16:58:58.264Z"
   },
   {
    "duration": 375,
    "start_time": "2021-09-10T16:58:58.308Z"
   },
   {
    "duration": 311,
    "start_time": "2021-09-10T16:58:58.686Z"
   },
   {
    "duration": 10,
    "start_time": "2021-09-10T17:08:17.385Z"
   },
   {
    "duration": 27,
    "start_time": "2021-09-10T17:08:59.530Z"
   },
   {
    "duration": 67,
    "start_time": "2021-09-10T17:09:15.611Z"
   },
   {
    "duration": 82,
    "start_time": "2021-09-10T17:10:47.469Z"
   },
   {
    "duration": 86,
    "start_time": "2021-09-10T17:11:36.224Z"
   },
   {
    "duration": 64,
    "start_time": "2021-09-10T17:11:43.083Z"
   },
   {
    "duration": 73,
    "start_time": "2021-09-10T17:12:28.269Z"
   },
   {
    "duration": 68,
    "start_time": "2021-09-10T17:14:43.439Z"
   },
   {
    "duration": 70,
    "start_time": "2021-09-10T17:15:01.881Z"
   },
   {
    "duration": 7,
    "start_time": "2021-09-10T17:58:04.346Z"
   },
   {
    "duration": 389,
    "start_time": "2021-09-10T18:03:13.153Z"
   },
   {
    "duration": 4,
    "start_time": "2021-09-10T18:03:34.745Z"
   },
   {
    "duration": 506,
    "start_time": "2021-09-10T18:03:34.998Z"
   },
   {
    "duration": 50,
    "start_time": "2021-09-10T18:03:35.507Z"
   },
   {
    "duration": 69,
    "start_time": "2021-09-10T18:03:35.561Z"
   },
   {
    "duration": 140,
    "start_time": "2021-09-10T18:03:35.655Z"
   },
   {
    "duration": 270,
    "start_time": "2021-09-10T18:03:35.797Z"
   },
   {
    "duration": 92,
    "start_time": "2021-09-10T18:03:36.135Z"
   },
   {
    "duration": 8,
    "start_time": "2021-09-10T18:03:36.300Z"
   },
   {
    "duration": 61,
    "start_time": "2021-09-10T18:03:36.837Z"
   },
   {
    "duration": 35,
    "start_time": "2021-09-10T18:03:36.990Z"
   },
   {
    "duration": 48,
    "start_time": "2021-09-10T18:03:37.159Z"
   },
   {
    "duration": 67,
    "start_time": "2021-09-10T18:03:37.368Z"
   },
   {
    "duration": 51,
    "start_time": "2021-09-10T18:03:37.538Z"
   },
   {
    "duration": 250,
    "start_time": "2021-09-10T18:03:37.770Z"
   },
   {
    "duration": 116,
    "start_time": "2021-09-10T18:03:38.441Z"
   },
   {
    "duration": 64,
    "start_time": "2021-09-10T18:03:38.603Z"
   },
   {
    "duration": 8,
    "start_time": "2021-09-10T18:03:38.813Z"
   },
   {
    "duration": 421,
    "start_time": "2021-09-10T18:03:38.953Z"
   },
   {
    "duration": 395,
    "start_time": "2021-09-10T18:03:39.377Z"
   },
   {
    "duration": 7,
    "start_time": "2021-09-10T18:03:39.775Z"
   },
   {
    "duration": 37,
    "start_time": "2021-09-10T18:10:21.438Z"
   },
   {
    "duration": 307,
    "start_time": "2021-09-10T18:11:00.479Z"
   },
   {
    "duration": 11,
    "start_time": "2021-09-10T18:11:17.420Z"
   },
   {
    "duration": 17,
    "start_time": "2021-09-10T18:11:32.215Z"
   },
   {
    "duration": 39,
    "start_time": "2021-09-10T18:11:56.587Z"
   },
   {
    "duration": 41,
    "start_time": "2021-09-10T18:12:29.788Z"
   },
   {
    "duration": 39,
    "start_time": "2021-09-10T18:12:59.800Z"
   },
   {
    "duration": 11,
    "start_time": "2021-09-10T18:13:13.922Z"
   },
   {
    "duration": 12,
    "start_time": "2021-09-10T18:13:39.464Z"
   },
   {
    "duration": 7,
    "start_time": "2021-09-10T18:14:37.561Z"
   },
   {
    "duration": 519,
    "start_time": "2021-09-10T18:14:38.353Z"
   },
   {
    "duration": 613,
    "start_time": "2021-09-10T18:15:12.705Z"
   },
   {
    "duration": 557,
    "start_time": "2021-09-10T18:15:15.321Z"
   },
   {
    "duration": -3961,
    "start_time": "2021-09-10T18:16:06.057Z"
   },
   {
    "duration": -3964,
    "start_time": "2021-09-10T18:16:06.061Z"
   },
   {
    "duration": -3964,
    "start_time": "2021-09-10T18:16:06.063Z"
   },
   {
    "duration": 516,
    "start_time": "2021-09-10T18:18:58.070Z"
   },
   {
    "duration": -198,
    "start_time": "2021-09-10T18:18:58.787Z"
   },
   {
    "duration": 290,
    "start_time": "2021-09-10T18:19:31.901Z"
   },
   {
    "duration": 15,
    "start_time": "2021-09-10T18:19:41.879Z"
   },
   {
    "duration": 15,
    "start_time": "2021-09-10T18:19:59.209Z"
   },
   {
    "duration": 15,
    "start_time": "2021-09-10T18:20:18.900Z"
   },
   {
    "duration": 16,
    "start_time": "2021-09-10T18:20:37.880Z"
   },
   {
    "duration": 16,
    "start_time": "2021-09-10T18:20:46.589Z"
   },
   {
    "duration": 4,
    "start_time": "2021-09-10T18:20:47.990Z"
   },
   {
    "duration": 15,
    "start_time": "2021-09-10T18:22:07.989Z"
   },
   {
    "duration": 28,
    "start_time": "2021-09-10T18:22:47.539Z"
   },
   {
    "duration": 90,
    "start_time": "2021-09-10T18:22:57.279Z"
   },
   {
    "duration": 1459,
    "start_time": "2021-09-10T18:23:23.755Z"
   },
   {
    "duration": 509,
    "start_time": "2021-09-10T18:23:25.217Z"
   },
   {
    "duration": 47,
    "start_time": "2021-09-10T18:23:25.729Z"
   },
   {
    "duration": 80,
    "start_time": "2021-09-10T18:23:25.779Z"
   },
   {
    "duration": 133,
    "start_time": "2021-09-10T18:23:25.862Z"
   },
   {
    "duration": 302,
    "start_time": "2021-09-10T18:23:25.998Z"
   },
   {
    "duration": 102,
    "start_time": "2021-09-10T18:23:26.302Z"
   },
   {
    "duration": 8,
    "start_time": "2021-09-10T18:23:26.408Z"
   },
   {
    "duration": 78,
    "start_time": "2021-09-10T18:23:26.419Z"
   },
   {
    "duration": 35,
    "start_time": "2021-09-10T18:23:26.499Z"
   },
   {
    "duration": 60,
    "start_time": "2021-09-10T18:23:26.536Z"
   },
   {
    "duration": 91,
    "start_time": "2021-09-10T18:23:26.599Z"
   },
   {
    "duration": 48,
    "start_time": "2021-09-10T18:23:26.692Z"
   },
   {
    "duration": 257,
    "start_time": "2021-09-10T18:23:26.754Z"
   },
   {
    "duration": 108,
    "start_time": "2021-09-10T18:23:27.014Z"
   },
   {
    "duration": 86,
    "start_time": "2021-09-10T18:23:27.124Z"
   },
   {
    "duration": 6,
    "start_time": "2021-09-10T18:23:27.213Z"
   },
   {
    "duration": 364,
    "start_time": "2021-09-10T18:23:27.222Z"
   },
   {
    "duration": 309,
    "start_time": "2021-09-10T18:23:27.589Z"
   },
   {
    "duration": 53,
    "start_time": "2021-09-10T18:23:27.901Z"
   },
   {
    "duration": 406,
    "start_time": "2021-09-10T18:23:27.957Z"
   },
   {
    "duration": -112,
    "start_time": "2021-09-10T18:23:28.478Z"
   },
   {
    "duration": 9,
    "start_time": "2021-09-10T18:23:39.214Z"
   },
   {
    "duration": 16,
    "start_time": "2021-09-10T18:23:40.191Z"
   },
   {
    "duration": 302,
    "start_time": "2021-09-11T14:14:30.742Z"
   },
   {
    "duration": 1734,
    "start_time": "2021-09-11T14:14:37.785Z"
   },
   {
    "duration": 507,
    "start_time": "2021-09-11T14:14:39.522Z"
   },
   {
    "duration": 47,
    "start_time": "2021-09-11T14:14:40.032Z"
   },
   {
    "duration": 70,
    "start_time": "2021-09-11T14:14:40.082Z"
   },
   {
    "duration": 125,
    "start_time": "2021-09-11T14:14:40.163Z"
   },
   {
    "duration": 286,
    "start_time": "2021-09-11T14:14:40.290Z"
   },
   {
    "duration": 100,
    "start_time": "2021-09-11T14:14:40.579Z"
   },
   {
    "duration": 8,
    "start_time": "2021-09-11T14:14:40.682Z"
   },
   {
    "duration": 81,
    "start_time": "2021-09-11T14:14:40.693Z"
   },
   {
    "duration": 34,
    "start_time": "2021-09-11T14:14:40.776Z"
   },
   {
    "duration": 65,
    "start_time": "2021-09-11T14:14:40.813Z"
   },
   {
    "duration": 68,
    "start_time": "2021-09-11T14:14:40.880Z"
   },
   {
    "duration": 50,
    "start_time": "2021-09-11T14:14:40.961Z"
   },
   {
    "duration": 288,
    "start_time": "2021-09-11T14:14:41.013Z"
   },
   {
    "duration": 119,
    "start_time": "2021-09-11T14:14:41.303Z"
   },
   {
    "duration": 88,
    "start_time": "2021-09-11T14:14:41.424Z"
   },
   {
    "duration": 7,
    "start_time": "2021-09-11T14:14:41.514Z"
   },
   {
    "duration": 363,
    "start_time": "2021-09-11T14:14:41.524Z"
   },
   {
    "duration": 315,
    "start_time": "2021-09-11T14:14:41.890Z"
   },
   {
    "duration": 55,
    "start_time": "2021-09-11T14:14:42.208Z"
   },
   {
    "duration": 9,
    "start_time": "2021-09-11T14:14:42.267Z"
   },
   {
    "duration": 43,
    "start_time": "2021-09-11T14:14:42.278Z"
   },
   {
    "duration": 21,
    "start_time": "2021-09-11T14:17:02.232Z"
   },
   {
    "duration": 22,
    "start_time": "2021-09-11T14:17:10.877Z"
   },
   {
    "duration": 67,
    "start_time": "2021-09-11T14:24:28.863Z"
   },
   {
    "duration": 25,
    "start_time": "2021-09-11T14:25:09.741Z"
   },
   {
    "duration": 22,
    "start_time": "2021-09-11T14:25:12.421Z"
   },
   {
    "duration": 21,
    "start_time": "2021-09-11T14:26:52.367Z"
   },
   {
    "duration": 6,
    "start_time": "2021-09-11T14:26:57.064Z"
   },
   {
    "duration": 44,
    "start_time": "2021-09-11T14:27:24.844Z"
   },
   {
    "duration": 41,
    "start_time": "2021-09-11T14:31:26.908Z"
   },
   {
    "duration": 41,
    "start_time": "2021-09-11T14:31:37.318Z"
   },
   {
    "duration": 45,
    "start_time": "2021-09-11T14:31:47.719Z"
   },
   {
    "duration": 27,
    "start_time": "2021-09-11T14:36:41.107Z"
   },
   {
    "duration": 4,
    "start_time": "2021-09-11T14:36:50.123Z"
   },
   {
    "duration": 28,
    "start_time": "2021-09-11T14:37:01.004Z"
   },
   {
    "duration": 2101,
    "start_time": "2021-09-11T14:37:35.035Z"
   },
   {
    "duration": 502,
    "start_time": "2021-09-11T14:37:37.139Z"
   },
   {
    "duration": 48,
    "start_time": "2021-09-11T14:37:37.644Z"
   },
   {
    "duration": 92,
    "start_time": "2021-09-11T14:37:37.695Z"
   },
   {
    "duration": 134,
    "start_time": "2021-09-11T14:37:37.789Z"
   },
   {
    "duration": 297,
    "start_time": "2021-09-11T14:37:37.926Z"
   },
   {
    "duration": 105,
    "start_time": "2021-09-11T14:37:38.225Z"
   },
   {
    "duration": 7,
    "start_time": "2021-09-11T14:37:38.334Z"
   },
   {
    "duration": 86,
    "start_time": "2021-09-11T14:37:38.344Z"
   },
   {
    "duration": 52,
    "start_time": "2021-09-11T14:37:38.432Z"
   },
   {
    "duration": 34,
    "start_time": "2021-09-11T14:37:38.486Z"
   },
   {
    "duration": 53,
    "start_time": "2021-09-11T14:37:38.524Z"
   },
   {
    "duration": 29,
    "start_time": "2021-09-11T14:37:38.579Z"
   },
   {
    "duration": 21,
    "start_time": "2021-09-11T14:37:38.611Z"
   },
   {
    "duration": 45,
    "start_time": "2021-09-11T14:37:38.636Z"
   },
   {
    "duration": 4,
    "start_time": "2021-09-11T14:37:38.683Z"
   },
   {
    "duration": 266,
    "start_time": "2021-09-11T14:37:38.690Z"
   },
   {
    "duration": 122,
    "start_time": "2021-09-11T14:37:38.962Z"
   },
   {
    "duration": 82,
    "start_time": "2021-09-11T14:37:39.086Z"
   },
   {
    "duration": 7,
    "start_time": "2021-09-11T14:37:39.170Z"
   },
   {
    "duration": 375,
    "start_time": "2021-09-11T14:37:39.179Z"
   },
   {
    "duration": 324,
    "start_time": "2021-09-11T14:37:39.556Z"
   },
   {
    "duration": 37,
    "start_time": "2021-09-11T14:37:39.884Z"
   },
   {
    "duration": 8,
    "start_time": "2021-09-11T14:37:39.923Z"
   },
   {
    "duration": 40,
    "start_time": "2021-09-11T14:37:39.934Z"
   },
   {
    "duration": 5,
    "start_time": "2021-09-11T14:38:47.864Z"
   },
   {
    "duration": 13,
    "start_time": "2021-09-11T14:39:30.950Z"
   },
   {
    "duration": 1363,
    "start_time": "2021-09-11T14:44:53.599Z"
   },
   {
    "duration": 528,
    "start_time": "2021-09-11T14:44:54.965Z"
   },
   {
    "duration": 50,
    "start_time": "2021-09-11T14:44:55.497Z"
   },
   {
    "duration": 75,
    "start_time": "2021-09-11T14:44:55.549Z"
   },
   {
    "duration": 143,
    "start_time": "2021-09-11T14:44:55.627Z"
   },
   {
    "duration": 333,
    "start_time": "2021-09-11T14:44:55.772Z"
   },
   {
    "duration": 103,
    "start_time": "2021-09-11T14:44:56.107Z"
   },
   {
    "duration": 8,
    "start_time": "2021-09-11T14:44:56.214Z"
   },
   {
    "duration": 88,
    "start_time": "2021-09-11T14:44:56.225Z"
   },
   {
    "duration": 47,
    "start_time": "2021-09-11T14:44:56.315Z"
   },
   {
    "duration": 35,
    "start_time": "2021-09-11T14:44:56.364Z"
   },
   {
    "duration": 33,
    "start_time": "2021-09-11T14:44:56.402Z"
   },
   {
    "duration": 50,
    "start_time": "2021-09-11T14:44:56.437Z"
   },
   {
    "duration": 11,
    "start_time": "2021-09-11T14:44:56.490Z"
   },
   {
    "duration": 58,
    "start_time": "2021-09-11T14:44:56.504Z"
   },
   {
    "duration": 13,
    "start_time": "2021-09-11T14:44:56.565Z"
   },
   {
    "duration": 272,
    "start_time": "2021-09-11T14:44:56.580Z"
   },
   {
    "duration": 118,
    "start_time": "2021-09-11T14:44:56.861Z"
   },
   {
    "duration": 82,
    "start_time": "2021-09-11T14:44:56.981Z"
   },
   {
    "duration": 8,
    "start_time": "2021-09-11T14:44:57.066Z"
   },
   {
    "duration": 365,
    "start_time": "2021-09-11T14:44:57.076Z"
   },
   {
    "duration": 311,
    "start_time": "2021-09-11T14:44:57.444Z"
   },
   {
    "duration": 37,
    "start_time": "2021-09-11T14:44:57.763Z"
   },
   {
    "duration": 8,
    "start_time": "2021-09-11T14:44:57.802Z"
   },
   {
    "duration": 16,
    "start_time": "2021-09-11T14:44:57.813Z"
   },
   {
    "duration": 248,
    "start_time": "2021-09-11T14:45:43.763Z"
   },
   {
    "duration": 256,
    "start_time": "2021-09-11T14:46:25.638Z"
   },
   {
    "duration": 14,
    "start_time": "2021-09-11T14:49:35.166Z"
   },
   {
    "duration": 255,
    "start_time": "2021-09-11T14:49:36.658Z"
   },
   {
    "duration": 23,
    "start_time": "2021-09-11T14:53:30.915Z"
   },
   {
    "duration": 7,
    "start_time": "2021-09-11T14:53:31.065Z"
   },
   {
    "duration": 67,
    "start_time": "2021-09-11T14:53:31.615Z"
   },
   {
    "duration": 32,
    "start_time": "2021-09-11T14:53:31.745Z"
   },
   {
    "duration": 28,
    "start_time": "2021-09-11T14:53:31.905Z"
   },
   {
    "duration": 34,
    "start_time": "2021-09-11T14:53:32.086Z"
   },
   {
    "duration": 25,
    "start_time": "2021-09-11T14:53:32.255Z"
   },
   {
    "duration": 6,
    "start_time": "2021-09-11T14:53:32.437Z"
   },
   {
    "duration": 33,
    "start_time": "2021-09-11T14:53:32.676Z"
   },
   {
    "duration": 13,
    "start_time": "2021-09-11T14:53:33.325Z"
   },
   {
    "duration": 238,
    "start_time": "2021-09-11T14:53:33.686Z"
   },
   {
    "duration": 102,
    "start_time": "2021-09-11T14:53:35.185Z"
   },
   {
    "duration": 615,
    "start_time": "2021-09-11T14:53:45.765Z"
   },
   {
    "duration": 98,
    "start_time": "2021-09-11T14:53:52.625Z"
   },
   {
    "duration": 209,
    "start_time": "2021-09-11T14:54:01.816Z"
   },
   {
    "duration": 87,
    "start_time": "2021-09-11T14:54:09.805Z"
   },
   {
    "duration": 110,
    "start_time": "2021-09-11T14:54:16.856Z"
   },
   {
    "duration": 98,
    "start_time": "2021-09-11T14:54:25.796Z"
   },
   {
    "duration": 67,
    "start_time": "2021-09-11T15:11:13.379Z"
   },
   {
    "duration": 7,
    "start_time": "2021-09-11T15:11:25.139Z"
   },
   {
    "duration": 236,
    "start_time": "2021-09-11T15:12:28.885Z"
   },
   {
    "duration": 301,
    "start_time": "2021-09-11T15:12:37.076Z"
   },
   {
    "duration": 66,
    "start_time": "2021-09-11T15:12:40.944Z"
   },
   {
    "duration": 46,
    "start_time": "2021-09-11T15:12:44.435Z"
   },
   {
    "duration": 48,
    "start_time": "2021-09-11T15:12:56.424Z"
   },
   {
    "duration": 64,
    "start_time": "2021-09-11T15:13:02.183Z"
   },
   {
    "duration": 44,
    "start_time": "2021-09-11T15:13:20.123Z"
   },
   {
    "duration": 81,
    "start_time": "2021-09-11T15:14:39.528Z"
   },
   {
    "duration": 43,
    "start_time": "2021-09-11T15:15:17.558Z"
   },
   {
    "duration": 72,
    "start_time": "2021-09-11T15:21:03.943Z"
   },
   {
    "duration": 68,
    "start_time": "2021-09-11T15:28:47.369Z"
   },
   {
    "duration": 81,
    "start_time": "2021-09-11T15:28:52.807Z"
   },
   {
    "duration": 126,
    "start_time": "2021-09-11T15:29:12.702Z"
   },
   {
    "duration": 139,
    "start_time": "2021-09-11T15:29:15.193Z"
   },
   {
    "duration": 693,
    "start_time": "2021-09-11T15:30:13.847Z"
   },
   {
    "duration": 1542,
    "start_time": "2021-09-11T15:49:50.773Z"
   },
   {
    "duration": 505,
    "start_time": "2021-09-11T15:49:52.318Z"
   },
   {
    "duration": 52,
    "start_time": "2021-09-11T15:49:52.827Z"
   },
   {
    "duration": 87,
    "start_time": "2021-09-11T15:49:52.883Z"
   },
   {
    "duration": 139,
    "start_time": "2021-09-11T15:49:52.973Z"
   },
   {
    "duration": 303,
    "start_time": "2021-09-11T15:49:53.114Z"
   },
   {
    "duration": 97,
    "start_time": "2021-09-11T15:49:53.420Z"
   },
   {
    "duration": 7,
    "start_time": "2021-09-11T15:49:53.521Z"
   },
   {
    "duration": 84,
    "start_time": "2021-09-11T15:49:53.532Z"
   },
   {
    "duration": 53,
    "start_time": "2021-09-11T15:49:53.619Z"
   },
   {
    "duration": 34,
    "start_time": "2021-09-11T15:49:53.675Z"
   },
   {
    "duration": 50,
    "start_time": "2021-09-11T15:49:53.712Z"
   },
   {
    "duration": 28,
    "start_time": "2021-09-11T15:49:53.764Z"
   },
   {
    "duration": 9,
    "start_time": "2021-09-11T15:49:53.795Z"
   },
   {
    "duration": 56,
    "start_time": "2021-09-11T15:49:53.806Z"
   },
   {
    "duration": 12,
    "start_time": "2021-09-11T15:49:53.864Z"
   },
   {
    "duration": 262,
    "start_time": "2021-09-11T15:49:53.878Z"
   },
   {
    "duration": 106,
    "start_time": "2021-09-11T15:49:54.142Z"
   },
   {
    "duration": 66,
    "start_time": "2021-09-11T15:49:54.262Z"
   },
   {
    "duration": 157,
    "start_time": "2021-09-11T15:49:54.330Z"
   },
   {
    "duration": 102,
    "start_time": "2021-09-11T15:49:54.489Z"
   },
   {
    "duration": 120,
    "start_time": "2021-09-11T15:49:54.473Z"
   },
   {
    "duration": 118,
    "start_time": "2021-09-11T15:49:54.477Z"
   },
   {
    "duration": 115,
    "start_time": "2021-09-11T15:49:54.481Z"
   },
   {
    "duration": 114,
    "start_time": "2021-09-11T15:49:54.483Z"
   },
   {
    "duration": 89,
    "start_time": "2021-09-11T15:50:00.481Z"
   },
   {
    "duration": 7723,
    "start_time": "2021-09-11T15:50:14.305Z"
   },
   {
    "duration": 1400,
    "start_time": "2021-09-11T15:53:47.312Z"
   },
   {
    "duration": 498,
    "start_time": "2021-09-11T15:53:48.715Z"
   },
   {
    "duration": 50,
    "start_time": "2021-09-11T15:53:49.216Z"
   },
   {
    "duration": 70,
    "start_time": "2021-09-11T15:53:49.269Z"
   },
   {
    "duration": 135,
    "start_time": "2021-09-11T15:53:49.341Z"
   },
   {
    "duration": 293,
    "start_time": "2021-09-11T15:53:49.478Z"
   },
   {
    "duration": 102,
    "start_time": "2021-09-11T15:53:49.773Z"
   },
   {
    "duration": 7,
    "start_time": "2021-09-11T15:53:49.879Z"
   },
   {
    "duration": 91,
    "start_time": "2021-09-11T15:53:49.890Z"
   },
   {
    "duration": 38,
    "start_time": "2021-09-11T15:53:49.983Z"
   },
   {
    "duration": 50,
    "start_time": "2021-09-11T15:53:50.024Z"
   },
   {
    "duration": 32,
    "start_time": "2021-09-11T15:53:50.077Z"
   },
   {
    "duration": 28,
    "start_time": "2021-09-11T15:53:50.112Z"
   },
   {
    "duration": 10,
    "start_time": "2021-09-11T15:53:50.161Z"
   },
   {
    "duration": 33,
    "start_time": "2021-09-11T15:53:50.173Z"
   },
   {
    "duration": 11,
    "start_time": "2021-09-11T15:53:50.209Z"
   },
   {
    "duration": 275,
    "start_time": "2021-09-11T15:53:50.222Z"
   },
   {
    "duration": 115,
    "start_time": "2021-09-11T15:53:50.500Z"
   },
   {
    "duration": 91,
    "start_time": "2021-09-11T15:53:50.618Z"
   },
   {
    "duration": 136,
    "start_time": "2021-09-11T15:53:50.711Z"
   },
   {
    "duration": 6821,
    "start_time": "2021-09-11T15:53:50.849Z"
   },
   {
    "duration": -335,
    "start_time": "2021-09-11T15:53:58.007Z"
   },
   {
    "duration": -338,
    "start_time": "2021-09-11T15:53:58.012Z"
   },
   {
    "duration": -338,
    "start_time": "2021-09-11T15:53:58.014Z"
   },
   {
    "duration": -354,
    "start_time": "2021-09-11T15:53:58.032Z"
   },
   {
    "duration": 1011,
    "start_time": "2021-09-11T15:56:34.966Z"
   },
   {
    "duration": -11,
    "start_time": "2021-09-11T15:57:40.476Z"
   },
   {
    "duration": -14,
    "start_time": "2021-09-11T15:57:40.480Z"
   },
   {
    "duration": 1056,
    "start_time": "2021-09-11T15:57:41.076Z"
   },
   {
    "duration": 7616,
    "start_time": "2021-09-11T16:00:03.911Z"
   },
   {
    "duration": 68,
    "start_time": "2021-09-11T16:01:03.541Z"
   },
   {
    "duration": 1372,
    "start_time": "2021-09-11T16:03:36.053Z"
   },
   {
    "duration": 506,
    "start_time": "2021-09-11T16:03:37.428Z"
   },
   {
    "duration": 47,
    "start_time": "2021-09-11T16:03:37.937Z"
   },
   {
    "duration": 89,
    "start_time": "2021-09-11T16:03:37.986Z"
   },
   {
    "duration": 133,
    "start_time": "2021-09-11T16:03:38.078Z"
   },
   {
    "duration": 303,
    "start_time": "2021-09-11T16:03:38.213Z"
   },
   {
    "duration": 100,
    "start_time": "2021-09-11T16:03:38.519Z"
   },
   {
    "duration": 7,
    "start_time": "2021-09-11T16:03:38.621Z"
   },
   {
    "duration": 79,
    "start_time": "2021-09-11T16:03:38.632Z"
   },
   {
    "duration": 48,
    "start_time": "2021-09-11T16:03:38.714Z"
   },
   {
    "duration": 36,
    "start_time": "2021-09-11T16:03:38.764Z"
   },
   {
    "duration": 32,
    "start_time": "2021-09-11T16:03:38.802Z"
   },
   {
    "duration": 49,
    "start_time": "2021-09-11T16:03:38.836Z"
   },
   {
    "duration": 9,
    "start_time": "2021-09-11T16:03:38.888Z"
   },
   {
    "duration": 34,
    "start_time": "2021-09-11T16:03:38.899Z"
   },
   {
    "duration": 38,
    "start_time": "2021-09-11T16:03:38.935Z"
   },
   {
    "duration": 263,
    "start_time": "2021-09-11T16:03:38.975Z"
   },
   {
    "duration": 124,
    "start_time": "2021-09-11T16:03:39.240Z"
   },
   {
    "duration": 65,
    "start_time": "2021-09-11T16:03:39.366Z"
   },
   {
    "duration": 161,
    "start_time": "2021-09-11T16:03:39.433Z"
   },
   {
    "duration": 6865,
    "start_time": "2021-09-11T16:03:39.597Z"
   },
   {
    "duration": 125,
    "start_time": "2021-09-11T16:03:46.339Z"
   },
   {
    "duration": 124,
    "start_time": "2021-09-11T16:03:46.342Z"
   },
   {
    "duration": 123,
    "start_time": "2021-09-11T16:03:46.345Z"
   },
   {
    "duration": 120,
    "start_time": "2021-09-11T16:03:46.349Z"
   },
   {
    "duration": 1132,
    "start_time": "2021-09-11T16:08:25.107Z"
   },
   {
    "duration": 1022,
    "start_time": "2021-09-11T16:08:40.236Z"
   },
   {
    "duration": 955,
    "start_time": "2021-09-11T16:10:43.727Z"
   },
   {
    "duration": 694,
    "start_time": "2021-09-11T16:14:52.302Z"
   },
   {
    "duration": 733,
    "start_time": "2021-09-11T16:15:11.994Z"
   },
   {
    "duration": 2355,
    "start_time": "2021-09-11T16:16:29.874Z"
   },
   {
    "duration": 781,
    "start_time": "2021-09-11T16:17:10.876Z"
   },
   {
    "duration": 937,
    "start_time": "2021-09-11T16:17:35.819Z"
   },
   {
    "duration": 2821,
    "start_time": "2021-09-11T16:17:56.212Z"
   },
   {
    "duration": 739,
    "start_time": "2021-09-11T16:18:15.355Z"
   },
   {
    "duration": 8,
    "start_time": "2021-09-11T16:26:15.881Z"
   },
   {
    "duration": 4,
    "start_time": "2021-09-11T16:26:32.578Z"
   },
   {
    "duration": 6,
    "start_time": "2021-09-11T16:27:55.461Z"
   },
   {
    "duration": 15,
    "start_time": "2021-09-11T16:29:31.531Z"
   },
   {
    "duration": 14,
    "start_time": "2021-09-11T16:30:28.267Z"
   },
   {
    "duration": 15,
    "start_time": "2021-09-11T16:30:31.112Z"
   },
   {
    "duration": 265,
    "start_time": "2021-09-11T16:48:36.532Z"
   },
   {
    "duration": 586,
    "start_time": "2021-09-11T16:48:50.689Z"
   },
   {
    "duration": 259,
    "start_time": "2021-09-11T16:49:44.192Z"
   },
   {
    "duration": 333,
    "start_time": "2021-09-11T16:49:56.977Z"
   },
   {
    "duration": 82,
    "start_time": "2021-09-11T16:51:38.863Z"
   },
   {
    "duration": 469,
    "start_time": "2021-09-11T16:51:45.668Z"
   },
   {
    "duration": 492,
    "start_time": "2021-09-11T16:51:54.661Z"
   },
   {
    "duration": 586,
    "start_time": "2021-09-11T16:52:27.283Z"
   },
   {
    "duration": 69,
    "start_time": "2021-09-11T17:06:36.457Z"
   },
   {
    "duration": 309,
    "start_time": "2021-09-11T17:06:44.626Z"
   },
   {
    "duration": 273,
    "start_time": "2021-09-11T17:07:34.446Z"
   },
   {
    "duration": 278,
    "start_time": "2021-09-11T17:08:20.237Z"
   },
   {
    "duration": 483,
    "start_time": "2021-09-11T17:08:24.333Z"
   },
   {
    "duration": 330,
    "start_time": "2021-09-11T17:08:52.835Z"
   },
   {
    "duration": 498,
    "start_time": "2021-09-11T17:08:59.969Z"
   },
   {
    "duration": 429,
    "start_time": "2021-09-11T17:09:04.963Z"
   },
   {
    "duration": 356,
    "start_time": "2021-09-11T17:09:11.049Z"
   },
   {
    "duration": 471,
    "start_time": "2021-09-11T17:12:43.950Z"
   },
   {
    "duration": 575,
    "start_time": "2021-09-11T17:13:17.515Z"
   },
   {
    "duration": 290,
    "start_time": "2021-09-11T17:13:48.734Z"
   },
   {
    "duration": 290,
    "start_time": "2021-09-11T17:14:04.416Z"
   },
   {
    "duration": 306,
    "start_time": "2021-09-11T17:14:08.356Z"
   },
   {
    "duration": 287,
    "start_time": "2021-09-11T17:14:14.212Z"
   },
   {
    "duration": 508,
    "start_time": "2021-09-11T17:14:23.866Z"
   },
   {
    "duration": 400,
    "start_time": "2021-09-11T17:15:07.147Z"
   },
   {
    "duration": 289,
    "start_time": "2021-09-11T17:15:28.920Z"
   },
   {
    "duration": 286,
    "start_time": "2021-09-11T17:15:44.452Z"
   },
   {
    "duration": 285,
    "start_time": "2021-09-11T17:15:53.344Z"
   },
   {
    "duration": 281,
    "start_time": "2021-09-11T17:16:00.012Z"
   },
   {
    "duration": 314,
    "start_time": "2021-09-11T17:16:46.947Z"
   },
   {
    "duration": 309,
    "start_time": "2021-09-11T17:18:46.677Z"
   },
   {
    "duration": 311,
    "start_time": "2021-09-11T17:18:52.458Z"
   },
   {
    "duration": 617,
    "start_time": "2021-09-11T17:18:57.888Z"
   },
   {
    "duration": 327,
    "start_time": "2021-09-11T17:19:04.169Z"
   },
   {
    "duration": 311,
    "start_time": "2021-09-11T17:19:08.528Z"
   },
   {
    "duration": 316,
    "start_time": "2021-09-11T17:19:12.536Z"
   },
   {
    "duration": 332,
    "start_time": "2021-09-11T17:20:11.782Z"
   },
   {
    "duration": 326,
    "start_time": "2021-09-11T17:20:32.281Z"
   },
   {
    "duration": 255,
    "start_time": "2021-09-11T17:23:04.158Z"
   },
   {
    "duration": 276,
    "start_time": "2021-09-11T17:23:08.450Z"
   },
   {
    "duration": 388,
    "start_time": "2021-09-11T17:23:16.448Z"
   },
   {
    "duration": 201,
    "start_time": "2021-09-11T17:24:16.042Z"
   },
   {
    "duration": 257,
    "start_time": "2021-09-11T17:24:46.299Z"
   },
   {
    "duration": 256,
    "start_time": "2021-09-11T17:24:55.371Z"
   },
   {
    "duration": 223,
    "start_time": "2021-09-11T17:25:16.748Z"
   },
   {
    "duration": 169,
    "start_time": "2021-09-11T17:25:27.300Z"
   },
   {
    "duration": 204,
    "start_time": "2021-09-11T17:25:30.939Z"
   },
   {
    "duration": 135,
    "start_time": "2021-09-11T17:28:49.267Z"
   },
   {
    "duration": 71,
    "start_time": "2021-09-11T17:28:59.399Z"
   },
   {
    "duration": 1558,
    "start_time": "2021-09-11T17:34:28.826Z"
   },
   {
    "duration": 242,
    "start_time": "2021-09-11T17:34:39.552Z"
   },
   {
    "duration": 550,
    "start_time": "2021-09-11T17:45:35.548Z"
   },
   {
    "duration": 349,
    "start_time": "2021-09-11T17:45:36.102Z"
   },
   {
    "duration": 347,
    "start_time": "2021-09-11T17:45:36.454Z"
   },
   {
    "duration": 214,
    "start_time": "2021-09-11T17:45:44.088Z"
   },
   {
    "duration": 254,
    "start_time": "2021-09-11T17:45:44.499Z"
   },
   {
    "duration": 316,
    "start_time": "2021-09-11T17:45:45.488Z"
   },
   {
    "duration": 219,
    "start_time": "2021-09-11T17:45:45.899Z"
   },
   {
    "duration": 208,
    "start_time": "2021-09-11T17:45:46.428Z"
   },
   {
    "duration": 329,
    "start_time": "2021-09-11T17:46:33.296Z"
   },
   {
    "duration": 348,
    "start_time": "2021-09-11T17:46:45.787Z"
   },
   {
    "duration": 329,
    "start_time": "2021-09-11T17:47:06.786Z"
   },
   {
    "duration": 7,
    "start_time": "2021-09-11T17:58:11.431Z"
   },
   {
    "duration": 6,
    "start_time": "2021-09-11T17:58:40.953Z"
   },
   {
    "duration": 6,
    "start_time": "2021-09-11T17:59:11.059Z"
   },
   {
    "duration": 6,
    "start_time": "2021-09-11T17:59:54.024Z"
   },
   {
    "duration": 85,
    "start_time": "2021-09-11T18:07:00.374Z"
   },
   {
    "duration": 46,
    "start_time": "2021-09-11T18:48:34.996Z"
   },
   {
    "duration": 52,
    "start_time": "2021-09-11T18:48:41.864Z"
   },
   {
    "duration": 274,
    "start_time": "2021-09-12T07:58:02.740Z"
   },
   {
    "duration": 1141,
    "start_time": "2021-09-12T07:58:09.413Z"
   },
   {
    "duration": 408,
    "start_time": "2021-09-12T07:58:10.556Z"
   },
   {
    "duration": 27,
    "start_time": "2021-09-12T07:58:10.966Z"
   },
   {
    "duration": 46,
    "start_time": "2021-09-12T07:58:10.995Z"
   },
   {
    "duration": 97,
    "start_time": "2021-09-12T07:58:11.043Z"
   },
   {
    "duration": 222,
    "start_time": "2021-09-12T07:58:11.142Z"
   },
   {
    "duration": 79,
    "start_time": "2021-09-12T07:58:11.366Z"
   },
   {
    "duration": 6,
    "start_time": "2021-09-12T07:58:11.447Z"
   },
   {
    "duration": 60,
    "start_time": "2021-09-12T07:58:11.455Z"
   },
   {
    "duration": 31,
    "start_time": "2021-09-12T07:58:11.517Z"
   },
   {
    "duration": 27,
    "start_time": "2021-09-12T07:58:11.549Z"
   },
   {
    "duration": 40,
    "start_time": "2021-09-12T07:58:11.577Z"
   },
   {
    "duration": 21,
    "start_time": "2021-09-12T07:58:11.619Z"
   },
   {
    "duration": 8,
    "start_time": "2021-09-12T07:58:11.641Z"
   },
   {
    "duration": 41,
    "start_time": "2021-09-12T07:58:11.650Z"
   },
   {
    "duration": 9,
    "start_time": "2021-09-12T07:58:11.693Z"
   },
   {
    "duration": 177,
    "start_time": "2021-09-12T07:58:11.704Z"
   },
   {
    "duration": 69,
    "start_time": "2021-09-12T07:58:11.882Z"
   },
   {
    "duration": 72,
    "start_time": "2021-09-12T07:58:11.953Z"
   },
   {
    "duration": 88,
    "start_time": "2021-09-12T07:58:12.027Z"
   },
   {
    "duration": 220,
    "start_time": "2021-09-12T07:58:12.117Z"
   },
   {
    "duration": 141,
    "start_time": "2021-09-12T07:58:12.339Z"
   },
   {
    "duration": 132,
    "start_time": "2021-09-12T07:58:12.484Z"
   },
   {
    "duration": 199,
    "start_time": "2021-09-12T07:58:12.618Z"
   },
   {
    "duration": 214,
    "start_time": "2021-09-12T07:58:12.819Z"
   },
   {
    "duration": 137,
    "start_time": "2021-09-12T07:58:13.035Z"
   },
   {
    "duration": 219,
    "start_time": "2021-09-12T07:58:13.174Z"
   },
   {
    "duration": 140,
    "start_time": "2021-09-12T07:58:13.394Z"
   },
   {
    "duration": 130,
    "start_time": "2021-09-12T07:58:13.535Z"
   },
   {
    "duration": 5,
    "start_time": "2021-09-12T07:58:13.667Z"
   },
   {
    "duration": 13,
    "start_time": "2021-09-12T07:58:13.673Z"
   },
   {
    "duration": 12,
    "start_time": "2021-09-12T07:58:13.691Z"
   },
   {
    "duration": 4,
    "start_time": "2021-09-12T07:58:13.705Z"
   },
   {
    "duration": 93,
    "start_time": "2021-09-12T07:59:54.921Z"
   },
   {
    "duration": 117,
    "start_time": "2021-09-12T08:00:04.450Z"
   },
   {
    "duration": 5,
    "start_time": "2021-09-12T08:01:37.659Z"
   },
   {
    "duration": 1204,
    "start_time": "2021-09-12T08:03:36.523Z"
   },
   {
    "duration": 462,
    "start_time": "2021-09-12T08:03:37.730Z"
   },
   {
    "duration": 31,
    "start_time": "2021-09-12T08:03:38.194Z"
   },
   {
    "duration": 74,
    "start_time": "2021-09-12T08:03:38.227Z"
   },
   {
    "duration": 116,
    "start_time": "2021-09-12T08:03:38.302Z"
   },
   {
    "duration": 207,
    "start_time": "2021-09-12T08:03:38.420Z"
   },
   {
    "duration": 70,
    "start_time": "2021-09-12T08:03:38.628Z"
   },
   {
    "duration": 8,
    "start_time": "2021-09-12T08:03:38.701Z"
   },
   {
    "duration": 51,
    "start_time": "2021-09-12T08:03:38.711Z"
   },
   {
    "duration": 46,
    "start_time": "2021-09-12T08:03:38.764Z"
   },
   {
    "duration": 24,
    "start_time": "2021-09-12T08:03:38.812Z"
   },
   {
    "duration": 26,
    "start_time": "2021-09-12T08:03:38.838Z"
   },
   {
    "duration": 41,
    "start_time": "2021-09-12T08:03:38.866Z"
   },
   {
    "duration": 9,
    "start_time": "2021-09-12T08:03:38.909Z"
   },
   {
    "duration": 25,
    "start_time": "2021-09-12T08:03:38.919Z"
   },
   {
    "duration": 9,
    "start_time": "2021-09-12T08:03:38.945Z"
   },
   {
    "duration": 184,
    "start_time": "2021-09-12T08:03:38.956Z"
   },
   {
    "duration": 72,
    "start_time": "2021-09-12T08:03:39.142Z"
   },
   {
    "duration": 43,
    "start_time": "2021-09-12T08:03:39.216Z"
   },
   {
    "duration": 103,
    "start_time": "2021-09-12T08:03:39.261Z"
   },
   {
    "duration": 228,
    "start_time": "2021-09-12T08:03:39.365Z"
   },
   {
    "duration": 140,
    "start_time": "2021-09-12T08:03:39.595Z"
   },
   {
    "duration": 126,
    "start_time": "2021-09-12T08:03:39.740Z"
   },
   {
    "duration": 216,
    "start_time": "2021-09-12T08:03:39.869Z"
   },
   {
    "duration": 217,
    "start_time": "2021-09-12T08:03:40.087Z"
   },
   {
    "duration": 139,
    "start_time": "2021-09-12T08:03:40.306Z"
   },
   {
    "duration": 208,
    "start_time": "2021-09-12T08:03:40.447Z"
   },
   {
    "duration": 149,
    "start_time": "2021-09-12T08:03:40.657Z"
   },
   {
    "duration": 129,
    "start_time": "2021-09-12T08:03:40.808Z"
   },
   {
    "duration": 5,
    "start_time": "2021-09-12T08:03:40.939Z"
   },
   {
    "duration": 9,
    "start_time": "2021-09-12T08:03:40.946Z"
   },
   {
    "duration": 14,
    "start_time": "2021-09-12T08:03:40.957Z"
   },
   {
    "duration": 21,
    "start_time": "2021-09-12T08:03:40.973Z"
   },
   {
    "duration": 4,
    "start_time": "2021-09-12T08:04:54.294Z"
   },
   {
    "duration": 5,
    "start_time": "2021-09-12T08:19:36.560Z"
   },
   {
    "duration": 2,
    "start_time": "2021-09-12T08:24:03.076Z"
   },
   {
    "duration": 340,
    "start_time": "2021-09-12T08:24:46.017Z"
   },
   {
    "duration": 6,
    "start_time": "2021-09-12T08:24:53.606Z"
   },
   {
    "duration": -564,
    "start_time": "2021-09-12T08:25:08.197Z"
   },
   {
    "duration": -106,
    "start_time": "2021-09-12T08:25:18.873Z"
   },
   {
    "duration": -125,
    "start_time": "2021-09-12T08:25:18.893Z"
   },
   {
    "duration": 1161,
    "start_time": "2021-09-12T08:26:00.883Z"
   },
   {
    "duration": 412,
    "start_time": "2021-09-12T08:26:02.045Z"
   },
   {
    "duration": 29,
    "start_time": "2021-09-12T08:26:02.459Z"
   },
   {
    "duration": 46,
    "start_time": "2021-09-12T08:26:02.490Z"
   },
   {
    "duration": 95,
    "start_time": "2021-09-12T08:26:02.538Z"
   },
   {
    "duration": 201,
    "start_time": "2021-09-12T08:26:02.634Z"
   },
   {
    "duration": 74,
    "start_time": "2021-09-12T08:26:02.837Z"
   },
   {
    "duration": 4,
    "start_time": "2021-09-12T08:26:02.913Z"
   },
   {
    "duration": 49,
    "start_time": "2021-09-12T08:26:02.921Z"
   },
   {
    "duration": 44,
    "start_time": "2021-09-12T08:26:02.973Z"
   },
   {
    "duration": 25,
    "start_time": "2021-09-12T08:26:03.019Z"
   },
   {
    "duration": 51,
    "start_time": "2021-09-12T08:26:03.046Z"
   },
   {
    "duration": 22,
    "start_time": "2021-09-12T08:26:03.098Z"
   },
   {
    "duration": 9,
    "start_time": "2021-09-12T08:26:03.121Z"
   },
   {
    "duration": 21,
    "start_time": "2021-09-12T08:26:03.132Z"
   },
   {
    "duration": 8,
    "start_time": "2021-09-12T08:26:03.155Z"
   },
   {
    "duration": 187,
    "start_time": "2021-09-12T08:26:03.164Z"
   },
   {
    "duration": 6,
    "start_time": "2021-09-12T08:26:03.352Z"
   },
   {
    "duration": 335,
    "start_time": "2021-09-12T08:26:03.359Z"
   },
   {
    "duration": 73,
    "start_time": "2021-09-12T08:26:03.623Z"
   },
   {
    "duration": 63,
    "start_time": "2021-09-12T08:26:03.634Z"
   },
   {
    "duration": 53,
    "start_time": "2021-09-12T08:26:03.645Z"
   },
   {
    "duration": 45,
    "start_time": "2021-09-12T08:26:03.654Z"
   },
   {
    "duration": 35,
    "start_time": "2021-09-12T08:26:03.665Z"
   },
   {
    "duration": 27,
    "start_time": "2021-09-12T08:26:03.674Z"
   },
   {
    "duration": 17,
    "start_time": "2021-09-12T08:26:03.684Z"
   },
   {
    "duration": 8,
    "start_time": "2021-09-12T08:26:03.694Z"
   },
   {
    "duration": -1,
    "start_time": "2021-09-12T08:26:03.704Z"
   },
   {
    "duration": -26,
    "start_time": "2021-09-12T08:26:03.730Z"
   },
   {
    "duration": -34,
    "start_time": "2021-09-12T08:26:03.739Z"
   },
   {
    "duration": -40,
    "start_time": "2021-09-12T08:26:03.746Z"
   },
   {
    "duration": -45,
    "start_time": "2021-09-12T08:26:03.752Z"
   },
   {
    "duration": -49,
    "start_time": "2021-09-12T08:26:03.757Z"
   },
   {
    "duration": -53,
    "start_time": "2021-09-12T08:26:03.762Z"
   },
   {
    "duration": 3198,
    "start_time": "2021-09-12T08:26:25.794Z"
   },
   {
    "duration": 1138,
    "start_time": "2021-09-12T08:26:39.118Z"
   },
   {
    "duration": 411,
    "start_time": "2021-09-12T08:26:40.258Z"
   },
   {
    "duration": 29,
    "start_time": "2021-09-12T08:26:40.671Z"
   },
   {
    "duration": 49,
    "start_time": "2021-09-12T08:26:40.702Z"
   },
   {
    "duration": 100,
    "start_time": "2021-09-12T08:26:40.753Z"
   },
   {
    "duration": 193,
    "start_time": "2021-09-12T08:26:40.855Z"
   },
   {
    "duration": 67,
    "start_time": "2021-09-12T08:26:41.050Z"
   },
   {
    "duration": 4,
    "start_time": "2021-09-12T08:26:41.119Z"
   },
   {
    "duration": 50,
    "start_time": "2021-09-12T08:26:41.125Z"
   },
   {
    "duration": 44,
    "start_time": "2021-09-12T08:26:41.177Z"
   },
   {
    "duration": 27,
    "start_time": "2021-09-12T08:26:41.223Z"
   },
   {
    "duration": 43,
    "start_time": "2021-09-12T08:26:41.252Z"
   },
   {
    "duration": 20,
    "start_time": "2021-09-12T08:26:41.297Z"
   },
   {
    "duration": 9,
    "start_time": "2021-09-12T08:26:41.319Z"
   },
   {
    "duration": 21,
    "start_time": "2021-09-12T08:26:41.330Z"
   },
   {
    "duration": 9,
    "start_time": "2021-09-12T08:26:41.352Z"
   },
   {
    "duration": 195,
    "start_time": "2021-09-12T08:26:41.364Z"
   },
   {
    "duration": 6,
    "start_time": "2021-09-12T08:26:41.561Z"
   },
   {
    "duration": 354,
    "start_time": "2021-09-12T08:26:41.569Z"
   },
   {
    "duration": 47,
    "start_time": "2021-09-12T08:26:41.879Z"
   },
   {
    "duration": 39,
    "start_time": "2021-09-12T08:26:41.889Z"
   },
   {
    "duration": 29,
    "start_time": "2021-09-12T08:26:41.900Z"
   },
   {
    "duration": 21,
    "start_time": "2021-09-12T08:26:41.909Z"
   },
   {
    "duration": 13,
    "start_time": "2021-09-12T08:26:41.919Z"
   },
   {
    "duration": 4,
    "start_time": "2021-09-12T08:26:41.929Z"
   },
   {
    "duration": -4,
    "start_time": "2021-09-12T08:26:41.938Z"
   },
   {
    "duration": -11,
    "start_time": "2021-09-12T08:26:41.947Z"
   },
   {
    "duration": -20,
    "start_time": "2021-09-12T08:26:41.957Z"
   },
   {
    "duration": -42,
    "start_time": "2021-09-12T08:26:41.981Z"
   },
   {
    "duration": -52,
    "start_time": "2021-09-12T08:26:41.992Z"
   },
   {
    "duration": -60,
    "start_time": "2021-09-12T08:26:42.002Z"
   },
   {
    "duration": -72,
    "start_time": "2021-09-12T08:26:42.015Z"
   },
   {
    "duration": -84,
    "start_time": "2021-09-12T08:26:42.029Z"
   },
   {
    "duration": -93,
    "start_time": "2021-09-12T08:26:42.039Z"
   },
   {
    "duration": 1157,
    "start_time": "2021-09-12T08:28:32.307Z"
   },
   {
    "duration": 446,
    "start_time": "2021-09-12T08:28:33.466Z"
   },
   {
    "duration": 31,
    "start_time": "2021-09-12T08:28:33.915Z"
   },
   {
    "duration": 51,
    "start_time": "2021-09-12T08:28:33.948Z"
   },
   {
    "duration": 106,
    "start_time": "2021-09-12T08:28:34.001Z"
   },
   {
    "duration": 224,
    "start_time": "2021-09-12T08:28:34.109Z"
   },
   {
    "duration": 78,
    "start_time": "2021-09-12T08:28:34.335Z"
   },
   {
    "duration": 4,
    "start_time": "2021-09-12T08:28:34.415Z"
   },
   {
    "duration": 50,
    "start_time": "2021-09-12T08:28:34.421Z"
   },
   {
    "duration": 45,
    "start_time": "2021-09-12T08:28:34.473Z"
   },
   {
    "duration": 30,
    "start_time": "2021-09-12T08:28:34.520Z"
   },
   {
    "duration": 49,
    "start_time": "2021-09-12T08:28:34.552Z"
   },
   {
    "duration": 23,
    "start_time": "2021-09-12T08:28:34.603Z"
   },
   {
    "duration": 10,
    "start_time": "2021-09-12T08:28:34.628Z"
   },
   {
    "duration": 25,
    "start_time": "2021-09-12T08:28:34.640Z"
   },
   {
    "duration": 31,
    "start_time": "2021-09-12T08:28:34.667Z"
   },
   {
    "duration": 179,
    "start_time": "2021-09-12T08:28:34.699Z"
   },
   {
    "duration": 29,
    "start_time": "2021-09-12T08:28:34.881Z"
   },
   {
    "duration": 84,
    "start_time": "2021-09-12T08:28:34.912Z"
   },
   {
    "duration": 44,
    "start_time": "2021-09-12T08:28:34.998Z"
   },
   {
    "duration": 105,
    "start_time": "2021-09-12T08:28:35.044Z"
   },
   {
    "duration": 216,
    "start_time": "2021-09-12T08:28:35.151Z"
   },
   {
    "duration": 151,
    "start_time": "2021-09-12T08:28:35.371Z"
   },
   {
    "duration": 129,
    "start_time": "2021-09-12T08:28:35.524Z"
   },
   {
    "duration": 209,
    "start_time": "2021-09-12T08:28:35.655Z"
   },
   {
    "duration": 206,
    "start_time": "2021-09-12T08:28:35.866Z"
   },
   {
    "duration": 136,
    "start_time": "2021-09-12T08:28:36.074Z"
   },
   {
    "duration": 203,
    "start_time": "2021-09-12T08:28:36.212Z"
   },
   {
    "duration": 139,
    "start_time": "2021-09-12T08:28:36.416Z"
   },
   {
    "duration": 134,
    "start_time": "2021-09-12T08:28:36.557Z"
   },
   {
    "duration": 5,
    "start_time": "2021-09-12T08:28:36.693Z"
   },
   {
    "duration": 12,
    "start_time": "2021-09-12T08:28:36.699Z"
   },
   {
    "duration": 9,
    "start_time": "2021-09-12T08:28:36.713Z"
   },
   {
    "duration": 4,
    "start_time": "2021-09-12T08:28:36.724Z"
   },
   {
    "duration": 329,
    "start_time": "2021-09-12T08:29:10.026Z"
   },
   {
    "duration": 1090,
    "start_time": "2021-09-12T08:29:18.553Z"
   },
   {
    "duration": 417,
    "start_time": "2021-09-12T08:29:19.645Z"
   },
   {
    "duration": 30,
    "start_time": "2021-09-12T08:29:20.064Z"
   },
   {
    "duration": 48,
    "start_time": "2021-09-12T08:29:20.096Z"
   },
   {
    "duration": 106,
    "start_time": "2021-09-12T08:29:20.146Z"
   },
   {
    "duration": 215,
    "start_time": "2021-09-12T08:29:20.254Z"
   },
   {
    "duration": 76,
    "start_time": "2021-09-12T08:29:20.471Z"
   },
   {
    "duration": 4,
    "start_time": "2021-09-12T08:29:20.549Z"
   },
   {
    "duration": 56,
    "start_time": "2021-09-12T08:29:20.556Z"
   },
   {
    "duration": 31,
    "start_time": "2021-09-12T08:29:20.614Z"
   },
   {
    "duration": 25,
    "start_time": "2021-09-12T08:29:20.647Z"
   },
   {
    "duration": 42,
    "start_time": "2021-09-12T08:29:20.674Z"
   },
   {
    "duration": 22,
    "start_time": "2021-09-12T08:29:20.717Z"
   },
   {
    "duration": 8,
    "start_time": "2021-09-12T08:29:20.740Z"
   },
   {
    "duration": 42,
    "start_time": "2021-09-12T08:29:20.750Z"
   },
   {
    "duration": 10,
    "start_time": "2021-09-12T08:29:20.794Z"
   },
   {
    "duration": 175,
    "start_time": "2021-09-12T08:29:20.805Z"
   },
   {
    "duration": 22,
    "start_time": "2021-09-12T08:29:20.982Z"
   },
   {
    "duration": 57,
    "start_time": "2021-09-12T08:29:21.006Z"
   },
   {
    "duration": 62,
    "start_time": "2021-09-12T08:29:21.065Z"
   },
   {
    "duration": 77,
    "start_time": "2021-09-12T08:29:21.129Z"
   },
   {
    "duration": 208,
    "start_time": "2021-09-12T08:29:21.208Z"
   },
   {
    "duration": 137,
    "start_time": "2021-09-12T08:29:21.418Z"
   },
   {
    "duration": 127,
    "start_time": "2021-09-12T08:29:21.556Z"
   },
   {
    "duration": 202,
    "start_time": "2021-09-12T08:29:21.691Z"
   },
   {
    "duration": 213,
    "start_time": "2021-09-12T08:29:21.895Z"
   },
   {
    "duration": 140,
    "start_time": "2021-09-12T08:29:22.112Z"
   },
   {
    "duration": 198,
    "start_time": "2021-09-12T08:29:22.254Z"
   },
   {
    "duration": 133,
    "start_time": "2021-09-12T08:29:22.453Z"
   },
   {
    "duration": 132,
    "start_time": "2021-09-12T08:29:22.592Z"
   },
   {
    "duration": 5,
    "start_time": "2021-09-12T08:29:22.725Z"
   },
   {
    "duration": 9,
    "start_time": "2021-09-12T08:29:22.732Z"
   },
   {
    "duration": 10,
    "start_time": "2021-09-12T08:29:22.743Z"
   },
   {
    "duration": 4,
    "start_time": "2021-09-12T08:29:22.755Z"
   },
   {
    "duration": 335,
    "start_time": "2021-09-12T08:30:04.476Z"
   },
   {
    "duration": 3,
    "start_time": "2021-09-12T08:31:29.246Z"
   },
   {
    "duration": 3,
    "start_time": "2021-09-12T08:32:01.353Z"
   },
   {
    "duration": 21,
    "start_time": "2021-09-12T08:32:04.479Z"
   },
   {
    "duration": 4,
    "start_time": "2021-09-12T08:32:16.259Z"
   },
   {
    "duration": 13,
    "start_time": "2021-09-12T08:35:34.493Z"
   },
   {
    "duration": 32,
    "start_time": "2021-09-12T08:35:40.764Z"
   },
   {
    "duration": 7,
    "start_time": "2021-09-12T08:36:31.849Z"
   },
   {
    "duration": 6,
    "start_time": "2021-09-12T08:36:40.209Z"
   },
   {
    "duration": 6,
    "start_time": "2021-09-12T08:36:44.078Z"
   },
   {
    "duration": 5,
    "start_time": "2021-09-12T08:41:09.881Z"
   },
   {
    "duration": 5,
    "start_time": "2021-09-12T08:42:05.033Z"
   },
   {
    "duration": 6,
    "start_time": "2021-09-12T08:43:09.627Z"
   },
   {
    "duration": 9,
    "start_time": "2021-09-12T08:43:26.511Z"
   },
   {
    "duration": 8,
    "start_time": "2021-09-12T08:44:11.134Z"
   },
   {
    "duration": 81,
    "start_time": "2021-09-12T08:44:25.493Z"
   },
   {
    "duration": 8,
    "start_time": "2021-09-12T08:44:29.591Z"
   },
   {
    "duration": 1118,
    "start_time": "2021-09-12T08:45:07.357Z"
   },
   {
    "duration": 446,
    "start_time": "2021-09-12T08:45:08.477Z"
   },
   {
    "duration": 30,
    "start_time": "2021-09-12T08:45:08.925Z"
   },
   {
    "duration": 51,
    "start_time": "2021-09-12T08:45:08.956Z"
   },
   {
    "duration": 89,
    "start_time": "2021-09-12T08:45:09.009Z"
   },
   {
    "duration": 207,
    "start_time": "2021-09-12T08:45:09.099Z"
   },
   {
    "duration": 65,
    "start_time": "2021-09-12T08:45:09.308Z"
   },
   {
    "duration": 4,
    "start_time": "2021-09-12T08:45:09.374Z"
   },
   {
    "duration": 15,
    "start_time": "2021-09-12T08:45:09.380Z"
   },
   {
    "duration": 53,
    "start_time": "2021-09-12T08:45:09.397Z"
   },
   {
    "duration": 33,
    "start_time": "2021-09-12T08:45:09.452Z"
   },
   {
    "duration": 29,
    "start_time": "2021-09-12T08:45:09.486Z"
   },
   {
    "duration": 34,
    "start_time": "2021-09-12T08:45:09.517Z"
   },
   {
    "duration": 26,
    "start_time": "2021-09-12T08:45:09.552Z"
   },
   {
    "duration": 14,
    "start_time": "2021-09-12T08:45:09.580Z"
   },
   {
    "duration": 25,
    "start_time": "2021-09-12T08:45:09.596Z"
   },
   {
    "duration": 8,
    "start_time": "2021-09-12T08:45:09.623Z"
   },
   {
    "duration": 195,
    "start_time": "2021-09-12T08:45:09.632Z"
   },
   {
    "duration": 3,
    "start_time": "2021-09-12T08:45:09.829Z"
   },
   {
    "duration": 7,
    "start_time": "2021-09-12T08:45:09.834Z"
   },
   {
    "duration": 78,
    "start_time": "2021-09-12T08:45:09.842Z"
   },
   {
    "duration": 38,
    "start_time": "2021-09-12T08:45:09.921Z"
   },
   {
    "duration": 70,
    "start_time": "2021-09-12T08:45:09.961Z"
   },
   {
    "duration": 221,
    "start_time": "2021-09-12T08:45:10.033Z"
   },
   {
    "duration": 193,
    "start_time": "2021-09-12T08:45:10.255Z"
   },
   {
    "duration": 166,
    "start_time": "2021-09-12T08:45:10.449Z"
   },
   {
    "duration": 322,
    "start_time": "2021-09-12T08:45:10.619Z"
   },
   {
    "duration": 200,
    "start_time": "2021-09-12T08:45:10.943Z"
   },
   {
    "duration": 141,
    "start_time": "2021-09-12T08:45:11.144Z"
   },
   {
    "duration": 263,
    "start_time": "2021-09-12T08:45:11.292Z"
   },
   {
    "duration": 143,
    "start_time": "2021-09-12T08:45:11.557Z"
   },
   {
    "duration": 133,
    "start_time": "2021-09-12T08:45:11.701Z"
   },
   {
    "duration": 5,
    "start_time": "2021-09-12T08:45:11.836Z"
   },
   {
    "duration": 9,
    "start_time": "2021-09-12T08:45:11.842Z"
   },
   {
    "duration": 10,
    "start_time": "2021-09-12T08:45:11.853Z"
   },
   {
    "duration": 4,
    "start_time": "2021-09-12T08:45:11.865Z"
   },
   {
    "duration": 1183,
    "start_time": "2021-09-12T08:52:57.459Z"
   },
   {
    "duration": 404,
    "start_time": "2021-09-12T08:52:58.644Z"
   },
   {
    "duration": 31,
    "start_time": "2021-09-12T08:52:59.050Z"
   },
   {
    "duration": 49,
    "start_time": "2021-09-12T08:52:59.083Z"
   },
   {
    "duration": 106,
    "start_time": "2021-09-12T08:52:59.134Z"
   },
   {
    "duration": 209,
    "start_time": "2021-09-12T08:52:59.242Z"
   },
   {
    "duration": 71,
    "start_time": "2021-09-12T08:52:59.453Z"
   },
   {
    "duration": 5,
    "start_time": "2021-09-12T08:52:59.527Z"
   },
   {
    "duration": 34,
    "start_time": "2021-09-12T08:52:59.535Z"
   },
   {
    "duration": 53,
    "start_time": "2021-09-12T08:52:59.571Z"
   },
   {
    "duration": 31,
    "start_time": "2021-09-12T08:52:59.626Z"
   },
   {
    "duration": 37,
    "start_time": "2021-09-12T08:52:59.659Z"
   },
   {
    "duration": 27,
    "start_time": "2021-09-12T08:52:59.698Z"
   },
   {
    "duration": 20,
    "start_time": "2021-09-12T08:52:59.727Z"
   },
   {
    "duration": 15,
    "start_time": "2021-09-12T08:52:59.748Z"
   },
   {
    "duration": 31,
    "start_time": "2021-09-12T08:52:59.765Z"
   },
   {
    "duration": 8,
    "start_time": "2021-09-12T08:52:59.798Z"
   },
   {
    "duration": 174,
    "start_time": "2021-09-12T08:52:59.808Z"
   },
   {
    "duration": 4,
    "start_time": "2021-09-12T08:52:59.983Z"
   },
   {
    "duration": 19,
    "start_time": "2021-09-12T08:52:59.991Z"
   },
   {
    "duration": 77,
    "start_time": "2021-09-12T08:53:00.011Z"
   },
   {
    "duration": 37,
    "start_time": "2021-09-12T08:53:00.090Z"
   },
   {
    "duration": 79,
    "start_time": "2021-09-12T08:53:00.131Z"
   },
   {
    "duration": 213,
    "start_time": "2021-09-12T08:53:00.212Z"
   },
   {
    "duration": 149,
    "start_time": "2021-09-12T08:53:00.427Z"
   },
   {
    "duration": 131,
    "start_time": "2021-09-12T08:53:00.578Z"
   },
   {
    "duration": 217,
    "start_time": "2021-09-12T08:53:00.711Z"
   },
   {
    "duration": 219,
    "start_time": "2021-09-12T08:53:00.930Z"
   },
   {
    "duration": 142,
    "start_time": "2021-09-12T08:53:01.151Z"
   },
   {
    "duration": 206,
    "start_time": "2021-09-12T08:53:01.295Z"
   },
   {
    "duration": 140,
    "start_time": "2021-09-12T08:53:01.503Z"
   },
   {
    "duration": 129,
    "start_time": "2021-09-12T08:53:01.645Z"
   },
   {
    "duration": 5,
    "start_time": "2021-09-12T08:53:01.776Z"
   },
   {
    "duration": 32,
    "start_time": "2021-09-12T08:53:01.783Z"
   },
   {
    "duration": 30,
    "start_time": "2021-09-12T08:53:01.816Z"
   },
   {
    "duration": 9,
    "start_time": "2021-09-12T08:53:01.848Z"
   }
  ],
  "kernelspec": {
   "display_name": "Python 3",
   "language": "python",
   "name": "python3"
  },
  "language_info": {
   "codemirror_mode": {
    "name": "ipython",
    "version": 3
   },
   "file_extension": ".py",
   "mimetype": "text/x-python",
   "name": "python",
   "nbconvert_exporter": "python",
   "pygments_lexer": "ipython3",
   "version": "3.8.8"
  },
  "toc": {
   "base_numbering": 1,
   "nav_menu": {},
   "number_sections": true,
   "sideBar": true,
   "skip_h1_title": true,
   "title_cell": "Содержание",
   "title_sidebar": "Contents",
   "toc_cell": true,
   "toc_position": {},
   "toc_section_display": true,
   "toc_window_display": false
  }
 },
 "nbformat": 4,
 "nbformat_minor": 2
}
