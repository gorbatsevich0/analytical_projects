{
 "cells": [
  {
   "cell_type": "markdown",
   "metadata": {},
   "source": [
    "## Описание проекта\n",
    "Из открытых источников доступны исторические данные о продажах игр, оценки пользователей и экспертов, жанры и платформы (например, Xbox или PlayStation).Для анализа предоставлены данные до 2016 года."
   ]
  },
  {
   "cell_type": "markdown",
   "metadata": {},
   "source": [
    "## Цель проекта\n",
    "Выявить определяющие успешность игры закономерности. Это позволит сделать ставку на потенциально популярный продукт и спланировать рекламные кампании."
   ]
  },
  {
   "cell_type": "markdown",
   "metadata": {},
   "source": [
    "## Описание данных\n",
    "В таблице присутствуют следующие столбцы: \n",
    "* Name — название игры;\n",
    "* Platform — платформа;\n",
    "* Year_of_Release — год выпуска;\n",
    "* Genre — жанр игры;\n",
    "* NA_sales — продажи в Северной Америке (миллионы проданных копий);\n",
    "* EU_sales — продажи в Европе (миллионы проданных копий);\n",
    "* JP_sales — продажи в Японии (миллионы проданных копий);\n",
    "* Other_sales — продажи в других странах (миллионы проданных копий);\n",
    "* Critic_Score — оценка критиков (максимум 100);\n",
    "* User_Score — оценка пользователей (максимум 10)\n",
    "* Rating — рейтинг от организации ESRB (англ. Entertainment Software Rating Board). Эта ассоциация определяет рейтинг компьютерных игр и присваивает им подходящую возрастную категорию."
   ]
  },
  {
   "cell_type": "markdown",
   "metadata": {},
   "source": [
    "## Изучение данных из файлов"
   ]
  },
  {
   "cell_type": "code",
   "execution_count": 1,
   "metadata": {},
   "outputs": [],
   "source": [
    "import pandas as pd\n",
    "import matplotlib.pyplot as plt\n",
    "import numpy as np\n",
    "import math\n",
    "import seaborn as sns\n",
    "from scipy import stats as st"
   ]
  },
  {
   "cell_type": "code",
   "execution_count": 2,
   "metadata": {},
   "outputs": [
    {
     "data": {
      "text/html": [
       "<div>\n",
       "<style scoped>\n",
       "    .dataframe tbody tr th:only-of-type {\n",
       "        vertical-align: middle;\n",
       "    }\n",
       "\n",
       "    .dataframe tbody tr th {\n",
       "        vertical-align: top;\n",
       "    }\n",
       "\n",
       "    .dataframe thead th {\n",
       "        text-align: right;\n",
       "    }\n",
       "</style>\n",
       "<table border=\"1\" class=\"dataframe\">\n",
       "  <thead>\n",
       "    <tr style=\"text-align: right;\">\n",
       "      <th></th>\n",
       "      <th>Name</th>\n",
       "      <th>Platform</th>\n",
       "      <th>Year_of_Release</th>\n",
       "      <th>Genre</th>\n",
       "      <th>NA_sales</th>\n",
       "      <th>EU_sales</th>\n",
       "      <th>JP_sales</th>\n",
       "      <th>Other_sales</th>\n",
       "      <th>Critic_Score</th>\n",
       "      <th>User_Score</th>\n",
       "      <th>Rating</th>\n",
       "    </tr>\n",
       "  </thead>\n",
       "  <tbody>\n",
       "    <tr>\n",
       "      <th>0</th>\n",
       "      <td>Wii Sports</td>\n",
       "      <td>Wii</td>\n",
       "      <td>2006.0</td>\n",
       "      <td>Sports</td>\n",
       "      <td>41.36</td>\n",
       "      <td>28.96</td>\n",
       "      <td>3.77</td>\n",
       "      <td>8.45</td>\n",
       "      <td>76.0</td>\n",
       "      <td>8</td>\n",
       "      <td>E</td>\n",
       "    </tr>\n",
       "    <tr>\n",
       "      <th>1</th>\n",
       "      <td>Super Mario Bros.</td>\n",
       "      <td>NES</td>\n",
       "      <td>1985.0</td>\n",
       "      <td>Platform</td>\n",
       "      <td>29.08</td>\n",
       "      <td>3.58</td>\n",
       "      <td>6.81</td>\n",
       "      <td>0.77</td>\n",
       "      <td>NaN</td>\n",
       "      <td>NaN</td>\n",
       "      <td>NaN</td>\n",
       "    </tr>\n",
       "    <tr>\n",
       "      <th>2</th>\n",
       "      <td>Mario Kart Wii</td>\n",
       "      <td>Wii</td>\n",
       "      <td>2008.0</td>\n",
       "      <td>Racing</td>\n",
       "      <td>15.68</td>\n",
       "      <td>12.76</td>\n",
       "      <td>3.79</td>\n",
       "      <td>3.29</td>\n",
       "      <td>82.0</td>\n",
       "      <td>8.3</td>\n",
       "      <td>E</td>\n",
       "    </tr>\n",
       "    <tr>\n",
       "      <th>3</th>\n",
       "      <td>Wii Sports Resort</td>\n",
       "      <td>Wii</td>\n",
       "      <td>2009.0</td>\n",
       "      <td>Sports</td>\n",
       "      <td>15.61</td>\n",
       "      <td>10.93</td>\n",
       "      <td>3.28</td>\n",
       "      <td>2.95</td>\n",
       "      <td>80.0</td>\n",
       "      <td>8</td>\n",
       "      <td>E</td>\n",
       "    </tr>\n",
       "    <tr>\n",
       "      <th>4</th>\n",
       "      <td>Pokemon Red/Pokemon Blue</td>\n",
       "      <td>GB</td>\n",
       "      <td>1996.0</td>\n",
       "      <td>Role-Playing</td>\n",
       "      <td>11.27</td>\n",
       "      <td>8.89</td>\n",
       "      <td>10.22</td>\n",
       "      <td>1.00</td>\n",
       "      <td>NaN</td>\n",
       "      <td>NaN</td>\n",
       "      <td>NaN</td>\n",
       "    </tr>\n",
       "  </tbody>\n",
       "</table>\n",
       "</div>"
      ],
      "text/plain": [
       "                       Name Platform  Year_of_Release         Genre  NA_sales  \\\n",
       "0                Wii Sports      Wii           2006.0        Sports     41.36   \n",
       "1         Super Mario Bros.      NES           1985.0      Platform     29.08   \n",
       "2            Mario Kart Wii      Wii           2008.0        Racing     15.68   \n",
       "3         Wii Sports Resort      Wii           2009.0        Sports     15.61   \n",
       "4  Pokemon Red/Pokemon Blue       GB           1996.0  Role-Playing     11.27   \n",
       "\n",
       "   EU_sales  JP_sales  Other_sales  Critic_Score User_Score Rating  \n",
       "0     28.96      3.77         8.45          76.0          8      E  \n",
       "1      3.58      6.81         0.77           NaN        NaN    NaN  \n",
       "2     12.76      3.79         3.29          82.0        8.3      E  \n",
       "3     10.93      3.28         2.95          80.0          8      E  \n",
       "4      8.89     10.22         1.00           NaN        NaN    NaN  "
      ]
     },
     "metadata": {},
     "output_type": "display_data"
    }
   ],
   "source": [
    "data=pd.read_csv(\"E:\\\\games.csv\")\n",
    "#первые строки данной таблицы\n",
    "display(data.head())"
   ]
  },
  {
   "cell_type": "code",
   "execution_count": 3,
   "metadata": {
    "scrolled": true
   },
   "outputs": [
    {
     "name": "stdout",
     "output_type": "stream",
     "text": [
      "<class 'pandas.core.frame.DataFrame'>\n",
      "RangeIndex: 16715 entries, 0 to 16714\n",
      "Data columns (total 11 columns):\n",
      " #   Column           Non-Null Count  Dtype  \n",
      "---  ------           --------------  -----  \n",
      " 0   Name             16713 non-null  object \n",
      " 1   Platform         16715 non-null  object \n",
      " 2   Year_of_Release  16446 non-null  float64\n",
      " 3   Genre            16713 non-null  object \n",
      " 4   NA_sales         16715 non-null  float64\n",
      " 5   EU_sales         16715 non-null  float64\n",
      " 6   JP_sales         16715 non-null  float64\n",
      " 7   Other_sales      16715 non-null  float64\n",
      " 8   Critic_Score     8137 non-null   float64\n",
      " 9   User_Score       10014 non-null  object \n",
      " 10  Rating           9949 non-null   object \n",
      "dtypes: float64(6), object(5)\n",
      "memory usage: 1.4+ MB\n"
     ]
    }
   ],
   "source": [
    "#общая информация о данных\n",
    "data.info()"
   ]
  },
  {
   "cell_type": "code",
   "execution_count": 4,
   "metadata": {
    "scrolled": true
   },
   "outputs": [
    {
     "data": {
      "text/html": [
       "<div>\n",
       "<style scoped>\n",
       "    .dataframe tbody tr th:only-of-type {\n",
       "        vertical-align: middle;\n",
       "    }\n",
       "\n",
       "    .dataframe tbody tr th {\n",
       "        vertical-align: top;\n",
       "    }\n",
       "\n",
       "    .dataframe thead th {\n",
       "        text-align: right;\n",
       "    }\n",
       "</style>\n",
       "<table border=\"1\" class=\"dataframe\">\n",
       "  <thead>\n",
       "    <tr style=\"text-align: right;\">\n",
       "      <th></th>\n",
       "      <th>Year_of_Release</th>\n",
       "      <th>NA_sales</th>\n",
       "      <th>EU_sales</th>\n",
       "      <th>JP_sales</th>\n",
       "      <th>Other_sales</th>\n",
       "      <th>Critic_Score</th>\n",
       "    </tr>\n",
       "  </thead>\n",
       "  <tbody>\n",
       "    <tr>\n",
       "      <th>count</th>\n",
       "      <td>16446.000000</td>\n",
       "      <td>16715.000000</td>\n",
       "      <td>16715.000000</td>\n",
       "      <td>16715.000000</td>\n",
       "      <td>16715.000000</td>\n",
       "      <td>8137.000000</td>\n",
       "    </tr>\n",
       "    <tr>\n",
       "      <th>mean</th>\n",
       "      <td>2006.484616</td>\n",
       "      <td>0.263377</td>\n",
       "      <td>0.145060</td>\n",
       "      <td>0.077617</td>\n",
       "      <td>0.047342</td>\n",
       "      <td>68.967679</td>\n",
       "    </tr>\n",
       "    <tr>\n",
       "      <th>std</th>\n",
       "      <td>5.877050</td>\n",
       "      <td>0.813604</td>\n",
       "      <td>0.503339</td>\n",
       "      <td>0.308853</td>\n",
       "      <td>0.186731</td>\n",
       "      <td>13.938165</td>\n",
       "    </tr>\n",
       "    <tr>\n",
       "      <th>min</th>\n",
       "      <td>1980.000000</td>\n",
       "      <td>0.000000</td>\n",
       "      <td>0.000000</td>\n",
       "      <td>0.000000</td>\n",
       "      <td>0.000000</td>\n",
       "      <td>13.000000</td>\n",
       "    </tr>\n",
       "    <tr>\n",
       "      <th>25%</th>\n",
       "      <td>2003.000000</td>\n",
       "      <td>0.000000</td>\n",
       "      <td>0.000000</td>\n",
       "      <td>0.000000</td>\n",
       "      <td>0.000000</td>\n",
       "      <td>60.000000</td>\n",
       "    </tr>\n",
       "    <tr>\n",
       "      <th>50%</th>\n",
       "      <td>2007.000000</td>\n",
       "      <td>0.080000</td>\n",
       "      <td>0.020000</td>\n",
       "      <td>0.000000</td>\n",
       "      <td>0.010000</td>\n",
       "      <td>71.000000</td>\n",
       "    </tr>\n",
       "    <tr>\n",
       "      <th>75%</th>\n",
       "      <td>2010.000000</td>\n",
       "      <td>0.240000</td>\n",
       "      <td>0.110000</td>\n",
       "      <td>0.040000</td>\n",
       "      <td>0.030000</td>\n",
       "      <td>79.000000</td>\n",
       "    </tr>\n",
       "    <tr>\n",
       "      <th>max</th>\n",
       "      <td>2016.000000</td>\n",
       "      <td>41.360000</td>\n",
       "      <td>28.960000</td>\n",
       "      <td>10.220000</td>\n",
       "      <td>10.570000</td>\n",
       "      <td>98.000000</td>\n",
       "    </tr>\n",
       "  </tbody>\n",
       "</table>\n",
       "</div>"
      ],
      "text/plain": [
       "       Year_of_Release      NA_sales      EU_sales      JP_sales  \\\n",
       "count     16446.000000  16715.000000  16715.000000  16715.000000   \n",
       "mean       2006.484616      0.263377      0.145060      0.077617   \n",
       "std           5.877050      0.813604      0.503339      0.308853   \n",
       "min        1980.000000      0.000000      0.000000      0.000000   \n",
       "25%        2003.000000      0.000000      0.000000      0.000000   \n",
       "50%        2007.000000      0.080000      0.020000      0.000000   \n",
       "75%        2010.000000      0.240000      0.110000      0.040000   \n",
       "max        2016.000000     41.360000     28.960000     10.220000   \n",
       "\n",
       "        Other_sales  Critic_Score  \n",
       "count  16715.000000   8137.000000  \n",
       "mean       0.047342     68.967679  \n",
       "std        0.186731     13.938165  \n",
       "min        0.000000     13.000000  \n",
       "25%        0.000000     60.000000  \n",
       "50%        0.010000     71.000000  \n",
       "75%        0.030000     79.000000  \n",
       "max       10.570000     98.000000  "
      ]
     },
     "metadata": {},
     "output_type": "display_data"
    }
   ],
   "source": [
    "#общая информация о значениях таблицы\n",
    "display(data.describe())"
   ]
  },
  {
   "cell_type": "markdown",
   "metadata": {},
   "source": [
    "###  Вывод об исходных данных\n",
    "При изучении данных из файлов были обнаружены следующие проблемы:\n",
    "* Пропуски в столбце Name-заменить невозможно, поэтому данные стоит удалить(составляют менее 5% выборки).\n",
    "* Пропуски в столбце Year_of_Release-заменить невозможно, поэтому данные стоит удалить(составляют менее 5% выборки).\n",
    "* Пропуски в столбце Genre-заменить невозможно, поэтому данные стоит удалить(составляют менее 5% выборки).\n",
    "* Пропуски в столбце Critic_Score невозможно заменить без искажения статистики, поэтому оставим пропуски.\n",
    "* Пропуски в столбце User_Score невозможно заменить без искажения статистики, поэтому оставим пропуски.\n",
    "* Пропуски в столбце Rating, где год меньше 1994(год основания рейтинга) заменим на значение Unknown, остальные значения  без возрастного ограничения заменим на значения \"undefined\".\n",
    "* Названия столбцов следует заменить, приведя к нижнему регистру.\n",
    "* Столбец Year_of_Release имеет тип данных float64, его следует заменить на int для категоризации данных(замена на тип данных даты и времени неуместна, так как в дальнейшем исследовании значения будут сравниваться для категоризации данных \"актуального периода\").\n",
    "* Столбец User_Score имеет тип данных object, который нужно привести в тип float64."
   ]
  },
  {
   "cell_type": "markdown",
   "metadata": {},
   "source": [
    "## Предобработка данных\n"
   ]
  },
  {
   "cell_type": "code",
   "execution_count": 5,
   "metadata": {},
   "outputs": [],
   "source": [
    "#приведение к нижнему регистру названия столбцов\n",
    "data.columns=data.columns.str.lower()"
   ]
  },
  {
   "cell_type": "code",
   "execution_count": 6,
   "metadata": {},
   "outputs": [],
   "source": [
    "#удаление пропущенных значений в столбцах name, year_of_release, genre\n",
    "data.dropna(subset=['name','year_of_release','genre'],inplace=True)"
   ]
  },
  {
   "cell_type": "code",
   "execution_count": 7,
   "metadata": {},
   "outputs": [],
   "source": [
    "#замена типа данных в столбце year_of_release на целое(int)\n",
    "data['year_of_release']=data['year_of_release'].astype('int')"
   ]
  },
  {
   "cell_type": "code",
   "execution_count": 8,
   "metadata": {},
   "outputs": [
    {
     "data": {
      "text/plain": [
       "array(['8', nan, '8.3', '8.5', '6.6', '8.4', '8.6', '7.7', '6.3', '7.4',\n",
       "       '8.2', '9', '7.9', '8.1', '8.7', '7.1', '3.4', '5.3', '4.8', '3.2',\n",
       "       '8.9', '6.4', '7.8', '7.5', '2.6', '7.2', '9.2', '7', '7.3', '4.3',\n",
       "       '7.6', '5.7', '5', '9.1', '6.5', 'tbd', '8.8', '6.9', '9.4', '6.8',\n",
       "       '6.1', '6.7', '5.4', '4', '4.9', '4.5', '9.3', '6.2', '4.2', '6',\n",
       "       '3.7', '4.1', '5.8', '5.6', '5.5', '4.4', '4.6', '5.9', '3.9',\n",
       "       '3.1', '2.9', '5.2', '3.3', '4.7', '5.1', '3.5', '2.5', '1.9', '3',\n",
       "       '2.7', '2.2', '2', '9.5', '2.1', '3.6', '2.8', '1.8', '3.8', '0',\n",
       "       '1.6', '9.6', '2.4', '1.7', '1.1', '0.3', '1.5', '0.7', '1.2',\n",
       "       '2.3', '0.5', '1.3', '0.2', '0.6', '1.4', '0.9', '1', '9.7'],\n",
       "      dtype=object)"
      ]
     },
     "execution_count": 8,
     "metadata": {},
     "output_type": "execute_result"
    }
   ],
   "source": [
    "#нахождение уникальных значений столбца user_score\n",
    "data['user_score'].unique()"
   ]
  },
  {
   "cell_type": "markdown",
   "metadata": {},
   "source": [
    "<font size=\"2\"><b>В столбце user_score были обнаружены значения \"tbd\". To Be Determined, то есть \"Будет определено\". Значит, что пользователи еще не определились с оценкой, поэтому эти значения можно заменить на значение nan, так как если заменять средним по группам, то будет искажение статистики и дальнейших выводов.</b></font>"
   ]
  },
  {
   "cell_type": "code",
   "execution_count": 9,
   "metadata": {},
   "outputs": [
    {
     "name": "stdout",
     "output_type": "stream",
     "text": [
      "<class 'pandas.core.frame.DataFrame'>\n",
      "Int64Index: 16444 entries, 0 to 16714\n",
      "Data columns (total 11 columns):\n",
      " #   Column           Non-Null Count  Dtype  \n",
      "---  ------           --------------  -----  \n",
      " 0   name             16444 non-null  object \n",
      " 1   platform         16444 non-null  object \n",
      " 2   year_of_release  16444 non-null  int32  \n",
      " 3   genre            16444 non-null  object \n",
      " 4   na_sales         16444 non-null  float64\n",
      " 5   eu_sales         16444 non-null  float64\n",
      " 6   jp_sales         16444 non-null  float64\n",
      " 7   other_sales      16444 non-null  float64\n",
      " 8   critic_score     7983 non-null   float64\n",
      " 9   user_score       7463 non-null   float64\n",
      " 10  rating           9768 non-null   object \n",
      "dtypes: float64(6), int32(1), object(4)\n",
      "memory usage: 1.4+ MB\n"
     ]
    }
   ],
   "source": [
    "#замена значений \"tbd\" на пропущенные значения\n",
    "data.loc[data['user_score']=='tbd', 'user_score'] = np.nan\n",
    "\n",
    "#преобразование типа данных столбца user_score в float64\n",
    "data['user_score']=data['user_score'].astype('float64')\n",
    "\n",
    "data.info()"
   ]
  },
  {
   "cell_type": "code",
   "execution_count": 10,
   "metadata": {},
   "outputs": [],
   "source": [
    "#замена значений в тех годах, когда рейтинга ESRB не существовало на значение \"Unknown\"\n",
    "data.loc[data['year_of_release']<1994,'rating']='Unknown'\n",
    "\n",
    "#замена пропусков в столбце rating на значение undefined для игр без возрастных ограничений\n",
    "data['rating']=data['rating'].fillna(\"undefined\")"
   ]
  },
  {
   "cell_type": "code",
   "execution_count": 11,
   "metadata": {},
   "outputs": [
    {
     "name": "stdout",
     "output_type": "stream",
     "text": [
      "<class 'pandas.core.frame.DataFrame'>\n",
      "Int64Index: 16444 entries, 0 to 16714\n",
      "Data columns (total 11 columns):\n",
      " #   Column           Non-Null Count  Dtype  \n",
      "---  ------           --------------  -----  \n",
      " 0   name             16444 non-null  object \n",
      " 1   platform         16444 non-null  object \n",
      " 2   year_of_release  16444 non-null  int32  \n",
      " 3   genre            16444 non-null  object \n",
      " 4   na_sales         16444 non-null  float64\n",
      " 5   eu_sales         16444 non-null  float64\n",
      " 6   jp_sales         16444 non-null  float64\n",
      " 7   other_sales      16444 non-null  float64\n",
      " 8   critic_score     7983 non-null   float64\n",
      " 9   user_score       7463 non-null   float64\n",
      " 10  rating           16444 non-null  object \n",
      "dtypes: float64(6), int32(1), object(4)\n",
      "memory usage: 1.4+ MB\n"
     ]
    }
   ],
   "source": [
    "#проверка на пропуски\n",
    "data.info()"
   ]
  },
  {
   "cell_type": "markdown",
   "metadata": {},
   "source": [
    "### Вывод о проделанной предобработке данных\n",
    "* Названия столбцов приведены к нижнему регистру. \n",
    "* Удалены пропущенные значения в столбцах name, year_of_release, genre.\n",
    "* Тип данных в столбце year_of_release заменен на целый(int).\n",
    "* В столбце user_score, все значения равные \"tbd\" были заменены на пропуски(nan).\n",
    "* Произведена замена в столбце rating: для игр, выпущенных до 1994-на значение \"Unknown\";  для остальных игр пропуски были заменены на значение \"undefined\"(игры без возрастных ограничений).\n",
    "* Столбец user_score преобразован  в тип  float64\n"
   ]
  },
  {
   "cell_type": "markdown",
   "metadata": {},
   "source": [
    "## Расчёты и добавление результатов в таблицу"
   ]
  },
  {
   "cell_type": "code",
   "execution_count": 12,
   "metadata": {},
   "outputs": [
    {
     "data": {
      "text/html": [
       "<div>\n",
       "<style scoped>\n",
       "    .dataframe tbody tr th:only-of-type {\n",
       "        vertical-align: middle;\n",
       "    }\n",
       "\n",
       "    .dataframe tbody tr th {\n",
       "        vertical-align: top;\n",
       "    }\n",
       "\n",
       "    .dataframe thead th {\n",
       "        text-align: right;\n",
       "    }\n",
       "</style>\n",
       "<table border=\"1\" class=\"dataframe\">\n",
       "  <thead>\n",
       "    <tr style=\"text-align: right;\">\n",
       "      <th></th>\n",
       "      <th>name</th>\n",
       "      <th>platform</th>\n",
       "      <th>year_of_release</th>\n",
       "      <th>genre</th>\n",
       "      <th>na_sales</th>\n",
       "      <th>eu_sales</th>\n",
       "      <th>jp_sales</th>\n",
       "      <th>other_sales</th>\n",
       "      <th>critic_score</th>\n",
       "      <th>user_score</th>\n",
       "      <th>rating</th>\n",
       "      <th>all_regions_sales</th>\n",
       "    </tr>\n",
       "  </thead>\n",
       "  <tbody>\n",
       "    <tr>\n",
       "      <th>0</th>\n",
       "      <td>Wii Sports</td>\n",
       "      <td>Wii</td>\n",
       "      <td>2006</td>\n",
       "      <td>Sports</td>\n",
       "      <td>41.36</td>\n",
       "      <td>28.96</td>\n",
       "      <td>3.77</td>\n",
       "      <td>8.45</td>\n",
       "      <td>76.0</td>\n",
       "      <td>8.0</td>\n",
       "      <td>E</td>\n",
       "      <td>74.09</td>\n",
       "    </tr>\n",
       "    <tr>\n",
       "      <th>1</th>\n",
       "      <td>Super Mario Bros.</td>\n",
       "      <td>NES</td>\n",
       "      <td>1985</td>\n",
       "      <td>Platform</td>\n",
       "      <td>29.08</td>\n",
       "      <td>3.58</td>\n",
       "      <td>6.81</td>\n",
       "      <td>0.77</td>\n",
       "      <td>NaN</td>\n",
       "      <td>NaN</td>\n",
       "      <td>Unknown</td>\n",
       "      <td>39.47</td>\n",
       "    </tr>\n",
       "    <tr>\n",
       "      <th>2</th>\n",
       "      <td>Mario Kart Wii</td>\n",
       "      <td>Wii</td>\n",
       "      <td>2008</td>\n",
       "      <td>Racing</td>\n",
       "      <td>15.68</td>\n",
       "      <td>12.76</td>\n",
       "      <td>3.79</td>\n",
       "      <td>3.29</td>\n",
       "      <td>82.0</td>\n",
       "      <td>8.3</td>\n",
       "      <td>E</td>\n",
       "      <td>32.23</td>\n",
       "    </tr>\n",
       "    <tr>\n",
       "      <th>3</th>\n",
       "      <td>Wii Sports Resort</td>\n",
       "      <td>Wii</td>\n",
       "      <td>2009</td>\n",
       "      <td>Sports</td>\n",
       "      <td>15.61</td>\n",
       "      <td>10.93</td>\n",
       "      <td>3.28</td>\n",
       "      <td>2.95</td>\n",
       "      <td>80.0</td>\n",
       "      <td>8.0</td>\n",
       "      <td>E</td>\n",
       "      <td>29.82</td>\n",
       "    </tr>\n",
       "    <tr>\n",
       "      <th>4</th>\n",
       "      <td>Pokemon Red/Pokemon Blue</td>\n",
       "      <td>GB</td>\n",
       "      <td>1996</td>\n",
       "      <td>Role-Playing</td>\n",
       "      <td>11.27</td>\n",
       "      <td>8.89</td>\n",
       "      <td>10.22</td>\n",
       "      <td>1.00</td>\n",
       "      <td>NaN</td>\n",
       "      <td>NaN</td>\n",
       "      <td>undefined</td>\n",
       "      <td>30.38</td>\n",
       "    </tr>\n",
       "    <tr>\n",
       "      <th>...</th>\n",
       "      <td>...</td>\n",
       "      <td>...</td>\n",
       "      <td>...</td>\n",
       "      <td>...</td>\n",
       "      <td>...</td>\n",
       "      <td>...</td>\n",
       "      <td>...</td>\n",
       "      <td>...</td>\n",
       "      <td>...</td>\n",
       "      <td>...</td>\n",
       "      <td>...</td>\n",
       "      <td>...</td>\n",
       "    </tr>\n",
       "    <tr>\n",
       "      <th>16710</th>\n",
       "      <td>Samurai Warriors: Sanada Maru</td>\n",
       "      <td>PS3</td>\n",
       "      <td>2016</td>\n",
       "      <td>Action</td>\n",
       "      <td>0.00</td>\n",
       "      <td>0.00</td>\n",
       "      <td>0.01</td>\n",
       "      <td>0.00</td>\n",
       "      <td>NaN</td>\n",
       "      <td>NaN</td>\n",
       "      <td>undefined</td>\n",
       "      <td>0.01</td>\n",
       "    </tr>\n",
       "    <tr>\n",
       "      <th>16711</th>\n",
       "      <td>LMA Manager 2007</td>\n",
       "      <td>X360</td>\n",
       "      <td>2006</td>\n",
       "      <td>Sports</td>\n",
       "      <td>0.00</td>\n",
       "      <td>0.01</td>\n",
       "      <td>0.00</td>\n",
       "      <td>0.00</td>\n",
       "      <td>NaN</td>\n",
       "      <td>NaN</td>\n",
       "      <td>undefined</td>\n",
       "      <td>0.01</td>\n",
       "    </tr>\n",
       "    <tr>\n",
       "      <th>16712</th>\n",
       "      <td>Haitaka no Psychedelica</td>\n",
       "      <td>PSV</td>\n",
       "      <td>2016</td>\n",
       "      <td>Adventure</td>\n",
       "      <td>0.00</td>\n",
       "      <td>0.00</td>\n",
       "      <td>0.01</td>\n",
       "      <td>0.00</td>\n",
       "      <td>NaN</td>\n",
       "      <td>NaN</td>\n",
       "      <td>undefined</td>\n",
       "      <td>0.01</td>\n",
       "    </tr>\n",
       "    <tr>\n",
       "      <th>16713</th>\n",
       "      <td>Spirits &amp; Spells</td>\n",
       "      <td>GBA</td>\n",
       "      <td>2003</td>\n",
       "      <td>Platform</td>\n",
       "      <td>0.01</td>\n",
       "      <td>0.00</td>\n",
       "      <td>0.00</td>\n",
       "      <td>0.00</td>\n",
       "      <td>NaN</td>\n",
       "      <td>NaN</td>\n",
       "      <td>undefined</td>\n",
       "      <td>0.01</td>\n",
       "    </tr>\n",
       "    <tr>\n",
       "      <th>16714</th>\n",
       "      <td>Winning Post 8 2016</td>\n",
       "      <td>PSV</td>\n",
       "      <td>2016</td>\n",
       "      <td>Simulation</td>\n",
       "      <td>0.00</td>\n",
       "      <td>0.00</td>\n",
       "      <td>0.01</td>\n",
       "      <td>0.00</td>\n",
       "      <td>NaN</td>\n",
       "      <td>NaN</td>\n",
       "      <td>undefined</td>\n",
       "      <td>0.01</td>\n",
       "    </tr>\n",
       "  </tbody>\n",
       "</table>\n",
       "<p>16444 rows × 12 columns</p>\n",
       "</div>"
      ],
      "text/plain": [
       "                                name platform  year_of_release         genre  \\\n",
       "0                         Wii Sports      Wii             2006        Sports   \n",
       "1                  Super Mario Bros.      NES             1985      Platform   \n",
       "2                     Mario Kart Wii      Wii             2008        Racing   \n",
       "3                  Wii Sports Resort      Wii             2009        Sports   \n",
       "4           Pokemon Red/Pokemon Blue       GB             1996  Role-Playing   \n",
       "...                              ...      ...              ...           ...   \n",
       "16710  Samurai Warriors: Sanada Maru      PS3             2016        Action   \n",
       "16711               LMA Manager 2007     X360             2006        Sports   \n",
       "16712        Haitaka no Psychedelica      PSV             2016     Adventure   \n",
       "16713               Spirits & Spells      GBA             2003      Platform   \n",
       "16714            Winning Post 8 2016      PSV             2016    Simulation   \n",
       "\n",
       "       na_sales  eu_sales  jp_sales  other_sales  critic_score  user_score  \\\n",
       "0         41.36     28.96      3.77         8.45          76.0         8.0   \n",
       "1         29.08      3.58      6.81         0.77           NaN         NaN   \n",
       "2         15.68     12.76      3.79         3.29          82.0         8.3   \n",
       "3         15.61     10.93      3.28         2.95          80.0         8.0   \n",
       "4         11.27      8.89     10.22         1.00           NaN         NaN   \n",
       "...         ...       ...       ...          ...           ...         ...   \n",
       "16710      0.00      0.00      0.01         0.00           NaN         NaN   \n",
       "16711      0.00      0.01      0.00         0.00           NaN         NaN   \n",
       "16712      0.00      0.00      0.01         0.00           NaN         NaN   \n",
       "16713      0.01      0.00      0.00         0.00           NaN         NaN   \n",
       "16714      0.00      0.00      0.01         0.00           NaN         NaN   \n",
       "\n",
       "          rating  all_regions_sales  \n",
       "0              E              74.09  \n",
       "1        Unknown              39.47  \n",
       "2              E              32.23  \n",
       "3              E              29.82  \n",
       "4      undefined              30.38  \n",
       "...          ...                ...  \n",
       "16710  undefined               0.01  \n",
       "16711  undefined               0.01  \n",
       "16712  undefined               0.01  \n",
       "16713  undefined               0.01  \n",
       "16714  undefined               0.01  \n",
       "\n",
       "[16444 rows x 12 columns]"
      ]
     },
     "execution_count": 12,
     "metadata": {},
     "output_type": "execute_result"
    }
   ],
   "source": [
    "#добавление столбца со значением  суммарных продаж во всех регионах\n",
    "data['all_regions_sales']=data['na_sales']+data['eu_sales']+data['jp_sales']\n",
    "data"
   ]
  },
  {
   "cell_type": "markdown",
   "metadata": {},
   "source": [
    "### Вывод\n",
    "* Посчитан и добавлен столбец all_regions_sales со значением суммарных продаж во всех регионах."
   ]
  },
  {
   "cell_type": "markdown",
   "metadata": {},
   "source": [
    "## Исследовательский анализ данных"
   ]
  },
  {
   "cell_type": "code",
   "execution_count": 13,
   "metadata": {},
   "outputs": [
    {
     "data": {
      "text/plain": [
       "<matplotlib.legend.Legend at 0x1c8b17d7dc0>"
      ]
     },
     "execution_count": 13,
     "metadata": {},
     "output_type": "execute_result"
    },
    {
     "data": {
      "image/png": "[encoded data removed]",
      "text/plain": [
       "<Figure size 432x288 with 1 Axes>"
      ]
     },
     "metadata": {
      "needs_background": "light"
     },
     "output_type": "display_data"
    }
   ],
   "source": [
    "#сколько игр выпускалось в разные годы\n",
    "m=data.pivot_table(index='year_of_release',aggfunc='count',values='critic_score')\n",
    "plt.plot(m['critic_score'],color='#cb4154',label='number of games')\n",
    "plt.xlim(1980,2015)\n",
    "plt.title(\"How many games were released in different years\")\n",
    "plt.xlabel('years')\n",
    "plt.ylabel('quantity')\n",
    "plt.legend()"
   ]
  },
  {
   "cell_type": "markdown",
   "metadata": {},
   "source": [
    "### Сколько игр выпускалось в разные годы. Вывод\n",
    "* Из данного графика видно, что наибольшее количество выпущенных игр приходится на 2009-2011 года, резкий рост начинается с 2005 года, так как индустрия начала быстрое развитие после усовершенствования технологий. Поэтому данные за 1980-2004 год являются не релевантными для дальнейшего исследования."
   ]
  },
  {
   "cell_type": "code",
   "execution_count": 14,
   "metadata": {},
   "outputs": [
    {
     "data": {
      "text/html": [
       "<div>\n",
       "<style scoped>\n",
       "    .dataframe tbody tr th:only-of-type {\n",
       "        vertical-align: middle;\n",
       "    }\n",
       "\n",
       "    .dataframe tbody tr th {\n",
       "        vertical-align: top;\n",
       "    }\n",
       "\n",
       "    .dataframe thead th {\n",
       "        text-align: right;\n",
       "    }\n",
       "</style>\n",
       "<table border=\"1\" class=\"dataframe\">\n",
       "  <thead>\n",
       "    <tr style=\"text-align: right;\">\n",
       "      <th></th>\n",
       "      <th>sum sales by platforms</th>\n",
       "    </tr>\n",
       "    <tr>\n",
       "      <th>platform</th>\n",
       "      <th></th>\n",
       "    </tr>\n",
       "  </thead>\n",
       "  <tbody>\n",
       "    <tr>\n",
       "      <th>PS2</th>\n",
       "      <td>1043.09</td>\n",
       "    </tr>\n",
       "    <tr>\n",
       "      <th>X360</th>\n",
       "      <td>876.36</td>\n",
       "    </tr>\n",
       "    <tr>\n",
       "      <th>Wii</th>\n",
       "      <td>813.47</td>\n",
       "    </tr>\n",
       "    <tr>\n",
       "      <th>PS3</th>\n",
       "      <td>796.75</td>\n",
       "    </tr>\n",
       "    <tr>\n",
       "      <th>DS</th>\n",
       "      <td>743.74</td>\n",
       "    </tr>\n",
       "    <tr>\n",
       "      <th>PS</th>\n",
       "      <td>686.89</td>\n",
       "    </tr>\n",
       "    <tr>\n",
       "      <th>GBA</th>\n",
       "      <td>305.27</td>\n",
       "    </tr>\n",
       "    <tr>\n",
       "      <th>PS4</th>\n",
       "      <td>265.79</td>\n",
       "    </tr>\n",
       "    <tr>\n",
       "      <th>PSP</th>\n",
       "      <td>248.77</td>\n",
       "    </tr>\n",
       "    <tr>\n",
       "      <th>GB</th>\n",
       "      <td>246.27</td>\n",
       "    </tr>\n",
       "    <tr>\n",
       "      <th>NES</th>\n",
       "      <td>245.74</td>\n",
       "    </tr>\n",
       "    <tr>\n",
       "      <th>3DS</th>\n",
       "      <td>244.54</td>\n",
       "    </tr>\n",
       "    <tr>\n",
       "      <th>XB</th>\n",
       "      <td>243.09</td>\n",
       "    </tr>\n",
       "    <tr>\n",
       "      <th>PC</th>\n",
       "      <td>233.88</td>\n",
       "    </tr>\n",
       "    <tr>\n",
       "      <th>N64</th>\n",
       "      <td>213.70</td>\n",
       "    </tr>\n",
       "    <tr>\n",
       "      <th>SNES</th>\n",
       "      <td>196.82</td>\n",
       "    </tr>\n",
       "    <tr>\n",
       "      <th>GC</th>\n",
       "      <td>191.60</td>\n",
       "    </tr>\n",
       "    <tr>\n",
       "      <th>XOne</th>\n",
       "      <td>145.05</td>\n",
       "    </tr>\n",
       "    <tr>\n",
       "      <th>2600</th>\n",
       "      <td>85.64</td>\n",
       "    </tr>\n",
       "    <tr>\n",
       "      <th>WiiU</th>\n",
       "      <td>76.24</td>\n",
       "    </tr>\n",
       "    <tr>\n",
       "      <th>PSV</th>\n",
       "      <td>47.38</td>\n",
       "    </tr>\n",
       "    <tr>\n",
       "      <th>SAT</th>\n",
       "      <td>33.52</td>\n",
       "    </tr>\n",
       "    <tr>\n",
       "      <th>GEN</th>\n",
       "      <td>27.46</td>\n",
       "    </tr>\n",
       "    <tr>\n",
       "      <th>DC</th>\n",
       "      <td>15.68</td>\n",
       "    </tr>\n",
       "    <tr>\n",
       "      <th>SCD</th>\n",
       "      <td>1.81</td>\n",
       "    </tr>\n",
       "    <tr>\n",
       "      <th>NG</th>\n",
       "      <td>1.44</td>\n",
       "    </tr>\n",
       "    <tr>\n",
       "      <th>WS</th>\n",
       "      <td>1.42</td>\n",
       "    </tr>\n",
       "    <tr>\n",
       "      <th>TG16</th>\n",
       "      <td>0.16</td>\n",
       "    </tr>\n",
       "    <tr>\n",
       "      <th>3DO</th>\n",
       "      <td>0.10</td>\n",
       "    </tr>\n",
       "    <tr>\n",
       "      <th>GG</th>\n",
       "      <td>0.04</td>\n",
       "    </tr>\n",
       "    <tr>\n",
       "      <th>PCFX</th>\n",
       "      <td>0.03</td>\n",
       "    </tr>\n",
       "  </tbody>\n",
       "</table>\n",
       "</div>"
      ],
      "text/plain": [
       "          sum sales by platforms\n",
       "platform                        \n",
       "PS2                      1043.09\n",
       "X360                      876.36\n",
       "Wii                       813.47\n",
       "PS3                       796.75\n",
       "DS                        743.74\n",
       "PS                        686.89\n",
       "GBA                       305.27\n",
       "PS4                       265.79\n",
       "PSP                       248.77\n",
       "GB                        246.27\n",
       "NES                       245.74\n",
       "3DS                       244.54\n",
       "XB                        243.09\n",
       "PC                        233.88\n",
       "N64                       213.70\n",
       "SNES                      196.82\n",
       "GC                        191.60\n",
       "XOne                      145.05\n",
       "2600                       85.64\n",
       "WiiU                       76.24\n",
       "PSV                        47.38\n",
       "SAT                        33.52\n",
       "GEN                        27.46\n",
       "DC                         15.68\n",
       "SCD                         1.81\n",
       "NG                          1.44\n",
       "WS                          1.42\n",
       "TG16                        0.16\n",
       "3DO                         0.10\n",
       "GG                          0.04\n",
       "PCFX                        0.03"
      ]
     },
     "execution_count": 14,
     "metadata": {},
     "output_type": "execute_result"
    }
   ],
   "source": [
    "#платформы с наибольшим количеством продаж\n",
    "n=data.pivot_table(index='platform',aggfunc='sum',values='all_regions_sales')\n",
    "n.columns=['sum sales by platforms']\n",
    "n.sort_values(by='sum sales by platforms',ascending=False)"
   ]
  },
  {
   "cell_type": "markdown",
   "metadata": {},
   "source": [
    "<font size=\"2\"><b>Лидерами продаж являются такие платформы, как: PS2,X360,Wii,PS3,PS. Для построения распределения по годам возьмем данные платформы.</b></font>"
   ]
  },
  {
   "cell_type": "code",
   "execution_count": 15,
   "metadata": {
    "scrolled": true
   },
   "outputs": [
    {
     "data": {
      "text/plain": [
       "Text(0.5, 0, 'years')"
      ]
     },
     "execution_count": 15,
     "metadata": {},
     "output_type": "execute_result"
    },
    {
     "data": {
      "image/png": "[encoded data removed]",
      "text/plain": [
       "<Figure size 432x288 with 1 Axes>"
      ]
     },
     "metadata": {
      "needs_background": "light"
     },
     "output_type": "display_data"
    }
   ],
   "source": [
    "#распределение по суммарным продажам для платформы PS2\n",
    "ps2=data.query('platform==\"PS2\"')\n",
    "ps2_pivot=ps2.pivot_table(index='year_of_release',aggfunc='sum',values='all_regions_sales')\n",
    "plt.plot(ps2_pivot['all_regions_sales'],color='#cb4154',label='PS2 total sales')\n",
    "plt.xlim(2000,2011)\n",
    "plt.legend()\n",
    "plt.title('Total sales for the PS2 platform by year')\n",
    "plt.ylabel('quantity')\n",
    "plt.xlabel('years')"
   ]
  },
  {
   "cell_type": "markdown",
   "metadata": {},
   "source": [
    "<font size=\"2\"><b>Из данного графика видно, что начиная с года введения на рынок(2000 год) до пика продаж(2002 год) прошло 2 года, а также спад продаж начался в 2005 году. Исходя из графика  следует вывод что жизненный цикл для игр платформы PS2 длился 10 лет(2000-2010 год).</b></font>"
   ]
  },
  {
   "cell_type": "code",
   "execution_count": 16,
   "metadata": {},
   "outputs": [
    {
     "data": {
      "text/plain": [
       "Text(0.5, 0, 'years')"
      ]
     },
     "execution_count": 16,
     "metadata": {},
     "output_type": "execute_result"
    },
    {
     "data": {
      "image/png": "[encoded data removed]",
      "text/plain": [
       "<Figure size 432x288 with 1 Axes>"
      ]
     },
     "metadata": {
      "needs_background": "light"
     },
     "output_type": "display_data"
    }
   ],
   "source": [
    "#распределение по суммарным продажам для платформы X360\n",
    "x360=data.query('platform==\"X360\"')\n",
    "x360_pivot=x360.pivot_table(index='year_of_release',aggfunc='sum',values='all_regions_sales')\n",
    "plt.plot(x360_pivot['all_regions_sales'],color='#cb4154',label='X360 total sales')\n",
    "plt.xlim(2005,2016)\n",
    "plt.legend()\n",
    "plt.title('Total sales for the X360 platform by year')\n",
    "plt.ylabel('quantity')\n",
    "plt.xlabel('years')"
   ]
  },
  {
   "cell_type": "markdown",
   "metadata": {},
   "source": [
    "<font size=\"2\"><b>Из данного графика видно, что начиная с года введения на рынок(~2005 год) до пика продаж(2008-2010 год) прошло 3-5 лет, а также спад продаж начался в 2012 году. Исходя из графика  следует вывод что жизненный цикл для игр платформы X360 длился 10 лет(2006-2016 год).</b></font>"
   ]
  },
  {
   "cell_type": "code",
   "execution_count": 17,
   "metadata": {
    "scrolled": true
   },
   "outputs": [
    {
     "data": {
      "text/plain": [
       "Text(0.5, 0, 'years')"
      ]
     },
     "execution_count": 17,
     "metadata": {},
     "output_type": "execute_result"
    },
    {
     "data": {
      "image/png": "[encoded data removed]",
      "text/plain": [
       "<Figure size 432x288 with 1 Axes>"
      ]
     },
     "metadata": {
      "needs_background": "light"
     },
     "output_type": "display_data"
    }
   ],
   "source": [
    "#распределение по суммарным продажам для платформы Wii\n",
    "Wii=data.query('platform==\"Wii\"')\n",
    "Wii_pivot=Wii.pivot_table(index='year_of_release',aggfunc='sum',values='all_regions_sales')\n",
    "plt.plot(Wii_pivot['all_regions_sales'],color='#cb4154',label='Wii total sales')\n",
    "plt.xlim(2006,2016)\n",
    "plt.legend()\n",
    "plt.title('Total sales for the Wii platform by year')\n",
    "plt.ylabel('quantity')\n",
    "plt.xlabel('years')"
   ]
  },
  {
   "cell_type": "markdown",
   "metadata": {},
   "source": [
    "<font size=\"2\"><b>Из данного графика видно, что начиная с года введения на рынок(2006 год) до пика продаж(2009 год) прошло 3 года, а также спад продаж начался в 2010 году. Исходя из графика  следует вывод что жизненный цикл для игр платформы Wii длился 10 лет(2006-2016 год).</b></font>"
   ]
  },
  {
   "cell_type": "code",
   "execution_count": 18,
   "metadata": {
    "scrolled": true
   },
   "outputs": [
    {
     "data": {
      "text/plain": [
       "Text(0.5, 0, 'years')"
      ]
     },
     "execution_count": 18,
     "metadata": {},
     "output_type": "execute_result"
    },
    {
     "data": {
      "image/png": "[encoded data removed]",
      "text/plain": [
       "<Figure size 432x288 with 1 Axes>"
      ]
     },
     "metadata": {
      "needs_background": "light"
     },
     "output_type": "display_data"
    }
   ],
   "source": [
    "#распределение по суммарным продажам для платформы PS3\n",
    "PS3=data.query('platform==\"PS3\"')\n",
    "PS3_pivot=PS3.pivot_table(index='year_of_release',aggfunc='sum',values='all_regions_sales')\n",
    "plt.plot(PS3_pivot['all_regions_sales'],color='#cb4154',label='PS3 total sales')\n",
    "plt.xlim(2006,2016)\n",
    "plt.legend()\n",
    "plt.title('Total sales for the PS3 platform by year')\n",
    "plt.ylabel('quantity')\n",
    "plt.xlabel('years')"
   ]
  },
  {
   "cell_type": "markdown",
   "metadata": {},
   "source": [
    "<font size=\"2\"><b>Из данного графика видно, что начиная с года введения на рынок(2006 год) до пика продаж(2011 год) прошло 4 года, а также спад продаж начался в 2013 году. Исходя из графика  следует вывод что жизненный цикл для игр  платформы PS2 длился 10 лет(2010-2016 год).</b></font>"
   ]
  },
  {
   "cell_type": "markdown",
   "metadata": {},
   "source": [
    "### Вывод о продолжительности жизни игр на платформах\n",
    "* Исходя из вышепредставленных графиков можно сделать вывод, что с момента введения платформы на рынок до ее пика продаж проходит в среднем 3.5 года(это может быть связвно с тем, что за это время разработчики игр подстраиваются под новую платформу и выпускают новые игры на новых для рынка платформах). Средний жизненный цикл игр на платформах составляет 10 лет."
   ]
  },
  {
   "cell_type": "code",
   "execution_count": 19,
   "metadata": {
    "scrolled": true
   },
   "outputs": [
    {
     "data": {
      "text/plain": [
       "(2000.0, 2016.0)"
      ]
     },
     "execution_count": 19,
     "metadata": {},
     "output_type": "execute_result"
    },
    {
     "data": {
      "image/png": "[encoded data removed]",
      "text/plain": [
       "<Figure size 432x288 with 1 Axes>"
      ]
     },
     "metadata": {
      "needs_background": "light"
     },
     "output_type": "display_data"
    }
   ],
   "source": [
    "#общий график для топовых платформ для определения актуального периода\n",
    "plt.plot(ps2_pivot['all_regions_sales'],label='PS2 total sales')\n",
    "plt.plot(x360_pivot['all_regions_sales'],label='X360 total sales')\n",
    "plt.plot(Wii_pivot['all_regions_sales'],label='Wii total sales')\n",
    "plt.plot(PS3_pivot['all_regions_sales'],label='PS3 total sales')\n",
    "plt.legend()\n",
    "plt.title('Total sales for the TOP platforms by year')\n",
    "plt.ylabel('quantity')\n",
    "plt.xlabel('years')\n",
    "plt.xlim(2000,2016)"
   ]
  },
  {
   "cell_type": "markdown",
   "metadata": {},
   "source": [
    "### Вывод об актуальном периоде\n",
    "Исходя из данного графика видно, что самые новые платформы такие, как PS3,X360 начинают терять продажи начиная с 2012 года,Wii(начиная с 2011 года), значит происходит период смены тренда и это наилучшее время для выведения на рынок новых(инновационных) платформ."
   ]
  },
  {
   "cell_type": "markdown",
   "metadata": {},
   "source": [
    "<div class=\"alert alert-success\">\n",
    "    \n",
    "<b> Комментарий от ревьюера</b>\n",
    "    \n",
    "Ты правильно определила продолжительность жизни\n",
    "</div>"
   ]
  },
  {
   "cell_type": "markdown",
   "metadata": {},
   "source": [
    "<font size=\"5\"><b>Исходя из прошлых выводов \"актуальным периодом\" является период с 2011-2016 года.</b></font>"
   ]
  },
  {
   "cell_type": "markdown",
   "metadata": {},
   "source": [
    "<div class=\"alert alert-danger\">\n",
    "    \n",
    "<b> Комментарий от ревьюера</b>\n",
    "    \n",
    "Нужно уменьшить актуальный период.\n",
    "\n",
    "Если мы будем рассматривать данные с 2005 по 2016 гг, то захватим период смены тренда на рынке видеоигр, плюс мы видим по графикам выше, что многие платформы за это время успели потерять свою популярность.\n",
    "\n",
    "Подумай, пожалуйста, о жизненном цикле продукта и годе выхода последнего поколения игровых платформ. Будет здорово, если в актуальный период не попадут старые тренды, которые могут негативно повлиять на наши рекомендации.\n",
    "</div>\n",
    "\n"
   ]
  },
  {
   "cell_type": "code",
   "execution_count": 20,
   "metadata": {},
   "outputs": [],
   "source": [
    "#новая таблица со значениями 2011-2016 год\n",
    "data_new=data.query('year_of_release>2010')"
   ]
  },
  {
   "cell_type": "markdown",
   "metadata": {},
   "source": [
    "<div class=\"alert alert-success\">\n",
    "    \n",
    "<b> Комментарий от ревьюера 2</b>\n",
    "\n",
    "Ты права, данных с 2011 года будет достаточно для прогноза на 2017\n",
    "\n",
    "</div>"
   ]
  },
  {
   "cell_type": "code",
   "execution_count": 21,
   "metadata": {
    "scrolled": false
   },
   "outputs": [
    {
     "data": {
      "text/html": [
       "<div>\n",
       "<style scoped>\n",
       "    .dataframe tbody tr th:only-of-type {\n",
       "        vertical-align: middle;\n",
       "    }\n",
       "\n",
       "    .dataframe tbody tr th {\n",
       "        vertical-align: top;\n",
       "    }\n",
       "\n",
       "    .dataframe thead th {\n",
       "        text-align: right;\n",
       "    }\n",
       "</style>\n",
       "<table border=\"1\" class=\"dataframe\">\n",
       "  <thead>\n",
       "    <tr style=\"text-align: right;\">\n",
       "      <th></th>\n",
       "      <th>total sales by platforms</th>\n",
       "    </tr>\n",
       "    <tr>\n",
       "      <th>platform</th>\n",
       "      <th></th>\n",
       "    </tr>\n",
       "  </thead>\n",
       "  <tbody>\n",
       "    <tr>\n",
       "      <th>PS3</th>\n",
       "      <td>380.75</td>\n",
       "    </tr>\n",
       "    <tr>\n",
       "      <th>X360</th>\n",
       "      <td>347.25</td>\n",
       "    </tr>\n",
       "    <tr>\n",
       "      <th>PS4</th>\n",
       "      <td>265.79</td>\n",
       "    </tr>\n",
       "    <tr>\n",
       "      <th>3DS</th>\n",
       "      <td>244.54</td>\n",
       "    </tr>\n",
       "    <tr>\n",
       "      <th>XOne</th>\n",
       "      <td>145.05</td>\n",
       "    </tr>\n",
       "    <tr>\n",
       "      <th>Wii</th>\n",
       "      <td>87.13</td>\n",
       "    </tr>\n",
       "    <tr>\n",
       "      <th>PC</th>\n",
       "      <td>86.58</td>\n",
       "    </tr>\n",
       "    <tr>\n",
       "      <th>WiiU</th>\n",
       "      <td>76.24</td>\n",
       "    </tr>\n",
       "    <tr>\n",
       "      <th>PSV</th>\n",
       "      <td>47.38</td>\n",
       "    </tr>\n",
       "    <tr>\n",
       "      <th>DS</th>\n",
       "      <td>36.14</td>\n",
       "    </tr>\n",
       "    <tr>\n",
       "      <th>PSP</th>\n",
       "      <td>28.00</td>\n",
       "    </tr>\n",
       "    <tr>\n",
       "      <th>PS2</th>\n",
       "      <td>0.35</td>\n",
       "    </tr>\n",
       "  </tbody>\n",
       "</table>\n",
       "</div>"
      ],
      "text/plain": [
       "          total sales by platforms\n",
       "platform                          \n",
       "PS3                         380.75\n",
       "X360                        347.25\n",
       "PS4                         265.79\n",
       "3DS                         244.54\n",
       "XOne                        145.05\n",
       "Wii                          87.13\n",
       "PC                           86.58\n",
       "WiiU                         76.24\n",
       "PSV                          47.38\n",
       "DS                           36.14\n",
       "PSP                          28.00\n",
       "PS2                           0.35"
      ]
     },
     "execution_count": 21,
     "metadata": {},
     "output_type": "execute_result"
    }
   ],
   "source": [
    "#суммарные продажи по годам (2011-2016 год)\n",
    "sales=data_new.pivot_table(index='platform',aggfunc='sum',values='all_regions_sales')\n",
    "sales.columns=['total sales by platforms']\n",
    "sales.sort_values(by='total sales by platforms',ascending=False)"
   ]
  },
  {
   "cell_type": "markdown",
   "metadata": {},
   "source": [
    "### Вывод по суммарным продажам за актуальный  период (2011-2016) .\n",
    "\n",
    "* Из данной таблицы видно, что лидерами продаж являются такие платформы, как PS3,X360,PS4,3DS.\n",
    "* По сравнению с первичной таблицой количество платформ  уменьшилось в ~3 раза c 31 до 12 платформ.Это может быть связано с тем, что игры на  платформах становятся менее популярными (возможно, из-за входения на рынок Веб-приложений(игр в интернете), пиратских версий игр, Steam, мобильных приложений и игр и тд.)"
   ]
  },
  {
   "cell_type": "code",
   "execution_count": 22,
   "metadata": {},
   "outputs": [
    {
     "name": "stdout",
     "output_type": "stream",
     "text": [
      "       year_of_release     na_sales     eu_sales     jp_sales  other_sales  \\\n",
      "count      2110.000000  2110.000000  2110.000000  2110.000000  2110.000000   \n",
      "mean       2013.165877     0.277938     0.228701     0.080246     0.075626   \n",
      "std           1.746899     0.696275     0.617076     0.278537     0.202243   \n",
      "min        2011.000000     0.000000     0.000000     0.000000     0.000000   \n",
      "25%        2011.000000     0.000000     0.000000     0.000000     0.000000   \n",
      "50%        2013.000000     0.070000     0.040000     0.010000     0.020000   \n",
      "75%        2015.000000     0.260000     0.190000     0.060000     0.060000   \n",
      "max        2016.000000     9.660000     9.090000     4.390000     3.960000   \n",
      "\n",
      "       critic_score   user_score  all_regions_sales  \n",
      "count   1063.000000  1209.000000        2110.000000  \n",
      "mean      70.371590     6.590653           0.586886  \n",
      "std       13.611444     1.533026           1.345231  \n",
      "min       13.000000     0.200000           0.010000  \n",
      "25%       62.000000     5.800000           0.060000  \n",
      "50%       73.000000     6.900000           0.180000  \n",
      "75%       80.000000     7.800000           0.540000  \n",
      "max       97.000000     9.200000          17.090000  \n"
     ]
    },
    {
     "data": {
      "text/plain": [
       "Text(0, 0.5, 'Total sales')"
      ]
     },
     "execution_count": 22,
     "metadata": {},
     "output_type": "execute_result"
    },
    {
     "data": {
      "image/png": "[encoded data removed]",
      "text/plain": [
       "<Figure size 864x432 with 1 Axes>"
      ]
     },
     "metadata": {
      "needs_background": "light"
     },
     "output_type": "display_data"
    }
   ],
   "source": [
    "#диаграмма размаха по глобальным продажам игр в разбивке по самым прибыльным платформам\n",
    "\n",
    "#список самых прибыльных платформ\n",
    "list=['PS3','X360','PS4','3DS']\n",
    "\n",
    "best_platforms=data_new.query('platform in @list')\n",
    "print(best_platforms.describe())\n",
    "plt.figure(figsize=(12,6))\n",
    "sns.boxplot(data=best_platforms, x='platform', y='all_regions_sales')\n",
    "plt.ylim(0,4)\n",
    "plt.title('Boxplot', fontsize=15)\n",
    "plt.xlabel('Platform', fontsize=12)\n",
    "plt.ylabel('Total sales')"
   ]
  },
  {
   "cell_type": "markdown",
   "metadata": {},
   "source": [
    "### Вывод по глобальным продажам игр в разбивке по платформам\n",
    "* Исходя из данного графика видно, что самый большой разброс в продажах у платформы X360,PS4,PS3-это значит, что были как прибыльные игры, так и наоборот. Hо исходя из графика видно, что медианное значение выше у платформы X360. \n",
    "* Выбросами нельзя считать данные выше 75 квартиля, так как наша величина-прибыль от продаваемых игр по плафтормам, поэтому одна игра может быть сверхпопулярной, или вовсе не быть признанной пользователями(\"нормальных\" значений нет)."
   ]
  },
  {
   "cell_type": "markdown",
   "metadata": {},
   "source": [
    "<font size=\"2\"><b>Для анализа корреляции между отзывами и продажами возьмем наиболее прибыльную платформу: PS3.</b></font>"
   ]
  },
  {
   "cell_type": "code",
   "execution_count": 23,
   "metadata": {},
   "outputs": [
    {
     "data": {
      "text/html": [
       "<div>\n",
       "<style scoped>\n",
       "    .dataframe tbody tr th:only-of-type {\n",
       "        vertical-align: middle;\n",
       "    }\n",
       "\n",
       "    .dataframe tbody tr th {\n",
       "        vertical-align: top;\n",
       "    }\n",
       "\n",
       "    .dataframe thead th {\n",
       "        text-align: right;\n",
       "    }\n",
       "</style>\n",
       "<table border=\"1\" class=\"dataframe\">\n",
       "  <thead>\n",
       "    <tr style=\"text-align: right;\">\n",
       "      <th></th>\n",
       "      <th>year_of_release</th>\n",
       "      <th>na_sales</th>\n",
       "      <th>eu_sales</th>\n",
       "      <th>jp_sales</th>\n",
       "      <th>other_sales</th>\n",
       "      <th>critic_score</th>\n",
       "      <th>user_score</th>\n",
       "      <th>all_regions_sales</th>\n",
       "    </tr>\n",
       "  </thead>\n",
       "  <tbody>\n",
       "    <tr>\n",
       "      <th>year_of_release</th>\n",
       "      <td>1.000000</td>\n",
       "      <td>-0.146112</td>\n",
       "      <td>-0.068137</td>\n",
       "      <td>0.050052</td>\n",
       "      <td>-0.085786</td>\n",
       "      <td>-0.001309</td>\n",
       "      <td>-0.125317</td>\n",
       "      <td>-0.101213</td>\n",
       "    </tr>\n",
       "    <tr>\n",
       "      <th>na_sales</th>\n",
       "      <td>-0.146112</td>\n",
       "      <td>1.000000</td>\n",
       "      <td>0.813041</td>\n",
       "      <td>0.344322</td>\n",
       "      <td>0.872154</td>\n",
       "      <td>0.454413</td>\n",
       "      <td>0.137699</td>\n",
       "      <td>0.944445</td>\n",
       "    </tr>\n",
       "    <tr>\n",
       "      <th>eu_sales</th>\n",
       "      <td>-0.068137</td>\n",
       "      <td>0.813041</td>\n",
       "      <td>1.000000</td>\n",
       "      <td>0.374296</td>\n",
       "      <td>0.974571</td>\n",
       "      <td>0.382536</td>\n",
       "      <td>0.087823</td>\n",
       "      <td>0.949536</td>\n",
       "    </tr>\n",
       "    <tr>\n",
       "      <th>jp_sales</th>\n",
       "      <td>0.050052</td>\n",
       "      <td>0.344322</td>\n",
       "      <td>0.374296</td>\n",
       "      <td>1.000000</td>\n",
       "      <td>0.378520</td>\n",
       "      <td>0.202937</td>\n",
       "      <td>0.171022</td>\n",
       "      <td>0.471253</td>\n",
       "    </tr>\n",
       "    <tr>\n",
       "      <th>other_sales</th>\n",
       "      <td>-0.085786</td>\n",
       "      <td>0.872154</td>\n",
       "      <td>0.974571</td>\n",
       "      <td>0.378520</td>\n",
       "      <td>1.000000</td>\n",
       "      <td>0.394883</td>\n",
       "      <td>0.111490</td>\n",
       "      <td>0.966462</td>\n",
       "    </tr>\n",
       "    <tr>\n",
       "      <th>critic_score</th>\n",
       "      <td>-0.001309</td>\n",
       "      <td>0.454413</td>\n",
       "      <td>0.382536</td>\n",
       "      <td>0.202937</td>\n",
       "      <td>0.394883</td>\n",
       "      <td>1.000000</td>\n",
       "      <td>0.631154</td>\n",
       "      <td>0.437754</td>\n",
       "    </tr>\n",
       "    <tr>\n",
       "      <th>user_score</th>\n",
       "      <td>-0.125317</td>\n",
       "      <td>0.137699</td>\n",
       "      <td>0.087823</td>\n",
       "      <td>0.171022</td>\n",
       "      <td>0.111490</td>\n",
       "      <td>0.631154</td>\n",
       "      <td>1.000000</td>\n",
       "      <td>0.131029</td>\n",
       "    </tr>\n",
       "    <tr>\n",
       "      <th>all_regions_sales</th>\n",
       "      <td>-0.101213</td>\n",
       "      <td>0.944445</td>\n",
       "      <td>0.949536</td>\n",
       "      <td>0.471253</td>\n",
       "      <td>0.966462</td>\n",
       "      <td>0.437754</td>\n",
       "      <td>0.131029</td>\n",
       "      <td>1.000000</td>\n",
       "    </tr>\n",
       "  </tbody>\n",
       "</table>\n",
       "</div>"
      ],
      "text/plain": [
       "                   year_of_release  na_sales  eu_sales  jp_sales  other_sales  \\\n",
       "year_of_release           1.000000 -0.146112 -0.068137  0.050052    -0.085786   \n",
       "na_sales                 -0.146112  1.000000  0.813041  0.344322     0.872154   \n",
       "eu_sales                 -0.068137  0.813041  1.000000  0.374296     0.974571   \n",
       "jp_sales                  0.050052  0.344322  0.374296  1.000000     0.378520   \n",
       "other_sales              -0.085786  0.872154  0.974571  0.378520     1.000000   \n",
       "critic_score             -0.001309  0.454413  0.382536  0.202937     0.394883   \n",
       "user_score               -0.125317  0.137699  0.087823  0.171022     0.111490   \n",
       "all_regions_sales        -0.101213  0.944445  0.949536  0.471253     0.966462   \n",
       "\n",
       "                   critic_score  user_score  all_regions_sales  \n",
       "year_of_release       -0.001309   -0.125317          -0.101213  \n",
       "na_sales               0.454413    0.137699           0.944445  \n",
       "eu_sales               0.382536    0.087823           0.949536  \n",
       "jp_sales               0.202937    0.171022           0.471253  \n",
       "other_sales            0.394883    0.111490           0.966462  \n",
       "critic_score           1.000000    0.631154           0.437754  \n",
       "user_score             0.631154    1.000000           0.131029  \n",
       "all_regions_sales      0.437754    0.131029           1.000000  "
      ]
     },
     "metadata": {},
     "output_type": "display_data"
    },
    {
     "data": {
      "text/plain": [
       "<AxesSubplot:>"
      ]
     },
     "execution_count": 23,
     "metadata": {},
     "output_type": "execute_result"
    },
    {
     "data": {
      "image/png": "[encoded data removed]",
      "text/plain": [
       "<Figure size 432x288 with 2 Axes>"
      ]
     },
     "metadata": {
      "needs_background": "light"
     },
     "output_type": "display_data"
    }
   ],
   "source": [
    "#корелляция между переменными для платформы PS3\n",
    "display(PS3.corr())\n",
    "sns.heatmap(PS3.corr(),annot=True)"
   ]
  },
  {
   "cell_type": "code",
   "execution_count": 24,
   "metadata": {},
   "outputs": [
    {
     "data": {
      "text/plain": [
       "<AxesSubplot:title={'center':'Scatter plot for total sales and critic scores'}, xlabel='all_regions_sales', ylabel='critic_score'>"
      ]
     },
     "execution_count": 24,
     "metadata": {},
     "output_type": "execute_result"
    },
    {
     "data": {
      "image/png": "[encoded data removed]",
      "text/plain": [
       "<Figure size 432x288 with 1 Axes>"
      ]
     },
     "metadata": {
      "needs_background": "light"
     },
     "output_type": "display_data"
    },
    {
     "data": {
      "image/png": "[encoded data removed]",
      "text/plain": [
       "<Figure size 432x288 with 1 Axes>"
      ]
     },
     "metadata": {
      "needs_background": "light"
     },
     "output_type": "display_data"
    }
   ],
   "source": [
    "#диаграмма рассеяния для значений общих продаж и рейтинга пользователей\n",
    "PS3.plot(kind='scatter',x='all_regions_sales',y='user_score',color='#cb4154',title='Scatter plot for total sales and user scores')\n",
    "\n",
    "#диаграмма рассеяния для значений общих продаж и рейтинга критиков\n",
    "PS3.plot(kind='scatter',x='all_regions_sales',y='critic_score',color='#cb4154',title='Scatter plot for total sales and critic scores')"
   ]
  },
  {
   "cell_type": "markdown",
   "metadata": {},
   "source": [
    "### Вывод о корреляции между рейтингом и суммарной продажей\n",
    "* Корреляция между продажами и рейтингом является положительной. Значение корреляции для рейтинга пользователей и продажами равна 0.13, это показывает, что зависимость не сильная и не всегда при наличии высоких отзывов от пользователей можно ожидать высокие продажи. \n",
    "* Значение корреляции для рейтинга от критиков и продажами равна 0.43, зависимость средняя по силе. А значит, что при планировании будущих продаж большее внимание стоит обращать на мнение критиков. "
   ]
  },
  {
   "cell_type": "code",
   "execution_count": 25,
   "metadata": {},
   "outputs": [
    {
     "data": {
      "text/html": [
       "<div>\n",
       "<style scoped>\n",
       "    .dataframe tbody tr th:only-of-type {\n",
       "        vertical-align: middle;\n",
       "    }\n",
       "\n",
       "    .dataframe tbody tr th {\n",
       "        vertical-align: top;\n",
       "    }\n",
       "\n",
       "    .dataframe thead th {\n",
       "        text-align: right;\n",
       "    }\n",
       "</style>\n",
       "<table border=\"1\" class=\"dataframe\">\n",
       "  <thead>\n",
       "    <tr style=\"text-align: right;\">\n",
       "      <th></th>\n",
       "      <th>all_regions_sales</th>\n",
       "    </tr>\n",
       "    <tr>\n",
       "      <th>genre</th>\n",
       "      <th></th>\n",
       "    </tr>\n",
       "  </thead>\n",
       "  <tbody>\n",
       "    <tr>\n",
       "      <th>Action</th>\n",
       "      <td>493.66</td>\n",
       "    </tr>\n",
       "    <tr>\n",
       "      <th>Shooter</th>\n",
       "      <td>354.37</td>\n",
       "    </tr>\n",
       "    <tr>\n",
       "      <th>Role-Playing</th>\n",
       "      <td>225.95</td>\n",
       "    </tr>\n",
       "    <tr>\n",
       "      <th>Sports</th>\n",
       "      <td>208.27</td>\n",
       "    </tr>\n",
       "    <tr>\n",
       "      <th>Misc</th>\n",
       "      <td>127.01</td>\n",
       "    </tr>\n",
       "    <tr>\n",
       "      <th>Platform</th>\n",
       "      <td>80.48</td>\n",
       "    </tr>\n",
       "    <tr>\n",
       "      <th>Racing</th>\n",
       "      <td>78.20</td>\n",
       "    </tr>\n",
       "    <tr>\n",
       "      <th>Fighting</th>\n",
       "      <td>60.25</td>\n",
       "    </tr>\n",
       "    <tr>\n",
       "      <th>Simulation</th>\n",
       "      <td>46.73</td>\n",
       "    </tr>\n",
       "    <tr>\n",
       "      <th>Adventure</th>\n",
       "      <td>40.79</td>\n",
       "    </tr>\n",
       "    <tr>\n",
       "      <th>Strategy</th>\n",
       "      <td>20.28</td>\n",
       "    </tr>\n",
       "    <tr>\n",
       "      <th>Puzzle</th>\n",
       "      <td>9.21</td>\n",
       "    </tr>\n",
       "  </tbody>\n",
       "</table>\n",
       "</div>"
      ],
      "text/plain": [
       "              all_regions_sales\n",
       "genre                          \n",
       "Action                   493.66\n",
       "Shooter                  354.37\n",
       "Role-Playing             225.95\n",
       "Sports                   208.27\n",
       "Misc                     127.01\n",
       "Platform                  80.48\n",
       "Racing                    78.20\n",
       "Fighting                  60.25\n",
       "Simulation                46.73\n",
       "Adventure                 40.79\n",
       "Strategy                  20.28\n",
       "Puzzle                     9.21"
      ]
     },
     "execution_count": 25,
     "metadata": {},
     "output_type": "execute_result"
    }
   ],
   "source": [
    "#значение суммарных продаж по жанрам\n",
    "data_new.pivot_table(index='genre',values='all_regions_sales',aggfunc='sum').sort_values(by='all_regions_sales',ascending=False)"
   ]
  },
  {
   "cell_type": "markdown",
   "metadata": {},
   "source": [
    "<font size=\"2\"><b>Исходя из данной таблицы самые крупные продажи имеют жанры  экшен, шутеры, а также ролевые игры. Самым неприбыльным является жанр \"пазлы\", его суммарная продажа по всем регионам в 53 раз меньше лидера по продажам.\n",
    "    \n",
    "   Так как разница между самым прибыльным жанром и неприбыльным очень большая, нужно посмотреть количество игр по каждому жанру.</b></font>"
   ]
  },
  {
   "cell_type": "code",
   "execution_count": 26,
   "metadata": {
    "scrolled": true
   },
   "outputs": [
    {
     "data": {
      "text/html": [
       "<div>\n",
       "<style scoped>\n",
       "    .dataframe tbody tr th:only-of-type {\n",
       "        vertical-align: middle;\n",
       "    }\n",
       "\n",
       "    .dataframe tbody tr th {\n",
       "        vertical-align: top;\n",
       "    }\n",
       "\n",
       "    .dataframe thead th {\n",
       "        text-align: right;\n",
       "    }\n",
       "</style>\n",
       "<table border=\"1\" class=\"dataframe\">\n",
       "  <thead>\n",
       "    <tr style=\"text-align: right;\">\n",
       "      <th></th>\n",
       "      <th>all_regions_sales</th>\n",
       "    </tr>\n",
       "    <tr>\n",
       "      <th>genre</th>\n",
       "      <th></th>\n",
       "    </tr>\n",
       "  </thead>\n",
       "  <tbody>\n",
       "    <tr>\n",
       "      <th>Action</th>\n",
       "      <td>1269</td>\n",
       "    </tr>\n",
       "    <tr>\n",
       "      <th>Role-Playing</th>\n",
       "      <td>465</td>\n",
       "    </tr>\n",
       "    <tr>\n",
       "      <th>Adventure</th>\n",
       "      <td>410</td>\n",
       "    </tr>\n",
       "    <tr>\n",
       "      <th>Sports</th>\n",
       "      <td>389</td>\n",
       "    </tr>\n",
       "    <tr>\n",
       "      <th>Misc</th>\n",
       "      <td>375</td>\n",
       "    </tr>\n",
       "    <tr>\n",
       "      <th>Shooter</th>\n",
       "      <td>329</td>\n",
       "    </tr>\n",
       "    <tr>\n",
       "      <th>Racing</th>\n",
       "      <td>180</td>\n",
       "    </tr>\n",
       "    <tr>\n",
       "      <th>Fighting</th>\n",
       "      <td>159</td>\n",
       "    </tr>\n",
       "    <tr>\n",
       "      <th>Simulation</th>\n",
       "      <td>136</td>\n",
       "    </tr>\n",
       "    <tr>\n",
       "      <th>Platform</th>\n",
       "      <td>122</td>\n",
       "    </tr>\n",
       "    <tr>\n",
       "      <th>Strategy</th>\n",
       "      <td>117</td>\n",
       "    </tr>\n",
       "    <tr>\n",
       "      <th>Puzzle</th>\n",
       "      <td>71</td>\n",
       "    </tr>\n",
       "  </tbody>\n",
       "</table>\n",
       "</div>"
      ],
      "text/plain": [
       "              all_regions_sales\n",
       "genre                          \n",
       "Action                     1269\n",
       "Role-Playing                465\n",
       "Adventure                   410\n",
       "Sports                      389\n",
       "Misc                        375\n",
       "Shooter                     329\n",
       "Racing                      180\n",
       "Fighting                    159\n",
       "Simulation                  136\n",
       "Platform                    122\n",
       "Strategy                    117\n",
       "Puzzle                       71"
      ]
     },
     "execution_count": 26,
     "metadata": {},
     "output_type": "execute_result"
    }
   ],
   "source": [
    "#количество игр в каждом жанре\n",
    "data_new.pivot_table(index='genre',values='all_regions_sales',aggfunc='count').sort_values(by='all_regions_sales',ascending=False)"
   ]
  },
  {
   "cell_type": "markdown",
   "metadata": {},
   "source": [
    "<font size=\"2\"><b>  Количество игр существенно разнится, поэтому нужно взять медианное значение по каждому жанру для выявления самого прибыльного.</b></font>"
   ]
  },
  {
   "cell_type": "code",
   "execution_count": 27,
   "metadata": {},
   "outputs": [
    {
     "data": {
      "text/html": [
       "<div>\n",
       "<style scoped>\n",
       "    .dataframe tbody tr th:only-of-type {\n",
       "        vertical-align: middle;\n",
       "    }\n",
       "\n",
       "    .dataframe tbody tr th {\n",
       "        vertical-align: top;\n",
       "    }\n",
       "\n",
       "    .dataframe thead th {\n",
       "        text-align: right;\n",
       "    }\n",
       "</style>\n",
       "<table border=\"1\" class=\"dataframe\">\n",
       "  <thead>\n",
       "    <tr style=\"text-align: right;\">\n",
       "      <th></th>\n",
       "      <th>all_regions_sales</th>\n",
       "    </tr>\n",
       "    <tr>\n",
       "      <th>genre</th>\n",
       "      <th></th>\n",
       "    </tr>\n",
       "  </thead>\n",
       "  <tbody>\n",
       "    <tr>\n",
       "      <th>Shooter</th>\n",
       "      <td>0.360</td>\n",
       "    </tr>\n",
       "    <tr>\n",
       "      <th>Sports</th>\n",
       "      <td>0.190</td>\n",
       "    </tr>\n",
       "    <tr>\n",
       "      <th>Platform</th>\n",
       "      <td>0.170</td>\n",
       "    </tr>\n",
       "    <tr>\n",
       "      <th>Fighting</th>\n",
       "      <td>0.150</td>\n",
       "    </tr>\n",
       "    <tr>\n",
       "      <th>Role-Playing</th>\n",
       "      <td>0.140</td>\n",
       "    </tr>\n",
       "    <tr>\n",
       "      <th>Racing</th>\n",
       "      <td>0.135</td>\n",
       "    </tr>\n",
       "    <tr>\n",
       "      <th>Action</th>\n",
       "      <td>0.120</td>\n",
       "    </tr>\n",
       "    <tr>\n",
       "      <th>Misc</th>\n",
       "      <td>0.120</td>\n",
       "    </tr>\n",
       "    <tr>\n",
       "      <th>Simulation</th>\n",
       "      <td>0.100</td>\n",
       "    </tr>\n",
       "    <tr>\n",
       "      <th>Strategy</th>\n",
       "      <td>0.070</td>\n",
       "    </tr>\n",
       "    <tr>\n",
       "      <th>Puzzle</th>\n",
       "      <td>0.040</td>\n",
       "    </tr>\n",
       "    <tr>\n",
       "      <th>Adventure</th>\n",
       "      <td>0.030</td>\n",
       "    </tr>\n",
       "  </tbody>\n",
       "</table>\n",
       "</div>"
      ],
      "text/plain": [
       "              all_regions_sales\n",
       "genre                          \n",
       "Shooter                   0.360\n",
       "Sports                    0.190\n",
       "Platform                  0.170\n",
       "Fighting                  0.150\n",
       "Role-Playing              0.140\n",
       "Racing                    0.135\n",
       "Action                    0.120\n",
       "Misc                      0.120\n",
       "Simulation                0.100\n",
       "Strategy                  0.070\n",
       "Puzzle                    0.040\n",
       "Adventure                 0.030"
      ]
     },
     "execution_count": 27,
     "metadata": {},
     "output_type": "execute_result"
    }
   ],
   "source": [
    "data_new.pivot_table(index='genre',values='all_regions_sales',aggfunc='median').sort_values(by='all_regions_sales',ascending=False)"
   ]
  },
  {
   "cell_type": "markdown",
   "metadata": {},
   "source": [
    "### Вывод о самых прибыльных жанрах за актуальный период\n",
    "* Самыми прибыльными жанрами являются шутеры, спортивные игры, платформеры.\n",
    "* Самыми непризнанным(неприбыльными) являются пазлы и приключения.\n"
   ]
  },
  {
   "cell_type": "markdown",
   "metadata": {},
   "source": [
    "## Портрет пользователя для каждого региона"
   ]
  },
  {
   "cell_type": "code",
   "execution_count": 28,
   "metadata": {
    "scrolled": false
   },
   "outputs": [
    {
     "data": {
      "text/html": [
       "<div>\n",
       "<style scoped>\n",
       "    .dataframe tbody tr th:only-of-type {\n",
       "        vertical-align: middle;\n",
       "    }\n",
       "\n",
       "    .dataframe tbody tr th {\n",
       "        vertical-align: top;\n",
       "    }\n",
       "\n",
       "    .dataframe thead th {\n",
       "        text-align: right;\n",
       "    }\n",
       "</style>\n",
       "<table border=\"1\" class=\"dataframe\">\n",
       "  <thead>\n",
       "    <tr style=\"text-align: right;\">\n",
       "      <th></th>\n",
       "      <th>na_sales</th>\n",
       "    </tr>\n",
       "    <tr>\n",
       "      <th>platform</th>\n",
       "      <th></th>\n",
       "    </tr>\n",
       "  </thead>\n",
       "  <tbody>\n",
       "    <tr>\n",
       "      <th>X360</th>\n",
       "      <td>226.80</td>\n",
       "    </tr>\n",
       "    <tr>\n",
       "      <th>PS3</th>\n",
       "      <td>168.26</td>\n",
       "    </tr>\n",
       "    <tr>\n",
       "      <th>PS4</th>\n",
       "      <td>108.74</td>\n",
       "    </tr>\n",
       "    <tr>\n",
       "      <th>XOne</th>\n",
       "      <td>93.12</td>\n",
       "    </tr>\n",
       "    <tr>\n",
       "      <th>3DS</th>\n",
       "      <td>82.65</td>\n",
       "    </tr>\n",
       "    <tr>\n",
       "      <th>Wii</th>\n",
       "      <td>48.56</td>\n",
       "    </tr>\n",
       "    <tr>\n",
       "      <th>WiiU</th>\n",
       "      <td>38.10</td>\n",
       "    </tr>\n",
       "    <tr>\n",
       "      <th>PC</th>\n",
       "      <td>29.88</td>\n",
       "    </tr>\n",
       "    <tr>\n",
       "      <th>DS</th>\n",
       "      <td>18.86</td>\n",
       "    </tr>\n",
       "    <tr>\n",
       "      <th>PSV</th>\n",
       "      <td>12.47</td>\n",
       "    </tr>\n",
       "    <tr>\n",
       "      <th>PSP</th>\n",
       "      <td>2.19</td>\n",
       "    </tr>\n",
       "    <tr>\n",
       "      <th>PS2</th>\n",
       "      <td>0.13</td>\n",
       "    </tr>\n",
       "  </tbody>\n",
       "</table>\n",
       "</div>"
      ],
      "text/plain": [
       "          na_sales\n",
       "platform          \n",
       "X360        226.80\n",
       "PS3         168.26\n",
       "PS4         108.74\n",
       "XOne         93.12\n",
       "3DS          82.65\n",
       "Wii          48.56\n",
       "WiiU         38.10\n",
       "PC           29.88\n",
       "DS           18.86\n",
       "PSV          12.47\n",
       "PSP           2.19\n",
       "PS2           0.13"
      ]
     },
     "execution_count": 28,
     "metadata": {},
     "output_type": "execute_result"
    }
   ],
   "source": [
    "#самые прибыльные платформы в Северной Америке\n",
    "data_new.pivot_table(index='platform',values='na_sales',aggfunc='sum').sort_values(by='na_sales',ascending=False)\n"
   ]
  },
  {
   "cell_type": "markdown",
   "metadata": {},
   "source": [
    "<font size=\"2\"><b>Самыми прибыльными платформами в Северной Америке являются: X360,PS3,PS4,XOne(игровые приставки);. Заметим, что доля Северной Америки является наибольшей для самых прибыльных игровых приставок на рынке, поэтому при выведении игр для приставок на рынок большее внимание стоит обращать именно на потребности этого региона.</b></font>"
   ]
  },
  {
   "cell_type": "code",
   "execution_count": 29,
   "metadata": {},
   "outputs": [
    {
     "data": {
      "text/html": [
       "<div>\n",
       "<style scoped>\n",
       "    .dataframe tbody tr th:only-of-type {\n",
       "        vertical-align: middle;\n",
       "    }\n",
       "\n",
       "    .dataframe tbody tr th {\n",
       "        vertical-align: top;\n",
       "    }\n",
       "\n",
       "    .dataframe thead th {\n",
       "        text-align: right;\n",
       "    }\n",
       "</style>\n",
       "<table border=\"1\" class=\"dataframe\">\n",
       "  <thead>\n",
       "    <tr style=\"text-align: right;\">\n",
       "      <th></th>\n",
       "      <th>eu_sales</th>\n",
       "    </tr>\n",
       "    <tr>\n",
       "      <th>platform</th>\n",
       "      <th></th>\n",
       "    </tr>\n",
       "  </thead>\n",
       "  <tbody>\n",
       "    <tr>\n",
       "      <th>PS3</th>\n",
       "      <td>163.10</td>\n",
       "    </tr>\n",
       "    <tr>\n",
       "      <th>PS4</th>\n",
       "      <td>141.09</td>\n",
       "    </tr>\n",
       "    <tr>\n",
       "      <th>X360</th>\n",
       "      <td>117.10</td>\n",
       "    </tr>\n",
       "    <tr>\n",
       "      <th>3DS</th>\n",
       "      <td>61.27</td>\n",
       "    </tr>\n",
       "    <tr>\n",
       "      <th>PC</th>\n",
       "      <td>56.70</td>\n",
       "    </tr>\n",
       "    <tr>\n",
       "      <th>XOne</th>\n",
       "      <td>51.59</td>\n",
       "    </tr>\n",
       "    <tr>\n",
       "      <th>Wii</th>\n",
       "      <td>29.60</td>\n",
       "    </tr>\n",
       "    <tr>\n",
       "      <th>WiiU</th>\n",
       "      <td>25.13</td>\n",
       "    </tr>\n",
       "    <tr>\n",
       "      <th>PSV</th>\n",
       "      <td>13.07</td>\n",
       "    </tr>\n",
       "    <tr>\n",
       "      <th>DS</th>\n",
       "      <td>9.24</td>\n",
       "    </tr>\n",
       "    <tr>\n",
       "      <th>PSP</th>\n",
       "      <td>1.77</td>\n",
       "    </tr>\n",
       "    <tr>\n",
       "      <th>PS2</th>\n",
       "      <td>0.13</td>\n",
       "    </tr>\n",
       "  </tbody>\n",
       "</table>\n",
       "</div>"
      ],
      "text/plain": [
       "          eu_sales\n",
       "platform          \n",
       "PS3         163.10\n",
       "PS4         141.09\n",
       "X360        117.10\n",
       "3DS          61.27\n",
       "PC           56.70\n",
       "XOne         51.59\n",
       "Wii          29.60\n",
       "WiiU         25.13\n",
       "PSV          13.07\n",
       "DS            9.24\n",
       "PSP           1.77\n",
       "PS2           0.13"
      ]
     },
     "execution_count": 29,
     "metadata": {},
     "output_type": "execute_result"
    }
   ],
   "source": [
    "#самые прибыльные платформы в Европе\n",
    "data_new.pivot_table(index='platform',values='eu_sales',aggfunc='sum').sort_values(by='eu_sales',ascending=False)"
   ]
  },
  {
   "cell_type": "markdown",
   "metadata": {},
   "source": [
    "<font size=\"2\"><b>Самыми прибыльными платформами в Европе являются PS3,PS4,X360(игровые приставки);3DS(портативная игровая консоль).</b></font>"
   ]
  },
  {
   "cell_type": "code",
   "execution_count": 30,
   "metadata": {},
   "outputs": [
    {
     "data": {
      "text/html": [
       "<div>\n",
       "<style scoped>\n",
       "    .dataframe tbody tr th:only-of-type {\n",
       "        vertical-align: middle;\n",
       "    }\n",
       "\n",
       "    .dataframe tbody tr th {\n",
       "        vertical-align: top;\n",
       "    }\n",
       "\n",
       "    .dataframe thead th {\n",
       "        text-align: right;\n",
       "    }\n",
       "</style>\n",
       "<table border=\"1\" class=\"dataframe\">\n",
       "  <thead>\n",
       "    <tr style=\"text-align: right;\">\n",
       "      <th></th>\n",
       "      <th>jp_sales</th>\n",
       "    </tr>\n",
       "    <tr>\n",
       "      <th>platform</th>\n",
       "      <th></th>\n",
       "    </tr>\n",
       "  </thead>\n",
       "  <tbody>\n",
       "    <tr>\n",
       "      <th>3DS</th>\n",
       "      <td>100.62</td>\n",
       "    </tr>\n",
       "    <tr>\n",
       "      <th>PS3</th>\n",
       "      <td>49.39</td>\n",
       "    </tr>\n",
       "    <tr>\n",
       "      <th>PSP</th>\n",
       "      <td>24.04</td>\n",
       "    </tr>\n",
       "    <tr>\n",
       "      <th>PSV</th>\n",
       "      <td>21.84</td>\n",
       "    </tr>\n",
       "    <tr>\n",
       "      <th>PS4</th>\n",
       "      <td>15.96</td>\n",
       "    </tr>\n",
       "    <tr>\n",
       "      <th>WiiU</th>\n",
       "      <td>13.01</td>\n",
       "    </tr>\n",
       "    <tr>\n",
       "      <th>Wii</th>\n",
       "      <td>8.97</td>\n",
       "    </tr>\n",
       "    <tr>\n",
       "      <th>DS</th>\n",
       "      <td>8.04</td>\n",
       "    </tr>\n",
       "    <tr>\n",
       "      <th>X360</th>\n",
       "      <td>3.35</td>\n",
       "    </tr>\n",
       "    <tr>\n",
       "      <th>XOne</th>\n",
       "      <td>0.34</td>\n",
       "    </tr>\n",
       "    <tr>\n",
       "      <th>PS2</th>\n",
       "      <td>0.09</td>\n",
       "    </tr>\n",
       "    <tr>\n",
       "      <th>PC</th>\n",
       "      <td>0.00</td>\n",
       "    </tr>\n",
       "  </tbody>\n",
       "</table>\n",
       "</div>"
      ],
      "text/plain": [
       "          jp_sales\n",
       "platform          \n",
       "3DS         100.62\n",
       "PS3          49.39\n",
       "PSP          24.04\n",
       "PSV          21.84\n",
       "PS4          15.96\n",
       "WiiU         13.01\n",
       "Wii           8.97\n",
       "DS            8.04\n",
       "X360          3.35\n",
       "XOne          0.34\n",
       "PS2           0.09\n",
       "PC            0.00"
      ]
     },
     "execution_count": 30,
     "metadata": {},
     "output_type": "execute_result"
    }
   ],
   "source": [
    "#самые прибыльные(популярные) платформы в Японии\n",
    "data_new.pivot_table(index='platform',values='jp_sales',aggfunc='sum').sort_values(by='jp_sales',ascending=False)"
   ]
  },
  {
   "cell_type": "markdown",
   "metadata": {},
   "source": [
    "<font size=\"2\"><b>Самыми прибыльными платформами в Японии являются 3DS,PS3, PSP,PSV. Заметим, что самыми прибыльными являются портативные игровые консоли, поэтому при введении на рынок игр предназначенных для портативных игровых консолей нужно обращать внимание на потребности этого региона.</b></font>"
   ]
  },
  {
   "cell_type": "markdown",
   "metadata": {},
   "source": [
    "### Вывод о самых прибыльных платформах по регионам\n",
    "* При запуске игр на игровые приставки типа PS3,X360,PS4 большее внимание стоит обращать на потребности рынка Северной Америки. \n",
    "* При запуске игр на портативные игровые консоли типа PSP,PSV,3DS большее внимание стоит обращать на потребности рынка Японии.\n"
   ]
  },
  {
   "cell_type": "code",
   "execution_count": 31,
   "metadata": {
    "scrolled": true
   },
   "outputs": [
    {
     "data": {
      "text/html": [
       "<div>\n",
       "<style scoped>\n",
       "    .dataframe tbody tr th:only-of-type {\n",
       "        vertical-align: middle;\n",
       "    }\n",
       "\n",
       "    .dataframe tbody tr th {\n",
       "        vertical-align: top;\n",
       "    }\n",
       "\n",
       "    .dataframe thead th {\n",
       "        text-align: right;\n",
       "    }\n",
       "</style>\n",
       "<table border=\"1\" class=\"dataframe\">\n",
       "  <thead>\n",
       "    <tr style=\"text-align: right;\">\n",
       "      <th></th>\n",
       "      <th>na_sales</th>\n",
       "    </tr>\n",
       "    <tr>\n",
       "      <th>genre</th>\n",
       "      <th></th>\n",
       "    </tr>\n",
       "  </thead>\n",
       "  <tbody>\n",
       "    <tr>\n",
       "      <th>Action</th>\n",
       "      <td>230.92</td>\n",
       "    </tr>\n",
       "    <tr>\n",
       "      <th>Shooter</th>\n",
       "      <td>194.43</td>\n",
       "    </tr>\n",
       "    <tr>\n",
       "      <th>Sports</th>\n",
       "      <td>108.70</td>\n",
       "    </tr>\n",
       "    <tr>\n",
       "      <th>Role-Playing</th>\n",
       "      <td>83.78</td>\n",
       "    </tr>\n",
       "    <tr>\n",
       "      <th>Misc</th>\n",
       "      <td>69.69</td>\n",
       "    </tr>\n",
       "    <tr>\n",
       "      <th>Platform</th>\n",
       "      <td>38.28</td>\n",
       "    </tr>\n",
       "    <tr>\n",
       "      <th>Racing</th>\n",
       "      <td>31.98</td>\n",
       "    </tr>\n",
       "    <tr>\n",
       "      <th>Fighting</th>\n",
       "      <td>31.63</td>\n",
       "    </tr>\n",
       "    <tr>\n",
       "      <th>Simulation</th>\n",
       "      <td>15.37</td>\n",
       "    </tr>\n",
       "    <tr>\n",
       "      <th>Adventure</th>\n",
       "      <td>14.76</td>\n",
       "    </tr>\n",
       "    <tr>\n",
       "      <th>Strategy</th>\n",
       "      <td>7.48</td>\n",
       "    </tr>\n",
       "    <tr>\n",
       "      <th>Puzzle</th>\n",
       "      <td>2.74</td>\n",
       "    </tr>\n",
       "  </tbody>\n",
       "</table>\n",
       "</div>"
      ],
      "text/plain": [
       "              na_sales\n",
       "genre                 \n",
       "Action          230.92\n",
       "Shooter         194.43\n",
       "Sports          108.70\n",
       "Role-Playing     83.78\n",
       "Misc             69.69\n",
       "Platform         38.28\n",
       "Racing           31.98\n",
       "Fighting         31.63\n",
       "Simulation       15.37\n",
       "Adventure        14.76\n",
       "Strategy          7.48\n",
       "Puzzle            2.74"
      ]
     },
     "execution_count": 31,
     "metadata": {},
     "output_type": "execute_result"
    }
   ],
   "source": [
    "#самые популярные(прибыльные) жанры в Северной Америке\n",
    "data_new.pivot_table(index='genre',values='na_sales',aggfunc='sum').sort_values(by='na_sales',ascending=False)"
   ]
  },
  {
   "cell_type": "markdown",
   "metadata": {},
   "source": [
    "<font size=\"2\"><b>Самыми прибыльными жанрами в Северной Америке являются экшен,шутеры, а также спортивные игры.Самыми непризнанными жанрами являются стратегии и пазлы.</b></font>"
   ]
  },
  {
   "cell_type": "code",
   "execution_count": 32,
   "metadata": {},
   "outputs": [
    {
     "data": {
      "text/html": [
       "<div>\n",
       "<style scoped>\n",
       "    .dataframe tbody tr th:only-of-type {\n",
       "        vertical-align: middle;\n",
       "    }\n",
       "\n",
       "    .dataframe tbody tr th {\n",
       "        vertical-align: top;\n",
       "    }\n",
       "\n",
       "    .dataframe thead th {\n",
       "        text-align: right;\n",
       "    }\n",
       "</style>\n",
       "<table border=\"1\" class=\"dataframe\">\n",
       "  <thead>\n",
       "    <tr style=\"text-align: right;\">\n",
       "      <th></th>\n",
       "      <th>eu_sales</th>\n",
       "    </tr>\n",
       "    <tr>\n",
       "      <th>genre</th>\n",
       "      <th></th>\n",
       "    </tr>\n",
       "  </thead>\n",
       "  <tbody>\n",
       "    <tr>\n",
       "      <th>Action</th>\n",
       "      <td>199.12</td>\n",
       "    </tr>\n",
       "    <tr>\n",
       "      <th>Shooter</th>\n",
       "      <td>148.02</td>\n",
       "    </tr>\n",
       "    <tr>\n",
       "      <th>Sports</th>\n",
       "      <td>88.48</td>\n",
       "    </tr>\n",
       "    <tr>\n",
       "      <th>Role-Playing</th>\n",
       "      <td>62.30</td>\n",
       "    </tr>\n",
       "    <tr>\n",
       "      <th>Racing</th>\n",
       "      <td>40.58</td>\n",
       "    </tr>\n",
       "    <tr>\n",
       "      <th>Misc</th>\n",
       "      <td>39.72</td>\n",
       "    </tr>\n",
       "    <tr>\n",
       "      <th>Platform</th>\n",
       "      <td>30.07</td>\n",
       "    </tr>\n",
       "    <tr>\n",
       "      <th>Simulation</th>\n",
       "      <td>19.72</td>\n",
       "    </tr>\n",
       "    <tr>\n",
       "      <th>Fighting</th>\n",
       "      <td>16.24</td>\n",
       "    </tr>\n",
       "    <tr>\n",
       "      <th>Adventure</th>\n",
       "      <td>13.96</td>\n",
       "    </tr>\n",
       "    <tr>\n",
       "      <th>Strategy</th>\n",
       "      <td>8.02</td>\n",
       "    </tr>\n",
       "    <tr>\n",
       "      <th>Puzzle</th>\n",
       "      <td>3.56</td>\n",
       "    </tr>\n",
       "  </tbody>\n",
       "</table>\n",
       "</div>"
      ],
      "text/plain": [
       "              eu_sales\n",
       "genre                 \n",
       "Action          199.12\n",
       "Shooter         148.02\n",
       "Sports           88.48\n",
       "Role-Playing     62.30\n",
       "Racing           40.58\n",
       "Misc             39.72\n",
       "Platform         30.07\n",
       "Simulation       19.72\n",
       "Fighting         16.24\n",
       "Adventure        13.96\n",
       "Strategy          8.02\n",
       "Puzzle            3.56"
      ]
     },
     "execution_count": 32,
     "metadata": {},
     "output_type": "execute_result"
    }
   ],
   "source": [
    "#самые популярные жанры в Европе\n",
    "data_new.pivot_table(index='genre',values='eu_sales',aggfunc='sum').sort_values(by='eu_sales',ascending=False)"
   ]
  },
  {
   "cell_type": "markdown",
   "metadata": {},
   "source": [
    "<font size=\"2\"><b>Самыми популярными жанрами являются экшен,шутеры, а также спортивные игры. Самыми непризнанными жанрами являются пазлы и стратегии.Вывод аналогичен с выводом для Северной Америки.</b></font>"
   ]
  },
  {
   "cell_type": "code",
   "execution_count": 33,
   "metadata": {},
   "outputs": [
    {
     "data": {
      "text/html": [
       "<div>\n",
       "<style scoped>\n",
       "    .dataframe tbody tr th:only-of-type {\n",
       "        vertical-align: middle;\n",
       "    }\n",
       "\n",
       "    .dataframe tbody tr th {\n",
       "        vertical-align: top;\n",
       "    }\n",
       "\n",
       "    .dataframe thead th {\n",
       "        text-align: right;\n",
       "    }\n",
       "</style>\n",
       "<table border=\"1\" class=\"dataframe\">\n",
       "  <thead>\n",
       "    <tr style=\"text-align: right;\">\n",
       "      <th></th>\n",
       "      <th>jp_sales</th>\n",
       "    </tr>\n",
       "    <tr>\n",
       "      <th>genre</th>\n",
       "      <th></th>\n",
       "    </tr>\n",
       "  </thead>\n",
       "  <tbody>\n",
       "    <tr>\n",
       "      <th>Role-Playing</th>\n",
       "      <td>79.87</td>\n",
       "    </tr>\n",
       "    <tr>\n",
       "      <th>Action</th>\n",
       "      <td>63.62</td>\n",
       "    </tr>\n",
       "    <tr>\n",
       "      <th>Misc</th>\n",
       "      <td>17.60</td>\n",
       "    </tr>\n",
       "    <tr>\n",
       "      <th>Fighting</th>\n",
       "      <td>12.38</td>\n",
       "    </tr>\n",
       "    <tr>\n",
       "      <th>Platform</th>\n",
       "      <td>12.13</td>\n",
       "    </tr>\n",
       "    <tr>\n",
       "      <th>Adventure</th>\n",
       "      <td>12.07</td>\n",
       "    </tr>\n",
       "    <tr>\n",
       "      <th>Shooter</th>\n",
       "      <td>11.92</td>\n",
       "    </tr>\n",
       "    <tr>\n",
       "      <th>Simulation</th>\n",
       "      <td>11.64</td>\n",
       "    </tr>\n",
       "    <tr>\n",
       "      <th>Sports</th>\n",
       "      <td>11.09</td>\n",
       "    </tr>\n",
       "    <tr>\n",
       "      <th>Racing</th>\n",
       "      <td>5.64</td>\n",
       "    </tr>\n",
       "    <tr>\n",
       "      <th>Strategy</th>\n",
       "      <td>4.78</td>\n",
       "    </tr>\n",
       "    <tr>\n",
       "      <th>Puzzle</th>\n",
       "      <td>2.91</td>\n",
       "    </tr>\n",
       "  </tbody>\n",
       "</table>\n",
       "</div>"
      ],
      "text/plain": [
       "              jp_sales\n",
       "genre                 \n",
       "Role-Playing     79.87\n",
       "Action           63.62\n",
       "Misc             17.60\n",
       "Fighting         12.38\n",
       "Platform         12.13\n",
       "Adventure        12.07\n",
       "Shooter          11.92\n",
       "Simulation       11.64\n",
       "Sports           11.09\n",
       "Racing            5.64\n",
       "Strategy          4.78\n",
       "Puzzle            2.91"
      ]
     },
     "execution_count": 33,
     "metadata": {},
     "output_type": "execute_result"
    }
   ],
   "source": [
    "#самые популярные жанры в Японии\n",
    "data_new.pivot_table(index='genre',values='jp_sales',aggfunc='sum').sort_values(by='jp_sales',ascending=False)"
   ]
  },
  {
   "cell_type": "markdown",
   "metadata": {},
   "source": [
    "<font size=\"2\"><b>Самыми популярными жанрами в Японии являются ролевые игры, экшен, разное, драки. Жанр шутеры не является прибыльным на данном рынке, если сравнивать с другими регионами и выводами для генеральной совокупности.</b></font>"
   ]
  },
  {
   "cell_type": "code",
   "execution_count": 34,
   "metadata": {},
   "outputs": [
    {
     "data": {
      "text/html": [
       "<div>\n",
       "<style scoped>\n",
       "    .dataframe tbody tr th:only-of-type {\n",
       "        vertical-align: middle;\n",
       "    }\n",
       "\n",
       "    .dataframe tbody tr th {\n",
       "        vertical-align: top;\n",
       "    }\n",
       "\n",
       "    .dataframe thead th {\n",
       "        text-align: right;\n",
       "    }\n",
       "</style>\n",
       "<table border=\"1\" class=\"dataframe\">\n",
       "  <thead>\n",
       "    <tr style=\"text-align: right;\">\n",
       "      <th></th>\n",
       "      <th>na_sales</th>\n",
       "    </tr>\n",
       "    <tr>\n",
       "      <th>rating</th>\n",
       "      <th></th>\n",
       "    </tr>\n",
       "  </thead>\n",
       "  <tbody>\n",
       "    <tr>\n",
       "      <th>M</th>\n",
       "      <td>308.45</td>\n",
       "    </tr>\n",
       "    <tr>\n",
       "      <th>E</th>\n",
       "      <td>170.17</td>\n",
       "    </tr>\n",
       "    <tr>\n",
       "      <th>undefined</th>\n",
       "      <td>123.69</td>\n",
       "    </tr>\n",
       "    <tr>\n",
       "      <th>E10+</th>\n",
       "      <td>117.72</td>\n",
       "    </tr>\n",
       "    <tr>\n",
       "      <th>T</th>\n",
       "      <td>109.31</td>\n",
       "    </tr>\n",
       "    <tr>\n",
       "      <th>EC</th>\n",
       "      <td>0.42</td>\n",
       "    </tr>\n",
       "    <tr>\n",
       "      <th>RP</th>\n",
       "      <td>0.00</td>\n",
       "    </tr>\n",
       "  </tbody>\n",
       "</table>\n",
       "</div>"
      ],
      "text/plain": [
       "           na_sales\n",
       "rating             \n",
       "M            308.45\n",
       "E            170.17\n",
       "undefined    123.69\n",
       "E10+         117.72\n",
       "T            109.31\n",
       "EC             0.42\n",
       "RP             0.00"
      ]
     },
     "execution_count": 34,
     "metadata": {},
     "output_type": "execute_result"
    }
   ],
   "source": [
    "#Влияет ли рейтинг ESRB на продажи в отдельном регионе?\n",
    "\n",
    "#самые популярные значения рейтингов в Северной Америке\n",
    "data_new.pivot_table(index='rating',values='na_sales',aggfunc='sum').sort_values(by='na_sales',ascending=False)"
   ]
  },
  {
   "cell_type": "code",
   "execution_count": 35,
   "metadata": {},
   "outputs": [
    {
     "data": {
      "text/html": [
       "<div>\n",
       "<style scoped>\n",
       "    .dataframe tbody tr th:only-of-type {\n",
       "        vertical-align: middle;\n",
       "    }\n",
       "\n",
       "    .dataframe tbody tr th {\n",
       "        vertical-align: top;\n",
       "    }\n",
       "\n",
       "    .dataframe thead th {\n",
       "        text-align: right;\n",
       "    }\n",
       "</style>\n",
       "<table border=\"1\" class=\"dataframe\">\n",
       "  <thead>\n",
       "    <tr style=\"text-align: right;\">\n",
       "      <th></th>\n",
       "      <th>eu_sales</th>\n",
       "    </tr>\n",
       "    <tr>\n",
       "      <th>rating</th>\n",
       "      <th></th>\n",
       "    </tr>\n",
       "  </thead>\n",
       "  <tbody>\n",
       "    <tr>\n",
       "      <th>M</th>\n",
       "      <td>250.26</td>\n",
       "    </tr>\n",
       "    <tr>\n",
       "      <th>E</th>\n",
       "      <td>141.73</td>\n",
       "    </tr>\n",
       "    <tr>\n",
       "      <th>undefined</th>\n",
       "      <td>116.61</td>\n",
       "    </tr>\n",
       "    <tr>\n",
       "      <th>T</th>\n",
       "      <td>83.16</td>\n",
       "    </tr>\n",
       "    <tr>\n",
       "      <th>E10+</th>\n",
       "      <td>78.00</td>\n",
       "    </tr>\n",
       "    <tr>\n",
       "      <th>RP</th>\n",
       "      <td>0.03</td>\n",
       "    </tr>\n",
       "    <tr>\n",
       "      <th>EC</th>\n",
       "      <td>0.00</td>\n",
       "    </tr>\n",
       "  </tbody>\n",
       "</table>\n",
       "</div>"
      ],
      "text/plain": [
       "           eu_sales\n",
       "rating             \n",
       "M            250.26\n",
       "E            141.73\n",
       "undefined    116.61\n",
       "T             83.16\n",
       "E10+          78.00\n",
       "RP             0.03\n",
       "EC             0.00"
      ]
     },
     "execution_count": 35,
     "metadata": {},
     "output_type": "execute_result"
    }
   ],
   "source": [
    "#самые популярные значения рейтингов в Европе\n",
    "data_new.pivot_table(index='rating',values='eu_sales',aggfunc='sum').sort_values(by='eu_sales',ascending=False)"
   ]
  },
  {
   "cell_type": "code",
   "execution_count": 36,
   "metadata": {},
   "outputs": [
    {
     "data": {
      "text/html": [
       "<div>\n",
       "<style scoped>\n",
       "    .dataframe tbody tr th:only-of-type {\n",
       "        vertical-align: middle;\n",
       "    }\n",
       "\n",
       "    .dataframe tbody tr th {\n",
       "        vertical-align: top;\n",
       "    }\n",
       "\n",
       "    .dataframe thead th {\n",
       "        text-align: right;\n",
       "    }\n",
       "</style>\n",
       "<table border=\"1\" class=\"dataframe\">\n",
       "  <thead>\n",
       "    <tr style=\"text-align: right;\">\n",
       "      <th></th>\n",
       "      <th>jp_sales</th>\n",
       "    </tr>\n",
       "    <tr>\n",
       "      <th>rating</th>\n",
       "      <th></th>\n",
       "    </tr>\n",
       "  </thead>\n",
       "  <tbody>\n",
       "    <tr>\n",
       "      <th>undefined</th>\n",
       "      <td>138.21</td>\n",
       "    </tr>\n",
       "    <tr>\n",
       "      <th>E</th>\n",
       "      <td>36.68</td>\n",
       "    </tr>\n",
       "    <tr>\n",
       "      <th>T</th>\n",
       "      <td>33.39</td>\n",
       "    </tr>\n",
       "    <tr>\n",
       "      <th>M</th>\n",
       "      <td>26.14</td>\n",
       "    </tr>\n",
       "    <tr>\n",
       "      <th>E10+</th>\n",
       "      <td>11.23</td>\n",
       "    </tr>\n",
       "    <tr>\n",
       "      <th>EC</th>\n",
       "      <td>0.00</td>\n",
       "    </tr>\n",
       "    <tr>\n",
       "      <th>RP</th>\n",
       "      <td>0.00</td>\n",
       "    </tr>\n",
       "  </tbody>\n",
       "</table>\n",
       "</div>"
      ],
      "text/plain": [
       "           jp_sales\n",
       "rating             \n",
       "undefined    138.21\n",
       "E             36.68\n",
       "T             33.39\n",
       "M             26.14\n",
       "E10+          11.23\n",
       "EC             0.00\n",
       "RP             0.00"
      ]
     },
     "execution_count": 36,
     "metadata": {},
     "output_type": "execute_result"
    }
   ],
   "source": [
    "#самые популярные значения рейтингов в Японии\n",
    "data_new.pivot_table(index='rating',values='jp_sales',aggfunc='sum').sort_values(by='jp_sales',ascending=False)"
   ]
  },
  {
   "cell_type": "markdown",
   "metadata": {},
   "source": [
    "### Вывод о самых популярных значениях рейтинга по регионам\n",
    "* Самые популярные значения рейтингов для Северной Америки и Европы : M, E,undefined. E-рейтинг присваивается играм \"для всех\"(от 6 лет), игры не содержат насилия. M-\"взрослыe\" проекты, ввиду того, что позволяет затрагивать любые взрослые темы и ситуации. Undefined-игры без возрастных ограничений. Именно на игры этих рейтингов стоит концентрироваться компаниям-разработчикам, если основной целью ставить прибыль при вхождении на рынок Северной Америки и Европы.\n",
    "\n",
    "\n",
    "* Самые популярные значений рейтингов для Японии: undefined,E,T. T-игры с таким рейтингом направлены на подростковую аудитория и уже могут содержать умеренное насилие.  Именно на игры этих рейтингов стоит концентрироваться компаниям-разработчикам, если основной целью ставить прибыль при вхождении на рынок Японии. Рейтинг undefined может быть присвоен новым играм, которые еще не прошли проверку рейтинга ESRB, или играм японского производства, которым рейтинг и не будет присвоен в будущем, из-за того, что они ориентированы только на Японский рынок.\n",
    "\n",
    "\n",
    "* Самыми неприбыльными рейтингами для всех регионов являются EC,RP."
   ]
  },
  {
   "cell_type": "markdown",
   "metadata": {},
   "source": [
    "## Проверка гипотез"
   ]
  },
  {
   "cell_type": "markdown",
   "metadata": {},
   "source": [
    "Первая гипотеза:\n",
    "  * нулевая гипотеза:  Средние пользовательские рейтинги платформ Xbox One и PC равны.\n",
    "  * альтернативная гипотеза:  Средние пользовательские рейтинги платформ Xbox One и PC не равны.\n",
    "  \n",
    " Для данной гипотезы критический уровень статистической значимости равен 0.05."
   ]
  },
  {
   "cell_type": "code",
   "execution_count": 37,
   "metadata": {},
   "outputs": [],
   "source": [
    "# таблицы со значениями XOne и PC\n",
    "XOne=data_new.query('platform==\"XOne\"')\n",
    "PC=data_new.query('platform==\"PC\"')"
   ]
  },
  {
   "cell_type": "code",
   "execution_count": 38,
   "metadata": {},
   "outputs": [
    {
     "name": "stdout",
     "output_type": "stream",
     "text": [
      "Не получилось отвергнуть нулевую гипотезу\n"
     ]
    }
   ],
   "source": [
    "#критический уровень статистической значимости\n",
    "alpha=0.05\n",
    "#проверка гипотезы\n",
    "result1=st.ttest_ind(XOne['user_score'],PC['user_score'], nan_policy=\"omit\")\n",
    "if result1.pvalue<alpha:\n",
    "    print('Отвергаем нулевую гипотезу')\n",
    "else:\n",
    "    print('Не получилось отвергнуть нулевую гипотезу')"
   ]
  },
  {
   "cell_type": "code",
   "execution_count": 39,
   "metadata": {},
   "outputs": [
    {
     "data": {
      "text/plain": [
       "(count    182.000000\n",
       " mean       6.521429\n",
       " std        1.380941\n",
       " min        1.600000\n",
       " 25%        5.800000\n",
       " 50%        6.800000\n",
       " 75%        7.500000\n",
       " max        9.200000\n",
       " Name: user_score, dtype: float64,\n",
       " count    307.000000\n",
       " mean       6.451792\n",
       " std        1.611303\n",
       " min        1.400000\n",
       " 25%        5.550000\n",
       " 50%        6.800000\n",
       " 75%        7.700000\n",
       " max        9.300000\n",
       " Name: user_score, dtype: float64)"
      ]
     },
     "execution_count": 39,
     "metadata": {},
     "output_type": "execute_result"
    }
   ],
   "source": [
    "# общая информация о данных для наглядности\n",
    "XOne['user_score'].describe(),PC['user_score'].describe()"
   ]
  },
  {
   "cell_type": "markdown",
   "metadata": {},
   "source": [
    "### Вывод по первой гипотезе\n",
    "Средние пользовательские рейтинги платформ Xbox One и PC равны."
   ]
  },
  {
   "cell_type": "markdown",
   "metadata": {},
   "source": [
    "Вторая гипотеза:\n",
    " * нулевая гипотеза:  Средние пользовательские рейтинги жанров Action (англ. «действие», экшен-игры) и Sports (англ. «спортивные соревнования») равны.\n",
    " * альтернативная гипотеза:  Средние пользовательские рейтинги жанров Action (англ. «действие», экшен-игры) и Sports (англ. «спортивные соревнования») не равны.    \n",
    " \n",
    "  Для данной гипотезы критический уровень статистической значимости равен 0.05."
   ]
  },
  {
   "cell_type": "code",
   "execution_count": 40,
   "metadata": {},
   "outputs": [],
   "source": [
    "#таблицы со значениями жанра Action, Sports\n",
    "action=data_new.query('genre==\"Action\"')\n",
    "sports=data_new.query('genre==\"Sports\"')"
   ]
  },
  {
   "cell_type": "code",
   "execution_count": 41,
   "metadata": {},
   "outputs": [
    {
     "name": "stdout",
     "output_type": "stream",
     "text": [
      "Отвергаем нулевую гипотезу\n"
     ]
    }
   ],
   "source": [
    "#критический уровень статистической значимости\n",
    "alpha=0.05\n",
    "#проверка гипотезы\n",
    "result2=st.ttest_ind(action['user_score'],sports['user_score'], nan_policy=\"omit\")\n",
    "if result2.pvalue<alpha:\n",
    "    print('Отвергаем нулевую гипотезу')\n",
    "else:\n",
    "    print('Не получилось отвергнуть нулевую гипотезу')"
   ]
  },
  {
   "cell_type": "code",
   "execution_count": 42,
   "metadata": {},
   "outputs": [
    {
     "data": {
      "text/plain": [
       "(count    664.000000\n",
       " mean       6.775904\n",
       " std        1.346060\n",
       " min        1.600000\n",
       " 25%        6.100000\n",
       " 50%        7.100000\n",
       " 75%        7.800000\n",
       " max        9.100000\n",
       " Name: user_score, dtype: float64,\n",
       " count    246.000000\n",
       " mean       5.650813\n",
       " std        1.697795\n",
       " min        0.200000\n",
       " 25%        4.400000\n",
       " 50%        6.000000\n",
       " 75%        6.900000\n",
       " max        8.800000\n",
       " Name: user_score, dtype: float64)"
      ]
     },
     "execution_count": 42,
     "metadata": {},
     "output_type": "execute_result"
    }
   ],
   "source": [
    "# общая информация о данных для наглядности\n",
    "action['user_score'].describe(),sports['user_score'].describe()"
   ]
  },
  {
   "cell_type": "markdown",
   "metadata": {},
   "source": [
    "### Вывод по второй гипотезе\n",
    "Средние пользовательские рейтинги жанров Action  и Sports не равны."
   ]
  },
  {
   "cell_type": "markdown",
   "metadata": {},
   "source": [
    "## Общий вывод\n",
    "    Была изучена общая информация о предоставленных данных. \n",
    "    Выявлены следующие проблемы:  неверные типы данных, пропущенные значения, неверное значение переменных.\n",
    "    Данные были предобработаны  при помощи функций и методов fillna(), astype(),transform() и тд. Была произведена категоризация данных методом pivot_table.\n",
    "    Было посчитано и добавлено в таблицу:  суммарные продажи во всех регионах.\n",
    "    Были выдвинуты и проверены две гипотезы, из которых следуют следующие выводы:Средние пользовательские рейтинги платформ Xbox One и PC равны, cредние пользовательские рейтинги жанров Action (англ. «действие», экшен-игры) и Sports (англ. «спортивные соревнования») не равны."
   ]
  },
  {
   "cell_type": "markdown",
   "metadata": {},
   "source": [
    "## Вывод из цели"
   ]
  },
  {
   "cell_type": "markdown",
   "metadata": {},
   "source": [
    "Исходя из предыдущих выводов были получены определяющие успешность игры закономерности:\n",
    "\n",
    "\n",
    "* Самыми прибыльными жанрами являются шутеры, спортивные игры, платформеры.\n",
    "\n",
    "\n",
    "* Самыми неприбыльными жанрами являются пазлы и приключения.\n",
    "\n",
    "\n",
    "* Исходя из вышепредставленных графиков можно сделать вывод, что с момента введения платформы на рынок до ее пика продаж проходит в среднем 3.5 года(это может быть связвно с тем, что за это время разработчики игр подстраиваются под новую платформу и выпускают новые игры на новых для рынка платформах). Средний жизненный цикл игр на платформах составляет 10 лет.    \n",
    "\n",
    "\n",
    "*  При планировании будущих продаж большее внимание стоит обращать на рейтинги критиков. \n",
    "\n",
    "\n",
    "* При запуске игр на игровые приставки типа PS3,X360,PS4 большее внимание стоит обращать на потребности рынка Северной Америки. \n",
    "\n",
    "\n",
    "* При запуске игр на портативные игровые консоли типа PSP,PSV,3DS большее внимание стоит обращать на потребности рынка Японии.\n",
    "\n",
    " \n",
    "* Самые популярные значения рейтингов для Северной Америки и Европы : M, E,undefined. Именно на игры этих рейтингов стоит концентрироваться компаниям-разработчикам, если основной целью ставить прибыль при вхождении на рынок Северной Америки и Европы.\n",
    "\n",
    "\n",
    "* Самые популярные значений рейтингов для Японии: undefined,E,T. Именно на игры этих рейтингов стоит концентрироваться компаниям-разработчикам, если основной целью ставить прибыль при вхождении на рынок Японии.Рейтинг undefined может быть присвоен новым играм, которые еще не прошли проверку рейтинга ESRB, или играм японского производства, которым рейтинг и не будет присвоен в будущем, из-за того, что они ориентированы только на Японский рынок.\n",
    "\n",
    "\n",
    "* Самыми неприбыльными рейтингами для всех регионов являются EC,RP"
   ]
  }
 ],
 "metadata": {
  "ExecuteTimeLog": [
   {
    "duration": 445,
    "start_time": "2021-09-14T12:33:29.533Z"
   },
   {
    "duration": 430,
    "start_time": "2021-09-14T12:33:36.786Z"
   },
   {
    "duration": 477,
    "start_time": "2021-09-14T12:33:41.763Z"
   },
   {
    "duration": 420,
    "start_time": "2021-09-14T12:33:48.749Z"
   },
   {
    "duration": 690,
    "start_time": "2021-09-14T12:33:53.875Z"
   },
   {
    "duration": 42,
    "start_time": "2021-09-14T12:33:54.567Z"
   },
   {
    "duration": 62,
    "start_time": "2021-09-14T12:33:57.968Z"
   },
   {
    "duration": 54,
    "start_time": "2021-09-14T12:34:31.347Z"
   },
   {
    "duration": 11,
    "start_time": "2021-09-14T12:34:38.228Z"
   },
   {
    "duration": 11,
    "start_time": "2021-09-14T12:39:58.288Z"
   },
   {
    "duration": 32,
    "start_time": "2021-09-14T12:40:01.888Z"
   },
   {
    "duration": 1315,
    "start_time": "2021-09-14T12:41:49.191Z"
   },
   {
    "duration": 36,
    "start_time": "2021-09-14T12:42:21.915Z"
   },
   {
    "duration": 594,
    "start_time": "2021-09-14T12:44:56.564Z"
   },
   {
    "duration": 456,
    "start_time": "2021-09-14T12:44:59.073Z"
   },
   {
    "duration": 34,
    "start_time": "2021-09-14T12:45:03.257Z"
   },
   {
    "duration": 39,
    "start_time": "2021-09-14T12:45:30.816Z"
   },
   {
    "duration": 510,
    "start_time": "2021-09-14T12:47:10.553Z"
   },
   {
    "duration": 457,
    "start_time": "2021-09-14T12:47:20.158Z"
   },
   {
    "duration": 58,
    "start_time": "2021-09-14T12:47:26.292Z"
   },
   {
    "duration": 40,
    "start_time": "2021-09-14T12:48:18.428Z"
   },
   {
    "duration": 490,
    "start_time": "2021-09-14T12:48:25.118Z"
   },
   {
    "duration": 520,
    "start_time": "2021-09-14T12:48:30.318Z"
   },
   {
    "duration": 487,
    "start_time": "2021-09-14T12:48:35.918Z"
   },
   {
    "duration": 39,
    "start_time": "2021-09-14T12:48:43.628Z"
   },
   {
    "duration": 509,
    "start_time": "2021-09-14T12:49:08.109Z"
   },
   {
    "duration": 67,
    "start_time": "2021-09-14T12:49:21.530Z"
   },
   {
    "duration": 41,
    "start_time": "2021-09-14T12:50:34.148Z"
   },
   {
    "duration": 53,
    "start_time": "2021-09-14T12:50:51.526Z"
   },
   {
    "duration": 512,
    "start_time": "2021-09-14T12:59:46.362Z"
   },
   {
    "duration": 42,
    "start_time": "2021-09-14T12:59:51.485Z"
   },
   {
    "duration": 391,
    "start_time": "2021-09-14T13:07:09.297Z"
   },
   {
    "duration": 5,
    "start_time": "2021-09-14T13:07:45.939Z"
   },
   {
    "duration": 438,
    "start_time": "2021-09-14T13:07:52.444Z"
   },
   {
    "duration": 2,
    "start_time": "2021-09-14T13:08:07.621Z"
   },
   {
    "duration": 4,
    "start_time": "2021-09-14T13:08:12.014Z"
   },
   {
    "duration": 413,
    "start_time": "2021-09-14T13:08:17.705Z"
   },
   {
    "duration": 376,
    "start_time": "2021-09-14T13:08:51.001Z"
   },
   {
    "duration": 3,
    "start_time": "2021-09-14T13:08:56.298Z"
   },
   {
    "duration": 5,
    "start_time": "2021-09-14T13:09:00.567Z"
   },
   {
    "duration": 465,
    "start_time": "2021-09-14T13:09:12.713Z"
   },
   {
    "duration": 313,
    "start_time": "2021-09-14T13:09:12.867Z"
   },
   {
    "duration": 4,
    "start_time": "2021-09-14T13:09:13.513Z"
   },
   {
    "duration": 627,
    "start_time": "2021-09-14T13:09:21.910Z"
   },
   {
    "duration": 63,
    "start_time": "2021-09-14T13:09:22.539Z"
   },
   {
    "duration": 11,
    "start_time": "2021-09-14T13:09:22.604Z"
   },
   {
    "duration": 65,
    "start_time": "2021-09-14T13:09:22.618Z"
   },
   {
    "duration": 4,
    "start_time": "2021-09-14T13:09:22.685Z"
   },
   {
    "duration": 23,
    "start_time": "2021-09-14T13:09:22.691Z"
   },
   {
    "duration": 10,
    "start_time": "2021-09-14T13:10:43.674Z"
   },
   {
    "duration": 9,
    "start_time": "2021-09-14T13:12:12.638Z"
   },
   {
    "duration": 22,
    "start_time": "2021-09-14T13:12:19.758Z"
   },
   {
    "duration": 22,
    "start_time": "2021-09-14T13:12:35.629Z"
   },
   {
    "duration": 600,
    "start_time": "2021-09-14T13:16:40.856Z"
   },
   {
    "duration": 56,
    "start_time": "2021-09-14T13:16:42.041Z"
   },
   {
    "duration": 10,
    "start_time": "2021-09-14T13:16:42.639Z"
   },
   {
    "duration": 41,
    "start_time": "2021-09-14T13:16:42.876Z"
   },
   {
    "duration": 3,
    "start_time": "2021-09-14T13:16:43.637Z"
   },
   {
    "duration": 11,
    "start_time": "2021-09-14T13:16:44.145Z"
   },
   {
    "duration": 22,
    "start_time": "2021-09-14T13:16:45.664Z"
   },
   {
    "duration": 21,
    "start_time": "2021-09-14T13:21:31.413Z"
   },
   {
    "duration": 1261,
    "start_time": "2021-09-14T13:26:16.398Z"
   },
   {
    "duration": 64,
    "start_time": "2021-09-14T13:26:17.661Z"
   },
   {
    "duration": 12,
    "start_time": "2021-09-14T13:26:17.727Z"
   },
   {
    "duration": 57,
    "start_time": "2021-09-14T13:26:17.741Z"
   },
   {
    "duration": 2,
    "start_time": "2021-09-14T13:26:17.800Z"
   },
   {
    "duration": 15,
    "start_time": "2021-09-14T13:26:17.804Z"
   },
   {
    "duration": 19,
    "start_time": "2021-09-14T13:26:17.821Z"
   },
   {
    "duration": 3,
    "start_time": "2021-09-14T13:26:23.813Z"
   },
   {
    "duration": 59,
    "start_time": "2021-09-14T13:26:24.218Z"
   },
   {
    "duration": 13,
    "start_time": "2021-09-14T13:26:25.358Z"
   },
   {
    "duration": 42,
    "start_time": "2021-09-14T13:26:26.770Z"
   },
   {
    "duration": 4,
    "start_time": "2021-09-14T13:26:27.559Z"
   },
   {
    "duration": 13,
    "start_time": "2021-09-14T13:26:27.902Z"
   },
   {
    "duration": 17,
    "start_time": "2021-09-14T13:26:28.556Z"
   },
   {
    "duration": 63,
    "start_time": "2021-09-14T13:27:42.306Z"
   },
   {
    "duration": 3,
    "start_time": "2021-09-14T13:27:50.385Z"
   },
   {
    "duration": 61,
    "start_time": "2021-09-14T13:27:50.701Z"
   },
   {
    "duration": 13,
    "start_time": "2021-09-14T13:27:51.421Z"
   },
   {
    "duration": 205,
    "start_time": "2021-09-14T13:29:13.952Z"
   },
   {
    "duration": 526,
    "start_time": "2021-09-14T13:29:20.667Z"
   },
   {
    "duration": 91,
    "start_time": "2021-09-14T13:31:33.167Z"
   },
   {
    "duration": 12,
    "start_time": "2021-09-14T13:31:38.867Z"
   },
   {
    "duration": 37,
    "start_time": "2021-09-14T13:31:39.094Z"
   },
   {
    "duration": 3,
    "start_time": "2021-09-14T13:31:39.448Z"
   },
   {
    "duration": 13,
    "start_time": "2021-09-14T13:31:39.654Z"
   },
   {
    "duration": 20,
    "start_time": "2021-09-14T13:31:39.838Z"
   },
   {
    "duration": 1233,
    "start_time": "2021-09-14T13:33:33.827Z"
   },
   {
    "duration": 4234,
    "start_time": "2021-09-14T13:33:35.062Z"
   },
   {
    "duration": 86,
    "start_time": "2021-09-14T13:33:39.213Z"
   },
   {
    "duration": 82,
    "start_time": "2021-09-14T13:33:39.218Z"
   },
   {
    "duration": 82,
    "start_time": "2021-09-14T13:33:39.220Z"
   },
   {
    "duration": 81,
    "start_time": "2021-09-14T13:33:39.222Z"
   },
   {
    "duration": 42,
    "start_time": "2021-09-14T13:33:39.263Z"
   },
   {
    "duration": 1248,
    "start_time": "2021-09-14T13:33:57.615Z"
   },
   {
    "duration": 4393,
    "start_time": "2021-09-14T13:33:58.865Z"
   },
   {
    "duration": 130,
    "start_time": "2021-09-14T13:34:03.130Z"
   },
   {
    "duration": 129,
    "start_time": "2021-09-14T13:34:03.132Z"
   },
   {
    "duration": 97,
    "start_time": "2021-09-14T13:34:03.165Z"
   },
   {
    "duration": 98,
    "start_time": "2021-09-14T13:34:03.166Z"
   },
   {
    "duration": 97,
    "start_time": "2021-09-14T13:34:03.168Z"
   },
   {
    "duration": 68,
    "start_time": "2021-09-14T13:35:48.095Z"
   },
   {
    "duration": 58,
    "start_time": "2021-09-14T13:36:06.398Z"
   },
   {
    "duration": 51,
    "start_time": "2021-09-14T13:36:06.407Z"
   },
   {
    "duration": 49,
    "start_time": "2021-09-14T13:36:06.411Z"
   },
   {
    "duration": 14,
    "start_time": "2021-09-14T13:36:06.447Z"
   },
   {
    "duration": -29,
    "start_time": "2021-09-14T13:36:06.492Z"
   },
   {
    "duration": -26,
    "start_time": "2021-09-14T13:36:06.494Z"
   },
   {
    "duration": -61,
    "start_time": "2021-09-14T13:36:06.530Z"
   },
   {
    "duration": 1249,
    "start_time": "2021-09-14T13:36:57.919Z"
   },
   {
    "duration": 59,
    "start_time": "2021-09-14T13:36:59.170Z"
   },
   {
    "duration": 11,
    "start_time": "2021-09-14T13:36:59.231Z"
   },
   {
    "duration": 56,
    "start_time": "2021-09-14T13:36:59.245Z"
   },
   {
    "duration": 3,
    "start_time": "2021-09-14T13:36:59.303Z"
   },
   {
    "duration": 15,
    "start_time": "2021-09-14T13:36:59.308Z"
   },
   {
    "duration": 23,
    "start_time": "2021-09-14T13:36:59.325Z"
   },
   {
    "duration": 15,
    "start_time": "2021-09-14T13:37:30.947Z"
   },
   {
    "duration": 473,
    "start_time": "2021-09-14T13:39:17.228Z"
   },
   {
    "duration": 438,
    "start_time": "2021-09-14T13:39:21.838Z"
   },
   {
    "duration": 1397,
    "start_time": "2021-09-14T13:40:01.168Z"
   },
   {
    "duration": 479,
    "start_time": "2021-09-14T13:40:18.220Z"
   },
   {
    "duration": 7,
    "start_time": "2021-09-14T13:40:29.244Z"
   },
   {
    "duration": 25,
    "start_time": "2021-09-14T13:40:32.537Z"
   },
   {
    "duration": 17,
    "start_time": "2021-09-14T13:40:40.936Z"
   },
   {
    "duration": 1315,
    "start_time": "2021-09-14T13:40:55.156Z"
   },
   {
    "duration": 62,
    "start_time": "2021-09-14T13:40:56.473Z"
   },
   {
    "duration": 12,
    "start_time": "2021-09-14T13:40:56.537Z"
   },
   {
    "duration": 57,
    "start_time": "2021-09-14T13:40:56.551Z"
   },
   {
    "duration": 3,
    "start_time": "2021-09-14T13:40:56.610Z"
   },
   {
    "duration": 14,
    "start_time": "2021-09-14T13:40:56.615Z"
   },
   {
    "duration": 18,
    "start_time": "2021-09-14T13:40:56.631Z"
   },
   {
    "duration": 19,
    "start_time": "2021-09-14T13:41:05.699Z"
   },
   {
    "duration": 13,
    "start_time": "2021-09-14T13:42:02.492Z"
   },
   {
    "duration": 14,
    "start_time": "2021-09-14T13:42:06.068Z"
   },
   {
    "duration": 14,
    "start_time": "2021-09-14T13:42:10.920Z"
   },
   {
    "duration": 23,
    "start_time": "2021-09-14T13:42:14.143Z"
   },
   {
    "duration": 21,
    "start_time": "2021-09-14T13:42:20.932Z"
   },
   {
    "duration": 537,
    "start_time": "2021-09-14T13:43:43.066Z"
   },
   {
    "duration": 421,
    "start_time": "2021-09-14T13:43:50.320Z"
   },
   {
    "duration": 12,
    "start_time": "2021-09-14T13:44:46.689Z"
   },
   {
    "duration": 6,
    "start_time": "2021-09-14T13:45:07.793Z"
   },
   {
    "duration": 12,
    "start_time": "2021-09-14T13:45:19.151Z"
   },
   {
    "duration": 7,
    "start_time": "2021-09-14T13:45:26.659Z"
   },
   {
    "duration": 13,
    "start_time": "2021-09-14T13:45:27.038Z"
   },
   {
    "duration": 21,
    "start_time": "2021-09-14T13:47:39.644Z"
   },
   {
    "duration": 12,
    "start_time": "2021-09-14T13:47:46.371Z"
   },
   {
    "duration": 3499,
    "start_time": "2021-09-14T13:47:59.971Z"
   },
   {
    "duration": 61,
    "start_time": "2021-09-14T13:48:03.472Z"
   },
   {
    "duration": 11,
    "start_time": "2021-09-14T13:48:03.536Z"
   },
   {
    "duration": 10,
    "start_time": "2021-09-14T13:48:03.549Z"
   },
   {
    "duration": 24,
    "start_time": "2021-09-14T13:48:03.561Z"
   },
   {
    "duration": 43,
    "start_time": "2021-09-14T13:48:03.587Z"
   },
   {
    "duration": 3,
    "start_time": "2021-09-14T13:48:03.632Z"
   },
   {
    "duration": 39,
    "start_time": "2021-09-14T13:48:03.637Z"
   },
   {
    "duration": 491,
    "start_time": "2021-09-14T13:48:03.679Z"
   },
   {
    "duration": 10,
    "start_time": "2021-09-14T13:48:18.966Z"
   },
   {
    "duration": 1272,
    "start_time": "2021-09-14T13:48:43.888Z"
   },
   {
    "duration": 61,
    "start_time": "2021-09-14T13:48:45.162Z"
   },
   {
    "duration": 11,
    "start_time": "2021-09-14T13:48:45.225Z"
   },
   {
    "duration": 21,
    "start_time": "2021-09-14T13:48:45.238Z"
   },
   {
    "duration": 52,
    "start_time": "2021-09-14T13:48:45.261Z"
   },
   {
    "duration": 2,
    "start_time": "2021-09-14T13:48:45.315Z"
   },
   {
    "duration": 28,
    "start_time": "2021-09-14T13:48:45.319Z"
   },
   {
    "duration": 551,
    "start_time": "2021-09-14T13:48:45.350Z"
   },
   {
    "duration": 3,
    "start_time": "2021-09-14T13:49:07.223Z"
   },
   {
    "duration": 7,
    "start_time": "2021-09-14T13:50:00.570Z"
   },
   {
    "duration": 413,
    "start_time": "2021-09-14T13:50:13.238Z"
   },
   {
    "duration": 12,
    "start_time": "2021-09-14T13:50:17.976Z"
   },
   {
    "duration": 8,
    "start_time": "2021-09-14T13:50:26.538Z"
   },
   {
    "duration": 13,
    "start_time": "2021-09-14T13:50:27.299Z"
   },
   {
    "duration": 9,
    "start_time": "2021-09-14T13:50:52.872Z"
   },
   {
    "duration": 9,
    "start_time": "2021-09-14T13:51:55.670Z"
   },
   {
    "duration": 10,
    "start_time": "2021-09-14T13:54:16.987Z"
   },
   {
    "duration": 11,
    "start_time": "2021-09-14T13:54:17.488Z"
   },
   {
    "duration": 1208,
    "start_time": "2021-09-14T13:54:54.046Z"
   },
   {
    "duration": 60,
    "start_time": "2021-09-14T13:54:55.257Z"
   },
   {
    "duration": 12,
    "start_time": "2021-09-14T13:54:55.320Z"
   },
   {
    "duration": 8,
    "start_time": "2021-09-14T13:54:55.334Z"
   },
   {
    "duration": 17,
    "start_time": "2021-09-14T13:54:55.344Z"
   },
   {
    "duration": 22,
    "start_time": "2021-09-14T13:54:55.363Z"
   },
   {
    "duration": 12789,
    "start_time": "2021-09-14T13:54:55.387Z"
   },
   {
    "duration": 231,
    "start_time": "2021-09-14T13:55:07.947Z"
   },
   {
    "duration": 231,
    "start_time": "2021-09-14T13:55:07.949Z"
   },
   {
    "duration": 32,
    "start_time": "2021-09-14T13:55:54.679Z"
   },
   {
    "duration": 10,
    "start_time": "2021-09-14T13:56:18.711Z"
   },
   {
    "duration": 458,
    "start_time": "2021-09-14T13:56:20.562Z"
   },
   {
    "duration": 383,
    "start_time": "2021-09-14T13:56:21.730Z"
   },
   {
    "duration": 1327,
    "start_time": "2021-09-14T13:56:33.545Z"
   },
   {
    "duration": 63,
    "start_time": "2021-09-14T13:56:34.876Z"
   },
   {
    "duration": 12,
    "start_time": "2021-09-14T13:56:34.941Z"
   },
   {
    "duration": 17,
    "start_time": "2021-09-14T13:56:34.955Z"
   },
   {
    "duration": 19,
    "start_time": "2021-09-14T13:56:34.974Z"
   },
   {
    "duration": 516,
    "start_time": "2021-09-14T13:56:34.995Z"
   },
   {
    "duration": 183,
    "start_time": "2021-09-14T13:56:35.330Z"
   },
   {
    "duration": 182,
    "start_time": "2021-09-14T13:56:35.332Z"
   },
   {
    "duration": 182,
    "start_time": "2021-09-14T13:56:35.333Z"
   },
   {
    "duration": 3,
    "start_time": "2021-09-14T13:56:57.474Z"
   },
   {
    "duration": 3,
    "start_time": "2021-09-14T13:56:59.774Z"
   },
   {
    "duration": 3,
    "start_time": "2021-09-14T13:57:30.794Z"
   },
   {
    "duration": 483,
    "start_time": "2021-09-14T13:57:31.194Z"
   },
   {
    "duration": 435,
    "start_time": "2021-09-14T13:57:32.265Z"
   },
   {
    "duration": 363,
    "start_time": "2021-09-14T13:57:32.340Z"
   },
   {
    "duration": 391,
    "start_time": "2021-09-14T13:57:40.284Z"
   },
   {
    "duration": 3,
    "start_time": "2021-09-14T13:57:40.754Z"
   },
   {
    "duration": 1274,
    "start_time": "2021-09-14T13:57:47.690Z"
   },
   {
    "duration": 69,
    "start_time": "2021-09-14T13:57:48.966Z"
   },
   {
    "duration": 11,
    "start_time": "2021-09-14T13:57:49.037Z"
   },
   {
    "duration": 3,
    "start_time": "2021-09-14T13:57:49.050Z"
   },
   {
    "duration": 12,
    "start_time": "2021-09-14T13:57:49.055Z"
   },
   {
    "duration": 21,
    "start_time": "2021-09-14T13:57:49.076Z"
   },
   {
    "duration": 32,
    "start_time": "2021-09-14T13:57:49.099Z"
   },
   {
    "duration": 11,
    "start_time": "2021-09-14T13:57:49.133Z"
   },
   {
    "duration": 547,
    "start_time": "2021-09-14T13:57:49.146Z"
   },
   {
    "duration": 2,
    "start_time": "2021-09-14T13:58:47.726Z"
   },
   {
    "duration": 5,
    "start_time": "2021-09-14T13:58:57.662Z"
   },
   {
    "duration": 58,
    "start_time": "2021-09-14T14:06:03.466Z"
   },
   {
    "duration": 390,
    "start_time": "2021-09-14T14:07:51.544Z"
   },
   {
    "duration": 126,
    "start_time": "2021-09-14T14:08:34.896Z"
   },
   {
    "duration": 408,
    "start_time": "2021-09-14T14:08:51.957Z"
   },
   {
    "duration": 1278,
    "start_time": "2021-09-14T14:09:14.881Z"
   },
   {
    "duration": 63,
    "start_time": "2021-09-14T14:09:16.161Z"
   },
   {
    "duration": 12,
    "start_time": "2021-09-14T14:09:16.226Z"
   },
   {
    "duration": 3,
    "start_time": "2021-09-14T14:09:16.240Z"
   },
   {
    "duration": 32,
    "start_time": "2021-09-14T14:09:16.245Z"
   },
   {
    "duration": 24,
    "start_time": "2021-09-14T14:09:16.279Z"
   },
   {
    "duration": 32,
    "start_time": "2021-09-14T14:09:16.305Z"
   },
   {
    "duration": 11,
    "start_time": "2021-09-14T14:09:16.339Z"
   },
   {
    "duration": 7,
    "start_time": "2021-09-14T14:09:16.378Z"
   },
   {
    "duration": 7,
    "start_time": "2021-09-14T14:11:05.912Z"
   },
   {
    "duration": 7,
    "start_time": "2021-09-14T14:12:02.255Z"
   },
   {
    "duration": 48,
    "start_time": "2021-09-14T14:12:11.601Z"
   },
   {
    "duration": 11220,
    "start_time": "2021-09-14T14:14:20.073Z"
   },
   {
    "duration": 238,
    "start_time": "2021-09-14T14:14:31.057Z"
   },
   {
    "duration": 1255,
    "start_time": "2021-09-14T14:15:05.715Z"
   },
   {
    "duration": 54,
    "start_time": "2021-09-14T14:15:06.972Z"
   },
   {
    "duration": 11,
    "start_time": "2021-09-14T14:15:07.028Z"
   },
   {
    "duration": 6,
    "start_time": "2021-09-14T14:15:07.042Z"
   },
   {
    "duration": 13,
    "start_time": "2021-09-14T14:15:07.049Z"
   },
   {
    "duration": 16,
    "start_time": "2021-09-14T14:15:07.064Z"
   },
   {
    "duration": 14,
    "start_time": "2021-09-14T14:15:07.081Z"
   },
   {
    "duration": 19,
    "start_time": "2021-09-14T14:15:07.097Z"
   },
   {
    "duration": 33,
    "start_time": "2021-09-14T14:15:07.118Z"
   },
   {
    "duration": 32,
    "start_time": "2021-09-14T14:15:07.153Z"
   },
   {
    "duration": 12,
    "start_time": "2021-09-14T14:15:07.187Z"
   },
   {
    "duration": 508,
    "start_time": "2021-09-14T14:16:20.537Z"
   },
   {
    "duration": 143,
    "start_time": "2021-09-14T14:17:36.138Z"
   },
   {
    "duration": 128,
    "start_time": "2021-09-14T14:17:40.659Z"
   },
   {
    "duration": 135,
    "start_time": "2021-09-14T14:17:59.889Z"
   },
   {
    "duration": 3023,
    "start_time": "2021-09-14T14:18:08.012Z"
   },
   {
    "duration": 5,
    "start_time": "2021-09-14T14:18:47.046Z"
   },
   {
    "duration": 385,
    "start_time": "2021-09-14T14:18:52.519Z"
   },
   {
    "duration": 6,
    "start_time": "2021-09-14T14:19:03.966Z"
   },
   {
    "duration": 386,
    "start_time": "2021-09-14T14:19:13.342Z"
   },
   {
    "duration": 4,
    "start_time": "2021-09-14T14:19:31.251Z"
   },
   {
    "duration": 597,
    "start_time": "2021-09-14T14:19:36.794Z"
   },
   {
    "duration": 6,
    "start_time": "2021-09-14T14:19:47.988Z"
   },
   {
    "duration": 4,
    "start_time": "2021-09-14T14:19:55.432Z"
   },
   {
    "duration": 15,
    "start_time": "2021-09-14T14:19:58.836Z"
   },
   {
    "duration": 4,
    "start_time": "2021-09-14T14:19:59.844Z"
   },
   {
    "duration": 6,
    "start_time": "2021-09-14T14:20:02.879Z"
   },
   {
    "duration": 7,
    "start_time": "2021-09-14T14:20:13.870Z"
   },
   {
    "duration": 215,
    "start_time": "2021-09-14T14:20:20.285Z"
   },
   {
    "duration": 6,
    "start_time": "2021-09-14T14:20:30.057Z"
   },
   {
    "duration": 6,
    "start_time": "2021-09-14T14:20:36.232Z"
   },
   {
    "duration": 13,
    "start_time": "2021-09-14T14:21:06.798Z"
   },
   {
    "duration": 15,
    "start_time": "2021-09-14T14:21:16.561Z"
   },
   {
    "duration": 9,
    "start_time": "2021-09-14T14:21:34.746Z"
   },
   {
    "duration": 15,
    "start_time": "2021-09-14T14:21:40.879Z"
   },
   {
    "duration": 17,
    "start_time": "2021-09-14T14:22:33.077Z"
   },
   {
    "duration": 9,
    "start_time": "2021-09-14T14:25:47.994Z"
   },
   {
    "duration": 13,
    "start_time": "2021-09-14T14:25:58.024Z"
   },
   {
    "duration": 30,
    "start_time": "2021-09-14T14:26:08.046Z"
   },
   {
    "duration": 1826,
    "start_time": "2021-09-14T14:30:30.000Z"
   },
   {
    "duration": 409,
    "start_time": "2021-09-14T14:31:06.356Z"
   },
   {
    "duration": 2546,
    "start_time": "2021-09-14T14:31:15.547Z"
   },
   {
    "duration": 414,
    "start_time": "2021-09-14T14:32:05.966Z"
   },
   {
    "duration": -617,
    "start_time": "2021-09-14T14:32:06.999Z"
   },
   {
    "duration": 1550,
    "start_time": "2021-09-14T14:32:14.107Z"
   },
   {
    "duration": 27,
    "start_time": "2021-09-14T14:32:31.118Z"
   },
   {
    "duration": 20,
    "start_time": "2021-09-14T14:32:32.330Z"
   },
   {
    "duration": 26,
    "start_time": "2021-09-14T14:32:47.398Z"
   },
   {
    "duration": 32,
    "start_time": "2021-09-14T14:32:57.010Z"
   },
   {
    "duration": 31,
    "start_time": "2021-09-14T14:33:31.435Z"
   },
   {
    "duration": 13,
    "start_time": "2021-09-14T14:34:17.529Z"
   },
   {
    "duration": 5,
    "start_time": "2021-09-14T14:34:48.046Z"
   },
   {
    "duration": 4,
    "start_time": "2021-09-14T14:35:25.641Z"
   },
   {
    "duration": 160,
    "start_time": "2021-09-14T14:37:01.863Z"
   },
   {
    "duration": 433,
    "start_time": "2021-09-14T14:37:10.550Z"
   },
   {
    "duration": 412,
    "start_time": "2021-09-14T14:37:29.267Z"
   },
   {
    "duration": 5,
    "start_time": "2021-09-14T14:38:01.740Z"
   },
   {
    "duration": 146,
    "start_time": "2021-09-14T14:38:34.868Z"
   },
   {
    "duration": 25,
    "start_time": "2021-09-14T14:38:43.910Z"
   },
   {
    "duration": 27,
    "start_time": "2021-09-14T14:40:58.018Z"
   },
   {
    "duration": 146,
    "start_time": "2021-09-14T14:41:17.380Z"
   },
   {
    "duration": 129,
    "start_time": "2021-09-14T14:41:21.112Z"
   },
   {
    "duration": 185,
    "start_time": "2021-09-14T14:41:29.007Z"
   },
   {
    "duration": 173,
    "start_time": "2021-09-14T14:41:52.235Z"
   },
   {
    "duration": 1111,
    "start_time": "2021-09-14T14:42:04.329Z"
   },
   {
    "duration": 51,
    "start_time": "2021-09-14T14:42:05.442Z"
   },
   {
    "duration": 11,
    "start_time": "2021-09-14T14:42:05.495Z"
   },
   {
    "duration": 3,
    "start_time": "2021-09-14T14:42:05.508Z"
   },
   {
    "duration": 15,
    "start_time": "2021-09-14T14:42:05.513Z"
   },
   {
    "duration": 6,
    "start_time": "2021-09-14T14:42:05.530Z"
   },
   {
    "duration": 46,
    "start_time": "2021-09-14T14:42:05.539Z"
   },
   {
    "duration": 15,
    "start_time": "2021-09-14T14:42:05.588Z"
   },
   {
    "duration": 33,
    "start_time": "2021-09-14T14:42:05.605Z"
   },
   {
    "duration": 122,
    "start_time": "2021-09-14T14:42:05.640Z"
   },
   {
    "duration": -454,
    "start_time": "2021-09-14T14:42:06.218Z"
   },
   {
    "duration": -474,
    "start_time": "2021-09-14T14:42:06.239Z"
   },
   {
    "duration": 125,
    "start_time": "2021-09-14T14:42:21.990Z"
   },
   {
    "duration": 129,
    "start_time": "2021-09-14T14:42:46.303Z"
   },
   {
    "duration": 531,
    "start_time": "2021-09-14T14:43:02.405Z"
   },
   {
    "duration": 465,
    "start_time": "2021-09-14T14:43:23.678Z"
   },
   {
    "duration": 439,
    "start_time": "2021-09-14T14:43:35.049Z"
   },
   {
    "duration": 25,
    "start_time": "2021-09-14T14:44:42.903Z"
   },
   {
    "duration": 9,
    "start_time": "2021-09-14T14:45:29.853Z"
   },
   {
    "duration": 10,
    "start_time": "2021-09-14T14:45:52.554Z"
   },
   {
    "duration": 9,
    "start_time": "2021-09-14T14:46:15.316Z"
   },
   {
    "duration": 1177,
    "start_time": "2021-09-14T14:49:32.563Z"
   },
   {
    "duration": 51,
    "start_time": "2021-09-14T14:49:33.742Z"
   },
   {
    "duration": 11,
    "start_time": "2021-09-14T14:49:33.796Z"
   },
   {
    "duration": 11,
    "start_time": "2021-09-14T14:49:33.809Z"
   },
   {
    "duration": 22,
    "start_time": "2021-09-14T14:49:33.822Z"
   },
   {
    "duration": 7,
    "start_time": "2021-09-14T14:49:33.845Z"
   },
   {
    "duration": 44,
    "start_time": "2021-09-14T14:49:33.854Z"
   },
   {
    "duration": 15,
    "start_time": "2021-09-14T14:49:33.901Z"
   },
   {
    "duration": 32,
    "start_time": "2021-09-14T14:49:33.918Z"
   },
   {
    "duration": 33,
    "start_time": "2021-09-14T14:49:33.952Z"
   },
   {
    "duration": 8,
    "start_time": "2021-09-14T14:49:33.987Z"
   },
   {
    "duration": 10,
    "start_time": "2021-09-14T14:49:44.777Z"
   },
   {
    "duration": 5,
    "start_time": "2021-09-14T14:50:24.177Z"
   },
   {
    "duration": 530,
    "start_time": "2021-09-14T14:50:57.923Z"
   },
   {
    "duration": 168,
    "start_time": "2021-09-14T14:51:19.892Z"
   },
   {
    "duration": 459,
    "start_time": "2021-09-14T14:51:23.452Z"
   },
   {
    "duration": 25,
    "start_time": "2021-09-14T14:52:25.719Z"
   },
   {
    "duration": 13,
    "start_time": "2021-09-14T14:52:44.429Z"
   },
   {
    "duration": 26,
    "start_time": "2021-09-14T14:52:50.367Z"
   },
   {
    "duration": 12,
    "start_time": "2021-09-14T14:53:22.191Z"
   },
   {
    "duration": 23,
    "start_time": "2021-09-14T14:54:02.731Z"
   },
   {
    "duration": 22,
    "start_time": "2021-09-14T14:54:15.937Z"
   },
   {
    "duration": 25,
    "start_time": "2021-09-14T14:54:34.292Z"
   },
   {
    "duration": 169,
    "start_time": "2021-09-14T14:55:01.898Z"
   },
   {
    "duration": 24,
    "start_time": "2021-09-14T14:55:06.200Z"
   },
   {
    "duration": 25,
    "start_time": "2021-09-14T14:55:14.997Z"
   },
   {
    "duration": 24,
    "start_time": "2021-09-14T14:55:26.462Z"
   },
   {
    "duration": 29,
    "start_time": "2021-09-14T14:55:33.407Z"
   },
   {
    "duration": 26,
    "start_time": "2021-09-14T14:55:49.877Z"
   },
   {
    "duration": 29,
    "start_time": "2021-09-14T14:56:02.108Z"
   },
   {
    "duration": 3,
    "start_time": "2021-09-14T14:59:51.857Z"
   },
   {
    "duration": 52,
    "start_time": "2021-09-14T14:59:52.048Z"
   },
   {
    "duration": 11,
    "start_time": "2021-09-14T14:59:52.228Z"
   },
   {
    "duration": 3,
    "start_time": "2021-09-14T14:59:52.397Z"
   },
   {
    "duration": 11,
    "start_time": "2021-09-14T14:59:52.609Z"
   },
   {
    "duration": 6,
    "start_time": "2021-09-14T14:59:52.767Z"
   },
   {
    "duration": 31,
    "start_time": "2021-09-14T14:59:52.998Z"
   },
   {
    "duration": 23,
    "start_time": "2021-09-14T14:59:53.127Z"
   },
   {
    "duration": 36,
    "start_time": "2021-09-14T14:59:53.288Z"
   },
   {
    "duration": 11,
    "start_time": "2021-09-14T14:59:53.996Z"
   },
   {
    "duration": 6,
    "start_time": "2021-09-14T14:59:54.177Z"
   },
   {
    "duration": 50,
    "start_time": "2021-09-14T15:12:22.613Z"
   },
   {
    "duration": 13,
    "start_time": "2021-09-14T15:12:34.128Z"
   },
   {
    "duration": 13,
    "start_time": "2021-09-14T15:13:08.107Z"
   },
   {
    "duration": 11,
    "start_time": "2021-09-14T15:13:13.295Z"
   },
   {
    "duration": 31,
    "start_time": "2021-09-14T15:13:23.448Z"
   },
   {
    "duration": 11557,
    "start_time": "2021-09-14T15:29:30.632Z"
   },
   {
    "duration": 1328,
    "start_time": "2021-09-14T15:31:22.888Z"
   },
   {
    "duration": 55,
    "start_time": "2021-09-14T15:31:24.218Z"
   },
   {
    "duration": 12,
    "start_time": "2021-09-14T15:31:24.275Z"
   },
   {
    "duration": 36,
    "start_time": "2021-09-14T15:31:24.289Z"
   },
   {
    "duration": 3,
    "start_time": "2021-09-14T15:31:24.327Z"
   },
   {
    "duration": 10,
    "start_time": "2021-09-14T15:31:24.332Z"
   },
   {
    "duration": 37,
    "start_time": "2021-09-14T15:31:24.345Z"
   },
   {
    "duration": 7,
    "start_time": "2021-09-14T15:31:24.383Z"
   },
   {
    "duration": 6,
    "start_time": "2021-09-14T15:31:24.393Z"
   },
   {
    "duration": 35,
    "start_time": "2021-09-14T15:31:24.401Z"
   },
   {
    "duration": 56,
    "start_time": "2021-09-14T15:31:24.438Z"
   },
   {
    "duration": 10,
    "start_time": "2021-09-14T15:31:24.496Z"
   },
   {
    "duration": 5,
    "start_time": "2021-09-14T15:31:59.534Z"
   },
   {
    "duration": 134,
    "start_time": "2021-09-14T15:33:45.725Z"
   },
   {
    "duration": 5,
    "start_time": "2021-09-14T15:38:38.002Z"
   },
   {
    "duration": 1243,
    "start_time": "2021-09-14T15:38:55.423Z"
   },
   {
    "duration": 56,
    "start_time": "2021-09-14T15:38:56.668Z"
   },
   {
    "duration": 12,
    "start_time": "2021-09-14T15:38:56.727Z"
   },
   {
    "duration": 44,
    "start_time": "2021-09-14T15:38:56.741Z"
   },
   {
    "duration": 3,
    "start_time": "2021-09-14T15:38:56.787Z"
   },
   {
    "duration": 23,
    "start_time": "2021-09-14T15:38:56.792Z"
   },
   {
    "duration": 21,
    "start_time": "2021-09-14T15:38:56.817Z"
   },
   {
    "duration": 7,
    "start_time": "2021-09-14T15:38:56.840Z"
   },
   {
    "duration": 14,
    "start_time": "2021-09-14T15:38:56.850Z"
   },
   {
    "duration": 41,
    "start_time": "2021-09-14T15:38:56.866Z"
   },
   {
    "duration": 31,
    "start_time": "2021-09-14T15:38:56.909Z"
   },
   {
    "duration": 10,
    "start_time": "2021-09-14T15:38:56.942Z"
   },
   {
    "duration": 146,
    "start_time": "2021-09-14T15:45:52.771Z"
   },
   {
    "duration": 13,
    "start_time": "2021-09-14T15:47:27.181Z"
   },
   {
    "duration": 1320,
    "start_time": "2021-09-14T15:47:34.735Z"
   },
   {
    "duration": 57,
    "start_time": "2021-09-14T15:47:36.057Z"
   },
   {
    "duration": 13,
    "start_time": "2021-09-14T15:47:36.117Z"
   },
   {
    "duration": 50,
    "start_time": "2021-09-14T15:47:36.133Z"
   },
   {
    "duration": 4,
    "start_time": "2021-09-14T15:47:36.186Z"
   },
   {
    "duration": 14,
    "start_time": "2021-09-14T15:47:36.192Z"
   },
   {
    "duration": 18,
    "start_time": "2021-09-14T15:47:36.209Z"
   },
   {
    "duration": 7,
    "start_time": "2021-09-14T15:47:36.231Z"
   },
   {
    "duration": 40,
    "start_time": "2021-09-14T15:47:36.240Z"
   },
   {
    "duration": 19,
    "start_time": "2021-09-14T15:47:36.282Z"
   },
   {
    "duration": 33,
    "start_time": "2021-09-14T15:47:36.303Z"
   },
   {
    "duration": 60,
    "start_time": "2021-09-14T15:47:36.338Z"
   },
   {
    "duration": 10,
    "start_time": "2021-09-14T15:47:36.399Z"
   },
   {
    "duration": 135,
    "start_time": "2021-09-14T16:01:59.427Z"
   },
   {
    "duration": 20,
    "start_time": "2021-09-14T16:04:37.755Z"
   },
   {
    "duration": 10,
    "start_time": "2021-09-14T16:04:47.303Z"
   },
   {
    "duration": 275,
    "start_time": "2021-09-14T16:05:35.146Z"
   },
   {
    "duration": 8,
    "start_time": "2021-09-14T16:05:38.125Z"
   },
   {
    "duration": 1188,
    "start_time": "2021-09-14T16:06:55.341Z"
   },
   {
    "duration": 50,
    "start_time": "2021-09-14T16:06:56.531Z"
   },
   {
    "duration": 9,
    "start_time": "2021-09-14T16:06:56.584Z"
   },
   {
    "duration": 28,
    "start_time": "2021-09-14T16:06:56.595Z"
   },
   {
    "duration": 3,
    "start_time": "2021-09-14T16:06:56.624Z"
   },
   {
    "duration": 9,
    "start_time": "2021-09-14T16:06:56.629Z"
   },
   {
    "duration": 37,
    "start_time": "2021-09-14T16:06:56.640Z"
   },
   {
    "duration": 6,
    "start_time": "2021-09-14T16:06:56.679Z"
   },
   {
    "duration": 4,
    "start_time": "2021-09-14T16:06:56.687Z"
   },
   {
    "duration": 17,
    "start_time": "2021-09-14T16:06:56.693Z"
   },
   {
    "duration": 28,
    "start_time": "2021-09-14T16:06:56.711Z"
   },
   {
    "duration": 7,
    "start_time": "2021-09-14T16:06:56.741Z"
   },
   {
    "duration": 28,
    "start_time": "2021-09-14T16:10:32.352Z"
   },
   {
    "duration": 8,
    "start_time": "2021-09-14T16:10:33.023Z"
   },
   {
    "duration": 13,
    "start_time": "2021-09-14T16:14:36.847Z"
   },
   {
    "duration": 21,
    "start_time": "2021-09-14T16:19:21.713Z"
   },
   {
    "duration": 4,
    "start_time": "2021-09-14T16:19:39.477Z"
   },
   {
    "duration": 259,
    "start_time": "2021-09-14T16:21:15.813Z"
   },
   {
    "duration": 3,
    "start_time": "2021-09-14T16:23:24.967Z"
   },
   {
    "duration": 58,
    "start_time": "2021-09-14T16:23:24.972Z"
   },
   {
    "duration": 10,
    "start_time": "2021-09-14T16:23:25.032Z"
   },
   {
    "duration": 40,
    "start_time": "2021-09-14T16:23:25.044Z"
   },
   {
    "duration": 3,
    "start_time": "2021-09-14T16:23:25.181Z"
   },
   {
    "duration": 15,
    "start_time": "2021-09-14T16:23:25.186Z"
   },
   {
    "duration": 16,
    "start_time": "2021-09-14T16:23:25.203Z"
   },
   {
    "duration": 7,
    "start_time": "2021-09-14T16:23:25.275Z"
   },
   {
    "duration": 6,
    "start_time": "2021-09-14T16:23:25.596Z"
   },
   {
    "duration": 13,
    "start_time": "2021-09-14T16:23:25.930Z"
   },
   {
    "duration": 30,
    "start_time": "2021-09-14T16:23:26.265Z"
   },
   {
    "duration": 9,
    "start_time": "2021-09-14T16:23:26.474Z"
   },
   {
    "duration": 4,
    "start_time": "2021-09-14T16:23:26.924Z"
   },
   {
    "duration": 1261,
    "start_time": "2021-09-15T09:23:37.504Z"
   },
   {
    "duration": 569,
    "start_time": "2021-09-15T09:23:38.767Z"
   },
   {
    "duration": 11,
    "start_time": "2021-09-15T09:23:39.338Z"
   },
   {
    "duration": 31,
    "start_time": "2021-09-15T09:23:39.351Z"
   },
   {
    "duration": 2,
    "start_time": "2021-09-15T09:23:39.384Z"
   },
   {
    "duration": 11,
    "start_time": "2021-09-15T09:23:39.388Z"
   },
   {
    "duration": 16,
    "start_time": "2021-09-15T09:23:39.401Z"
   },
   {
    "duration": 6,
    "start_time": "2021-09-15T09:23:39.420Z"
   },
   {
    "duration": 7,
    "start_time": "2021-09-15T09:23:39.429Z"
   },
   {
    "duration": 43,
    "start_time": "2021-09-15T09:23:39.438Z"
   },
   {
    "duration": 33,
    "start_time": "2021-09-15T09:23:39.483Z"
   },
   {
    "duration": 10,
    "start_time": "2021-09-15T09:23:39.518Z"
   },
   {
    "duration": 6,
    "start_time": "2021-09-15T09:23:39.530Z"
   },
   {
    "duration": 11,
    "start_time": "2021-09-15T09:25:21.280Z"
   },
   {
    "duration": 13,
    "start_time": "2021-09-15T09:25:40.053Z"
   },
   {
    "duration": 13,
    "start_time": "2021-09-15T09:26:46.536Z"
   },
   {
    "duration": 27,
    "start_time": "2021-09-15T09:26:52.983Z"
   },
   {
    "duration": 119,
    "start_time": "2021-09-15T09:27:49.042Z"
   },
   {
    "duration": 144,
    "start_time": "2021-09-15T09:28:02.230Z"
   },
   {
    "duration": 12,
    "start_time": "2021-09-15T09:28:06.596Z"
   },
   {
    "duration": 138,
    "start_time": "2021-09-15T09:29:27.271Z"
   },
   {
    "duration": 29,
    "start_time": "2021-09-15T09:29:43.376Z"
   },
   {
    "duration": 13,
    "start_time": "2021-09-15T09:30:07.194Z"
   },
   {
    "duration": 15,
    "start_time": "2021-09-15T09:30:47.789Z"
   },
   {
    "duration": 1272,
    "start_time": "2021-09-15T09:34:07.777Z"
   },
   {
    "duration": 285,
    "start_time": "2021-09-15T09:34:09.051Z"
   },
   {
    "duration": 13,
    "start_time": "2021-09-15T09:34:09.339Z"
   },
   {
    "duration": 56,
    "start_time": "2021-09-15T09:34:09.355Z"
   },
   {
    "duration": 7,
    "start_time": "2021-09-15T09:34:09.422Z"
   },
   {
    "duration": 28,
    "start_time": "2021-09-15T09:34:09.449Z"
   },
   {
    "duration": 34,
    "start_time": "2021-09-15T09:34:09.485Z"
   },
   {
    "duration": 17,
    "start_time": "2021-09-15T09:34:09.528Z"
   },
   {
    "duration": 18,
    "start_time": "2021-09-15T09:34:09.554Z"
   },
   {
    "duration": 39,
    "start_time": "2021-09-15T09:34:09.580Z"
   },
   {
    "duration": 57,
    "start_time": "2021-09-15T09:34:09.627Z"
   },
   {
    "duration": 23,
    "start_time": "2021-09-15T09:34:09.692Z"
   },
   {
    "duration": 8,
    "start_time": "2021-09-15T09:34:09.723Z"
   },
   {
    "duration": 32,
    "start_time": "2021-09-15T09:34:09.746Z"
   },
   {
    "duration": 13,
    "start_time": "2021-09-15T09:35:22.874Z"
   },
   {
    "duration": 1488,
    "start_time": "2021-09-15T09:37:15.983Z"
   },
   {
    "duration": 381,
    "start_time": "2021-09-15T09:37:31.888Z"
   },
   {
    "duration": 115,
    "start_time": "2021-09-15T09:37:44.003Z"
   },
   {
    "duration": 1034,
    "start_time": "2021-09-15T09:38:52.297Z"
   },
   {
    "duration": 2,
    "start_time": "2021-09-15T09:39:07.439Z"
   },
   {
    "duration": 1274,
    "start_time": "2021-09-15T09:39:14.983Z"
   },
   {
    "duration": 57,
    "start_time": "2021-09-15T09:39:16.259Z"
   },
   {
    "duration": 11,
    "start_time": "2021-09-15T09:39:16.318Z"
   },
   {
    "duration": 48,
    "start_time": "2021-09-15T09:39:16.331Z"
   },
   {
    "duration": 3,
    "start_time": "2021-09-15T09:39:16.381Z"
   },
   {
    "duration": 12,
    "start_time": "2021-09-15T09:39:16.386Z"
   },
   {
    "duration": 15,
    "start_time": "2021-09-15T09:39:16.400Z"
   },
   {
    "duration": 2,
    "start_time": "2021-09-15T09:39:16.418Z"
   },
   {
    "duration": 7,
    "start_time": "2021-09-15T09:39:16.422Z"
   },
   {
    "duration": 47,
    "start_time": "2021-09-15T09:39:16.431Z"
   },
   {
    "duration": 34,
    "start_time": "2021-09-15T09:39:16.480Z"
   },
   {
    "duration": 9,
    "start_time": "2021-09-15T09:39:16.516Z"
   },
   {
    "duration": 4,
    "start_time": "2021-09-15T09:39:16.527Z"
   },
   {
    "duration": 43,
    "start_time": "2021-09-15T09:39:16.533Z"
   },
   {
    "duration": 7,
    "start_time": "2021-09-15T09:39:16.578Z"
   },
   {
    "duration": 6,
    "start_time": "2021-09-15T09:39:25.441Z"
   },
   {
    "duration": 21,
    "start_time": "2021-09-15T09:39:29.827Z"
   },
   {
    "duration": 6,
    "start_time": "2021-09-15T09:39:42.298Z"
   },
   {
    "duration": 7,
    "start_time": "2021-09-15T09:40:00.064Z"
   },
   {
    "duration": 5,
    "start_time": "2021-09-15T09:40:03.364Z"
   },
   {
    "duration": 1234,
    "start_time": "2021-09-15T09:40:09.128Z"
   },
   {
    "duration": 54,
    "start_time": "2021-09-15T09:40:10.364Z"
   },
   {
    "duration": 10,
    "start_time": "2021-09-15T09:40:10.420Z"
   },
   {
    "duration": 47,
    "start_time": "2021-09-15T09:40:10.433Z"
   },
   {
    "duration": 3,
    "start_time": "2021-09-15T09:40:10.481Z"
   },
   {
    "duration": 22,
    "start_time": "2021-09-15T09:40:10.486Z"
   },
   {
    "duration": 19,
    "start_time": "2021-09-15T09:40:10.510Z"
   },
   {
    "duration": 2,
    "start_time": "2021-09-15T09:40:10.531Z"
   },
   {
    "duration": 8,
    "start_time": "2021-09-15T09:40:10.537Z"
   },
   {
    "duration": 37,
    "start_time": "2021-09-15T09:40:10.547Z"
   },
   {
    "duration": 34,
    "start_time": "2021-09-15T09:40:10.587Z"
   },
   {
    "duration": 11,
    "start_time": "2021-09-15T09:40:10.623Z"
   },
   {
    "duration": 5,
    "start_time": "2021-09-15T09:40:10.637Z"
   },
   {
    "duration": 27,
    "start_time": "2021-09-15T09:40:10.676Z"
   },
   {
    "duration": 8,
    "start_time": "2021-09-15T09:40:10.709Z"
   },
   {
    "duration": 54,
    "start_time": "2021-09-15T09:40:10.719Z"
   },
   {
    "duration": 12,
    "start_time": "2021-09-15T09:40:25.133Z"
   },
   {
    "duration": 8,
    "start_time": "2021-09-15T09:40:55.010Z"
   },
   {
    "duration": 22,
    "start_time": "2021-09-15T09:40:59.910Z"
   },
   {
    "duration": 28,
    "start_time": "2021-09-15T09:41:46.050Z"
   },
   {
    "duration": 14,
    "start_time": "2021-09-15T09:42:59.290Z"
   },
   {
    "duration": 13,
    "start_time": "2021-09-15T09:43:03.704Z"
   },
   {
    "duration": 1298,
    "start_time": "2021-09-15T09:43:10.066Z"
   },
   {
    "duration": 58,
    "start_time": "2021-09-15T09:43:11.366Z"
   },
   {
    "duration": 13,
    "start_time": "2021-09-15T09:43:11.426Z"
   },
   {
    "duration": 49,
    "start_time": "2021-09-15T09:43:11.442Z"
   },
   {
    "duration": 3,
    "start_time": "2021-09-15T09:43:11.493Z"
   },
   {
    "duration": 11,
    "start_time": "2021-09-15T09:43:11.498Z"
   },
   {
    "duration": 15,
    "start_time": "2021-09-15T09:43:11.511Z"
   },
   {
    "duration": 3,
    "start_time": "2021-09-15T09:43:11.528Z"
   },
   {
    "duration": 7,
    "start_time": "2021-09-15T09:43:11.533Z"
   },
   {
    "duration": 50,
    "start_time": "2021-09-15T09:43:11.542Z"
   },
   {
    "duration": 33,
    "start_time": "2021-09-15T09:43:11.594Z"
   },
   {
    "duration": 9,
    "start_time": "2021-09-15T09:43:11.629Z"
   },
   {
    "duration": 5,
    "start_time": "2021-09-15T09:43:11.640Z"
   },
   {
    "duration": 43,
    "start_time": "2021-09-15T09:43:11.646Z"
   },
   {
    "duration": 6,
    "start_time": "2021-09-15T09:43:11.690Z"
   },
   {
    "duration": 29,
    "start_time": "2021-09-15T09:43:11.698Z"
   },
   {
    "duration": 8,
    "start_time": "2021-09-15T09:45:17.973Z"
   },
   {
    "duration": 197,
    "start_time": "2021-09-15T09:45:45.121Z"
   },
   {
    "duration": 8,
    "start_time": "2021-09-15T09:46:26.567Z"
   },
   {
    "duration": 6,
    "start_time": "2021-09-15T09:46:35.033Z"
   },
   {
    "duration": 196,
    "start_time": "2021-09-15T09:46:45.118Z"
   },
   {
    "duration": 557,
    "start_time": "2021-09-15T09:47:04.230Z"
   },
   {
    "duration": 571,
    "start_time": "2021-09-15T09:47:08.943Z"
   },
   {
    "duration": 5,
    "start_time": "2021-09-15T09:47:25.938Z"
   },
   {
    "duration": 11,
    "start_time": "2021-09-15T09:48:01.648Z"
   },
   {
    "duration": 23,
    "start_time": "2021-09-15T09:48:05.797Z"
   },
   {
    "duration": 26,
    "start_time": "2021-09-15T09:48:21.876Z"
   },
   {
    "duration": 226,
    "start_time": "2021-09-15T09:49:08.657Z"
   },
   {
    "duration": 15,
    "start_time": "2021-09-15T09:49:16.706Z"
   },
   {
    "duration": 10540,
    "start_time": "2021-09-15T09:49:39.026Z"
   },
   {
    "duration": 9074,
    "start_time": "2021-09-15T09:49:51.572Z"
   },
   {
    "duration": 394,
    "start_time": "2021-09-15T09:50:16.950Z"
   },
   {
    "duration": 393,
    "start_time": "2021-09-15T09:50:35.922Z"
   },
   {
    "duration": 124,
    "start_time": "2021-09-15T09:52:16.333Z"
   },
   {
    "duration": 1432,
    "start_time": "2021-09-15T09:52:22.177Z"
   },
   {
    "duration": 1562,
    "start_time": "2021-09-15T09:52:24.577Z"
   },
   {
    "duration": 15,
    "start_time": "2021-09-15T09:52:36.746Z"
   },
   {
    "duration": 198,
    "start_time": "2021-09-15T09:52:45.592Z"
   },
   {
    "duration": 199,
    "start_time": "2021-09-15T09:52:56.817Z"
   },
   {
    "duration": 214,
    "start_time": "2021-09-15T09:53:42.599Z"
   },
   {
    "duration": 126,
    "start_time": "2021-09-15T09:57:57.937Z"
   },
   {
    "duration": 3,
    "start_time": "2021-09-15T09:59:52.509Z"
   },
   {
    "duration": 238,
    "start_time": "2021-09-15T10:00:24.124Z"
   },
   {
    "duration": 15,
    "start_time": "2021-09-15T10:00:42.495Z"
   },
   {
    "duration": 24,
    "start_time": "2021-09-15T10:00:53.916Z"
   },
   {
    "duration": 14,
    "start_time": "2021-09-15T10:01:00.079Z"
   },
   {
    "duration": 368,
    "start_time": "2021-09-15T10:01:22.529Z"
   },
   {
    "duration": 369,
    "start_time": "2021-09-15T10:01:29.199Z"
   },
   {
    "duration": 419,
    "start_time": "2021-09-15T10:01:34.345Z"
   },
   {
    "duration": 400,
    "start_time": "2021-09-15T10:01:39.975Z"
   },
   {
    "duration": 125,
    "start_time": "2021-09-15T10:02:50.985Z"
   },
   {
    "duration": 377,
    "start_time": "2021-09-15T10:03:07.561Z"
   },
   {
    "duration": 177,
    "start_time": "2021-09-15T10:03:41.489Z"
   },
   {
    "duration": 15,
    "start_time": "2021-09-15T10:03:54.659Z"
   },
   {
    "duration": 389,
    "start_time": "2021-09-15T10:04:08.441Z"
   },
   {
    "duration": 366,
    "start_time": "2021-09-15T10:04:14.131Z"
   },
   {
    "duration": 16,
    "start_time": "2021-09-15T10:04:19.429Z"
   },
   {
    "duration": 16,
    "start_time": "2021-09-15T10:06:24.893Z"
   },
   {
    "duration": 125,
    "start_time": "2021-09-15T10:07:40.484Z"
   },
   {
    "duration": 6,
    "start_time": "2021-09-15T10:08:44.123Z"
   },
   {
    "duration": 25,
    "start_time": "2021-09-15T10:08:48.260Z"
   },
   {
    "duration": 128,
    "start_time": "2021-09-15T10:09:27.400Z"
   },
   {
    "duration": 14,
    "start_time": "2021-09-15T10:09:35.443Z"
   },
   {
    "duration": 19,
    "start_time": "2021-09-15T10:09:41.297Z"
   },
   {
    "duration": 231,
    "start_time": "2021-09-15T10:10:03.259Z"
   },
   {
    "duration": 116,
    "start_time": "2021-09-15T10:10:26.807Z"
   },
   {
    "duration": 195,
    "start_time": "2021-09-15T10:10:35.113Z"
   },
   {
    "duration": 17,
    "start_time": "2021-09-15T10:11:57.680Z"
   },
   {
    "duration": 17,
    "start_time": "2021-09-15T10:12:41.575Z"
   },
   {
    "duration": 17,
    "start_time": "2021-09-15T10:13:21.504Z"
   },
   {
    "duration": 16,
    "start_time": "2021-09-15T10:13:31.237Z"
   },
   {
    "duration": 218,
    "start_time": "2021-09-15T10:14:58.950Z"
   },
   {
    "duration": 222,
    "start_time": "2021-09-15T10:16:10.858Z"
   },
   {
    "duration": 225,
    "start_time": "2021-09-15T10:16:20.130Z"
   },
   {
    "duration": 134,
    "start_time": "2021-09-15T10:17:39.329Z"
   },
   {
    "duration": 117,
    "start_time": "2021-09-15T10:18:15.044Z"
   },
   {
    "duration": 191,
    "start_time": "2021-09-15T10:18:25.124Z"
   },
   {
    "duration": 201,
    "start_time": "2021-09-15T10:19:37.420Z"
   },
   {
    "duration": 207,
    "start_time": "2021-09-15T10:19:55.974Z"
   },
   {
    "duration": 203,
    "start_time": "2021-09-15T10:21:04.755Z"
   },
   {
    "duration": 209,
    "start_time": "2021-09-15T10:21:39.000Z"
   },
   {
    "duration": 7,
    "start_time": "2021-09-15T10:26:40.496Z"
   },
   {
    "duration": 25,
    "start_time": "2021-09-15T10:26:57.697Z"
   },
   {
    "duration": 8,
    "start_time": "2021-09-15T10:27:13.955Z"
   },
   {
    "duration": 7,
    "start_time": "2021-09-15T10:27:26.752Z"
   },
   {
    "duration": 7,
    "start_time": "2021-09-15T10:28:03.232Z"
   },
   {
    "duration": 6,
    "start_time": "2021-09-15T10:28:12.683Z"
   },
   {
    "duration": 3,
    "start_time": "2021-09-15T10:28:44.222Z"
   },
   {
    "duration": 15,
    "start_time": "2021-09-15T10:29:15.285Z"
   },
   {
    "duration": 282,
    "start_time": "2021-09-15T10:36:54.700Z"
   },
   {
    "duration": 202,
    "start_time": "2021-09-15T10:43:15.204Z"
   },
   {
    "duration": 206,
    "start_time": "2021-09-15T10:43:15.795Z"
   },
   {
    "duration": 199,
    "start_time": "2021-09-15T10:43:16.451Z"
   },
   {
    "duration": 211,
    "start_time": "2021-09-15T10:43:18.123Z"
   },
   {
    "duration": 222,
    "start_time": "2021-09-15T10:44:08.241Z"
   },
   {
    "duration": 7,
    "start_time": "2021-09-15T10:47:12.595Z"
   },
   {
    "duration": 16,
    "start_time": "2021-09-15T10:47:12.787Z"
   },
   {
    "duration": 1301,
    "start_time": "2021-09-15T10:47:21.285Z"
   },
   {
    "duration": 55,
    "start_time": "2021-09-15T10:47:22.588Z"
   },
   {
    "duration": 12,
    "start_time": "2021-09-15T10:47:22.645Z"
   },
   {
    "duration": 42,
    "start_time": "2021-09-15T10:47:22.660Z"
   },
   {
    "duration": 3,
    "start_time": "2021-09-15T10:47:22.705Z"
   },
   {
    "duration": 12,
    "start_time": "2021-09-15T10:47:22.710Z"
   },
   {
    "duration": 18,
    "start_time": "2021-09-15T10:47:22.724Z"
   },
   {
    "duration": 2,
    "start_time": "2021-09-15T10:47:22.745Z"
   },
   {
    "duration": 32,
    "start_time": "2021-09-15T10:47:22.749Z"
   },
   {
    "duration": 27,
    "start_time": "2021-09-15T10:47:22.783Z"
   },
   {
    "duration": 35,
    "start_time": "2021-09-15T10:47:22.812Z"
   },
   {
    "duration": 29,
    "start_time": "2021-09-15T10:47:22.849Z"
   },
   {
    "duration": 6,
    "start_time": "2021-09-15T10:47:22.880Z"
   },
   {
    "duration": 19,
    "start_time": "2021-09-15T10:47:22.888Z"
   },
   {
    "duration": 8,
    "start_time": "2021-09-15T10:47:22.909Z"
   },
   {
    "duration": 32,
    "start_time": "2021-09-15T10:47:22.919Z"
   },
   {
    "duration": 220,
    "start_time": "2021-09-15T10:47:22.977Z"
   },
   {
    "duration": 17,
    "start_time": "2021-09-15T10:47:23.199Z"
   },
   {
    "duration": 212,
    "start_time": "2021-09-15T10:47:23.217Z"
   },
   {
    "duration": 222,
    "start_time": "2021-09-15T10:47:23.431Z"
   },
   {
    "duration": 213,
    "start_time": "2021-09-15T10:47:23.655Z"
   },
   {
    "duration": 209,
    "start_time": "2021-09-15T10:47:23.869Z"
   },
   {
    "duration": 221,
    "start_time": "2021-09-15T10:47:24.081Z"
   },
   {
    "duration": 7,
    "start_time": "2021-09-15T10:47:24.304Z"
   },
   {
    "duration": 17,
    "start_time": "2021-09-15T10:47:24.313Z"
   },
   {
    "duration": 214,
    "start_time": "2021-09-15T10:56:02.028Z"
   },
   {
    "duration": 450,
    "start_time": "2021-09-15T10:56:20.659Z"
   },
   {
    "duration": 282,
    "start_time": "2021-09-15T10:56:25.394Z"
   },
   {
    "duration": 16,
    "start_time": "2021-09-15T11:04:38.916Z"
   },
   {
    "duration": 16,
    "start_time": "2021-09-15T11:05:01.572Z"
   },
   {
    "duration": 146,
    "start_time": "2021-09-15T11:05:22.000Z"
   },
   {
    "duration": 16,
    "start_time": "2021-09-15T11:06:13.412Z"
   },
   {
    "duration": 4,
    "start_time": "2021-09-15T11:23:08.054Z"
   },
   {
    "duration": 367,
    "start_time": "2021-09-16T14:46:51.255Z"
   },
   {
    "duration": 1600,
    "start_time": "2021-09-16T14:46:57.561Z"
   },
   {
    "duration": 63,
    "start_time": "2021-09-16T14:46:59.167Z"
   },
   {
    "duration": 14,
    "start_time": "2021-09-16T14:46:59.234Z"
   },
   {
    "duration": 55,
    "start_time": "2021-09-16T14:46:59.251Z"
   },
   {
    "duration": 4,
    "start_time": "2021-09-16T14:46:59.309Z"
   },
   {
    "duration": 22,
    "start_time": "2021-09-16T14:46:59.316Z"
   },
   {
    "duration": 39,
    "start_time": "2021-09-16T14:46:59.341Z"
   },
   {
    "duration": 3,
    "start_time": "2021-09-16T14:46:59.382Z"
   },
   {
    "duration": 11,
    "start_time": "2021-09-16T14:46:59.390Z"
   },
   {
    "duration": 41,
    "start_time": "2021-09-16T14:46:59.404Z"
   },
   {
    "duration": 48,
    "start_time": "2021-09-16T14:46:59.468Z"
   },
   {
    "duration": 12,
    "start_time": "2021-09-16T14:46:59.518Z"
   },
   {
    "duration": 35,
    "start_time": "2021-09-16T14:46:59.532Z"
   },
   {
    "duration": 24,
    "start_time": "2021-09-16T14:46:59.569Z"
   },
   {
    "duration": 8,
    "start_time": "2021-09-16T14:46:59.595Z"
   },
   {
    "duration": 64,
    "start_time": "2021-09-16T14:46:59.605Z"
   },
   {
    "duration": 352,
    "start_time": "2021-09-16T14:46:59.671Z"
   },
   {
    "duration": 23,
    "start_time": "2021-09-16T14:47:00.025Z"
   },
   {
    "duration": 339,
    "start_time": "2021-09-16T14:47:00.050Z"
   },
   {
    "duration": 330,
    "start_time": "2021-09-16T14:47:00.392Z"
   },
   {
    "duration": 324,
    "start_time": "2021-09-16T14:47:00.724Z"
   },
   {
    "duration": 335,
    "start_time": "2021-09-16T14:47:01.051Z"
   },
   {
    "duration": 8,
    "start_time": "2021-09-16T14:47:01.388Z"
   },
   {
    "duration": 82,
    "start_time": "2021-09-16T14:47:01.398Z"
   },
   {
    "duration": 425,
    "start_time": "2021-09-16T14:47:01.482Z"
   },
   {
    "duration": 251,
    "start_time": "2021-09-16T14:47:01.909Z"
   },
   {
    "duration": 298,
    "start_time": "2021-09-16T14:47:12.783Z"
   },
   {
    "duration": 241,
    "start_time": "2021-09-16T14:47:19.921Z"
   },
   {
    "duration": 239,
    "start_time": "2021-09-16T14:49:11.383Z"
   },
   {
    "duration": 32,
    "start_time": "2021-09-16T14:49:21.319Z"
   },
   {
    "duration": 345,
    "start_time": "2021-09-16T14:49:56.783Z"
   },
   {
    "duration": 720,
    "start_time": "2021-09-16T14:51:04.466Z"
   },
   {
    "duration": 33,
    "start_time": "2021-09-16T14:51:12.414Z"
   },
   {
    "duration": 23,
    "start_time": "2021-09-16T14:51:39.552Z"
   },
   {
    "duration": 544,
    "start_time": "2021-09-16T14:53:06.687Z"
   },
   {
    "duration": 7683,
    "start_time": "2021-09-16T14:53:27.856Z"
   },
   {
    "duration": 7570,
    "start_time": "2021-09-16T14:53:43.567Z"
   },
   {
    "duration": 3437,
    "start_time": "2021-09-16T14:54:18.254Z"
   },
   {
    "duration": 1149,
    "start_time": "2021-09-16T14:54:38.629Z"
   },
   {
    "duration": 34,
    "start_time": "2021-09-16T15:01:59.785Z"
   },
   {
    "duration": 18,
    "start_time": "2021-09-16T15:02:31.424Z"
   },
   {
    "duration": 20,
    "start_time": "2021-09-16T15:06:20.325Z"
   },
   {
    "duration": 20,
    "start_time": "2021-09-16T15:06:31.984Z"
   },
   {
    "duration": 416,
    "start_time": "2021-09-16T15:07:05.841Z"
   },
   {
    "duration": 408,
    "start_time": "2021-09-16T15:07:08.202Z"
   },
   {
    "duration": 501,
    "start_time": "2021-09-16T15:07:19.935Z"
   },
   {
    "duration": 931,
    "start_time": "2021-09-16T15:07:39.012Z"
   },
   {
    "duration": 436,
    "start_time": "2021-09-16T15:09:58.970Z"
   },
   {
    "duration": 435,
    "start_time": "2021-09-16T15:10:02.700Z"
   },
   {
    "duration": 393,
    "start_time": "2021-09-16T15:10:30.998Z"
   },
   {
    "duration": 412,
    "start_time": "2021-09-16T15:10:44.077Z"
   },
   {
    "duration": 815,
    "start_time": "2021-09-16T15:12:13.389Z"
   },
   {
    "duration": 4,
    "start_time": "2021-09-16T15:12:25.857Z"
   },
   {
    "duration": 29,
    "start_time": "2021-09-16T15:13:26.880Z"
   },
   {
    "duration": 297,
    "start_time": "2021-09-16T15:13:50.123Z"
   },
   {
    "duration": 21,
    "start_time": "2021-09-16T15:14:00.533Z"
   },
   {
    "duration": 302,
    "start_time": "2021-09-16T15:15:01.560Z"
   },
   {
    "duration": 364,
    "start_time": "2021-09-16T15:15:10.851Z"
   },
   {
    "duration": 20,
    "start_time": "2021-09-16T15:15:21.350Z"
   },
   {
    "duration": 25,
    "start_time": "2021-09-16T15:15:51.423Z"
   },
   {
    "duration": 31,
    "start_time": "2021-09-16T15:16:01.636Z"
   },
   {
    "duration": 326,
    "start_time": "2021-09-16T15:16:27.377Z"
   },
   {
    "duration": 21,
    "start_time": "2021-09-16T15:16:35.548Z"
   },
   {
    "duration": 46,
    "start_time": "2021-09-16T15:20:09.397Z"
   },
   {
    "duration": 15,
    "start_time": "2021-09-16T15:20:31.593Z"
   },
   {
    "duration": 4,
    "start_time": "2021-09-16T15:23:56.600Z"
   },
   {
    "duration": 4,
    "start_time": "2021-09-16T15:24:32.406Z"
   },
   {
    "duration": 14,
    "start_time": "2021-09-16T15:25:47.122Z"
   },
   {
    "duration": 1499,
    "start_time": "2021-09-16T15:26:23.650Z"
   },
   {
    "duration": 66,
    "start_time": "2021-09-16T15:26:25.152Z"
   },
   {
    "duration": 15,
    "start_time": "2021-09-16T15:26:25.220Z"
   },
   {
    "duration": 69,
    "start_time": "2021-09-16T15:26:25.237Z"
   },
   {
    "duration": 4,
    "start_time": "2021-09-16T15:26:25.309Z"
   },
   {
    "duration": 31,
    "start_time": "2021-09-16T15:26:25.315Z"
   },
   {
    "duration": 33,
    "start_time": "2021-09-16T15:26:25.348Z"
   },
   {
    "duration": 5,
    "start_time": "2021-09-16T15:26:25.385Z"
   },
   {
    "duration": 37,
    "start_time": "2021-09-16T15:26:25.393Z"
   },
   {
    "duration": 54,
    "start_time": "2021-09-16T15:26:25.432Z"
   },
   {
    "duration": 47,
    "start_time": "2021-09-16T15:26:25.488Z"
   },
   {
    "duration": 6,
    "start_time": "2021-09-16T15:26:25.537Z"
   },
   {
    "duration": 24,
    "start_time": "2021-09-16T15:26:25.545Z"
   },
   {
    "duration": 33,
    "start_time": "2021-09-16T15:26:25.572Z"
   },
   {
    "duration": 369,
    "start_time": "2021-09-16T15:26:25.607Z"
   },
   {
    "duration": 24,
    "start_time": "2021-09-16T15:26:25.978Z"
   },
   {
    "duration": 341,
    "start_time": "2021-09-16T15:26:26.005Z"
   },
   {
    "duration": 339,
    "start_time": "2021-09-16T15:26:26.348Z"
   },
   {
    "duration": 336,
    "start_time": "2021-09-16T15:26:26.690Z"
   },
   {
    "duration": 328,
    "start_time": "2021-09-16T15:26:27.029Z"
   },
   {
    "duration": 9,
    "start_time": "2021-09-16T15:26:27.367Z"
   },
   {
    "duration": 27,
    "start_time": "2021-09-16T15:26:27.378Z"
   },
   {
    "duration": 349,
    "start_time": "2021-09-16T15:26:27.410Z"
   },
   {
    "duration": 915,
    "start_time": "2021-09-16T15:26:27.761Z"
   },
   {
    "duration": 436,
    "start_time": "2021-09-16T15:26:28.679Z"
   },
   {
    "duration": 593,
    "start_time": "2021-09-16T15:26:29.117Z"
   },
   {
    "duration": 21,
    "start_time": "2021-09-16T15:26:29.712Z"
   },
   {
    "duration": 13,
    "start_time": "2021-09-16T15:27:06.380Z"
   },
   {
    "duration": 8,
    "start_time": "2021-09-16T15:27:10.792Z"
   },
   {
    "duration": 9,
    "start_time": "2021-09-16T15:27:20.020Z"
   },
   {
    "duration": 7,
    "start_time": "2021-09-16T15:27:24.248Z"
   },
   {
    "duration": 1558,
    "start_time": "2021-09-16T15:27:35.305Z"
   },
   {
    "duration": 75,
    "start_time": "2021-09-16T15:27:36.868Z"
   },
   {
    "duration": 24,
    "start_time": "2021-09-16T15:27:36.947Z"
   },
   {
    "duration": 47,
    "start_time": "2021-09-16T15:27:36.975Z"
   },
   {
    "duration": 4,
    "start_time": "2021-09-16T15:27:37.024Z"
   },
   {
    "duration": 45,
    "start_time": "2021-09-16T15:27:37.031Z"
   },
   {
    "duration": 26,
    "start_time": "2021-09-16T15:27:37.078Z"
   },
   {
    "duration": 5,
    "start_time": "2021-09-16T15:27:37.108Z"
   },
   {
    "duration": 15,
    "start_time": "2021-09-16T15:27:37.116Z"
   },
   {
    "duration": 45,
    "start_time": "2021-09-16T15:27:37.133Z"
   },
   {
    "duration": 45,
    "start_time": "2021-09-16T15:27:37.180Z"
   },
   {
    "duration": 5,
    "start_time": "2021-09-16T15:27:37.228Z"
   },
   {
    "duration": 44,
    "start_time": "2021-09-16T15:27:37.235Z"
   },
   {
    "duration": 25,
    "start_time": "2021-09-16T15:27:37.281Z"
   },
   {
    "duration": 360,
    "start_time": "2021-09-16T15:27:37.308Z"
   },
   {
    "duration": 25,
    "start_time": "2021-09-16T15:27:37.670Z"
   },
   {
    "duration": 363,
    "start_time": "2021-09-16T15:27:37.697Z"
   },
   {
    "duration": 349,
    "start_time": "2021-09-16T15:27:38.062Z"
   },
   {
    "duration": 334,
    "start_time": "2021-09-16T15:27:38.413Z"
   },
   {
    "duration": 371,
    "start_time": "2021-09-16T15:27:38.750Z"
   },
   {
    "duration": 9,
    "start_time": "2021-09-16T15:27:39.124Z"
   },
   {
    "duration": 42,
    "start_time": "2021-09-16T15:27:39.135Z"
   },
   {
    "duration": 360,
    "start_time": "2021-09-16T15:27:39.182Z"
   },
   {
    "duration": 934,
    "start_time": "2021-09-16T15:27:39.544Z"
   },
   {
    "duration": 417,
    "start_time": "2021-09-16T15:27:40.480Z"
   },
   {
    "duration": 436,
    "start_time": "2021-09-16T15:27:40.899Z"
   },
   {
    "duration": 34,
    "start_time": "2021-09-16T15:27:41.338Z"
   },
   {
    "duration": 15,
    "start_time": "2021-09-16T15:28:08.112Z"
   },
   {
    "duration": 9,
    "start_time": "2021-09-16T15:28:19.576Z"
   },
   {
    "duration": 15,
    "start_time": "2021-09-16T15:28:20.128Z"
   },
   {
    "duration": 1643,
    "start_time": "2021-09-16T15:28:41.744Z"
   },
   {
    "duration": 69,
    "start_time": "2021-09-16T15:28:43.390Z"
   },
   {
    "duration": 17,
    "start_time": "2021-09-16T15:28:43.462Z"
   },
   {
    "duration": 53,
    "start_time": "2021-09-16T15:28:43.481Z"
   },
   {
    "duration": 4,
    "start_time": "2021-09-16T15:28:43.537Z"
   },
   {
    "duration": 45,
    "start_time": "2021-09-16T15:28:43.543Z"
   },
   {
    "duration": 32,
    "start_time": "2021-09-16T15:28:43.591Z"
   },
   {
    "duration": 5,
    "start_time": "2021-09-16T15:28:43.627Z"
   },
   {
    "duration": 31,
    "start_time": "2021-09-16T15:28:43.635Z"
   },
   {
    "duration": 39,
    "start_time": "2021-09-16T15:28:43.669Z"
   },
   {
    "duration": 48,
    "start_time": "2021-09-16T15:28:43.711Z"
   },
   {
    "duration": 7,
    "start_time": "2021-09-16T15:28:43.766Z"
   },
   {
    "duration": 24,
    "start_time": "2021-09-16T15:28:43.775Z"
   },
   {
    "duration": 39,
    "start_time": "2021-09-16T15:28:43.802Z"
   },
   {
    "duration": 358,
    "start_time": "2021-09-16T15:28:43.844Z"
   },
   {
    "duration": 31,
    "start_time": "2021-09-16T15:28:44.204Z"
   },
   {
    "duration": 347,
    "start_time": "2021-09-16T15:28:44.237Z"
   },
   {
    "duration": 345,
    "start_time": "2021-09-16T15:28:44.587Z"
   },
   {
    "duration": 342,
    "start_time": "2021-09-16T15:28:44.935Z"
   },
   {
    "duration": 347,
    "start_time": "2021-09-16T15:28:45.280Z"
   },
   {
    "duration": 9,
    "start_time": "2021-09-16T15:28:45.629Z"
   },
   {
    "duration": 40,
    "start_time": "2021-09-16T15:28:45.641Z"
   },
   {
    "duration": 373,
    "start_time": "2021-09-16T15:28:45.686Z"
   },
   {
    "duration": 927,
    "start_time": "2021-09-16T15:28:46.066Z"
   },
   {
    "duration": 393,
    "start_time": "2021-09-16T15:28:46.996Z"
   },
   {
    "duration": 449,
    "start_time": "2021-09-16T15:28:47.391Z"
   },
   {
    "duration": 28,
    "start_time": "2021-09-16T15:28:47.843Z"
   },
   {
    "duration": 9,
    "start_time": "2021-09-16T15:28:53.959Z"
   },
   {
    "duration": 17,
    "start_time": "2021-09-16T15:28:55.286Z"
   },
   {
    "duration": 7,
    "start_time": "2021-09-16T15:29:02.968Z"
   },
   {
    "duration": 8,
    "start_time": "2021-09-16T15:30:05.894Z"
   },
   {
    "duration": 3,
    "start_time": "2021-09-16T15:30:47.152Z"
   },
   {
    "duration": 7,
    "start_time": "2021-09-16T15:31:16.666Z"
   },
   {
    "duration": 8,
    "start_time": "2021-09-16T15:31:18.176Z"
   },
   {
    "duration": 17,
    "start_time": "2021-09-16T15:31:22.853Z"
   },
   {
    "duration": 18,
    "start_time": "2021-09-16T15:31:44.680Z"
   },
   {
    "duration": 17,
    "start_time": "2021-09-16T15:31:54.896Z"
   },
   {
    "duration": 352,
    "start_time": "2021-09-16T15:35:18.715Z"
   },
   {
    "duration": 307,
    "start_time": "2021-09-16T15:38:13.007Z"
   },
   {
    "duration": 321,
    "start_time": "2021-09-16T15:38:51.741Z"
   },
   {
    "duration": 306,
    "start_time": "2021-09-16T15:39:26.911Z"
   },
   {
    "duration": 300,
    "start_time": "2021-09-16T15:40:12.928Z"
   },
   {
    "duration": 308,
    "start_time": "2021-09-16T15:41:10.295Z"
   },
   {
    "duration": 305,
    "start_time": "2021-09-16T15:41:50.542Z"
   },
   {
    "duration": 307,
    "start_time": "2021-09-16T15:42:06.093Z"
   },
   {
    "duration": 324,
    "start_time": "2021-09-16T15:42:08.813Z"
   },
   {
    "duration": 314,
    "start_time": "2021-09-16T15:42:12.465Z"
   },
   {
    "duration": 331,
    "start_time": "2021-09-16T15:42:16.790Z"
   },
   {
    "duration": 428,
    "start_time": "2021-09-16T15:42:36.185Z"
   },
   {
    "duration": 399,
    "start_time": "2021-09-16T15:42:41.598Z"
   },
   {
    "duration": 461,
    "start_time": "2021-09-16T15:42:46.347Z"
   },
   {
    "duration": 114,
    "start_time": "2021-09-16T16:05:48.818Z"
   },
   {
    "duration": 1109,
    "start_time": "2021-09-16T16:05:55.116Z"
   },
   {
    "duration": 21,
    "start_time": "2021-09-16T16:07:35.216Z"
   },
   {
    "duration": 9,
    "start_time": "2021-09-16T16:13:28.916Z"
   },
   {
    "duration": 22,
    "start_time": "2021-09-16T16:13:29.739Z"
   },
   {
    "duration": 18,
    "start_time": "2021-09-16T16:23:30.452Z"
   },
   {
    "duration": 24,
    "start_time": "2021-09-16T16:23:33.456Z"
   },
   {
    "duration": 18,
    "start_time": "2021-09-16T16:23:56.120Z"
   },
   {
    "duration": 3,
    "start_time": "2021-09-16T16:25:07.170Z"
   },
   {
    "duration": 811,
    "start_time": "2021-09-16T16:25:13.456Z"
   },
   {
    "duration": 428,
    "start_time": "2021-09-16T16:25:20.049Z"
   },
   {
    "duration": 450,
    "start_time": "2021-09-16T16:25:20.668Z"
   },
   {
    "duration": 454,
    "start_time": "2021-09-16T16:28:27.434Z"
   },
   {
    "duration": 23,
    "start_time": "2021-09-16T16:35:47.944Z"
   },
   {
    "duration": 3,
    "start_time": "2021-09-16T16:40:15.827Z"
   },
   {
    "duration": 3,
    "start_time": "2021-09-16T16:42:22.153Z"
   },
   {
    "duration": 440,
    "start_time": "2021-09-16T16:43:52.047Z"
   },
   {
    "duration": 277,
    "start_time": "2021-09-16T16:43:57.762Z"
   },
   {
    "duration": 21,
    "start_time": "2021-09-16T16:44:08.081Z"
   },
   {
    "duration": 22,
    "start_time": "2021-09-16T16:44:24.976Z"
   },
   {
    "duration": 23,
    "start_time": "2021-09-16T16:45:05.171Z"
   },
   {
    "duration": 27,
    "start_time": "2021-09-16T16:45:11.640Z"
   },
   {
    "duration": 26,
    "start_time": "2021-09-16T16:47:18.560Z"
   },
   {
    "duration": 22,
    "start_time": "2021-09-16T16:47:27.715Z"
   },
   {
    "duration": 300,
    "start_time": "2021-09-16T16:48:04.024Z"
   },
   {
    "duration": 328,
    "start_time": "2021-09-16T16:48:05.864Z"
   },
   {
    "duration": 22,
    "start_time": "2021-09-16T16:48:55.798Z"
   },
   {
    "duration": 20,
    "start_time": "2021-09-16T16:48:58.357Z"
   },
   {
    "duration": 21,
    "start_time": "2021-09-16T16:58:04.032Z"
   },
   {
    "duration": 21,
    "start_time": "2021-09-16T16:58:40.942Z"
   },
   {
    "duration": 22,
    "start_time": "2021-09-16T16:58:42.583Z"
   },
   {
    "duration": 21,
    "start_time": "2021-09-16T17:27:05.434Z"
   },
   {
    "duration": 22,
    "start_time": "2021-09-16T17:27:07.401Z"
   },
   {
    "duration": 22,
    "start_time": "2021-09-16T17:27:16.724Z"
   },
   {
    "duration": 87,
    "start_time": "2021-09-16T17:40:40.465Z"
   },
   {
    "duration": 303,
    "start_time": "2021-09-17T10:51:03.513Z"
   },
   {
    "duration": 1153,
    "start_time": "2021-09-17T10:51:10.636Z"
   },
   {
    "duration": 49,
    "start_time": "2021-09-17T10:51:11.791Z"
   },
   {
    "duration": 9,
    "start_time": "2021-09-17T10:51:11.842Z"
   },
   {
    "duration": 35,
    "start_time": "2021-09-17T10:51:11.853Z"
   },
   {
    "duration": 2,
    "start_time": "2021-09-17T10:51:11.890Z"
   },
   {
    "duration": 19,
    "start_time": "2021-09-17T10:51:11.894Z"
   },
   {
    "duration": 26,
    "start_time": "2021-09-17T10:51:11.915Z"
   },
   {
    "duration": 4,
    "start_time": "2021-09-17T10:51:11.943Z"
   },
   {
    "duration": 16,
    "start_time": "2021-09-17T10:51:11.949Z"
   },
   {
    "duration": 33,
    "start_time": "2021-09-17T10:51:11.967Z"
   },
   {
    "duration": 28,
    "start_time": "2021-09-17T10:51:12.002Z"
   },
   {
    "duration": 6,
    "start_time": "2021-09-17T10:51:12.031Z"
   },
   {
    "duration": 11,
    "start_time": "2021-09-17T10:51:12.041Z"
   },
   {
    "duration": 17,
    "start_time": "2021-09-17T10:51:12.053Z"
   },
   {
    "duration": 13,
    "start_time": "2021-09-17T10:51:12.072Z"
   },
   {
    "duration": 196,
    "start_time": "2021-09-17T10:51:12.087Z"
   },
   {
    "duration": 14,
    "start_time": "2021-09-17T10:51:12.285Z"
   },
   {
    "duration": 199,
    "start_time": "2021-09-17T10:51:12.301Z"
   },
   {
    "duration": 191,
    "start_time": "2021-09-17T10:51:12.502Z"
   },
   {
    "duration": 182,
    "start_time": "2021-09-17T10:51:12.694Z"
   },
   {
    "duration": 192,
    "start_time": "2021-09-17T10:51:12.878Z"
   },
   {
    "duration": 6,
    "start_time": "2021-09-17T10:51:13.072Z"
   },
   {
    "duration": 22,
    "start_time": "2021-09-17T10:51:13.082Z"
   },
   {
    "duration": 3,
    "start_time": "2021-09-17T10:51:13.106Z"
   },
   {
    "duration": 539,
    "start_time": "2021-09-17T10:51:13.110Z"
   },
   {
    "duration": 399,
    "start_time": "2021-09-17T10:51:13.651Z"
   },
   {
    "duration": 299,
    "start_time": "2021-09-17T10:51:14.053Z"
   },
   {
    "duration": 16,
    "start_time": "2021-09-17T10:51:14.354Z"
   },
   {
    "duration": 14,
    "start_time": "2021-09-17T10:51:14.372Z"
   },
   {
    "duration": 17,
    "start_time": "2021-09-17T10:51:14.388Z"
   },
   {
    "duration": 38,
    "start_time": "2021-09-17T10:51:14.406Z"
   },
   {
    "duration": 14,
    "start_time": "2021-09-17T10:51:14.446Z"
   },
   {
    "duration": 18,
    "start_time": "2021-09-17T10:51:14.461Z"
   },
   {
    "duration": 13,
    "start_time": "2021-09-17T10:51:14.481Z"
   },
   {
    "duration": 13,
    "start_time": "2021-09-17T10:51:14.496Z"
   },
   {
    "duration": 38,
    "start_time": "2021-09-17T10:51:14.511Z"
   },
   {
    "duration": 12,
    "start_time": "2021-09-17T10:51:14.551Z"
   },
   {
    "duration": 350,
    "start_time": "2021-09-17T10:51:14.565Z"
   },
   {
    "duration": -4827,
    "start_time": "2021-09-17T10:51:19.744Z"
   },
   {
    "duration": 1220,
    "start_time": "2021-09-17T10:55:34.961Z"
   },
   {
    "duration": 50,
    "start_time": "2021-09-17T10:55:36.184Z"
   },
   {
    "duration": 9,
    "start_time": "2021-09-17T10:55:36.236Z"
   },
   {
    "duration": 31,
    "start_time": "2021-09-17T10:55:36.247Z"
   },
   {
    "duration": 3,
    "start_time": "2021-09-17T10:55:36.279Z"
   },
   {
    "duration": 18,
    "start_time": "2021-09-17T10:55:36.283Z"
   },
   {
    "duration": 16,
    "start_time": "2021-09-17T10:55:36.302Z"
   },
   {
    "duration": 3,
    "start_time": "2021-09-17T10:55:36.321Z"
   },
   {
    "duration": 5,
    "start_time": "2021-09-17T10:55:36.341Z"
   },
   {
    "duration": 28,
    "start_time": "2021-09-17T10:55:36.348Z"
   },
   {
    "duration": 27,
    "start_time": "2021-09-17T10:55:36.378Z"
   },
   {
    "duration": 5,
    "start_time": "2021-09-17T10:55:36.406Z"
   },
   {
    "duration": 8,
    "start_time": "2021-09-17T10:55:36.413Z"
   },
   {
    "duration": 22,
    "start_time": "2021-09-17T10:55:36.423Z"
   },
   {
    "duration": 4,
    "start_time": "2021-09-17T10:55:36.447Z"
   },
   {
    "duration": 193,
    "start_time": "2021-09-17T10:55:36.452Z"
   },
   {
    "duration": 14,
    "start_time": "2021-09-17T10:55:36.647Z"
   },
   {
    "duration": 190,
    "start_time": "2021-09-17T10:55:36.663Z"
   },
   {
    "duration": 186,
    "start_time": "2021-09-17T10:55:36.854Z"
   },
   {
    "duration": 175,
    "start_time": "2021-09-17T10:55:37.042Z"
   },
   {
    "duration": 179,
    "start_time": "2021-09-17T10:55:37.219Z"
   },
   {
    "duration": 6,
    "start_time": "2021-09-17T10:55:37.400Z"
   },
   {
    "duration": 20,
    "start_time": "2021-09-17T10:55:37.409Z"
   },
   {
    "duration": 5,
    "start_time": "2021-09-17T10:55:37.431Z"
   },
   {
    "duration": 528,
    "start_time": "2021-09-17T10:55:37.441Z"
   },
   {
    "duration": 380,
    "start_time": "2021-09-17T10:55:37.970Z"
   },
   {
    "duration": 300,
    "start_time": "2021-09-17T10:55:38.352Z"
   },
   {
    "duration": 13,
    "start_time": "2021-09-17T10:55:38.654Z"
   },
   {
    "duration": 15,
    "start_time": "2021-09-17T10:55:38.669Z"
   },
   {
    "duration": 13,
    "start_time": "2021-09-17T10:55:38.685Z"
   },
   {
    "duration": 42,
    "start_time": "2021-09-17T10:55:38.700Z"
   },
   {
    "duration": 14,
    "start_time": "2021-09-17T10:55:38.743Z"
   },
   {
    "duration": 22,
    "start_time": "2021-09-17T10:55:38.758Z"
   },
   {
    "duration": 21,
    "start_time": "2021-09-17T10:55:38.782Z"
   },
   {
    "duration": 18,
    "start_time": "2021-09-17T10:55:38.804Z"
   },
   {
    "duration": 22,
    "start_time": "2021-09-17T10:55:38.824Z"
   },
   {
    "duration": 14,
    "start_time": "2021-09-17T10:55:38.848Z"
   },
   {
    "duration": 20,
    "start_time": "2021-09-17T10:55:38.864Z"
   },
   {
    "duration": 331,
    "start_time": "2021-09-17T10:55:38.886Z"
   },
   {
    "duration": 24,
    "start_time": "2021-09-17T10:57:35.518Z"
   },
   {
    "duration": 10,
    "start_time": "2021-09-17T10:58:10.581Z"
   },
   {
    "duration": 254,
    "start_time": "2021-09-17T10:59:05.104Z"
   },
   {
    "duration": 252,
    "start_time": "2021-09-17T10:59:34.320Z"
   },
   {
    "duration": 4,
    "start_time": "2021-09-17T10:59:58.841Z"
   },
   {
    "duration": 5,
    "start_time": "2021-09-17T11:00:04.155Z"
   },
   {
    "duration": 5,
    "start_time": "2021-09-17T11:03:58.683Z"
   },
   {
    "duration": 4,
    "start_time": "2021-09-17T11:04:06.703Z"
   },
   {
    "duration": 4,
    "start_time": "2021-09-17T11:04:44.558Z"
   },
   {
    "duration": 5,
    "start_time": "2021-09-17T11:05:16.130Z"
   },
   {
    "duration": 7,
    "start_time": "2021-09-17T11:07:29.272Z"
   },
   {
    "duration": 5,
    "start_time": "2021-09-17T11:46:24.869Z"
   },
   {
    "duration": 1142,
    "start_time": "2021-09-17T11:46:49.541Z"
   },
   {
    "duration": 49,
    "start_time": "2021-09-17T11:46:50.685Z"
   },
   {
    "duration": 10,
    "start_time": "2021-09-17T11:46:50.736Z"
   },
   {
    "duration": 27,
    "start_time": "2021-09-17T11:46:50.748Z"
   },
   {
    "duration": 3,
    "start_time": "2021-09-17T11:46:50.776Z"
   },
   {
    "duration": 17,
    "start_time": "2021-09-17T11:46:50.781Z"
   },
   {
    "duration": 24,
    "start_time": "2021-09-17T11:46:50.800Z"
   },
   {
    "duration": 3,
    "start_time": "2021-09-17T11:46:50.826Z"
   },
   {
    "duration": 10,
    "start_time": "2021-09-17T11:46:50.841Z"
   },
   {
    "duration": 23,
    "start_time": "2021-09-17T11:46:50.853Z"
   },
   {
    "duration": 28,
    "start_time": "2021-09-17T11:46:50.878Z"
   },
   {
    "duration": 6,
    "start_time": "2021-09-17T11:46:50.907Z"
   },
   {
    "duration": 10,
    "start_time": "2021-09-17T11:46:50.914Z"
   },
   {
    "duration": 22,
    "start_time": "2021-09-17T11:46:50.926Z"
   },
   {
    "duration": 5,
    "start_time": "2021-09-17T11:46:50.949Z"
   },
   {
    "duration": 208,
    "start_time": "2021-09-17T11:46:50.956Z"
   },
   {
    "duration": 15,
    "start_time": "2021-09-17T11:46:51.166Z"
   },
   {
    "duration": 194,
    "start_time": "2021-09-17T11:46:51.183Z"
   },
   {
    "duration": 190,
    "start_time": "2021-09-17T11:46:51.378Z"
   },
   {
    "duration": 190,
    "start_time": "2021-09-17T11:46:51.569Z"
   },
   {
    "duration": 184,
    "start_time": "2021-09-17T11:46:51.760Z"
   },
   {
    "duration": 6,
    "start_time": "2021-09-17T11:46:51.946Z"
   },
   {
    "duration": 20,
    "start_time": "2021-09-17T11:46:51.953Z"
   },
   {
    "duration": 9,
    "start_time": "2021-09-17T11:46:51.975Z"
   },
   {
    "duration": 538,
    "start_time": "2021-09-17T11:46:51.986Z"
   },
   {
    "duration": 343,
    "start_time": "2021-09-17T11:46:52.526Z"
   },
   {
    "duration": 303,
    "start_time": "2021-09-17T11:46:52.872Z"
   },
   {
    "duration": 14,
    "start_time": "2021-09-17T11:46:53.178Z"
   },
   {
    "duration": 15,
    "start_time": "2021-09-17T11:46:53.194Z"
   },
   {
    "duration": 32,
    "start_time": "2021-09-17T11:46:53.210Z"
   },
   {
    "duration": 13,
    "start_time": "2021-09-17T11:46:53.243Z"
   },
   {
    "duration": 11,
    "start_time": "2021-09-17T11:46:53.258Z"
   },
   {
    "duration": 26,
    "start_time": "2021-09-17T11:46:53.271Z"
   },
   {
    "duration": 12,
    "start_time": "2021-09-17T11:46:53.299Z"
   },
   {
    "duration": 35,
    "start_time": "2021-09-17T11:46:53.312Z"
   },
   {
    "duration": 12,
    "start_time": "2021-09-17T11:46:53.348Z"
   },
   {
    "duration": 16,
    "start_time": "2021-09-17T11:46:53.362Z"
   },
   {
    "duration": 20,
    "start_time": "2021-09-17T11:46:53.380Z"
   },
   {
    "duration": 9,
    "start_time": "2021-09-17T11:46:53.402Z"
   },
   {
    "duration": 13,
    "start_time": "2021-09-17T11:46:53.413Z"
   },
   {
    "duration": 89,
    "start_time": "2021-09-17T11:48:32.081Z"
   },
   {
    "duration": 9,
    "start_time": "2021-09-17T11:48:45.129Z"
   },
   {
    "duration": 20,
    "start_time": "2021-09-17T11:48:49.099Z"
   },
   {
    "duration": 18,
    "start_time": "2021-09-17T11:49:25.604Z"
   },
   {
    "duration": 5,
    "start_time": "2021-09-17T11:50:37.272Z"
   },
   {
    "duration": 5,
    "start_time": "2021-09-17T11:52:10.625Z"
   },
   {
    "duration": 4,
    "start_time": "2021-09-17T11:52:46.745Z"
   },
   {
    "duration": 334,
    "start_time": "2021-09-17T11:54:27.652Z"
   },
   {
    "duration": 113,
    "start_time": "2021-09-17T11:54:49.698Z"
   },
   {
    "duration": 372,
    "start_time": "2021-09-17T11:55:11.812Z"
   },
   {
    "duration": 145,
    "start_time": "2021-09-17T11:55:23.938Z"
   },
   {
    "duration": 131,
    "start_time": "2021-09-17T11:56:27.680Z"
   },
   {
    "duration": 227,
    "start_time": "2021-09-17T11:56:39.075Z"
   },
   {
    "duration": 252,
    "start_time": "2021-09-17T11:58:15.443Z"
   },
   {
    "duration": 18,
    "start_time": "2021-09-17T13:07:08.937Z"
   },
   {
    "duration": 11,
    "start_time": "2021-09-17T13:07:29.138Z"
   },
   {
    "duration": 10,
    "start_time": "2021-09-17T13:07:33.295Z"
   },
   {
    "duration": 10,
    "start_time": "2021-09-17T13:10:11.085Z"
   },
   {
    "duration": 19,
    "start_time": "2021-09-17T13:10:19.476Z"
   },
   {
    "duration": 5,
    "start_time": "2021-09-17T13:10:51.523Z"
   },
   {
    "duration": 265,
    "start_time": "2021-09-17T13:11:07.303Z"
   },
   {
    "duration": 19,
    "start_time": "2021-09-17T13:11:09.779Z"
   },
   {
    "duration": 7,
    "start_time": "2021-09-17T13:13:06.070Z"
   },
   {
    "duration": 18,
    "start_time": "2021-09-17T13:13:15.882Z"
   },
   {
    "duration": 4,
    "start_time": "2021-09-17T13:14:13.496Z"
   },
   {
    "duration": 20,
    "start_time": "2021-09-17T13:14:20.767Z"
   },
   {
    "duration": 8,
    "start_time": "2021-09-17T13:14:45.334Z"
   },
   {
    "duration": 17,
    "start_time": "2021-09-17T13:16:28.596Z"
   },
   {
    "duration": 4,
    "start_time": "2021-09-17T13:16:45.831Z"
   },
   {
    "duration": 20,
    "start_time": "2021-09-17T13:16:53.870Z"
   },
   {
    "duration": 3,
    "start_time": "2021-09-17T13:17:03.914Z"
   },
   {
    "duration": 4,
    "start_time": "2021-09-17T13:17:09.718Z"
   },
   {
    "duration": 20,
    "start_time": "2021-09-17T13:18:45.737Z"
   },
   {
    "duration": 20,
    "start_time": "2021-09-17T13:18:54.260Z"
   },
   {
    "duration": 247,
    "start_time": "2021-09-17T13:19:44.691Z"
   },
   {
    "duration": 94,
    "start_time": "2021-09-17T13:19:51.021Z"
   },
   {
    "duration": 7,
    "start_time": "2021-09-17T13:19:54.529Z"
   },
   {
    "duration": 10,
    "start_time": "2021-09-17T13:20:22.451Z"
   },
   {
    "duration": 275,
    "start_time": "2021-09-17T13:20:35.820Z"
   },
   {
    "duration": 20,
    "start_time": "2021-09-17T13:33:21.484Z"
   },
   {
    "duration": 258,
    "start_time": "2021-09-17T13:33:34.092Z"
   },
   {
    "duration": 133,
    "start_time": "2021-09-17T13:33:59.326Z"
   },
   {
    "duration": 296,
    "start_time": "2021-09-17T13:37:09.015Z"
   },
   {
    "duration": 264,
    "start_time": "2021-09-17T13:37:23.740Z"
   },
   {
    "duration": 253,
    "start_time": "2021-09-17T13:37:44.636Z"
   },
   {
    "duration": 252,
    "start_time": "2021-09-17T13:39:10.359Z"
   },
   {
    "duration": 279,
    "start_time": "2021-09-17T13:39:21.340Z"
   },
   {
    "duration": 265,
    "start_time": "2021-09-17T13:39:26.998Z"
   },
   {
    "duration": 12,
    "start_time": "2021-09-17T13:39:55.906Z"
   },
   {
    "duration": 12,
    "start_time": "2021-09-17T13:40:04.449Z"
   },
   {
    "duration": 21,
    "start_time": "2021-09-17T13:41:38.048Z"
   },
   {
    "duration": 7,
    "start_time": "2021-09-17T13:42:00.510Z"
   },
   {
    "duration": 22,
    "start_time": "2021-09-17T13:42:59.071Z"
   },
   {
    "duration": 12,
    "start_time": "2021-09-17T13:44:40.898Z"
   },
   {
    "duration": 444,
    "start_time": "2021-09-17T13:48:48.605Z"
   },
   {
    "duration": 8,
    "start_time": "2021-09-17T13:49:20.785Z"
   },
   {
    "duration": 32,
    "start_time": "2021-09-17T13:49:26.738Z"
   },
   {
    "duration": 1111,
    "start_time": "2021-09-17T13:49:33.680Z"
   },
   {
    "duration": 228,
    "start_time": "2021-09-17T13:50:57.379Z"
   },
   {
    "duration": 239,
    "start_time": "2021-09-17T13:52:03.645Z"
   },
   {
    "duration": 227,
    "start_time": "2021-09-17T13:52:15.828Z"
   },
   {
    "duration": 230,
    "start_time": "2021-09-17T13:52:59.629Z"
   },
   {
    "duration": 240,
    "start_time": "2021-09-17T13:53:22.099Z"
   },
   {
    "duration": 306,
    "start_time": "2021-09-18T16:46:36.370Z"
   },
   {
    "duration": 325,
    "start_time": "2021-09-18T16:46:36.869Z"
   },
   {
    "duration": 318,
    "start_time": "2021-09-18T17:00:48.713Z"
   },
   {
    "duration": 1538,
    "start_time": "2021-09-18T17:00:59.621Z"
   },
   {
    "duration": 71,
    "start_time": "2021-09-18T17:01:01.162Z"
   },
   {
    "duration": 30,
    "start_time": "2021-09-18T17:01:01.237Z"
   },
   {
    "duration": 44,
    "start_time": "2021-09-18T17:01:01.270Z"
   },
   {
    "duration": 4,
    "start_time": "2021-09-18T17:01:01.316Z"
   },
   {
    "duration": 29,
    "start_time": "2021-09-18T17:01:01.322Z"
   },
   {
    "duration": 22,
    "start_time": "2021-09-18T17:01:01.368Z"
   },
   {
    "duration": 11,
    "start_time": "2021-09-18T17:01:01.393Z"
   },
   {
    "duration": 19,
    "start_time": "2021-09-18T17:01:01.407Z"
   },
   {
    "duration": 40,
    "start_time": "2021-09-18T17:01:01.428Z"
   },
   {
    "duration": 47,
    "start_time": "2021-09-18T17:01:01.470Z"
   },
   {
    "duration": 8,
    "start_time": "2021-09-18T17:01:01.519Z"
   },
   {
    "duration": 14,
    "start_time": "2021-09-18T17:01:01.530Z"
   },
   {
    "duration": 33,
    "start_time": "2021-09-18T17:01:01.547Z"
   },
   {
    "duration": 40,
    "start_time": "2021-09-18T17:01:01.583Z"
   },
   {
    "duration": 384,
    "start_time": "2021-09-18T17:01:01.627Z"
   },
   {
    "duration": 24,
    "start_time": "2021-09-18T17:01:02.013Z"
   },
   {
    "duration": 410,
    "start_time": "2021-09-18T17:01:02.040Z"
   },
   {
    "duration": 332,
    "start_time": "2021-09-18T17:01:02.453Z"
   },
   {
    "duration": 336,
    "start_time": "2021-09-18T17:01:02.788Z"
   },
   {
    "duration": 341,
    "start_time": "2021-09-18T17:01:03.126Z"
   },
   {
    "duration": 8,
    "start_time": "2021-09-18T17:01:03.470Z"
   },
   {
    "duration": 27,
    "start_time": "2021-09-18T17:01:03.483Z"
   },
   {
    "duration": 465,
    "start_time": "2021-09-18T17:01:03.514Z"
   },
   {
    "duration": 927,
    "start_time": "2021-09-18T17:01:03.981Z"
   },
   {
    "duration": 869,
    "start_time": "2021-09-18T17:01:04.911Z"
   },
   {
    "duration": 3,
    "start_time": "2021-09-18T17:01:05.783Z"
   },
   {
    "duration": 36,
    "start_time": "2021-09-18T17:01:05.789Z"
   },
   {
    "duration": 25,
    "start_time": "2021-09-18T17:01:05.828Z"
   },
   {
    "duration": 20,
    "start_time": "2021-09-18T17:01:05.868Z"
   },
   {
    "duration": 33,
    "start_time": "2021-09-18T17:01:05.890Z"
   },
   {
    "duration": 32,
    "start_time": "2021-09-18T17:01:05.925Z"
   },
   {
    "duration": 21,
    "start_time": "2021-09-18T17:01:05.966Z"
   },
   {
    "duration": 42,
    "start_time": "2021-09-18T17:01:05.989Z"
   },
   {
    "duration": 34,
    "start_time": "2021-09-18T17:01:06.034Z"
   },
   {
    "duration": 28,
    "start_time": "2021-09-18T17:01:06.071Z"
   },
   {
    "duration": 29,
    "start_time": "2021-09-18T17:01:06.102Z"
   },
   {
    "duration": 10,
    "start_time": "2021-09-18T17:01:06.134Z"
   },
   {
    "duration": 30,
    "start_time": "2021-09-18T17:01:06.146Z"
   },
   {
    "duration": 493,
    "start_time": "2021-09-18T17:01:06.178Z"
   },
   {
    "duration": 12,
    "start_time": "2021-09-18T17:01:06.674Z"
   },
   {
    "duration": 20,
    "start_time": "2021-09-18T17:01:06.688Z"
   },
   {
    "duration": 440,
    "start_time": "2021-09-18T17:01:06.711Z"
   },
   {
    "duration": 89,
    "start_time": "2021-09-18T17:02:36.575Z"
   },
   {
    "duration": 785,
    "start_time": "2021-09-18T17:02:42.883Z"
   },
   {
    "duration": 80,
    "start_time": "2021-09-18T17:03:00.027Z"
   },
   {
    "duration": 895,
    "start_time": "2021-09-18T17:03:34.779Z"
   },
   {
    "duration": 796,
    "start_time": "2021-09-18T17:04:15.078Z"
   },
   {
    "duration": 900,
    "start_time": "2021-09-18T17:05:51.410Z"
   },
   {
    "duration": 979,
    "start_time": "2021-09-18T17:06:01.618Z"
   },
   {
    "duration": 851,
    "start_time": "2021-09-18T17:06:23.644Z"
   },
   {
    "duration": 335,
    "start_time": "2021-09-18T17:08:29.072Z"
   },
   {
    "duration": 345,
    "start_time": "2021-09-18T17:08:42.975Z"
   },
   {
    "duration": 340,
    "start_time": "2021-09-18T17:08:48.164Z"
   },
   {
    "duration": 338,
    "start_time": "2021-09-18T17:08:52.854Z"
   },
   {
    "duration": 22,
    "start_time": "2021-09-18T17:09:25.234Z"
   },
   {
    "duration": 526,
    "start_time": "2021-09-18T17:53:18.545Z"
   },
   {
    "duration": 418,
    "start_time": "2021-09-18T17:53:51.300Z"
   },
   {
    "duration": 8,
    "start_time": "2021-09-18T17:55:22.341Z"
   },
   {
    "duration": 22,
    "start_time": "2021-09-18T17:55:22.613Z"
   },
   {
    "duration": 426,
    "start_time": "2021-09-18T17:55:22.982Z"
   },
   {
    "duration": 948,
    "start_time": "2021-09-18T17:55:23.411Z"
   },
   {
    "duration": 832,
    "start_time": "2021-09-18T17:55:24.362Z"
   },
   {
    "duration": 22,
    "start_time": "2021-09-18T17:55:25.198Z"
   },
   {
    "duration": 49,
    "start_time": "2021-09-18T17:55:25.222Z"
   },
   {
    "duration": 20,
    "start_time": "2021-09-18T17:55:25.274Z"
   },
   {
    "duration": 26,
    "start_time": "2021-09-18T17:55:25.297Z"
   },
   {
    "duration": 47,
    "start_time": "2021-09-18T17:55:25.326Z"
   },
   {
    "duration": 21,
    "start_time": "2021-09-18T17:55:25.375Z"
   },
   {
    "duration": 22,
    "start_time": "2021-09-18T17:55:25.447Z"
   },
   {
    "duration": 21,
    "start_time": "2021-09-18T17:55:25.755Z"
   },
   {
    "duration": 23,
    "start_time": "2021-09-18T17:55:25.947Z"
   },
   {
    "duration": 22,
    "start_time": "2021-09-18T17:55:26.173Z"
   },
   {
    "duration": 12,
    "start_time": "2021-09-18T17:55:27.056Z"
   },
   {
    "duration": 7,
    "start_time": "2021-09-18T17:55:27.208Z"
   },
   {
    "duration": 457,
    "start_time": "2021-09-18T17:55:27.427Z"
   },
   {
    "duration": 12,
    "start_time": "2021-09-18T17:55:27.911Z"
   },
   {
    "duration": 8,
    "start_time": "2021-09-18T17:55:28.095Z"
   },
   {
    "duration": 422,
    "start_time": "2021-09-18T17:55:28.278Z"
   },
   {
    "duration": 259,
    "start_time": "2021-09-18T17:55:47.937Z"
   },
   {
    "duration": 449,
    "start_time": "2021-09-18T17:56:02.256Z"
   },
   {
    "duration": 610,
    "start_time": "2021-09-18T17:57:22.597Z"
   },
   {
    "duration": 446,
    "start_time": "2021-09-18T18:00:04.015Z"
   },
   {
    "duration": 828,
    "start_time": "2021-09-18T18:01:48.128Z"
   },
   {
    "duration": 713,
    "start_time": "2021-09-18T18:01:59.126Z"
   },
   {
    "duration": 80,
    "start_time": "2021-09-18T18:44:20.679Z"
   },
   {
    "duration": 108,
    "start_time": "2021-09-18T18:52:26.165Z"
   },
   {
    "duration": 87,
    "start_time": "2021-09-18T18:54:11.213Z"
   },
   {
    "duration": 115,
    "start_time": "2021-09-18T19:33:29.033Z"
   },
   {
    "duration": 15,
    "start_time": "2021-09-18T19:37:40.983Z"
   },
   {
    "duration": 35,
    "start_time": "2021-09-18T19:37:48.970Z"
   },
   {
    "duration": 36,
    "start_time": "2021-09-18T19:38:30.314Z"
   },
   {
    "duration": 1561,
    "start_time": "2021-09-18T19:42:06.685Z"
   },
   {
    "duration": 69,
    "start_time": "2021-09-18T19:42:08.248Z"
   },
   {
    "duration": 14,
    "start_time": "2021-09-18T19:42:08.319Z"
   },
   {
    "duration": 61,
    "start_time": "2021-09-18T19:42:08.336Z"
   },
   {
    "duration": 6,
    "start_time": "2021-09-18T19:42:08.400Z"
   },
   {
    "duration": 16,
    "start_time": "2021-09-18T19:42:08.409Z"
   },
   {
    "duration": 56,
    "start_time": "2021-09-18T19:42:08.427Z"
   },
   {
    "duration": 5,
    "start_time": "2021-09-18T19:42:08.487Z"
   },
   {
    "duration": 9,
    "start_time": "2021-09-18T19:42:08.495Z"
   },
   {
    "duration": 29,
    "start_time": "2021-09-18T19:42:08.506Z"
   },
   {
    "duration": 72,
    "start_time": "2021-09-18T19:42:08.537Z"
   },
   {
    "duration": 10,
    "start_time": "2021-09-18T19:42:08.611Z"
   },
   {
    "duration": 6,
    "start_time": "2021-09-18T19:42:08.624Z"
   },
   {
    "duration": 47,
    "start_time": "2021-09-18T19:42:08.633Z"
   },
   {
    "duration": 35,
    "start_time": "2021-09-18T19:42:08.683Z"
   },
   {
    "duration": 364,
    "start_time": "2021-09-18T19:42:08.721Z"
   },
   {
    "duration": 25,
    "start_time": "2021-09-18T19:42:09.088Z"
   },
   {
    "duration": 348,
    "start_time": "2021-09-18T19:42:09.117Z"
   },
   {
    "duration": 336,
    "start_time": "2021-09-18T19:42:09.468Z"
   },
   {
    "duration": 327,
    "start_time": "2021-09-18T19:42:09.807Z"
   },
   {
    "duration": 335,
    "start_time": "2021-09-18T19:42:10.137Z"
   },
   {
    "duration": 11,
    "start_time": "2021-09-18T19:42:10.475Z"
   },
   {
    "duration": 24,
    "start_time": "2021-09-18T19:42:10.494Z"
   },
   {
    "duration": 517,
    "start_time": "2021-09-18T19:42:10.522Z"
   },
   {
    "duration": 903,
    "start_time": "2021-09-18T19:42:11.042Z"
   },
   {
    "duration": 1002,
    "start_time": "2021-09-18T19:42:11.948Z"
   },
   {
    "duration": 27,
    "start_time": "2021-09-18T19:42:12.953Z"
   },
   {
    "duration": 20,
    "start_time": "2021-09-18T19:42:12.982Z"
   },
   {
    "duration": 20,
    "start_time": "2021-09-18T19:42:13.004Z"
   },
   {
    "duration": 52,
    "start_time": "2021-09-18T19:42:13.026Z"
   },
   {
    "duration": 20,
    "start_time": "2021-09-18T19:42:13.080Z"
   },
   {
    "duration": 19,
    "start_time": "2021-09-18T19:42:13.102Z"
   },
   {
    "duration": 55,
    "start_time": "2021-09-18T19:42:13.124Z"
   },
   {
    "duration": 30,
    "start_time": "2021-09-18T19:42:13.182Z"
   },
   {
    "duration": 61,
    "start_time": "2021-09-18T19:42:13.215Z"
   },
   {
    "duration": 26,
    "start_time": "2021-09-18T19:42:13.279Z"
   },
   {
    "duration": 10,
    "start_time": "2021-09-18T19:42:13.308Z"
   },
   {
    "duration": 11,
    "start_time": "2021-09-18T19:42:13.320Z"
   },
   {
    "duration": 496,
    "start_time": "2021-09-18T19:42:13.333Z"
   },
   {
    "duration": 11,
    "start_time": "2021-09-18T19:42:13.832Z"
   },
   {
    "duration": 23,
    "start_time": "2021-09-18T19:42:13.846Z"
   },
   {
    "duration": 440,
    "start_time": "2021-09-18T19:42:13.872Z"
   },
   {
    "duration": 15,
    "start_time": "2021-09-18T19:42:14.314Z"
   },
   {
    "duration": 243,
    "start_time": "2021-09-18T20:09:16.185Z"
   },
   {
    "duration": 5,
    "start_time": "2021-09-18T20:09:19.477Z"
   },
   {
    "duration": 7,
    "start_time": "2021-09-18T20:09:23.986Z"
   },
   {
    "duration": 407,
    "start_time": "2021-09-18T20:09:51.400Z"
   },
   {
    "duration": 15,
    "start_time": "2021-09-18T20:10:43.136Z"
   },
   {
    "duration": 423,
    "start_time": "2021-09-18T20:11:43.040Z"
   },
   {
    "duration": 15,
    "start_time": "2021-09-18T20:12:35.719Z"
   },
   {
    "duration": 15,
    "start_time": "2021-09-18T20:15:45.430Z"
   },
   {
    "duration": 16,
    "start_time": "2021-09-18T20:16:29.908Z"
   },
   {
    "duration": 1460,
    "start_time": "2021-09-18T20:32:33.299Z"
   },
   {
    "duration": 66,
    "start_time": "2021-09-18T20:32:34.766Z"
   },
   {
    "duration": 30,
    "start_time": "2021-09-18T20:32:34.837Z"
   },
   {
    "duration": 46,
    "start_time": "2021-09-18T20:32:34.871Z"
   },
   {
    "duration": 5,
    "start_time": "2021-09-18T20:32:34.920Z"
   },
   {
    "duration": 48,
    "start_time": "2021-09-18T20:32:34.929Z"
   },
   {
    "duration": 24,
    "start_time": "2021-09-18T20:32:34.980Z"
   },
   {
    "duration": 5,
    "start_time": "2021-09-18T20:32:35.010Z"
   },
   {
    "duration": 9,
    "start_time": "2021-09-18T20:32:35.019Z"
   },
   {
    "duration": 23,
    "start_time": "2021-09-18T20:32:35.068Z"
   },
   {
    "duration": 57,
    "start_time": "2021-09-18T20:32:35.094Z"
   },
   {
    "duration": 8,
    "start_time": "2021-09-18T20:32:35.168Z"
   },
   {
    "duration": 28,
    "start_time": "2021-09-18T20:32:35.178Z"
   },
   {
    "duration": 33,
    "start_time": "2021-09-18T20:32:35.209Z"
   },
   {
    "duration": 352,
    "start_time": "2021-09-18T20:32:35.245Z"
   },
   {
    "duration": 25,
    "start_time": "2021-09-18T20:32:35.599Z"
   },
   {
    "duration": 345,
    "start_time": "2021-09-18T20:32:35.626Z"
   },
   {
    "duration": 354,
    "start_time": "2021-09-18T20:32:35.974Z"
   },
   {
    "duration": 336,
    "start_time": "2021-09-18T20:32:36.331Z"
   },
   {
    "duration": 324,
    "start_time": "2021-09-18T20:32:36.670Z"
   },
   {
    "duration": 11,
    "start_time": "2021-09-18T20:32:36.998Z"
   },
   {
    "duration": 55,
    "start_time": "2021-09-18T20:32:37.012Z"
   },
   {
    "duration": 488,
    "start_time": "2021-09-18T20:32:37.073Z"
   },
   {
    "duration": 935,
    "start_time": "2021-09-18T20:32:37.569Z"
   },
   {
    "duration": 989,
    "start_time": "2021-09-18T20:32:38.508Z"
   },
   {
    "duration": 21,
    "start_time": "2021-09-18T20:32:39.499Z"
   },
   {
    "duration": 46,
    "start_time": "2021-09-18T20:32:39.523Z"
   },
   {
    "duration": 21,
    "start_time": "2021-09-18T20:32:39.571Z"
   },
   {
    "duration": 20,
    "start_time": "2021-09-18T20:32:39.594Z"
   },
   {
    "duration": 53,
    "start_time": "2021-09-18T20:32:39.617Z"
   },
   {
    "duration": 21,
    "start_time": "2021-09-18T20:32:39.672Z"
   },
   {
    "duration": 20,
    "start_time": "2021-09-18T20:32:39.695Z"
   },
   {
    "duration": 53,
    "start_time": "2021-09-18T20:32:39.717Z"
   },
   {
    "duration": 31,
    "start_time": "2021-09-18T20:32:39.772Z"
   },
   {
    "duration": 22,
    "start_time": "2021-09-18T20:32:39.805Z"
   },
   {
    "duration": 41,
    "start_time": "2021-09-18T20:32:39.829Z"
   },
   {
    "duration": 8,
    "start_time": "2021-09-18T20:32:39.873Z"
   },
   {
    "duration": 18,
    "start_time": "2021-09-18T20:32:39.884Z"
   },
   {
    "duration": 15,
    "start_time": "2021-09-18T20:32:39.904Z"
   },
   {
    "duration": 6,
    "start_time": "2021-09-18T20:32:39.922Z"
   },
   {
    "duration": 47,
    "start_time": "2021-09-18T20:32:39.930Z"
   },
   {
    "duration": 1489,
    "start_time": "2021-09-18T20:37:16.357Z"
   },
   {
    "duration": 67,
    "start_time": "2021-09-18T20:37:17.848Z"
   },
   {
    "duration": 14,
    "start_time": "2021-09-18T20:37:17.918Z"
   },
   {
    "duration": 64,
    "start_time": "2021-09-18T20:37:17.935Z"
   },
   {
    "duration": 4,
    "start_time": "2021-09-18T20:37:18.001Z"
   },
   {
    "duration": 16,
    "start_time": "2021-09-18T20:37:18.008Z"
   },
   {
    "duration": 44,
    "start_time": "2021-09-18T20:37:18.026Z"
   },
   {
    "duration": 5,
    "start_time": "2021-09-18T20:37:18.074Z"
   },
   {
    "duration": 13,
    "start_time": "2021-09-18T20:37:18.081Z"
   },
   {
    "duration": 27,
    "start_time": "2021-09-18T20:37:18.097Z"
   },
   {
    "duration": 74,
    "start_time": "2021-09-18T20:37:18.127Z"
   },
   {
    "duration": 8,
    "start_time": "2021-09-18T20:37:18.203Z"
   },
   {
    "duration": 19,
    "start_time": "2021-09-18T20:37:18.213Z"
   },
   {
    "duration": 61,
    "start_time": "2021-09-18T20:37:18.235Z"
   },
   {
    "duration": 349,
    "start_time": "2021-09-18T20:37:18.298Z"
   },
   {
    "duration": 36,
    "start_time": "2021-09-18T20:37:18.650Z"
   },
   {
    "duration": 340,
    "start_time": "2021-09-18T20:37:18.689Z"
   },
   {
    "duration": 349,
    "start_time": "2021-09-18T20:37:19.033Z"
   },
   {
    "duration": 336,
    "start_time": "2021-09-18T20:37:19.385Z"
   },
   {
    "duration": 347,
    "start_time": "2021-09-18T20:37:19.725Z"
   },
   {
    "duration": 11,
    "start_time": "2021-09-18T20:37:20.075Z"
   },
   {
    "duration": 30,
    "start_time": "2021-09-18T20:37:20.089Z"
   },
   {
    "duration": 518,
    "start_time": "2021-09-18T20:37:20.127Z"
   },
   {
    "duration": 894,
    "start_time": "2021-09-18T20:37:20.648Z"
   },
   {
    "duration": 940,
    "start_time": "2021-09-18T20:37:21.545Z"
   },
   {
    "duration": 21,
    "start_time": "2021-09-18T20:37:22.488Z"
   },
   {
    "duration": 21,
    "start_time": "2021-09-18T20:37:22.511Z"
   },
   {
    "duration": 46,
    "start_time": "2021-09-18T20:37:22.534Z"
   },
   {
    "duration": 20,
    "start_time": "2021-09-18T20:37:22.583Z"
   },
   {
    "duration": 21,
    "start_time": "2021-09-18T20:37:22.606Z"
   },
   {
    "duration": 56,
    "start_time": "2021-09-18T20:37:22.629Z"
   },
   {
    "duration": 21,
    "start_time": "2021-09-18T20:37:22.687Z"
   },
   {
    "duration": 21,
    "start_time": "2021-09-18T20:37:22.711Z"
   },
   {
    "duration": 21,
    "start_time": "2021-09-18T20:37:22.767Z"
   },
   {
    "duration": 24,
    "start_time": "2021-09-18T20:37:22.790Z"
   },
   {
    "duration": 14,
    "start_time": "2021-09-18T20:37:22.816Z"
   },
   {
    "duration": 58,
    "start_time": "2021-09-18T20:37:22.832Z"
   },
   {
    "duration": 36,
    "start_time": "2021-09-18T20:37:22.893Z"
   },
   {
    "duration": 13,
    "start_time": "2021-09-18T20:37:22.932Z"
   },
   {
    "duration": 13,
    "start_time": "2021-09-18T20:37:22.948Z"
   },
   {
    "duration": 18,
    "start_time": "2021-09-18T20:37:22.964Z"
   },
   {
    "duration": 21,
    "start_time": "2021-09-18T20:46:34.605Z"
   },
   {
    "duration": 1699,
    "start_time": "2021-09-18T20:48:48.076Z"
   },
   {
    "duration": 70,
    "start_time": "2021-09-18T20:48:49.779Z"
   },
   {
    "duration": 27,
    "start_time": "2021-09-18T20:48:49.852Z"
   },
   {
    "duration": 45,
    "start_time": "2021-09-18T20:48:49.881Z"
   },
   {
    "duration": 4,
    "start_time": "2021-09-18T20:48:49.929Z"
   },
   {
    "duration": 43,
    "start_time": "2021-09-18T20:48:49.936Z"
   },
   {
    "duration": 23,
    "start_time": "2021-09-18T20:48:49.982Z"
   },
   {
    "duration": 5,
    "start_time": "2021-09-18T20:48:50.009Z"
   },
   {
    "duration": 10,
    "start_time": "2021-09-18T20:48:50.017Z"
   },
   {
    "duration": 60,
    "start_time": "2021-09-18T20:48:50.030Z"
   },
   {
    "duration": 46,
    "start_time": "2021-09-18T20:48:50.093Z"
   },
   {
    "duration": 32,
    "start_time": "2021-09-18T20:48:50.142Z"
   },
   {
    "duration": 18,
    "start_time": "2021-09-18T20:48:50.177Z"
   },
   {
    "duration": 35,
    "start_time": "2021-09-18T20:48:50.198Z"
   },
   {
    "duration": 344,
    "start_time": "2021-09-18T20:48:50.268Z"
   },
   {
    "duration": 25,
    "start_time": "2021-09-18T20:48:50.615Z"
   },
   {
    "duration": 357,
    "start_time": "2021-09-18T20:48:50.643Z"
   },
   {
    "duration": 372,
    "start_time": "2021-09-18T20:48:51.003Z"
   },
   {
    "duration": 335,
    "start_time": "2021-09-18T20:48:51.378Z"
   },
   {
    "duration": 328,
    "start_time": "2021-09-18T20:48:51.716Z"
   },
   {
    "duration": 20,
    "start_time": "2021-09-18T20:48:52.047Z"
   },
   {
    "duration": 28,
    "start_time": "2021-09-18T20:48:52.071Z"
   },
   {
    "duration": 496,
    "start_time": "2021-09-18T20:48:52.104Z"
   },
   {
    "duration": 952,
    "start_time": "2021-09-18T20:48:52.604Z"
   },
   {
    "duration": 855,
    "start_time": "2021-09-18T20:48:53.559Z"
   },
   {
    "duration": 23,
    "start_time": "2021-09-18T20:48:54.417Z"
   },
   {
    "duration": 45,
    "start_time": "2021-09-18T20:48:54.443Z"
   },
   {
    "duration": 23,
    "start_time": "2021-09-18T20:48:54.491Z"
   },
   {
    "duration": 60,
    "start_time": "2021-09-18T20:48:54.517Z"
   },
   {
    "duration": 22,
    "start_time": "2021-09-18T20:48:54.580Z"
   },
   {
    "duration": 20,
    "start_time": "2021-09-18T20:48:54.605Z"
   },
   {
    "duration": 56,
    "start_time": "2021-09-18T20:48:54.628Z"
   },
   {
    "duration": 26,
    "start_time": "2021-09-18T20:48:54.686Z"
   },
   {
    "duration": 36,
    "start_time": "2021-09-18T20:48:54.714Z"
   },
   {
    "duration": 33,
    "start_time": "2021-09-18T20:48:54.752Z"
   },
   {
    "duration": 18,
    "start_time": "2021-09-18T20:48:54.788Z"
   },
   {
    "duration": 11,
    "start_time": "2021-09-18T20:48:54.808Z"
   },
   {
    "duration": 16,
    "start_time": "2021-09-18T20:48:54.821Z"
   },
   {
    "duration": 38,
    "start_time": "2021-09-18T20:48:54.839Z"
   },
   {
    "duration": 7,
    "start_time": "2021-09-18T20:48:54.880Z"
   },
   {
    "duration": 14,
    "start_time": "2021-09-18T20:48:54.890Z"
   },
   {
    "duration": 1488,
    "start_time": "2021-09-19T14:57:53.032Z"
   },
   {
    "duration": 70,
    "start_time": "2021-09-19T14:57:54.522Z"
   },
   {
    "duration": 13,
    "start_time": "2021-09-19T14:57:54.595Z"
   },
   {
    "duration": 64,
    "start_time": "2021-09-19T14:57:54.611Z"
   },
   {
    "duration": 4,
    "start_time": "2021-09-19T14:57:54.678Z"
   },
   {
    "duration": 28,
    "start_time": "2021-09-19T14:57:54.684Z"
   },
   {
    "duration": 22,
    "start_time": "2021-09-19T14:57:54.714Z"
   },
   {
    "duration": 25,
    "start_time": "2021-09-19T14:57:54.740Z"
   },
   {
    "duration": 14,
    "start_time": "2021-09-19T14:57:54.768Z"
   },
   {
    "duration": 40,
    "start_time": "2021-09-19T14:57:54.785Z"
   },
   {
    "duration": 60,
    "start_time": "2021-09-19T14:57:54.828Z"
   },
   {
    "duration": 8,
    "start_time": "2021-09-19T14:57:54.891Z"
   },
   {
    "duration": 23,
    "start_time": "2021-09-19T14:57:54.901Z"
   },
   {
    "duration": 52,
    "start_time": "2021-09-19T14:57:54.926Z"
   },
   {
    "duration": 328,
    "start_time": "2021-09-19T14:57:54.981Z"
   },
   {
    "duration": 22,
    "start_time": "2021-09-19T14:57:55.312Z"
   },
   {
    "duration": 333,
    "start_time": "2021-09-19T14:57:55.336Z"
   },
   {
    "duration": 333,
    "start_time": "2021-09-19T14:57:55.671Z"
   },
   {
    "duration": 310,
    "start_time": "2021-09-19T14:57:56.006Z"
   },
   {
    "duration": 317,
    "start_time": "2021-09-19T14:57:56.319Z"
   },
   {
    "duration": 8,
    "start_time": "2021-09-19T14:57:56.639Z"
   },
   {
    "duration": 23,
    "start_time": "2021-09-19T14:57:56.662Z"
   },
   {
    "duration": 465,
    "start_time": "2021-09-19T14:57:56.691Z"
   },
   {
    "duration": 907,
    "start_time": "2021-09-19T14:57:57.163Z"
   },
   {
    "duration": 868,
    "start_time": "2021-09-19T14:57:58.072Z"
   },
   {
    "duration": 29,
    "start_time": "2021-09-19T14:57:58.942Z"
   },
   {
    "duration": 19,
    "start_time": "2021-09-19T14:57:58.974Z"
   },
   {
    "duration": 30,
    "start_time": "2021-09-19T14:57:58.996Z"
   },
   {
    "duration": 44,
    "start_time": "2021-09-19T14:57:59.029Z"
   },
   {
    "duration": 28,
    "start_time": "2021-09-19T14:57:59.076Z"
   },
   {
    "duration": 47,
    "start_time": "2021-09-19T14:57:59.106Z"
   },
   {
    "duration": 28,
    "start_time": "2021-09-19T14:57:59.155Z"
   },
   {
    "duration": 35,
    "start_time": "2021-09-19T14:57:59.185Z"
   },
   {
    "duration": 20,
    "start_time": "2021-09-19T14:57:59.223Z"
   },
   {
    "duration": 29,
    "start_time": "2021-09-19T14:57:59.246Z"
   },
   {
    "duration": 13,
    "start_time": "2021-09-19T14:57:59.278Z"
   },
   {
    "duration": 19,
    "start_time": "2021-09-19T14:57:59.293Z"
   },
   {
    "duration": 32,
    "start_time": "2021-09-19T14:57:59.314Z"
   },
   {
    "duration": 15,
    "start_time": "2021-09-19T14:57:59.349Z"
   },
   {
    "duration": 6,
    "start_time": "2021-09-19T14:57:59.368Z"
   },
   {
    "duration": 18,
    "start_time": "2021-09-19T14:57:59.376Z"
   },
   {
    "duration": 49,
    "start_time": "2021-09-19T15:30:24.922Z"
   },
   {
    "duration": 48,
    "start_time": "2021-09-19T15:30:33.927Z"
   },
   {
    "duration": 51,
    "start_time": "2021-09-19T15:32:31.014Z"
   },
   {
    "duration": -665,
    "start_time": "2021-09-19T15:32:54.838Z"
   },
   {
    "duration": 9164,
    "start_time": "2021-09-19T15:32:56.808Z"
   },
   {
    "duration": 48,
    "start_time": "2021-09-19T15:33:18.966Z"
   },
   {
    "duration": 32,
    "start_time": "2021-09-19T15:35:09.742Z"
   },
   {
    "duration": 11,
    "start_time": "2021-09-19T15:35:34.283Z"
   },
   {
    "duration": 10,
    "start_time": "2021-09-19T15:41:14.913Z"
   },
   {
    "duration": 25,
    "start_time": "2021-09-19T15:41:17.989Z"
   },
   {
    "duration": 3,
    "start_time": "2021-09-20T06:16:38.487Z"
   },
   {
    "duration": 397,
    "start_time": "2021-09-20T06:16:57.654Z"
   },
   {
    "duration": 1276,
    "start_time": "2021-09-20T06:17:10.361Z"
   },
   {
    "duration": 50,
    "start_time": "2021-09-20T06:17:11.639Z"
   },
   {
    "duration": 11,
    "start_time": "2021-09-20T06:17:11.691Z"
   },
   {
    "duration": 28,
    "start_time": "2021-09-20T06:17:11.704Z"
   },
   {
    "duration": 2,
    "start_time": "2021-09-20T06:17:11.734Z"
   },
   {
    "duration": 11,
    "start_time": "2021-09-20T06:17:11.738Z"
   },
   {
    "duration": 25,
    "start_time": "2021-09-20T06:17:11.751Z"
   },
   {
    "duration": 5,
    "start_time": "2021-09-20T06:17:11.779Z"
   },
   {
    "duration": 10,
    "start_time": "2021-09-20T06:17:11.786Z"
   },
   {
    "duration": 30,
    "start_time": "2021-09-20T06:17:11.798Z"
   },
   {
    "duration": 6,
    "start_time": "2021-09-20T06:17:11.829Z"
   },
   {
    "duration": 34,
    "start_time": "2021-09-20T06:17:11.837Z"
   },
   {
    "duration": 22,
    "start_time": "2021-09-20T06:17:11.873Z"
   },
   {
    "duration": 210,
    "start_time": "2021-09-20T06:17:11.896Z"
   },
   {
    "duration": 18,
    "start_time": "2021-09-20T06:17:12.109Z"
   },
   {
    "duration": 212,
    "start_time": "2021-09-20T06:17:12.129Z"
   },
   {
    "duration": 200,
    "start_time": "2021-09-20T06:17:12.343Z"
   },
   {
    "duration": 197,
    "start_time": "2021-09-20T06:17:12.545Z"
   },
   {
    "duration": 200,
    "start_time": "2021-09-20T06:17:12.744Z"
   },
   {
    "duration": 8,
    "start_time": "2021-09-20T06:17:12.946Z"
   },
   {
    "duration": 28,
    "start_time": "2021-09-20T06:17:12.956Z"
   },
   {
    "duration": 293,
    "start_time": "2021-09-20T06:17:12.986Z"
   },
   {
    "duration": 594,
    "start_time": "2021-09-20T06:17:13.282Z"
   },
   {
    "duration": 567,
    "start_time": "2021-09-20T06:17:13.878Z"
   },
   {
    "duration": 14,
    "start_time": "2021-09-20T06:17:14.447Z"
   },
   {
    "duration": 27,
    "start_time": "2021-09-20T06:17:14.462Z"
   },
   {
    "duration": 13,
    "start_time": "2021-09-20T06:17:14.491Z"
   },
   {
    "duration": 13,
    "start_time": "2021-09-20T06:17:14.506Z"
   },
   {
    "duration": 13,
    "start_time": "2021-09-20T06:17:14.521Z"
   },
   {
    "duration": 46,
    "start_time": "2021-09-20T06:17:14.536Z"
   },
   {
    "duration": 13,
    "start_time": "2021-09-20T06:17:14.584Z"
   },
   {
    "duration": 14,
    "start_time": "2021-09-20T06:17:14.599Z"
   },
   {
    "duration": 14,
    "start_time": "2021-09-20T06:17:14.615Z"
   },
   {
    "duration": 47,
    "start_time": "2021-09-20T06:17:14.631Z"
   },
   {
    "duration": 8,
    "start_time": "2021-09-20T06:17:14.680Z"
   },
   {
    "duration": 8,
    "start_time": "2021-09-20T06:17:14.690Z"
   },
   {
    "duration": 12,
    "start_time": "2021-09-20T06:17:14.700Z"
   },
   {
    "duration": 8,
    "start_time": "2021-09-20T06:17:14.714Z"
   },
   {
    "duration": 6,
    "start_time": "2021-09-20T06:17:14.724Z"
   },
   {
    "duration": 12,
    "start_time": "2021-09-20T06:17:14.732Z"
   },
   {
    "duration": 10,
    "start_time": "2021-09-20T06:17:52.210Z"
   },
   {
    "duration": 8,
    "start_time": "2021-09-20T06:18:12.005Z"
   },
   {
    "duration": 10,
    "start_time": "2021-09-20T06:18:28.470Z"
   },
   {
    "duration": 21,
    "start_time": "2021-09-20T06:22:18.486Z"
   },
   {
    "duration": 124,
    "start_time": "2021-09-20T06:22:41.940Z"
   },
   {
    "duration": 1142,
    "start_time": "2021-09-20T06:41:53.888Z"
   },
   {
    "duration": 49,
    "start_time": "2021-09-20T06:41:55.032Z"
   },
   {
    "duration": 10,
    "start_time": "2021-09-20T06:41:55.083Z"
   },
   {
    "duration": 29,
    "start_time": "2021-09-20T06:41:55.095Z"
   },
   {
    "duration": 4,
    "start_time": "2021-09-20T06:41:55.126Z"
   },
   {
    "duration": 10,
    "start_time": "2021-09-20T06:41:55.132Z"
   },
   {
    "duration": 33,
    "start_time": "2021-09-20T06:41:55.143Z"
   },
   {
    "duration": 6,
    "start_time": "2021-09-20T06:41:55.180Z"
   },
   {
    "duration": 506,
    "start_time": "2021-09-20T06:41:55.188Z"
   },
   {
    "duration": 1072,
    "start_time": "2021-09-20T06:41:54.625Z"
   },
   {
    "duration": 1043,
    "start_time": "2021-09-20T06:41:54.654Z"
   },
   {
    "duration": 1012,
    "start_time": "2021-09-20T06:41:54.686Z"
   },
   {
    "duration": 1006,
    "start_time": "2021-09-20T06:41:54.693Z"
   },
   {
    "duration": 958,
    "start_time": "2021-09-20T06:41:54.742Z"
   },
   {
    "duration": 935,
    "start_time": "2021-09-20T06:41:54.766Z"
   },
   {
    "duration": 926,
    "start_time": "2021-09-20T06:41:54.776Z"
   },
   {
    "duration": 890,
    "start_time": "2021-09-20T06:41:54.813Z"
   },
   {
    "duration": 846,
    "start_time": "2021-09-20T06:41:54.858Z"
   },
   {
    "duration": 844,
    "start_time": "2021-09-20T06:41:54.861Z"
   },
   {
    "duration": 760,
    "start_time": "2021-09-20T06:41:54.945Z"
   },
   {
    "duration": 718,
    "start_time": "2021-09-20T06:41:54.988Z"
   },
   {
    "duration": 680,
    "start_time": "2021-09-20T06:41:55.027Z"
   },
   {
    "duration": 650,
    "start_time": "2021-09-20T06:41:55.058Z"
   },
   {
    "duration": 602,
    "start_time": "2021-09-20T06:41:55.107Z"
   },
   {
    "duration": 599,
    "start_time": "2021-09-20T06:41:55.111Z"
   },
   {
    "duration": 587,
    "start_time": "2021-09-20T06:41:55.123Z"
   },
   {
    "duration": 513,
    "start_time": "2021-09-20T06:41:55.198Z"
   },
   {
    "duration": 511,
    "start_time": "2021-09-20T06:41:55.201Z"
   },
   {
    "duration": 484,
    "start_time": "2021-09-20T06:41:55.229Z"
   },
   {
    "duration": 434,
    "start_time": "2021-09-20T06:41:55.280Z"
   },
   {
    "duration": 421,
    "start_time": "2021-09-20T06:41:55.294Z"
   },
   {
    "duration": 393,
    "start_time": "2021-09-20T06:41:55.323Z"
   },
   {
    "duration": 348,
    "start_time": "2021-09-20T06:41:55.369Z"
   },
   {
    "duration": 315,
    "start_time": "2021-09-20T06:41:55.403Z"
   },
   {
    "duration": 290,
    "start_time": "2021-09-20T06:41:55.429Z"
   },
   {
    "duration": 281,
    "start_time": "2021-09-20T06:41:55.438Z"
   },
   {
    "duration": 265,
    "start_time": "2021-09-20T06:41:55.455Z"
   },
   {
    "duration": 218,
    "start_time": "2021-09-20T06:41:55.503Z"
   },
   {
    "duration": 212,
    "start_time": "2021-09-20T06:41:55.510Z"
   },
   {
    "duration": 200,
    "start_time": "2021-09-20T06:41:55.523Z"
   },
   {
    "duration": 25,
    "start_time": "2021-09-20T06:42:49.000Z"
   },
   {
    "duration": 11,
    "start_time": "2021-09-20T06:42:51.679Z"
   },
   {
    "duration": 1121,
    "start_time": "2021-09-20T06:43:02.510Z"
   },
   {
    "duration": 49,
    "start_time": "2021-09-20T06:43:03.633Z"
   },
   {
    "duration": 10,
    "start_time": "2021-09-20T06:43:03.684Z"
   },
   {
    "duration": 27,
    "start_time": "2021-09-20T06:43:03.696Z"
   },
   {
    "duration": 3,
    "start_time": "2021-09-20T06:43:03.725Z"
   },
   {
    "duration": 12,
    "start_time": "2021-09-20T06:43:03.729Z"
   },
   {
    "duration": 4,
    "start_time": "2021-09-20T06:43:03.743Z"
   },
   {
    "duration": 30,
    "start_time": "2021-09-20T06:43:03.749Z"
   },
   {
    "duration": 14,
    "start_time": "2021-09-20T06:43:03.782Z"
   },
   {
    "duration": 26,
    "start_time": "2021-09-20T06:43:03.799Z"
   },
   {
    "duration": 6,
    "start_time": "2021-09-20T06:43:03.827Z"
   },
   {
    "duration": 46,
    "start_time": "2021-09-20T06:43:03.835Z"
   },
   {
    "duration": 23,
    "start_time": "2021-09-20T06:43:03.883Z"
   },
   {
    "duration": 219,
    "start_time": "2021-09-20T06:43:03.908Z"
   },
   {
    "duration": 18,
    "start_time": "2021-09-20T06:43:04.129Z"
   },
   {
    "duration": 211,
    "start_time": "2021-09-20T06:43:04.149Z"
   },
   {
    "duration": 202,
    "start_time": "2021-09-20T06:43:04.362Z"
   },
   {
    "duration": 203,
    "start_time": "2021-09-20T06:43:04.566Z"
   },
   {
    "duration": 186,
    "start_time": "2021-09-20T06:43:04.771Z"
   },
   {
    "duration": 18,
    "start_time": "2021-09-20T06:43:04.958Z"
   },
   {
    "duration": 14,
    "start_time": "2021-09-20T06:43:04.978Z"
   },
   {
    "duration": 285,
    "start_time": "2021-09-20T06:43:04.993Z"
   },
   {
    "duration": 627,
    "start_time": "2021-09-20T06:43:05.281Z"
   },
   {
    "duration": 658,
    "start_time": "2021-09-20T06:43:05.910Z"
   },
   {
    "duration": 14,
    "start_time": "2021-09-20T06:43:06.570Z"
   },
   {
    "duration": 14,
    "start_time": "2021-09-20T06:43:06.585Z"
   },
   {
    "duration": 21,
    "start_time": "2021-09-20T06:43:06.601Z"
   },
   {
    "duration": 15,
    "start_time": "2021-09-20T06:43:06.624Z"
   },
   {
    "duration": 17,
    "start_time": "2021-09-20T06:43:06.641Z"
   },
   {
    "duration": 28,
    "start_time": "2021-09-20T06:43:06.660Z"
   },
   {
    "duration": 19,
    "start_time": "2021-09-20T06:43:06.690Z"
   },
   {
    "duration": 18,
    "start_time": "2021-09-20T06:43:06.711Z"
   },
   {
    "duration": 31,
    "start_time": "2021-09-20T06:43:06.730Z"
   },
   {
    "duration": 20,
    "start_time": "2021-09-20T06:43:06.762Z"
   },
   {
    "duration": 14,
    "start_time": "2021-09-20T06:43:06.784Z"
   },
   {
    "duration": 25,
    "start_time": "2021-09-20T06:43:06.800Z"
   },
   {
    "duration": 25,
    "start_time": "2021-09-20T06:43:06.827Z"
   },
   {
    "duration": 21,
    "start_time": "2021-09-20T06:43:06.853Z"
   },
   {
    "duration": 14,
    "start_time": "2021-09-20T06:43:06.876Z"
   },
   {
    "duration": 28,
    "start_time": "2021-09-20T06:43:06.892Z"
   },
   {
    "duration": 10,
    "start_time": "2021-09-20T06:47:33.713Z"
   },
   {
    "duration": 11,
    "start_time": "2021-09-20T06:47:38.629Z"
   },
   {
    "duration": 8,
    "start_time": "2021-09-20T06:47:54.329Z"
   },
   {
    "duration": 11,
    "start_time": "2021-09-20T06:47:56.537Z"
   },
   {
    "duration": 64,
    "start_time": "2021-09-20T06:48:01.262Z"
   },
   {
    "duration": 188,
    "start_time": "2021-09-20T06:48:01.754Z"
   },
   {
    "duration": 15,
    "start_time": "2021-09-20T06:48:02.251Z"
   },
   {
    "duration": 182,
    "start_time": "2021-09-20T06:48:02.715Z"
   },
   {
    "duration": 189,
    "start_time": "2021-09-20T06:48:02.937Z"
   },
   {
    "duration": 192,
    "start_time": "2021-09-20T06:48:03.274Z"
   },
   {
    "duration": 180,
    "start_time": "2021-09-20T06:48:03.618Z"
   },
   {
    "duration": 7,
    "start_time": "2021-09-20T06:48:04.853Z"
   },
   {
    "duration": 15,
    "start_time": "2021-09-20T06:48:05.042Z"
   },
   {
    "duration": 269,
    "start_time": "2021-09-20T06:48:05.414Z"
   },
   {
    "duration": 542,
    "start_time": "2021-09-20T06:48:06.119Z"
   },
   {
    "duration": 585,
    "start_time": "2021-09-20T06:48:06.663Z"
   },
   {
    "duration": 14,
    "start_time": "2021-09-20T06:48:07.249Z"
   },
   {
    "duration": 14,
    "start_time": "2021-09-20T06:48:07.923Z"
   },
   {
    "duration": 14,
    "start_time": "2021-09-20T06:48:08.336Z"
   },
   {
    "duration": 14,
    "start_time": "2021-09-20T06:48:08.667Z"
   },
   {
    "duration": 14,
    "start_time": "2021-09-20T06:48:09.458Z"
   },
   {
    "duration": 14,
    "start_time": "2021-09-20T06:48:09.894Z"
   },
   {
    "duration": 92,
    "start_time": "2021-09-20T06:48:10.288Z"
   },
   {
    "duration": 14,
    "start_time": "2021-09-20T06:48:10.740Z"
   },
   {
    "duration": 14,
    "start_time": "2021-09-20T06:48:10.925Z"
   },
   {
    "duration": 15,
    "start_time": "2021-09-20T06:48:11.117Z"
   },
   {
    "duration": 8,
    "start_time": "2021-09-20T06:48:12.289Z"
   },
   {
    "duration": 5,
    "start_time": "2021-09-20T06:48:12.527Z"
   },
   {
    "duration": 11,
    "start_time": "2021-09-20T06:48:12.770Z"
   },
   {
    "duration": 10,
    "start_time": "2021-09-20T06:48:13.644Z"
   },
   {
    "duration": 5,
    "start_time": "2021-09-20T06:48:13.894Z"
   },
   {
    "duration": 10,
    "start_time": "2021-09-20T06:48:14.107Z"
   },
   {
    "duration": 1150,
    "start_time": "2021-09-20T06:49:15.081Z"
   },
   {
    "duration": 51,
    "start_time": "2021-09-20T06:49:16.233Z"
   },
   {
    "duration": 9,
    "start_time": "2021-09-20T06:49:16.287Z"
   },
   {
    "duration": 28,
    "start_time": "2021-09-20T06:49:16.297Z"
   },
   {
    "duration": 3,
    "start_time": "2021-09-20T06:49:16.327Z"
   },
   {
    "duration": 13,
    "start_time": "2021-09-20T06:49:16.331Z"
   },
   {
    "duration": 5,
    "start_time": "2021-09-20T06:49:16.346Z"
   },
   {
    "duration": 25,
    "start_time": "2021-09-20T06:49:16.353Z"
   },
   {
    "duration": 14,
    "start_time": "2021-09-20T06:49:16.381Z"
   },
   {
    "duration": 28,
    "start_time": "2021-09-20T06:49:16.396Z"
   },
   {
    "duration": 9,
    "start_time": "2021-09-20T06:49:16.426Z"
   },
   {
    "duration": 48,
    "start_time": "2021-09-20T06:49:16.437Z"
   },
   {
    "duration": 23,
    "start_time": "2021-09-20T06:49:16.487Z"
   },
   {
    "duration": 229,
    "start_time": "2021-09-20T06:49:16.512Z"
   },
   {
    "duration": 16,
    "start_time": "2021-09-20T06:49:16.743Z"
   },
   {
    "duration": 207,
    "start_time": "2021-09-20T06:49:16.761Z"
   },
   {
    "duration": 200,
    "start_time": "2021-09-20T06:49:16.970Z"
   },
   {
    "duration": 202,
    "start_time": "2021-09-20T06:49:17.176Z"
   },
   {
    "duration": 197,
    "start_time": "2021-09-20T06:49:17.381Z"
   },
   {
    "duration": 8,
    "start_time": "2021-09-20T06:49:17.580Z"
   },
   {
    "duration": 15,
    "start_time": "2021-09-20T06:49:17.589Z"
   },
   {
    "duration": 312,
    "start_time": "2021-09-20T06:49:17.606Z"
   },
   {
    "duration": 611,
    "start_time": "2021-09-20T06:49:17.921Z"
   },
   {
    "duration": 526,
    "start_time": "2021-09-20T06:49:18.534Z"
   },
   {
    "duration": 18,
    "start_time": "2021-09-20T06:49:19.061Z"
   },
   {
    "duration": 13,
    "start_time": "2021-09-20T06:49:19.081Z"
   },
   {
    "duration": 15,
    "start_time": "2021-09-20T06:49:19.095Z"
   },
   {
    "duration": 13,
    "start_time": "2021-09-20T06:49:19.112Z"
   },
   {
    "duration": 51,
    "start_time": "2021-09-20T06:49:19.127Z"
   },
   {
    "duration": 14,
    "start_time": "2021-09-20T06:49:19.179Z"
   },
   {
    "duration": 14,
    "start_time": "2021-09-20T06:49:19.195Z"
   },
   {
    "duration": 13,
    "start_time": "2021-09-20T06:49:19.211Z"
   },
   {
    "duration": 14,
    "start_time": "2021-09-20T06:49:19.225Z"
   },
   {
    "duration": 48,
    "start_time": "2021-09-20T06:49:19.240Z"
   },
   {
    "duration": 8,
    "start_time": "2021-09-20T06:49:19.290Z"
   },
   {
    "duration": 7,
    "start_time": "2021-09-20T06:49:19.299Z"
   },
   {
    "duration": 12,
    "start_time": "2021-09-20T06:49:19.307Z"
   },
   {
    "duration": 8,
    "start_time": "2021-09-20T06:49:19.321Z"
   },
   {
    "duration": 4,
    "start_time": "2021-09-20T06:49:19.331Z"
   },
   {
    "duration": 44,
    "start_time": "2021-09-20T06:49:19.337Z"
   },
   {
    "duration": 1116,
    "start_time": "2021-09-20T06:50:28.436Z"
   },
   {
    "duration": 49,
    "start_time": "2021-09-20T06:50:29.554Z"
   },
   {
    "duration": 10,
    "start_time": "2021-09-20T06:50:29.606Z"
   },
   {
    "duration": 27,
    "start_time": "2021-09-20T06:50:29.618Z"
   },
   {
    "duration": 3,
    "start_time": "2021-09-20T06:50:29.647Z"
   },
   {
    "duration": 27,
    "start_time": "2021-09-20T06:50:29.651Z"
   },
   {
    "duration": 4,
    "start_time": "2021-09-20T06:50:29.680Z"
   },
   {
    "duration": 7,
    "start_time": "2021-09-20T06:50:29.687Z"
   },
   {
    "duration": 14,
    "start_time": "2021-09-20T06:50:29.696Z"
   },
   {
    "duration": 25,
    "start_time": "2021-09-20T06:50:29.712Z"
   },
   {
    "duration": 42,
    "start_time": "2021-09-20T06:50:29.739Z"
   },
   {
    "duration": 12,
    "start_time": "2021-09-20T06:50:29.783Z"
   },
   {
    "duration": 23,
    "start_time": "2021-09-20T06:50:29.797Z"
   },
   {
    "duration": 220,
    "start_time": "2021-09-20T06:50:29.822Z"
   },
   {
    "duration": 18,
    "start_time": "2021-09-20T06:50:30.045Z"
   },
   {
    "duration": 200,
    "start_time": "2021-09-20T06:50:30.078Z"
   },
   {
    "duration": 203,
    "start_time": "2021-09-20T06:50:30.281Z"
   },
   {
    "duration": 200,
    "start_time": "2021-09-20T06:50:30.486Z"
   },
   {
    "duration": 198,
    "start_time": "2021-09-20T06:50:30.688Z"
   },
   {
    "duration": 7,
    "start_time": "2021-09-20T06:50:30.888Z"
   },
   {
    "duration": 33,
    "start_time": "2021-09-20T06:50:30.897Z"
   },
   {
    "duration": 284,
    "start_time": "2021-09-20T06:50:30.932Z"
   },
   {
    "duration": 612,
    "start_time": "2021-09-20T06:50:31.221Z"
   },
   {
    "duration": 530,
    "start_time": "2021-09-20T06:50:31.835Z"
   },
   {
    "duration": 18,
    "start_time": "2021-09-20T06:50:32.367Z"
   },
   {
    "duration": 13,
    "start_time": "2021-09-20T06:50:32.386Z"
   },
   {
    "duration": 12,
    "start_time": "2021-09-20T06:50:32.401Z"
   },
   {
    "duration": 13,
    "start_time": "2021-09-20T06:50:32.415Z"
   },
   {
    "duration": 55,
    "start_time": "2021-09-20T06:50:32.430Z"
   },
   {
    "duration": 14,
    "start_time": "2021-09-20T06:50:32.487Z"
   },
   {
    "duration": 14,
    "start_time": "2021-09-20T06:50:32.502Z"
   },
   {
    "duration": 14,
    "start_time": "2021-09-20T06:50:32.517Z"
   },
   {
    "duration": 45,
    "start_time": "2021-09-20T06:50:32.533Z"
   },
   {
    "duration": 14,
    "start_time": "2021-09-20T06:50:32.579Z"
   },
   {
    "duration": 8,
    "start_time": "2021-09-20T06:50:32.595Z"
   },
   {
    "duration": 41,
    "start_time": "2021-09-20T06:50:32.605Z"
   },
   {
    "duration": 11,
    "start_time": "2021-09-20T06:50:32.648Z"
   },
   {
    "duration": 8,
    "start_time": "2021-09-20T06:50:32.661Z"
   },
   {
    "duration": 9,
    "start_time": "2021-09-20T06:50:32.670Z"
   },
   {
    "duration": 12,
    "start_time": "2021-09-20T06:50:32.681Z"
   },
   {
    "duration": 28,
    "start_time": "2021-09-20T06:56:43.696Z"
   },
   {
    "duration": 1191,
    "start_time": "2021-09-20T06:56:57.985Z"
   },
   {
    "duration": 49,
    "start_time": "2021-09-20T06:56:59.178Z"
   },
   {
    "duration": 10,
    "start_time": "2021-09-20T06:56:59.229Z"
   },
   {
    "duration": 35,
    "start_time": "2021-09-20T06:56:59.241Z"
   },
   {
    "duration": 2,
    "start_time": "2021-09-20T06:56:59.278Z"
   },
   {
    "duration": 10,
    "start_time": "2021-09-20T06:56:59.282Z"
   },
   {
    "duration": 3,
    "start_time": "2021-09-20T06:56:59.294Z"
   },
   {
    "duration": 20,
    "start_time": "2021-09-20T06:56:59.299Z"
   },
   {
    "duration": 14,
    "start_time": "2021-09-20T06:56:59.321Z"
   },
   {
    "duration": 16,
    "start_time": "2021-09-20T06:56:59.337Z"
   },
   {
    "duration": 27,
    "start_time": "2021-09-20T06:56:59.354Z"
   },
   {
    "duration": 12,
    "start_time": "2021-09-20T06:56:59.383Z"
   },
   {
    "duration": 30,
    "start_time": "2021-09-20T06:56:59.397Z"
   },
   {
    "duration": 210,
    "start_time": "2021-09-20T06:56:59.429Z"
   },
   {
    "duration": 15,
    "start_time": "2021-09-20T06:56:59.641Z"
   },
   {
    "duration": 193,
    "start_time": "2021-09-20T06:56:59.658Z"
   },
   {
    "duration": 206,
    "start_time": "2021-09-20T06:56:59.853Z"
   },
   {
    "duration": 197,
    "start_time": "2021-09-20T06:57:00.061Z"
   },
   {
    "duration": 298,
    "start_time": "2021-09-20T06:57:00.260Z"
   },
   {
    "duration": 16,
    "start_time": "2021-09-20T06:57:00.561Z"
   },
   {
    "duration": 22,
    "start_time": "2021-09-20T06:57:00.579Z"
   },
   {
    "duration": 465,
    "start_time": "2021-09-20T06:57:00.604Z"
   },
   {
    "duration": 894,
    "start_time": "2021-09-20T06:57:01.072Z"
   },
   {
    "duration": 818,
    "start_time": "2021-09-20T06:57:01.968Z"
   },
   {
    "duration": 21,
    "start_time": "2021-09-20T06:57:02.789Z"
   },
   {
    "duration": 20,
    "start_time": "2021-09-20T06:57:02.812Z"
   },
   {
    "duration": 45,
    "start_time": "2021-09-20T06:57:02.837Z"
   },
   {
    "duration": 21,
    "start_time": "2021-09-20T06:57:02.885Z"
   },
   {
    "duration": 22,
    "start_time": "2021-09-20T06:57:02.908Z"
   },
   {
    "duration": 45,
    "start_time": "2021-09-20T06:57:02.932Z"
   },
   {
    "duration": 21,
    "start_time": "2021-09-20T06:57:02.980Z"
   },
   {
    "duration": 20,
    "start_time": "2021-09-20T06:57:03.003Z"
   },
   {
    "duration": 20,
    "start_time": "2021-09-20T06:57:03.026Z"
   },
   {
    "duration": 45,
    "start_time": "2021-09-20T06:57:03.049Z"
   },
   {
    "duration": 7,
    "start_time": "2021-09-20T06:57:03.096Z"
   },
   {
    "duration": 8,
    "start_time": "2021-09-20T06:57:03.105Z"
   },
   {
    "duration": 10,
    "start_time": "2021-09-20T06:57:03.115Z"
   },
   {
    "duration": 9,
    "start_time": "2021-09-20T06:57:03.128Z"
   },
   {
    "duration": 40,
    "start_time": "2021-09-20T06:57:03.139Z"
   },
   {
    "duration": 13,
    "start_time": "2021-09-20T06:57:03.182Z"
   },
   {
    "duration": 506,
    "start_time": "2021-09-20T06:57:27.858Z"
   },
   {
    "duration": 18,
    "start_time": "2021-09-20T06:57:34.626Z"
   },
   {
    "duration": 15,
    "start_time": "2021-09-20T07:00:29.257Z"
   },
   {
    "duration": 7,
    "start_time": "2021-09-20T07:01:19.638Z"
   },
   {
    "duration": 11,
    "start_time": "2021-09-20T07:01:26.547Z"
   },
   {
    "duration": 1276,
    "start_time": "2021-09-20T07:01:55.900Z"
   },
   {
    "duration": 55,
    "start_time": "2021-09-20T07:01:57.178Z"
   },
   {
    "duration": 11,
    "start_time": "2021-09-20T07:01:57.235Z"
   },
   {
    "duration": 43,
    "start_time": "2021-09-20T07:01:57.248Z"
   },
   {
    "duration": 3,
    "start_time": "2021-09-20T07:01:57.293Z"
   },
   {
    "duration": 12,
    "start_time": "2021-09-20T07:01:57.299Z"
   },
   {
    "duration": 4,
    "start_time": "2021-09-20T07:01:57.313Z"
   },
   {
    "duration": 7,
    "start_time": "2021-09-20T07:01:57.319Z"
   },
   {
    "duration": 482,
    "start_time": "2021-09-20T07:01:57.329Z"
   },
   {
    "duration": 1297,
    "start_time": "2021-09-20T07:01:56.520Z"
   },
   {
    "duration": 1293,
    "start_time": "2021-09-20T07:01:56.525Z"
   },
   {
    "duration": 1291,
    "start_time": "2021-09-20T07:01:56.528Z"
   },
   {
    "duration": 1289,
    "start_time": "2021-09-20T07:01:56.532Z"
   },
   {
    "duration": 1284,
    "start_time": "2021-09-20T07:01:56.538Z"
   },
   {
    "duration": 1283,
    "start_time": "2021-09-20T07:01:56.541Z"
   },
   {
    "duration": 1280,
    "start_time": "2021-09-20T07:01:56.545Z"
   },
   {
    "duration": 1279,
    "start_time": "2021-09-20T07:01:56.548Z"
   },
   {
    "duration": 1273,
    "start_time": "2021-09-20T07:01:56.555Z"
   },
   {
    "duration": 1265,
    "start_time": "2021-09-20T07:01:56.564Z"
   },
   {
    "duration": 1254,
    "start_time": "2021-09-20T07:01:56.577Z"
   },
   {
    "duration": 1246,
    "start_time": "2021-09-20T07:01:56.586Z"
   },
   {
    "duration": 1243,
    "start_time": "2021-09-20T07:01:56.591Z"
   },
   {
    "duration": 1240,
    "start_time": "2021-09-20T07:01:56.595Z"
   },
   {
    "duration": 1240,
    "start_time": "2021-09-20T07:01:56.597Z"
   },
   {
    "duration": 1235,
    "start_time": "2021-09-20T07:01:56.603Z"
   },
   {
    "duration": 1232,
    "start_time": "2021-09-20T07:01:56.607Z"
   },
   {
    "duration": 1231,
    "start_time": "2021-09-20T07:01:56.610Z"
   },
   {
    "duration": 1229,
    "start_time": "2021-09-20T07:01:56.613Z"
   },
   {
    "duration": 1226,
    "start_time": "2021-09-20T07:01:56.618Z"
   },
   {
    "duration": 1180,
    "start_time": "2021-09-20T07:01:56.665Z"
   },
   {
    "duration": 1170,
    "start_time": "2021-09-20T07:01:56.677Z"
   },
   {
    "duration": 1169,
    "start_time": "2021-09-20T07:01:56.679Z"
   },
   {
    "duration": 1168,
    "start_time": "2021-09-20T07:01:56.682Z"
   },
   {
    "duration": 1162,
    "start_time": "2021-09-20T07:01:56.689Z"
   },
   {
    "duration": 1184,
    "start_time": "2021-09-20T07:01:56.692Z"
   },
   {
    "duration": 1183,
    "start_time": "2021-09-20T07:01:56.695Z"
   },
   {
    "duration": 1182,
    "start_time": "2021-09-20T07:01:56.697Z"
   },
   {
    "duration": 1179,
    "start_time": "2021-09-20T07:01:56.702Z"
   },
   {
    "duration": 1175,
    "start_time": "2021-09-20T07:01:56.707Z"
   },
   {
    "duration": 15,
    "start_time": "2021-09-20T07:02:53.572Z"
   },
   {
    "duration": 1175,
    "start_time": "2021-09-20T07:03:02.078Z"
   },
   {
    "duration": 53,
    "start_time": "2021-09-20T07:03:03.255Z"
   },
   {
    "duration": 11,
    "start_time": "2021-09-20T07:03:03.310Z"
   },
   {
    "duration": 40,
    "start_time": "2021-09-20T07:03:03.323Z"
   },
   {
    "duration": 3,
    "start_time": "2021-09-20T07:03:03.365Z"
   },
   {
    "duration": 18,
    "start_time": "2021-09-20T07:03:03.376Z"
   },
   {
    "duration": 8,
    "start_time": "2021-09-20T07:03:03.396Z"
   },
   {
    "duration": 16,
    "start_time": "2021-09-20T07:03:03.407Z"
   },
   {
    "duration": 27,
    "start_time": "2021-09-20T07:03:03.425Z"
   },
   {
    "duration": 9,
    "start_time": "2021-09-20T07:03:03.454Z"
   },
   {
    "duration": 19,
    "start_time": "2021-09-20T07:03:03.465Z"
   },
   {
    "duration": 21,
    "start_time": "2021-09-20T07:03:03.486Z"
   },
   {
    "duration": 210,
    "start_time": "2021-09-20T07:03:03.509Z"
   },
   {
    "duration": 15,
    "start_time": "2021-09-20T07:03:03.721Z"
   },
   {
    "duration": 201,
    "start_time": "2021-09-20T07:03:03.738Z"
   },
   {
    "duration": 201,
    "start_time": "2021-09-20T07:03:03.941Z"
   },
   {
    "duration": 194,
    "start_time": "2021-09-20T07:03:04.144Z"
   },
   {
    "duration": 196,
    "start_time": "2021-09-20T07:03:04.339Z"
   },
   {
    "duration": 6,
    "start_time": "2021-09-20T07:03:04.537Z"
   },
   {
    "duration": 25,
    "start_time": "2021-09-20T07:03:04.544Z"
   },
   {
    "duration": 281,
    "start_time": "2021-09-20T07:03:04.571Z"
   },
   {
    "duration": 640,
    "start_time": "2021-09-20T07:03:04.853Z"
   },
   {
    "duration": 688,
    "start_time": "2021-09-20T07:03:05.497Z"
   },
   {
    "duration": 14,
    "start_time": "2021-09-20T07:03:06.187Z"
   },
   {
    "duration": 17,
    "start_time": "2021-09-20T07:03:06.203Z"
   },
   {
    "duration": 15,
    "start_time": "2021-09-20T07:03:06.222Z"
   },
   {
    "duration": 44,
    "start_time": "2021-09-20T07:03:06.239Z"
   },
   {
    "duration": 15,
    "start_time": "2021-09-20T07:03:06.285Z"
   },
   {
    "duration": 23,
    "start_time": "2021-09-20T07:03:06.302Z"
   },
   {
    "duration": 14,
    "start_time": "2021-09-20T07:03:06.327Z"
   },
   {
    "duration": 42,
    "start_time": "2021-09-20T07:03:06.343Z"
   },
   {
    "duration": 15,
    "start_time": "2021-09-20T07:03:06.387Z"
   },
   {
    "duration": 31,
    "start_time": "2021-09-20T07:03:06.404Z"
   },
   {
    "duration": 10,
    "start_time": "2021-09-20T07:03:06.437Z"
   },
   {
    "duration": 18,
    "start_time": "2021-09-20T07:03:06.449Z"
   },
   {
    "duration": 23,
    "start_time": "2021-09-20T07:03:06.469Z"
   },
   {
    "duration": 10,
    "start_time": "2021-09-20T07:03:06.494Z"
   },
   {
    "duration": 16,
    "start_time": "2021-09-20T07:03:06.505Z"
   },
   {
    "duration": 23,
    "start_time": "2021-09-20T07:03:06.523Z"
   },
   {
    "duration": 8,
    "start_time": "2021-09-20T07:03:57.708Z"
   },
   {
    "duration": 11,
    "start_time": "2021-09-20T07:03:58.888Z"
   },
   {
    "duration": 224,
    "start_time": "2021-09-20T09:24:05.042Z"
   },
   {
    "duration": 1113,
    "start_time": "2021-09-20T09:24:23.623Z"
   },
   {
    "duration": 48,
    "start_time": "2021-09-20T09:24:24.738Z"
   },
   {
    "duration": 9,
    "start_time": "2021-09-20T09:24:24.788Z"
   },
   {
    "duration": 29,
    "start_time": "2021-09-20T09:24:24.800Z"
   },
   {
    "duration": 3,
    "start_time": "2021-09-20T09:24:24.830Z"
   },
   {
    "duration": 11,
    "start_time": "2021-09-20T09:24:24.834Z"
   },
   {
    "duration": 10,
    "start_time": "2021-09-20T09:24:24.847Z"
   },
   {
    "duration": 17,
    "start_time": "2021-09-20T09:24:24.859Z"
   },
   {
    "duration": 14,
    "start_time": "2021-09-20T09:24:24.900Z"
   },
   {
    "duration": 7,
    "start_time": "2021-09-20T09:24:24.916Z"
   },
   {
    "duration": 27,
    "start_time": "2021-09-20T09:24:24.924Z"
   },
   {
    "duration": 21,
    "start_time": "2021-09-20T09:24:24.952Z"
   },
   {
    "duration": 211,
    "start_time": "2021-09-20T09:24:24.975Z"
   },
   {
    "duration": 22,
    "start_time": "2021-09-20T09:24:25.188Z"
   },
   {
    "duration": 196,
    "start_time": "2021-09-20T09:24:25.211Z"
   },
   {
    "duration": 195,
    "start_time": "2021-09-20T09:24:25.408Z"
   },
   {
    "duration": 193,
    "start_time": "2021-09-20T09:24:25.604Z"
   },
   {
    "duration": 201,
    "start_time": "2021-09-20T09:24:25.799Z"
   },
   {
    "duration": 6,
    "start_time": "2021-09-20T09:24:26.001Z"
   },
   {
    "duration": 16,
    "start_time": "2021-09-20T09:24:26.009Z"
   },
   {
    "duration": 545,
    "start_time": "2021-09-20T09:24:26.026Z"
   },
   {
    "duration": -1733,
    "start_time": "2021-09-20T09:24:28.306Z"
   },
   {
    "duration": -1740,
    "start_time": "2021-09-20T09:24:28.314Z"
   },
   {
    "duration": -1747,
    "start_time": "2021-09-20T09:24:28.322Z"
   },
   {
    "duration": -1755,
    "start_time": "2021-09-20T09:24:28.331Z"
   },
   {
    "duration": -1764,
    "start_time": "2021-09-20T09:24:28.341Z"
   },
   {
    "duration": -1810,
    "start_time": "2021-09-20T09:24:28.388Z"
   },
   {
    "duration": -1817,
    "start_time": "2021-09-20T09:24:28.396Z"
   },
   {
    "duration": -1828,
    "start_time": "2021-09-20T09:24:28.408Z"
   },
   {
    "duration": -1833,
    "start_time": "2021-09-20T09:24:28.414Z"
   },
   {
    "duration": -1842,
    "start_time": "2021-09-20T09:24:28.424Z"
   },
   {
    "duration": -1851,
    "start_time": "2021-09-20T09:24:28.434Z"
   },
   {
    "duration": -1845,
    "start_time": "2021-09-20T09:24:28.444Z"
   },
   {
    "duration": -1852,
    "start_time": "2021-09-20T09:24:28.452Z"
   },
   {
    "duration": -1860,
    "start_time": "2021-09-20T09:24:28.461Z"
   },
   {
    "duration": -1866,
    "start_time": "2021-09-20T09:24:28.468Z"
   },
   {
    "duration": -1873,
    "start_time": "2021-09-20T09:24:28.476Z"
   },
   {
    "duration": -1880,
    "start_time": "2021-09-20T09:24:28.484Z"
   },
   {
    "duration": -1902,
    "start_time": "2021-09-20T09:24:28.507Z"
   },
   {
    "duration": 264,
    "start_time": "2021-09-20T09:24:37.288Z"
   },
   {
    "duration": 288,
    "start_time": "2021-09-20T13:23:44.141Z"
   },
   {
    "duration": 1055,
    "start_time": "2021-09-20T13:23:49.822Z"
   },
   {
    "duration": 46,
    "start_time": "2021-09-20T13:23:50.878Z"
   },
   {
    "duration": 8,
    "start_time": "2021-09-20T13:23:50.926Z"
   },
   {
    "duration": 27,
    "start_time": "2021-09-20T13:23:50.936Z"
   },
   {
    "duration": 2,
    "start_time": "2021-09-20T13:23:50.966Z"
   },
   {
    "duration": 10,
    "start_time": "2021-09-20T13:23:50.970Z"
   },
   {
    "duration": 8,
    "start_time": "2021-09-20T13:23:50.982Z"
   },
   {
    "duration": 5,
    "start_time": "2021-09-20T13:23:50.992Z"
   },
   {
    "duration": 13,
    "start_time": "2021-09-20T13:23:50.999Z"
   },
   {
    "duration": 7,
    "start_time": "2021-09-20T13:23:51.013Z"
   },
   {
    "duration": 37,
    "start_time": "2021-09-20T13:23:51.022Z"
   },
   {
    "duration": 17,
    "start_time": "2021-09-20T13:23:51.061Z"
   },
   {
    "duration": 191,
    "start_time": "2021-09-20T13:23:51.080Z"
   },
   {
    "duration": 13,
    "start_time": "2021-09-20T13:23:51.272Z"
   },
   {
    "duration": 178,
    "start_time": "2021-09-20T13:23:51.286Z"
   },
   {
    "duration": 188,
    "start_time": "2021-09-20T13:23:51.466Z"
   },
   {
    "duration": 174,
    "start_time": "2021-09-20T13:23:51.656Z"
   },
   {
    "duration": 183,
    "start_time": "2021-09-20T13:23:51.832Z"
   },
   {
    "duration": 6,
    "start_time": "2021-09-20T13:23:52.016Z"
   },
   {
    "duration": 28,
    "start_time": "2021-09-20T13:23:52.023Z"
   },
   {
    "duration": 254,
    "start_time": "2021-09-20T13:23:52.053Z"
   },
   {
    "duration": 610,
    "start_time": "2021-09-20T13:23:52.308Z"
   },
   {
    "duration": 670,
    "start_time": "2021-09-20T13:23:52.920Z"
   },
   {
    "duration": 13,
    "start_time": "2021-09-20T13:23:53.592Z"
   },
   {
    "duration": 17,
    "start_time": "2021-09-20T13:23:53.606Z"
   },
   {
    "duration": 37,
    "start_time": "2021-09-20T13:23:53.624Z"
   },
   {
    "duration": 33,
    "start_time": "2021-09-20T13:23:53.663Z"
   },
   {
    "duration": 16,
    "start_time": "2021-09-20T13:23:53.698Z"
   },
   {
    "duration": 18,
    "start_time": "2021-09-20T13:23:53.715Z"
   },
   {
    "duration": 30,
    "start_time": "2021-09-20T13:23:53.734Z"
   },
   {
    "duration": 22,
    "start_time": "2021-09-20T13:23:53.766Z"
   },
   {
    "duration": 24,
    "start_time": "2021-09-20T13:23:53.790Z"
   },
   {
    "duration": 11,
    "start_time": "2021-09-20T13:23:53.816Z"
   },
   {
    "duration": 6,
    "start_time": "2021-09-20T13:23:53.829Z"
   },
   {
    "duration": 8,
    "start_time": "2021-09-20T13:23:53.837Z"
   },
   {
    "duration": 12,
    "start_time": "2021-09-20T13:23:53.846Z"
   },
   {
    "duration": 11,
    "start_time": "2021-09-20T13:23:53.860Z"
   },
   {
    "duration": 5,
    "start_time": "2021-09-20T13:23:53.873Z"
   },
   {
    "duration": 14,
    "start_time": "2021-09-20T13:23:53.880Z"
   },
   {
    "duration": 9,
    "start_time": "2021-09-20T13:27:14.888Z"
   },
   {
    "duration": 595,
    "start_time": "2021-09-20T13:35:25.272Z"
   },
   {
    "duration": 185,
    "start_time": "2021-09-20T13:35:37.235Z"
   },
   {
    "duration": 172,
    "start_time": "2021-09-20T13:35:53.120Z"
   },
   {
    "duration": 175,
    "start_time": "2021-09-20T13:36:10.907Z"
   },
   {
    "duration": 186,
    "start_time": "2021-09-20T13:36:44.039Z"
   },
   {
    "duration": 908,
    "start_time": "2021-09-20T13:37:44.917Z"
   },
   {
    "duration": 426,
    "start_time": "2021-09-20T13:37:55.012Z"
   },
   {
    "duration": 7,
    "start_time": "2021-09-20T13:44:59.794Z"
   },
   {
    "duration": 83,
    "start_time": "2021-09-20T13:45:57.136Z"
   },
   {
    "duration": 7338,
    "start_time": "2021-09-20T13:46:11.600Z"
   },
   {
    "duration": 1508,
    "start_time": "2021-09-20T13:46:21.828Z"
   },
   {
    "duration": 56,
    "start_time": "2021-09-20T13:46:23.338Z"
   },
   {
    "duration": 10,
    "start_time": "2021-09-20T13:46:23.395Z"
   },
   {
    "duration": 27,
    "start_time": "2021-09-20T13:46:23.407Z"
   },
   {
    "duration": 9,
    "start_time": "2021-09-20T13:46:23.436Z"
   },
   {
    "duration": 13,
    "start_time": "2021-09-20T13:46:23.447Z"
   },
   {
    "duration": 5,
    "start_time": "2021-09-20T13:46:23.462Z"
   },
   {
    "duration": 8,
    "start_time": "2021-09-20T13:46:23.470Z"
   },
   {
    "duration": 36,
    "start_time": "2021-09-20T13:46:23.480Z"
   },
   {
    "duration": 14,
    "start_time": "2021-09-20T13:46:23.517Z"
   },
   {
    "duration": 29,
    "start_time": "2021-09-20T13:46:23.532Z"
   },
   {
    "duration": 32,
    "start_time": "2021-09-20T13:46:23.563Z"
   },
   {
    "duration": 8692,
    "start_time": "2021-09-20T13:46:23.597Z"
   },
   {
    "duration": -148,
    "start_time": "2021-09-20T13:46:32.439Z"
   },
   {
    "duration": -173,
    "start_time": "2021-09-20T13:46:32.465Z"
   },
   {
    "duration": -182,
    "start_time": "2021-09-20T13:46:32.475Z"
   },
   {
    "duration": -184,
    "start_time": "2021-09-20T13:46:32.478Z"
   },
   {
    "duration": -206,
    "start_time": "2021-09-20T13:46:32.501Z"
   },
   {
    "duration": -210,
    "start_time": "2021-09-20T13:46:32.506Z"
   },
   {
    "duration": -227,
    "start_time": "2021-09-20T13:46:32.524Z"
   },
   {
    "duration": -229,
    "start_time": "2021-09-20T13:46:32.527Z"
   },
   {
    "duration": -231,
    "start_time": "2021-09-20T13:46:32.530Z"
   },
   {
    "duration": -281,
    "start_time": "2021-09-20T13:46:32.581Z"
   },
   {
    "duration": -287,
    "start_time": "2021-09-20T13:46:32.588Z"
   },
   {
    "duration": -297,
    "start_time": "2021-09-20T13:46:32.599Z"
   },
   {
    "duration": -303,
    "start_time": "2021-09-20T13:46:32.606Z"
   },
   {
    "duration": -317,
    "start_time": "2021-09-20T13:46:32.621Z"
   },
   {
    "duration": -322,
    "start_time": "2021-09-20T13:46:32.627Z"
   },
   {
    "duration": -346,
    "start_time": "2021-09-20T13:46:32.652Z"
   },
   {
    "duration": -371,
    "start_time": "2021-09-20T13:46:32.678Z"
   },
   {
    "duration": -374,
    "start_time": "2021-09-20T13:46:32.681Z"
   },
   {
    "duration": -378,
    "start_time": "2021-09-20T13:46:32.686Z"
   },
   {
    "duration": -392,
    "start_time": "2021-09-20T13:46:32.701Z"
   },
   {
    "duration": -399,
    "start_time": "2021-09-20T13:46:32.709Z"
   },
   {
    "duration": -408,
    "start_time": "2021-09-20T13:46:32.719Z"
   },
   {
    "duration": -414,
    "start_time": "2021-09-20T13:46:32.726Z"
   },
   {
    "duration": -399,
    "start_time": "2021-09-20T13:46:32.743Z"
   },
   {
    "duration": -404,
    "start_time": "2021-09-20T13:46:32.749Z"
   },
   {
    "duration": -412,
    "start_time": "2021-09-20T13:46:32.758Z"
   },
   {
    "duration": -415,
    "start_time": "2021-09-20T13:46:32.762Z"
   },
   {
    "duration": 167,
    "start_time": "2021-09-20T13:46:47.148Z"
   },
   {
    "duration": 88,
    "start_time": "2021-09-20T13:47:03.823Z"
   },
   {
    "duration": 150,
    "start_time": "2021-09-20T13:47:10.951Z"
   },
   {
    "duration": -956,
    "start_time": "2021-09-20T13:47:41.008Z"
   },
   {
    "duration": 149,
    "start_time": "2021-09-20T13:47:46.553Z"
   },
   {
    "duration": 149,
    "start_time": "2021-09-20T13:47:56.026Z"
   },
   {
    "duration": 146,
    "start_time": "2021-09-20T13:48:25.914Z"
   },
   {
    "duration": 168,
    "start_time": "2021-09-20T13:49:00.124Z"
   },
   {
    "duration": 198,
    "start_time": "2021-09-20T13:49:53.476Z"
   },
   {
    "duration": 152,
    "start_time": "2021-09-20T13:49:58.148Z"
   },
   {
    "duration": 111,
    "start_time": "2021-09-20T13:51:09.740Z"
   },
   {
    "duration": 101,
    "start_time": "2021-09-20T13:51:15.996Z"
   },
   {
    "duration": 708,
    "start_time": "2021-09-20T13:51:20.295Z"
   },
   {
    "duration": 400,
    "start_time": "2021-09-20T13:51:43.325Z"
   },
   {
    "duration": 146,
    "start_time": "2021-09-20T13:51:56.180Z"
   },
   {
    "duration": 147,
    "start_time": "2021-09-20T13:52:40.882Z"
   },
   {
    "duration": 157,
    "start_time": "2021-09-20T13:53:37.369Z"
   },
   {
    "duration": 155,
    "start_time": "2021-09-20T13:54:38.471Z"
   },
   {
    "duration": 159,
    "start_time": "2021-09-20T13:55:29.709Z"
   },
   {
    "duration": 157,
    "start_time": "2021-09-20T13:55:38.902Z"
   },
   {
    "duration": 159,
    "start_time": "2021-09-20T13:56:02.210Z"
   },
   {
    "duration": 169,
    "start_time": "2021-09-20T13:56:54.707Z"
   },
   {
    "duration": 14,
    "start_time": "2021-09-20T13:57:55.294Z"
   },
   {
    "duration": 163,
    "start_time": "2021-09-20T13:58:04.062Z"
   },
   {
    "duration": 87,
    "start_time": "2021-09-20T13:59:21.238Z"
   },
   {
    "duration": 360,
    "start_time": "2021-09-20T13:59:29.312Z"
   },
   {
    "duration": 171,
    "start_time": "2021-09-20T14:00:18.831Z"
   },
   {
    "duration": 152,
    "start_time": "2021-09-20T14:00:34.042Z"
   },
   {
    "duration": 150,
    "start_time": "2021-09-20T14:00:38.072Z"
   },
   {
    "duration": 142,
    "start_time": "2021-09-20T14:00:42.549Z"
   },
   {
    "duration": 424,
    "start_time": "2021-09-20T14:00:53.510Z"
   },
   {
    "duration": 153,
    "start_time": "2021-09-20T14:01:07.195Z"
   },
   {
    "duration": 154,
    "start_time": "2021-09-20T14:01:12.558Z"
   },
   {
    "duration": 162,
    "start_time": "2021-09-20T14:03:08.459Z"
   },
   {
    "duration": 163,
    "start_time": "2021-09-20T14:03:38.927Z"
   },
   {
    "duration": 166,
    "start_time": "2021-09-20T14:04:32.493Z"
   },
   {
    "duration": 167,
    "start_time": "2021-09-20T14:04:54.391Z"
   },
   {
    "duration": 240,
    "start_time": "2021-09-20T14:05:13.059Z"
   },
   {
    "duration": 245,
    "start_time": "2021-09-20T14:05:13.565Z"
   },
   {
    "duration": 165,
    "start_time": "2021-09-20T14:05:14.153Z"
   },
   {
    "duration": 7,
    "start_time": "2021-09-20T14:05:15.376Z"
   },
   {
    "duration": 14,
    "start_time": "2021-09-20T14:05:15.575Z"
   },
   {
    "duration": 242,
    "start_time": "2021-09-20T14:05:15.923Z"
   },
   {
    "duration": 514,
    "start_time": "2021-09-20T14:05:16.621Z"
   },
   {
    "duration": 550,
    "start_time": "2021-09-20T14:05:17.136Z"
   },
   {
    "duration": 12,
    "start_time": "2021-09-20T14:05:17.687Z"
   },
   {
    "duration": 13,
    "start_time": "2021-09-20T14:05:18.476Z"
   },
   {
    "duration": 14,
    "start_time": "2021-09-20T14:05:18.898Z"
   },
   {
    "duration": 14,
    "start_time": "2021-09-20T14:05:19.391Z"
   },
   {
    "duration": 13,
    "start_time": "2021-09-20T14:05:20.199Z"
   },
   {
    "duration": 12,
    "start_time": "2021-09-20T14:05:20.611Z"
   },
   {
    "duration": 12,
    "start_time": "2021-09-20T14:05:21.027Z"
   },
   {
    "duration": 13,
    "start_time": "2021-09-20T14:05:21.409Z"
   },
   {
    "duration": 13,
    "start_time": "2021-09-20T14:05:21.599Z"
   },
   {
    "duration": 13,
    "start_time": "2021-09-20T14:05:21.802Z"
   },
   {
    "duration": 8,
    "start_time": "2021-09-20T14:05:22.738Z"
   },
   {
    "duration": 4,
    "start_time": "2021-09-20T14:05:22.949Z"
   },
   {
    "duration": 9,
    "start_time": "2021-09-20T14:05:23.149Z"
   },
   {
    "duration": 7,
    "start_time": "2021-09-20T14:05:23.909Z"
   },
   {
    "duration": 4,
    "start_time": "2021-09-20T14:05:24.115Z"
   },
   {
    "duration": 9,
    "start_time": "2021-09-20T14:05:24.299Z"
   },
   {
    "duration": 171,
    "start_time": "2021-09-20T14:07:17.253Z"
   },
   {
    "duration": 165,
    "start_time": "2021-09-20T14:08:06.539Z"
   },
   {
    "duration": 168,
    "start_time": "2021-09-20T14:08:50.850Z"
   },
   {
    "duration": 3,
    "start_time": "2021-09-20T14:10:46.766Z"
   },
   {
    "duration": 199,
    "start_time": "2021-09-20T14:12:02.837Z"
   },
   {
    "duration": 198,
    "start_time": "2021-09-20T14:12:30.092Z"
   },
   {
    "duration": 197,
    "start_time": "2021-09-20T14:12:58.735Z"
   },
   {
    "duration": 285,
    "start_time": "2021-09-20T14:13:16.280Z"
   },
   {
    "duration": 195,
    "start_time": "2021-09-20T14:16:42.509Z"
   },
   {
    "duration": 6,
    "start_time": "2021-09-20T14:25:49.031Z"
   },
   {
    "duration": 13,
    "start_time": "2021-09-20T14:25:49.968Z"
   },
   {
    "duration": 247,
    "start_time": "2021-09-20T14:25:51.883Z"
   },
   {
    "duration": 468,
    "start_time": "2021-09-20T14:25:53.366Z"
   },
   {
    "duration": 474,
    "start_time": "2021-09-20T14:25:53.836Z"
   },
   {
    "duration": 13,
    "start_time": "2021-09-20T14:25:54.410Z"
   },
   {
    "duration": 13,
    "start_time": "2021-09-20T14:25:55.783Z"
   },
   {
    "duration": 12,
    "start_time": "2021-09-20T14:25:56.336Z"
   },
   {
    "duration": 13,
    "start_time": "2021-09-20T14:25:56.884Z"
   },
   {
    "duration": 12,
    "start_time": "2021-09-20T14:25:57.991Z"
   },
   {
    "duration": 13,
    "start_time": "2021-09-20T14:25:58.493Z"
   },
   {
    "duration": 13,
    "start_time": "2021-09-20T14:25:59.284Z"
   },
   {
    "duration": 12,
    "start_time": "2021-09-20T14:25:59.804Z"
   },
   {
    "duration": 12,
    "start_time": "2021-09-20T14:26:00.071Z"
   },
   {
    "duration": 12,
    "start_time": "2021-09-20T14:26:00.294Z"
   },
   {
    "duration": 7,
    "start_time": "2021-09-20T14:26:01.465Z"
   },
   {
    "duration": 5,
    "start_time": "2021-09-20T14:26:01.709Z"
   },
   {
    "duration": 10,
    "start_time": "2021-09-20T14:26:01.930Z"
   },
   {
    "duration": 7,
    "start_time": "2021-09-20T14:26:02.847Z"
   },
   {
    "duration": 5,
    "start_time": "2021-09-20T14:26:03.086Z"
   },
   {
    "duration": 9,
    "start_time": "2021-09-20T14:26:03.268Z"
   },
   {
    "duration": 5,
    "start_time": "2021-09-20T14:37:58.780Z"
   },
   {
    "duration": 14,
    "start_time": "2021-09-20T14:37:59.531Z"
   },
   {
    "duration": 242,
    "start_time": "2021-09-20T14:38:01.140Z"
   },
   {
    "duration": 511,
    "start_time": "2021-09-20T14:38:02.111Z"
   },
   {
    "duration": 477,
    "start_time": "2021-09-20T14:38:02.624Z"
   },
   {
    "duration": 13,
    "start_time": "2021-09-20T14:38:03.102Z"
   },
   {
    "duration": 14,
    "start_time": "2021-09-20T14:38:03.911Z"
   },
   {
    "duration": 13,
    "start_time": "2021-09-20T14:38:04.211Z"
   },
   {
    "duration": 13,
    "start_time": "2021-09-20T14:38:04.571Z"
   },
   {
    "duration": 238,
    "start_time": "2021-09-20T14:40:11.152Z"
   },
   {
    "duration": 236,
    "start_time": "2021-09-20T14:42:16.803Z"
   },
   {
    "duration": 233,
    "start_time": "2021-09-20T14:42:30.703Z"
   },
   {
    "duration": 343,
    "start_time": "2021-09-20T14:42:38.725Z"
   },
   {
    "duration": 485,
    "start_time": "2021-09-20T14:45:31.479Z"
   },
   {
    "duration": 515,
    "start_time": "2021-09-20T14:45:46.952Z"
   },
   {
    "duration": 529,
    "start_time": "2021-09-20T14:45:47.470Z"
   },
   {
    "duration": 12,
    "start_time": "2021-09-20T14:45:48.163Z"
   },
   {
    "duration": 13,
    "start_time": "2021-09-20T14:45:49.071Z"
   },
   {
    "duration": 15,
    "start_time": "2021-09-20T14:45:49.421Z"
   },
   {
    "duration": 11,
    "start_time": "2021-09-20T14:45:49.770Z"
   },
   {
    "duration": 12,
    "start_time": "2021-09-20T14:45:50.452Z"
   },
   {
    "duration": 13,
    "start_time": "2021-09-20T14:45:51.150Z"
   },
   {
    "duration": 12,
    "start_time": "2021-09-20T14:45:51.687Z"
   },
   {
    "duration": 12,
    "start_time": "2021-09-20T14:45:52.254Z"
   },
   {
    "duration": 12,
    "start_time": "2021-09-20T14:45:52.490Z"
   },
   {
    "duration": 12,
    "start_time": "2021-09-20T14:45:52.752Z"
   },
   {
    "duration": 12,
    "start_time": "2021-09-20T14:47:40.349Z"
   },
   {
    "duration": 11,
    "start_time": "2021-09-20T14:54:04.547Z"
   },
   {
    "duration": 13,
    "start_time": "2021-09-20T14:54:42.673Z"
   },
   {
    "duration": 14,
    "start_time": "2021-09-20T15:00:23.216Z"
   },
   {
    "duration": 12,
    "start_time": "2021-09-20T15:09:40.914Z"
   },
   {
    "duration": 13,
    "start_time": "2021-09-20T15:27:03.974Z"
   },
   {
    "duration": 13,
    "start_time": "2021-09-20T15:33:20.230Z"
   },
   {
    "duration": 13,
    "start_time": "2021-09-20T15:34:03.068Z"
   },
   {
    "duration": 13,
    "start_time": "2021-09-20T15:34:06.805Z"
   },
   {
    "duration": 13,
    "start_time": "2021-09-20T15:34:12.963Z"
   },
   {
    "duration": 1282,
    "start_time": "2021-09-21T10:20:49.307Z"
   },
   {
    "duration": 45,
    "start_time": "2021-09-21T10:20:50.590Z"
   },
   {
    "duration": 9,
    "start_time": "2021-09-21T10:20:50.637Z"
   },
   {
    "duration": 34,
    "start_time": "2021-09-21T10:20:50.647Z"
   },
   {
    "duration": 5,
    "start_time": "2021-09-21T10:20:50.682Z"
   },
   {
    "duration": 15,
    "start_time": "2021-09-21T10:20:50.688Z"
   },
   {
    "duration": 5,
    "start_time": "2021-09-21T10:20:50.704Z"
   },
   {
    "duration": 8,
    "start_time": "2021-09-21T10:20:50.711Z"
   },
   {
    "duration": 13,
    "start_time": "2021-09-21T10:20:50.721Z"
   },
   {
    "duration": 10,
    "start_time": "2021-09-21T10:20:50.735Z"
   },
   {
    "duration": 22,
    "start_time": "2021-09-21T10:20:50.746Z"
   },
   {
    "duration": 32,
    "start_time": "2021-09-21T10:20:50.769Z"
   },
   {
    "duration": 184,
    "start_time": "2021-09-21T10:20:50.803Z"
   },
   {
    "duration": 13,
    "start_time": "2021-09-21T10:20:50.989Z"
   },
   {
    "duration": 193,
    "start_time": "2021-09-21T10:20:51.004Z"
   },
   {
    "duration": 211,
    "start_time": "2021-09-21T10:20:51.199Z"
   },
   {
    "duration": 202,
    "start_time": "2021-09-21T10:20:51.412Z"
   },
   {
    "duration": 192,
    "start_time": "2021-09-21T10:20:51.616Z"
   },
   {
    "duration": 219,
    "start_time": "2021-09-21T10:20:51.810Z"
   },
   {
    "duration": 13,
    "start_time": "2021-09-21T10:20:52.031Z"
   },
   {
    "duration": 15,
    "start_time": "2021-09-21T10:20:52.046Z"
   },
   {
    "duration": 270,
    "start_time": "2021-09-21T10:20:52.062Z"
   },
   {
    "duration": 610,
    "start_time": "2021-09-21T10:20:52.336Z"
   },
   {
    "duration": 578,
    "start_time": "2021-09-21T10:20:52.947Z"
   },
   {
    "duration": 19,
    "start_time": "2021-09-21T10:20:53.526Z"
   },
   {
    "duration": 15,
    "start_time": "2021-09-21T10:20:53.547Z"
   },
   {
    "duration": 11,
    "start_time": "2021-09-21T10:20:53.564Z"
   },
   {
    "duration": 15,
    "start_time": "2021-09-21T10:20:53.577Z"
   },
   {
    "duration": 13,
    "start_time": "2021-09-21T10:20:53.593Z"
   },
   {
    "duration": 44,
    "start_time": "2021-09-21T10:20:53.608Z"
   },
   {
    "duration": 13,
    "start_time": "2021-09-21T10:20:53.654Z"
   },
   {
    "duration": 11,
    "start_time": "2021-09-21T10:20:53.668Z"
   },
   {
    "duration": 15,
    "start_time": "2021-09-21T10:20:53.681Z"
   },
   {
    "duration": 11,
    "start_time": "2021-09-21T10:20:53.697Z"
   },
   {
    "duration": 40,
    "start_time": "2021-09-21T10:20:53.710Z"
   },
   {
    "duration": 14,
    "start_time": "2021-09-21T10:20:53.753Z"
   },
   {
    "duration": 19,
    "start_time": "2021-09-21T10:20:53.769Z"
   },
   {
    "duration": 15,
    "start_time": "2021-09-21T10:20:53.789Z"
   },
   {
    "duration": 13,
    "start_time": "2021-09-21T10:20:53.806Z"
   },
   {
    "duration": 18,
    "start_time": "2021-09-21T10:20:53.820Z"
   },
   {
    "duration": 18,
    "start_time": "2021-09-21T10:20:53.839Z"
   },
   {
    "duration": 28,
    "start_time": "2021-09-21T10:20:53.859Z"
   },
   {
    "duration": 4,
    "start_time": "2021-09-21T10:48:07.264Z"
   },
   {
    "duration": 263,
    "start_time": "2021-09-21T16:50:06.317Z"
   },
   {
    "duration": 266,
    "start_time": "2021-09-21T16:50:06.731Z"
   },
   {
    "duration": 247,
    "start_time": "2021-09-21T16:50:07.926Z"
   },
   {
    "duration": 2898,
    "start_time": "2021-09-21T16:50:31.093Z"
   },
   {
    "duration": 65,
    "start_time": "2021-09-21T16:50:33.993Z"
   },
   {
    "duration": 13,
    "start_time": "2021-09-21T16:50:34.061Z"
   },
   {
    "duration": 63,
    "start_time": "2021-09-21T16:50:34.077Z"
   },
   {
    "duration": 4,
    "start_time": "2021-09-21T16:50:34.142Z"
   },
   {
    "duration": 14,
    "start_time": "2021-09-21T16:50:34.148Z"
   },
   {
    "duration": 4,
    "start_time": "2021-09-21T16:50:34.164Z"
   },
   {
    "duration": 10,
    "start_time": "2021-09-21T16:50:34.172Z"
   },
   {
    "duration": 50,
    "start_time": "2021-09-21T16:50:34.185Z"
   },
   {
    "duration": 11,
    "start_time": "2021-09-21T16:50:34.238Z"
   },
   {
    "duration": 18,
    "start_time": "2021-09-21T16:50:34.252Z"
   },
   {
    "duration": 67,
    "start_time": "2021-09-21T16:50:34.273Z"
   },
   {
    "duration": 326,
    "start_time": "2021-09-21T16:50:34.343Z"
   },
   {
    "duration": 22,
    "start_time": "2021-09-21T16:50:34.672Z"
   },
   {
    "duration": 330,
    "start_time": "2021-09-21T16:50:34.697Z"
   },
   {
    "duration": 335,
    "start_time": "2021-09-21T16:50:35.030Z"
   },
   {
    "duration": 315,
    "start_time": "2021-09-21T16:50:35.367Z"
   },
   {
    "duration": 314,
    "start_time": "2021-09-21T16:50:35.685Z"
   },
   {
    "duration": 371,
    "start_time": "2021-09-21T16:50:36.002Z"
   },
   {
    "duration": 8,
    "start_time": "2021-09-21T16:50:36.375Z"
   },
   {
    "duration": 40,
    "start_time": "2021-09-21T16:50:36.385Z"
   },
   {
    "duration": 442,
    "start_time": "2021-09-21T16:50:36.427Z"
   },
   {
    "duration": 879,
    "start_time": "2021-09-21T16:50:36.875Z"
   },
   {
    "duration": 806,
    "start_time": "2021-09-21T16:50:37.757Z"
   },
   {
    "duration": 21,
    "start_time": "2021-09-21T16:50:38.565Z"
   },
   {
    "duration": 41,
    "start_time": "2021-09-21T16:50:38.588Z"
   },
   {
    "duration": 19,
    "start_time": "2021-09-21T16:50:38.631Z"
   },
   {
    "duration": 20,
    "start_time": "2021-09-21T16:50:38.652Z"
   },
   {
    "duration": 50,
    "start_time": "2021-09-21T16:50:38.674Z"
   },
   {
    "duration": 20,
    "start_time": "2021-09-21T16:50:38.726Z"
   },
   {
    "duration": 20,
    "start_time": "2021-09-21T16:50:38.748Z"
   },
   {
    "duration": 53,
    "start_time": "2021-09-21T16:50:38.771Z"
   },
   {
    "duration": 20,
    "start_time": "2021-09-21T16:50:38.826Z"
   },
   {
    "duration": 27,
    "start_time": "2021-09-21T16:50:38.848Z"
   },
   {
    "duration": 19,
    "start_time": "2021-09-21T16:50:38.877Z"
   },
   {
    "duration": 20,
    "start_time": "2021-09-21T16:50:38.923Z"
   },
   {
    "duration": 8,
    "start_time": "2021-09-21T16:50:38.946Z"
   },
   {
    "duration": 9,
    "start_time": "2021-09-21T16:50:38.957Z"
   },
   {
    "duration": 14,
    "start_time": "2021-09-21T16:50:38.968Z"
   },
   {
    "duration": 10,
    "start_time": "2021-09-21T16:50:39.023Z"
   },
   {
    "duration": 11,
    "start_time": "2021-09-21T16:50:39.035Z"
   },
   {
    "duration": 14,
    "start_time": "2021-09-21T16:50:39.049Z"
   },
   {
    "duration": 1197,
    "start_time": "2021-09-22T07:04:28.113Z"
   },
   {
    "duration": 49,
    "start_time": "2021-09-22T07:04:29.312Z"
   },
   {
    "duration": 9,
    "start_time": "2021-09-22T07:04:29.363Z"
   },
   {
    "duration": 34,
    "start_time": "2021-09-22T07:04:29.374Z"
   },
   {
    "duration": 3,
    "start_time": "2021-09-22T07:04:29.409Z"
   },
   {
    "duration": 13,
    "start_time": "2021-09-22T07:04:29.413Z"
   },
   {
    "duration": 22,
    "start_time": "2021-09-22T07:04:29.427Z"
   },
   {
    "duration": 8,
    "start_time": "2021-09-22T07:04:29.452Z"
   },
   {
    "duration": 19,
    "start_time": "2021-09-22T07:04:29.463Z"
   },
   {
    "duration": 9,
    "start_time": "2021-09-22T07:04:29.484Z"
   },
   {
    "duration": 15,
    "start_time": "2021-09-22T07:04:29.495Z"
   },
   {
    "duration": 47,
    "start_time": "2021-09-22T07:04:29.512Z"
   },
   {
    "duration": 195,
    "start_time": "2021-09-22T07:04:29.560Z"
   },
   {
    "duration": 16,
    "start_time": "2021-09-22T07:04:29.757Z"
   },
   {
    "duration": 200,
    "start_time": "2021-09-22T07:04:29.775Z"
   },
   {
    "duration": 206,
    "start_time": "2021-09-22T07:04:29.977Z"
   },
   {
    "duration": 205,
    "start_time": "2021-09-22T07:04:30.184Z"
   },
   {
    "duration": 197,
    "start_time": "2021-09-22T07:04:30.391Z"
   },
   {
    "duration": 236,
    "start_time": "2021-09-22T07:04:30.591Z"
   },
   {
    "duration": 7,
    "start_time": "2021-09-22T07:04:30.830Z"
   },
   {
    "duration": 27,
    "start_time": "2021-09-22T07:04:30.838Z"
   },
   {
    "duration": 317,
    "start_time": "2021-09-22T07:04:30.867Z"
   },
   {
    "duration": 629,
    "start_time": "2021-09-22T07:04:31.189Z"
   },
   {
    "duration": 515,
    "start_time": "2021-09-22T07:04:31.821Z"
   },
   {
    "duration": 19,
    "start_time": "2021-09-22T07:04:32.338Z"
   },
   {
    "duration": 21,
    "start_time": "2021-09-22T07:04:32.358Z"
   },
   {
    "duration": 29,
    "start_time": "2021-09-22T07:04:32.380Z"
   },
   {
    "duration": 23,
    "start_time": "2021-09-22T07:04:32.411Z"
   },
   {
    "duration": 41,
    "start_time": "2021-09-22T07:04:32.436Z"
   },
   {
    "duration": 14,
    "start_time": "2021-09-22T07:04:32.478Z"
   },
   {
    "duration": 15,
    "start_time": "2021-09-22T07:04:32.494Z"
   },
   {
    "duration": 14,
    "start_time": "2021-09-22T07:04:32.511Z"
   },
   {
    "duration": 27,
    "start_time": "2021-09-22T07:04:32.527Z"
   },
   {
    "duration": 15,
    "start_time": "2021-09-22T07:04:32.556Z"
   },
   {
    "duration": 14,
    "start_time": "2021-09-22T07:04:32.573Z"
   },
   {
    "duration": 14,
    "start_time": "2021-09-22T07:04:32.590Z"
   },
   {
    "duration": 47,
    "start_time": "2021-09-22T07:04:32.606Z"
   },
   {
    "duration": 10,
    "start_time": "2021-09-22T07:04:32.655Z"
   },
   {
    "duration": 17,
    "start_time": "2021-09-22T07:04:32.667Z"
   },
   {
    "duration": 7,
    "start_time": "2021-09-22T07:04:32.686Z"
   },
   {
    "duration": 6,
    "start_time": "2021-09-22T07:04:32.695Z"
   },
   {
    "duration": 15,
    "start_time": "2021-09-22T07:04:32.702Z"
   },
   {
    "duration": 4,
    "start_time": "2021-09-22T07:04:52.254Z"
   },
   {
    "duration": 4,
    "start_time": "2021-09-22T07:05:13.346Z"
   },
   {
    "duration": 4,
    "start_time": "2021-09-22T07:05:33.095Z"
   }
  ],
  "kernelspec": {
   "display_name": "Python 3",
   "language": "python",
   "name": "python3"
  },
  "language_info": {
   "codemirror_mode": {
    "name": "ipython",
    "version": 3
   },
   "file_extension": ".py",
   "mimetype": "text/x-python",
   "name": "python",
   "nbconvert_exporter": "python",
   "pygments_lexer": "ipython3",
   "version": "3.8.8"
  },
  "toc": {
   "base_numbering": 1,
   "nav_menu": {},
   "number_sections": true,
   "sideBar": true,
   "skip_h1_title": true,
   "title_cell": "Содержание",
   "title_sidebar": "Содержание",
   "toc_cell": true,
   "toc_position": {},
   "toc_section_display": true,
   "toc_window_display": false
  }
 },
 "nbformat": 4,
 "nbformat_minor": 2
}
